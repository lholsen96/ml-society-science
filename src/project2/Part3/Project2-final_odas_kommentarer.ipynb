{
 "cells": [
  {
   "cell_type": "markdown",
   "metadata": {},
   "source": [
    "# Medical Project\n",
    "### Lars Olsen and Oda Kristensen\n",
    "\n",
    "In this project we are given we are given a dataset of 10 000 patients. Each patient $\\textit{t}$ has attributes $x_t = \\{x_{t,1},x_{t,2},\\dots, x_{t,130}\\}$, where $x_{t,1}$ represents the gender, $x_{t,2}$ represents the whether or not the patient smoke, $\\{x_{t,3},\\dots,x_{t,128}\\}$ represents the patient's genes and $\\{x_{t,129},x_{t,130}\\}$ represents the symptoms the patient displays. Note that all the variables are binary, that is $x_{t, \\cdot } \\in \\{ 0,1\\}$. We are also given the historical action $a_t \\in \\{ 0,1\\}$ which represents whether the patient was given a placebo or an active treatment, respectively. Finally, we are given the historical outcome $y_t\\in \\{ 0,1\\}$, whether the patient displayed measurable effects after the treatment. Note that later in the project, part 3, we will expand the action variable to take on values between 0 and 129, that is, $a_t \\in \\{ 0,1,2,\\dots,129\\}$. Where action 2 represents a new general treatment while the remaining treatments are gene specific treatments. I.e. they are more effective if the patient has certain genes.\n",
    "\n",
    "Throughout this project we want to find a policy that maximizes the utility, given by the mean of the rewards. \n",
    "$$\\text{Utility} = \\frac{1}{T}\\sum_t^T r_t = \\frac{1}{T}\\sum_t^T (-0.1a_t + y_t).$$\n",
    "\n",
    "The reward function implies that there is a small penalty associated with the use of an active treatment. Thus, the policy should be somewhat certain that an active treatment will yield a positive result before recommending it. If we omit this term, all our models recommend the treatment 100% of the time, since the estimated reward of the treatment is higher than the placebo, as we will come back to soon. This penalty can reflect the cost of a treatment. $$\\textbf{Say that treatment 1 is cheaper than treatment 2, but the second treatment is better. Then we should use the cheap one when we think that it suffices. When we do not think it is adequate we will use the second treatment.}$$ Usikker på formulering\n",
    "\n",
    "Later, when we introduce the new actions we let the penalty be the same for all treatments. That is, we do not use the value of $a_t$, but apply the penealty of $-0.1$ if we use a treatment. It is not realistic that all the treatments have the same cost, but if we use the action above we get that $a_t = 100$ will yield a reward of $-10$ or $-9$ depending on the outcome. Since we want to maximize the utility we will never end up using the actions correnspong to a high $a_t$. We did not want to make up random cost for each drug, hence we choose a fixed cost for all the treatments."
   ]
  },
  {
   "cell_type": "markdown",
   "metadata": {},
   "source": [
    "We start by importing some packages and modules:"
   ]
  },
  {
   "cell_type": "code",
   "execution_count": 2,
   "metadata": {
    "collapsed": true
   },
   "outputs": [],
   "source": [
    "import pandas as pd\n",
    "import numpy as np\n",
    "import matplotlib.pyplot as plt\n",
    "\n",
    "%matplotlib inline\n",
    "\n",
    "from sklearn.model_selection import train_test_split\n",
    "from sklearn.cluster import KMeans\n",
    "from sklearn.mixture import GaussianMixture"
   ]
  },
  {
   "cell_type": "code",
   "execution_count": 3,
   "metadata": {
    "collapsed": true
   },
   "outputs": [],
   "source": [
    "import numpy as np\n",
    "import pandas as pd\n",
    "from sklearn.linear_model import LogisticRegression\n",
    "from sklearn.model_selection import cross_val_score, KFold\n",
    "from sklearn.metrics import confusion_matrix, accuracy_score, make_scorer\n",
    "import matplotlib.pyplot as plt\n",
    "import seaborn as sns, numpy as np\n",
    "from scipy.stats import norm\n",
    "from __future__ import print_function\n",
    "\n",
    "from sklearn.datasets import make_blobs\n",
    "from sklearn.cluster import KMeans\n",
    "from sklearn.metrics import silhouette_samples, silhouette_score\n",
    "\n",
    "import matplotlib.pyplot as plt\n",
    "import matplotlib.cm as cm\n",
    "import numpy as np\n",
    "%matplotlib inline"
   ]
  },
  {
   "cell_type": "markdown",
   "metadata": {},
   "source": [
    "We read the files:"
   ]
  },
  {
   "cell_type": "code",
   "execution_count": 4,
   "metadata": {
    "collapsed": true
   },
   "outputs": [],
   "source": [
    "features = pd.read_csv('historical_X.dat', header=None, sep=\" \").values\n",
    "actions = pd.read_csv('historical_A.dat', header=None, sep=\" \").values\n",
    "outcome = pd.read_csv('historical_Y.dat', header=None, sep=\" \").values"
   ]
  },
  {
   "cell_type": "markdown",
   "metadata": {},
   "source": [
    "In this part of the project we are only interested in the features. The first 128 features are ($$\\textbf{what we observe}$$); sex, smoker and 126 genes. The 2 last attributes are the symptoms and these can be taken to be akin to labels in supervised learning."
   ]
  },
  {
   "cell_type": "code",
   "execution_count": 5,
   "metadata": {
    "collapsed": true
   },
   "outputs": [],
   "source": [
    "observations = features[:, :128]\n",
    "labels = features[:,128] + features[:,129]*2"
   ]
  },
  {
   "cell_type": "markdown",
   "metadata": {},
   "source": [
    "We take a look at the observations of the 1st patient, sex = 0, and non smoker."
   ]
  },
  {
   "cell_type": "code",
   "execution_count": 6,
   "metadata": {},
   "outputs": [
    {
     "data": {
      "text/plain": [
       "array([0, 0, 0, 0, 1, 1, 0, 0, 1, 1, 0, 1, 0, 0, 0, 0, 1, 0, 1, 1, 1, 1,\n",
       "       0, 1, 1, 0, 1, 1, 0, 0, 0, 0, 1, 1, 0, 1, 1, 0, 0, 0, 0, 0, 0, 0,\n",
       "       1, 1, 0, 0, 1, 0, 1, 0, 1, 0, 1, 0, 0, 0, 0, 1, 1, 1, 1, 0, 1, 1,\n",
       "       1, 1, 0, 0, 0, 1, 0, 1, 0, 1, 0, 0, 0, 0, 1, 0, 0, 0, 0, 1, 0, 1,\n",
       "       0, 1, 1, 0, 0, 1, 0, 0, 1, 0, 0, 1, 1, 1, 1, 0, 1, 0, 1, 0, 1, 1,\n",
       "       1, 1, 1, 0, 1, 1, 0, 0, 0, 0, 0, 1, 1, 0, 1, 1, 0, 0])"
      ]
     },
     "execution_count": 6,
     "metadata": {},
     "output_type": "execute_result"
    }
   ],
   "source": [
    "observations[0]"
   ]
  },
  {
   "cell_type": "markdown",
   "metadata": {},
   "source": [
    "We divide our data set into traning and test sets."
   ]
  },
  {
   "cell_type": "code",
   "execution_count": 7,
   "metadata": {
    "collapsed": true
   },
   "outputs": [],
   "source": [
    "obs_train, obs_test, lab_train, lab_test = train_test_split(observations, labels, test_size=0.25)"
   ]
  },
  {
   "cell_type": "markdown",
   "metadata": {},
   "source": [
    "Let's look at the distribution of symptoms: $$\\textbf{forklar hva 0,1,2,3 betyr}$$\n"
   ]
  },
  {
   "cell_type": "code",
   "execution_count": 8,
   "metadata": {},
   "outputs": [
    {
     "data": {
      "text/plain": [
       "(array([3641.,    0.,    0., 3126.,    0.,    0.,  408.,    0.,    0.,\n",
       "         325.]),\n",
       " array([0. , 0.3, 0.6, 0.9, 1.2, 1.5, 1.8, 2.1, 2.4, 2.7, 3. ]),\n",
       " <a list of 10 Patch objects>)"
      ]
     },
     "execution_count": 8,
     "metadata": {},
     "output_type": "execute_result"
    },
    {
     "data": {
      "image/png": "[encoded data removed]",
      "text/plain": [
       "<matplotlib.figure.Figure at 0x10f0e8f60>"
      ]
     },
     "metadata": {},
     "output_type": "display_data"
    }
   ],
   "source": [
    "plt.hist(lab_train)"
   ]
  },
  {
   "cell_type": "markdown",
   "metadata": {},
   "source": [
    "We now take a look at the histogram of observation. "
   ]
  },
  {
   "cell_type": "code",
   "execution_count": 9,
   "metadata": {},
   "outputs": [
    {
     "data": {
      "text/plain": [
       "([array([3740.,    0.,    0.,    0.,    0.,    0.,    0.,    0.,    0.,\n",
       "         3760.]),\n",
       "  array([5473.,    0.,    0.,    0.,    0.,    0.,    0.,    0.,    0.,\n",
       "         2027.]),\n",
       "  array([3725.,    0.,    0.,    0.,    0.,    0.,    0.,    0.,    0.,\n",
       "         3775.]),\n",
       "  array([3691.,    0.,    0.,    0.,    0.,    0.,    0.,    0.,    0.,\n",
       "         3809.]),\n",
       "  array([3723.,    0.,    0.,    0.,    0.,    0.,    0.,    0.,    0.,\n",
       "         3777.]),\n",
       "  array([3804.,    0.,    0.,    0.,    0.,    0.,    0.,    0.,    0.,\n",
       "         3696.]),\n",
       "  array([3751.,    0.,    0.,    0.,    0.,    0.,    0.,    0.,    0.,\n",
       "         3749.]),\n",
       "  array([3731.,    0.,    0.,    0.,    0.,    0.,    0.,    0.,    0.,\n",
       "         3769.]),\n",
       "  array([3803.,    0.,    0.,    0.,    0.,    0.,    0.,    0.,    0.,\n",
       "         3697.]),\n",
       "  array([3822.,    0.,    0.,    0.,    0.,    0.,    0.,    0.,    0.,\n",
       "         3678.]),\n",
       "  array([3707.,    0.,    0.,    0.,    0.,    0.,    0.,    0.,    0.,\n",
       "         3793.]),\n",
       "  array([3801.,    0.,    0.,    0.,    0.,    0.,    0.,    0.,    0.,\n",
       "         3699.]),\n",
       "  array([3702.,    0.,    0.,    0.,    0.,    0.,    0.,    0.,    0.,\n",
       "         3798.]),\n",
       "  array([3691.,    0.,    0.,    0.,    0.,    0.,    0.,    0.,    0.,\n",
       "         3809.]),\n",
       "  array([3713.,    0.,    0.,    0.,    0.,    0.,    0.,    0.,    0.,\n",
       "         3787.]),\n",
       "  array([3722.,    0.,    0.,    0.,    0.,    0.,    0.,    0.,    0.,\n",
       "         3778.]),\n",
       "  array([3718.,    0.,    0.,    0.,    0.,    0.,    0.,    0.,    0.,\n",
       "         3782.]),\n",
       "  array([3719.,    0.,    0.,    0.,    0.,    0.,    0.,    0.,    0.,\n",
       "         3781.]),\n",
       "  array([3789.,    0.,    0.,    0.,    0.,    0.,    0.,    0.,    0.,\n",
       "         3711.]),\n",
       "  array([3800.,    0.,    0.,    0.,    0.,    0.,    0.,    0.,    0.,\n",
       "         3700.]),\n",
       "  array([3780.,    0.,    0.,    0.,    0.,    0.,    0.,    0.,    0.,\n",
       "         3720.]),\n",
       "  array([3816.,    0.,    0.,    0.,    0.,    0.,    0.,    0.,    0.,\n",
       "         3684.]),\n",
       "  array([3820.,    0.,    0.,    0.,    0.,    0.,    0.,    0.,    0.,\n",
       "         3680.]),\n",
       "  array([3722.,    0.,    0.,    0.,    0.,    0.,    0.,    0.,    0.,\n",
       "         3778.]),\n",
       "  array([3791.,    0.,    0.,    0.,    0.,    0.,    0.,    0.,    0.,\n",
       "         3709.]),\n",
       "  array([3743.,    0.,    0.,    0.,    0.,    0.,    0.,    0.,    0.,\n",
       "         3757.]),\n",
       "  array([3803.,    0.,    0.,    0.,    0.,    0.,    0.,    0.,    0.,\n",
       "         3697.]),\n",
       "  array([3788.,    0.,    0.,    0.,    0.,    0.,    0.,    0.,    0.,\n",
       "         3712.]),\n",
       "  array([3681.,    0.,    0.,    0.,    0.,    0.,    0.,    0.,    0.,\n",
       "         3819.]),\n",
       "  array([3782.,    0.,    0.,    0.,    0.,    0.,    0.,    0.,    0.,\n",
       "         3718.]),\n",
       "  array([3706.,    0.,    0.,    0.,    0.,    0.,    0.,    0.,    0.,\n",
       "         3794.]),\n",
       "  array([3727.,    0.,    0.,    0.,    0.,    0.,    0.,    0.,    0.,\n",
       "         3773.]),\n",
       "  array([3750.,    0.,    0.,    0.,    0.,    0.,    0.,    0.,    0.,\n",
       "         3750.]),\n",
       "  array([3688.,    0.,    0.,    0.,    0.,    0.,    0.,    0.,    0.,\n",
       "         3812.]),\n",
       "  array([3774.,    0.,    0.,    0.,    0.,    0.,    0.,    0.,    0.,\n",
       "         3726.]),\n",
       "  array([3785.,    0.,    0.,    0.,    0.,    0.,    0.,    0.,    0.,\n",
       "         3715.]),\n",
       "  array([3742.,    0.,    0.,    0.,    0.,    0.,    0.,    0.,    0.,\n",
       "         3758.]),\n",
       "  array([3754.,    0.,    0.,    0.,    0.,    0.,    0.,    0.,    0.,\n",
       "         3746.]),\n",
       "  array([3721.,    0.,    0.,    0.,    0.,    0.,    0.,    0.,    0.,\n",
       "         3779.]),\n",
       "  array([3734.,    0.,    0.,    0.,    0.,    0.,    0.,    0.,    0.,\n",
       "         3766.]),\n",
       "  array([3802.,    0.,    0.,    0.,    0.,    0.,    0.,    0.,    0.,\n",
       "         3698.]),\n",
       "  array([3798.,    0.,    0.,    0.,    0.,    0.,    0.,    0.,    0.,\n",
       "         3702.]),\n",
       "  array([3781.,    0.,    0.,    0.,    0.,    0.,    0.,    0.,    0.,\n",
       "         3719.]),\n",
       "  array([3739.,    0.,    0.,    0.,    0.,    0.,    0.,    0.,    0.,\n",
       "         3761.]),\n",
       "  array([3746.,    0.,    0.,    0.,    0.,    0.,    0.,    0.,    0.,\n",
       "         3754.]),\n",
       "  array([3738.,    0.,    0.,    0.,    0.,    0.,    0.,    0.,    0.,\n",
       "         3762.]),\n",
       "  array([3710.,    0.,    0.,    0.,    0.,    0.,    0.,    0.,    0.,\n",
       "         3790.]),\n",
       "  array([3727.,    0.,    0.,    0.,    0.,    0.,    0.,    0.,    0.,\n",
       "         3773.]),\n",
       "  array([3657.,    0.,    0.,    0.,    0.,    0.,    0.,    0.,    0.,\n",
       "         3843.]),\n",
       "  array([3700.,    0.,    0.,    0.,    0.,    0.,    0.,    0.,    0.,\n",
       "         3800.]),\n",
       "  array([3773.,    0.,    0.,    0.,    0.,    0.,    0.,    0.,    0.,\n",
       "         3727.]),\n",
       "  array([3767.,    0.,    0.,    0.,    0.,    0.,    0.,    0.,    0.,\n",
       "         3733.]),\n",
       "  array([3822.,    0.,    0.,    0.,    0.,    0.,    0.,    0.,    0.,\n",
       "         3678.]),\n",
       "  array([3771.,    0.,    0.,    0.,    0.,    0.,    0.,    0.,    0.,\n",
       "         3729.]),\n",
       "  array([3724.,    0.,    0.,    0.,    0.,    0.,    0.,    0.,    0.,\n",
       "         3776.]),\n",
       "  array([3764.,    0.,    0.,    0.,    0.,    0.,    0.,    0.,    0.,\n",
       "         3736.]),\n",
       "  array([3749.,    0.,    0.,    0.,    0.,    0.,    0.,    0.,    0.,\n",
       "         3751.]),\n",
       "  array([3761.,    0.,    0.,    0.,    0.,    0.,    0.,    0.,    0.,\n",
       "         3739.]),\n",
       "  array([3677.,    0.,    0.,    0.,    0.,    0.,    0.,    0.,    0.,\n",
       "         3823.]),\n",
       "  array([3770.,    0.,    0.,    0.,    0.,    0.,    0.,    0.,    0.,\n",
       "         3730.]),\n",
       "  array([3826.,    0.,    0.,    0.,    0.,    0.,    0.,    0.,    0.,\n",
       "         3674.]),\n",
       "  array([3783.,    0.,    0.,    0.,    0.,    0.,    0.,    0.,    0.,\n",
       "         3717.]),\n",
       "  array([3736.,    0.,    0.,    0.,    0.,    0.,    0.,    0.,    0.,\n",
       "         3764.]),\n",
       "  array([3794.,    0.,    0.,    0.,    0.,    0.,    0.,    0.,    0.,\n",
       "         3706.]),\n",
       "  array([3755.,    0.,    0.,    0.,    0.,    0.,    0.,    0.,    0.,\n",
       "         3745.]),\n",
       "  array([3819.,    0.,    0.,    0.,    0.,    0.,    0.,    0.,    0.,\n",
       "         3681.]),\n",
       "  array([3733.,    0.,    0.,    0.,    0.,    0.,    0.,    0.,    0.,\n",
       "         3767.]),\n",
       "  array([3728.,    0.,    0.,    0.,    0.,    0.,    0.,    0.,    0.,\n",
       "         3772.]),\n",
       "  array([3806.,    0.,    0.,    0.,    0.,    0.,    0.,    0.,    0.,\n",
       "         3694.]),\n",
       "  array([3709.,    0.,    0.,    0.,    0.,    0.,    0.,    0.,    0.,\n",
       "         3791.]),\n",
       "  array([3766.,    0.,    0.,    0.,    0.,    0.,    0.,    0.,    0.,\n",
       "         3734.]),\n",
       "  array([3763.,    0.,    0.,    0.,    0.,    0.,    0.,    0.,    0.,\n",
       "         3737.]),\n",
       "  array([3711.,    0.,    0.,    0.,    0.,    0.,    0.,    0.,    0.,\n",
       "         3789.]),\n",
       "  array([3722.,    0.,    0.,    0.,    0.,    0.,    0.,    0.,    0.,\n",
       "         3778.]),\n",
       "  array([3684.,    0.,    0.,    0.,    0.,    0.,    0.,    0.,    0.,\n",
       "         3816.]),\n",
       "  array([3719.,    0.,    0.,    0.,    0.,    0.,    0.,    0.,    0.,\n",
       "         3781.]),\n",
       "  array([3703.,    0.,    0.,    0.,    0.,    0.,    0.,    0.,    0.,\n",
       "         3797.]),\n",
       "  array([3736.,    0.,    0.,    0.,    0.,    0.,    0.,    0.,    0.,\n",
       "         3764.]),\n",
       "  array([3715.,    0.,    0.,    0.,    0.,    0.,    0.,    0.,    0.,\n",
       "         3785.]),\n",
       "  array([3780.,    0.,    0.,    0.,    0.,    0.,    0.,    0.,    0.,\n",
       "         3720.]),\n",
       "  array([3703.,    0.,    0.,    0.,    0.,    0.,    0.,    0.,    0.,\n",
       "         3797.]),\n",
       "  array([3789.,    0.,    0.,    0.,    0.,    0.,    0.,    0.,    0.,\n",
       "         3711.]),\n",
       "  array([3744.,    0.,    0.,    0.,    0.,    0.,    0.,    0.,    0.,\n",
       "         3756.]),\n",
       "  array([3684.,    0.,    0.,    0.,    0.,    0.,    0.,    0.,    0.,\n",
       "         3816.]),\n",
       "  array([3770.,    0.,    0.,    0.,    0.,    0.,    0.,    0.,    0.,\n",
       "         3730.]),\n",
       "  array([3733.,    0.,    0.,    0.,    0.,    0.,    0.,    0.,    0.,\n",
       "         3767.]),\n",
       "  array([3757.,    0.,    0.,    0.,    0.,    0.,    0.,    0.,    0.,\n",
       "         3743.]),\n",
       "  array([3763.,    0.,    0.,    0.,    0.,    0.,    0.,    0.,    0.,\n",
       "         3737.]),\n",
       "  array([3677.,    0.,    0.,    0.,    0.,    0.,    0.,    0.,    0.,\n",
       "         3823.]),\n",
       "  array([3772.,    0.,    0.,    0.,    0.,    0.,    0.,    0.,    0.,\n",
       "         3728.]),\n",
       "  array([3712.,    0.,    0.,    0.,    0.,    0.,    0.,    0.,    0.,\n",
       "         3788.]),\n",
       "  array([3719.,    0.,    0.,    0.,    0.,    0.,    0.,    0.,    0.,\n",
       "         3781.]),\n",
       "  array([3756.,    0.,    0.,    0.,    0.,    0.,    0.,    0.,    0.,\n",
       "         3744.]),\n",
       "  array([3722.,    0.,    0.,    0.,    0.,    0.,    0.,    0.,    0.,\n",
       "         3778.]),\n",
       "  array([3777.,    0.,    0.,    0.,    0.,    0.,    0.,    0.,    0.,\n",
       "         3723.]),\n",
       "  array([3704.,    0.,    0.,    0.,    0.,    0.,    0.,    0.,    0.,\n",
       "         3796.]),\n",
       "  array([3771.,    0.,    0.,    0.,    0.,    0.,    0.,    0.,    0.,\n",
       "         3729.]),\n",
       "  array([3716.,    0.,    0.,    0.,    0.,    0.,    0.,    0.,    0.,\n",
       "         3784.]),\n",
       "  array([3779.,    0.,    0.,    0.,    0.,    0.,    0.,    0.,    0.,\n",
       "         3721.]),\n",
       "  array([3712.,    0.,    0.,    0.,    0.,    0.,    0.,    0.,    0.,\n",
       "         3788.]),\n",
       "  array([3696.,    0.,    0.,    0.,    0.,    0.,    0.,    0.,    0.,\n",
       "         3804.]),\n",
       "  array([3756.,    0.,    0.,    0.,    0.,    0.,    0.,    0.,    0.,\n",
       "         3744.]),\n",
       "  array([3719.,    0.,    0.,    0.,    0.,    0.,    0.,    0.,    0.,\n",
       "         3781.]),\n",
       "  array([3837.,    0.,    0.,    0.,    0.,    0.,    0.,    0.,    0.,\n",
       "         3663.]),\n",
       "  array([3738.,    0.,    0.,    0.,    0.,    0.,    0.,    0.,    0.,\n",
       "         3762.]),\n",
       "  array([3713.,    0.,    0.,    0.,    0.,    0.,    0.,    0.,    0.,\n",
       "         3787.]),\n",
       "  array([3740.,    0.,    0.,    0.,    0.,    0.,    0.,    0.,    0.,\n",
       "         3760.]),\n",
       "  array([3732.,    0.,    0.,    0.,    0.,    0.,    0.,    0.,    0.,\n",
       "         3768.]),\n",
       "  array([3687.,    0.,    0.,    0.,    0.,    0.,    0.,    0.,    0.,\n",
       "         3813.]),\n",
       "  array([3785.,    0.,    0.,    0.,    0.,    0.,    0.,    0.,    0.,\n",
       "         3715.]),\n",
       "  array([3774.,    0.,    0.,    0.,    0.,    0.,    0.,    0.,    0.,\n",
       "         3726.]),\n",
       "  array([3749.,    0.,    0.,    0.,    0.,    0.,    0.,    0.,    0.,\n",
       "         3751.]),\n",
       "  array([3692.,    0.,    0.,    0.,    0.,    0.,    0.,    0.,    0.,\n",
       "         3808.]),\n",
       "  array([3703.,    0.,    0.,    0.,    0.,    0.,    0.,    0.,    0.,\n",
       "         3797.]),\n",
       "  array([3779.,    0.,    0.,    0.,    0.,    0.,    0.,    0.,    0.,\n",
       "         3721.]),\n",
       "  array([3712.,    0.,    0.,    0.,    0.,    0.,    0.,    0.,    0.,\n",
       "         3788.]),\n",
       "  array([3785.,    0.,    0.,    0.,    0.,    0.,    0.,    0.,    0.,\n",
       "         3715.]),\n",
       "  array([3750.,    0.,    0.,    0.,    0.,    0.,    0.,    0.,    0.,\n",
       "         3750.]),\n",
       "  array([3765.,    0.,    0.,    0.,    0.,    0.,    0.,    0.,    0.,\n",
       "         3735.]),\n",
       "  array([3723.,    0.,    0.,    0.,    0.,    0.,    0.,    0.,    0.,\n",
       "         3777.]),\n",
       "  array([3746.,    0.,    0.,    0.,    0.,    0.,    0.,    0.,    0.,\n",
       "         3754.]),\n",
       "  array([3798.,    0.,    0.,    0.,    0.,    0.,    0.,    0.,    0.,\n",
       "         3702.]),\n",
       "  array([3777.,    0.,    0.,    0.,    0.,    0.,    0.,    0.,    0.,\n",
       "         3723.]),\n",
       "  array([3730.,    0.,    0.,    0.,    0.,    0.,    0.,    0.,    0.,\n",
       "         3770.]),\n",
       "  array([3727.,    0.,    0.,    0.,    0.,    0.,    0.,    0.,    0.,\n",
       "         3773.]),\n",
       "  array([3781.,    0.,    0.,    0.,    0.,    0.,    0.,    0.,    0.,\n",
       "         3719.]),\n",
       "  array([3692.,    0.,    0.,    0.,    0.,    0.,    0.,    0.,    0.,\n",
       "         3808.]),\n",
       "  array([3148.,    0.,    0.,    0.,    0.,    0.,    0.,    0.,    0.,\n",
       "         4352.])],\n",
       " array([0. , 0.1, 0.2, 0.3, 0.4, 0.5, 0.6, 0.7, 0.8, 0.9, 1. ]),\n",
       " <a list of 128 Lists of Patches objects>)"
      ]
     },
     "execution_count": 9,
     "metadata": {},
     "output_type": "execute_result"
    },
    {
     "data": {
      "image/png": "[encoded data removed]",
      "text/plain": [
       "<matplotlib.figure.Figure at 0x123b98c88>"
      ]
     },
     "metadata": {},
     "output_type": "display_data"
    }
   ],
   "source": [
    "plt.hist(obs_train) #Fjerne?"
   ]
  },
  {
   "cell_type": "markdown",
   "metadata": {},
   "source": [
    "$$\\textbf{We talked to Summaya Mumtaz in the lab and she said that from this plot we could se that there are two clusters. We are not sure how she did that. For us it just seems that each attribute takes either the value of zero or one, as we know they do from the definition of the data. If we look at only one attribute at the time we agreee that we have two clusters.} Take $x_2$, either they smoke ($x_2=1$) or not ($x_2=0$), so we have to clusters. But when we have more dimensions I feel like we have more clusters. $$\n",
    "Since we have 130 features, with two possible values each, there are $$2^{130}$$ $$\\textbf{2^128?}$$ possible, unique patients. We want to examine if we can find some pattern in the data, i.e if there we can divide the patients into different clusters. We use the k-means algorithm to divide the data into $$k$$ clusters, and find optimal $$k$$ by silhouette score and elbow method of k-means score. \n",
    "$$\\textbf{Say we look at the two first attributes. Then a person can be either male or female and the can smoke or not smoke, i.e. we have four potential combinations. Thi of a square with a cluster in each corner. obviously it can be that there are no female smokers. Then we have three clusters. Then we can think of the clusters as being on a line. Male smokers are more similar to male non-smokers than female non-smokers, and male non-smokers are equally similar to both (assuming equal weighting of the attributes). So we have \"male smokers\" -- \"male non-smokers\" -- \"female non-smokers\". In a hypercube we would still have clusters in each corner, and this gives us $2^{128}$ potential clusters. This is an astronomical number. So we must assume that there is pattern in the data, which will lower this number.}$$ "
   ]
  },
  {
   "cell_type": "markdown",
   "metadata": {},
   "source": [
    "$$\\tectbf{From the two histograms bellow we see that there are more people of the sex zero and more non-smokers.}"
   ]
  },
  {
   "cell_type": "code",
   "execution_count": 10,
   "metadata": {},
   "outputs": [
    {
     "name": "stderr",
     "output_type": "stream",
     "text": [
      "/Users/Oda/anaconda/lib/python3.6/site-packages/scipy/stats/stats.py:1633: FutureWarning: Using a non-tuple sequence for multidimensional indexing is deprecated; use `arr[tuple(seq)]` instead of `arr[seq]`. In the future this will be interpreted as an array index, `arr[np.array(seq)]`, which will result either in an error or a different result.\n",
      "  return np.add.reduce(sorted[indexer] * weights, axis=axis) / sumval\n"
     ]
    },
    {
     "data": {
      "text/plain": [
       "<matplotlib.axes._subplots.AxesSubplot at 0x125bfadd8>"
      ]
     },
     "execution_count": 10,
     "metadata": {},
     "output_type": "execute_result"
    },
    {
     "data": {
      "image/png": "[encoded data removed]",
      "text/plain": [
       "<matplotlib.figure.Figure at 0x125c7f710>"
      ]
     },
     "metadata": {},
     "output_type": "display_data"
    }
   ],
   "source": [
    "sns.distplot(obs_train[0])"
   ]
  },
  {
   "cell_type": "code",
   "execution_count": 11,
   "metadata": {},
   "outputs": [
    {
     "name": "stderr",
     "output_type": "stream",
     "text": [
      "/Users/Oda/anaconda/lib/python3.6/site-packages/scipy/stats/stats.py:1633: FutureWarning: Using a non-tuple sequence for multidimensional indexing is deprecated; use `arr[tuple(seq)]` instead of `arr[seq]`. In the future this will be interpreted as an array index, `arr[np.array(seq)]`, which will result either in an error or a different result.\n",
      "  return np.add.reduce(sorted[indexer] * weights, axis=axis) / sumval\n"
     ]
    },
    {
     "data": {
      "text/plain": [
       "<matplotlib.axes._subplots.AxesSubplot at 0x1264089e8>"
      ]
     },
     "execution_count": 11,
     "metadata": {},
     "output_type": "execute_result"
    },
    {
     "data": {
      "image/png": "[encoded data removed]",
      "text/plain": [
       "<matplotlib.figure.Figure at 0x12761bfd0>"
      ]
     },
     "metadata": {},
     "output_type": "display_data"
    }
   ],
   "source": [
    "sns.distplot(obs_train[1])"
   ]
  },
  {
   "cell_type": "markdown",
   "metadata": {},
   "source": [
    "Let's look at the proportions of smokers among sex 0. "
   ]
  },
  {
   "cell_type": "code",
   "execution_count": 12,
   "metadata": {},
   "outputs": [
    {
     "name": "stderr",
     "output_type": "stream",
     "text": [
      "/Users/Oda/anaconda/lib/python3.6/site-packages/scipy/stats/stats.py:1633: FutureWarning: Using a non-tuple sequence for multidimensional indexing is deprecated; use `arr[tuple(seq)]` instead of `arr[seq]`. In the future this will be interpreted as an array index, `arr[np.array(seq)]`, which will result either in an error or a different result.\n",
      "  return np.add.reduce(sorted[indexer] * weights, axis=axis) / sumval\n"
     ]
    },
    {
     "data": {
      "text/plain": [
       "<matplotlib.axes._subplots.AxesSubplot at 0x127291ef0>"
      ]
     },
     "execution_count": 12,
     "metadata": {},
     "output_type": "execute_result"
    },
    {
     "data": {
      "image/png": "[encoded data removed]",
      "text/plain": [
       "<matplotlib.figure.Figure at 0x1273db5f8>"
      ]
     },
     "metadata": {},
     "output_type": "display_data"
    }
   ],
   "source": [
    "sns.distplot(obs_train[1][obs_train[0] == 0])"
   ]
  },
  {
   "cell_type": "markdown",
   "metadata": {},
   "source": [
    "Let's look at the proportions of smokers among sex 1."
   ]
  },
  {
   "cell_type": "code",
   "execution_count": 13,
   "metadata": {},
   "outputs": [
    {
     "name": "stderr",
     "output_type": "stream",
     "text": [
      "/Users/Oda/anaconda/lib/python3.6/site-packages/scipy/stats/stats.py:1633: FutureWarning: Using a non-tuple sequence for multidimensional indexing is deprecated; use `arr[tuple(seq)]` instead of `arr[seq]`. In the future this will be interpreted as an array index, `arr[np.array(seq)]`, which will result either in an error or a different result.\n",
      "  return np.add.reduce(sorted[indexer] * weights, axis=axis) / sumval\n"
     ]
    },
    {
     "data": {
      "text/plain": [
       "<matplotlib.axes._subplots.AxesSubplot at 0x1277e7438>"
      ]
     },
     "execution_count": 13,
     "metadata": {},
     "output_type": "execute_result"
    },
    {
     "data": {
      "image/png": "[encoded data removed]",
      "text/plain": [
       "<matplotlib.figure.Figure at 0x127963240>"
      ]
     },
     "metadata": {},
     "output_type": "display_data"
    }
   ],
   "source": [
    "sns.distplot(obs_train[1][obs_train[0] == 1])"
   ]
  },
  {
   "cell_type": "markdown",
   "metadata": {},
   "source": [
    "We see that there is a higher percentage of sex=0 that smoke than sex=1 that smoke."
   ]
  },
  {
   "cell_type": "markdown",
   "metadata": {},
   "source": [
    "### Let's now take a look at the scores with Kmeans"
   ]
  },
  {
   "cell_type": "code",
   "execution_count": 14,
   "metadata": {},
   "outputs": [
    {
     "name": "stdout",
     "output_type": "stream",
     "text": [
      "k =  1: Inertia = 239530.040533   Score = -79860.111822   Elbow = 239530.040533\n",
      "k =  2: Inertia = 217779.937464   Score = -72570.863445   Elbow = 108889.968732\n",
      "k =  3: Inertia = 206083.648173   Score = -68604.951740   Elbow = 68694.549391\n",
      "k =  4: Inertia = 197955.859868   Score = -66150.651903   Elbow = 49488.964967\n",
      "k =  5: Inertia = 191794.263557   Score = -63998.689036   Elbow = 38358.852711\n",
      "k =  6: Inertia = 186464.194035   Score = -62265.025700   Elbow = 31077.365673\n",
      "k =  7: Inertia = 182228.175592   Score = -60734.196750   Elbow = 26032.596513\n",
      "k =  8: Inertia = 178393.891830   Score = -59474.614562   Elbow = 22299.236479\n",
      "k =  9: Inertia = 175202.665147   Score = -58467.621155   Elbow = 19466.962794\n",
      "k = 10: Inertia = 172654.861569   Score = -57790.503981   Elbow = 17265.486157\n",
      "k = 11: Inertia = 170111.329787   Score = -57227.917135   Elbow = 15464.666344\n",
      "k = 12: Inertia = 168096.731698   Score = -56425.531495   Elbow = 14008.060975\n",
      "k = 13: Inertia = 165775.322319   Score = -55651.678766   Elbow = 12751.947871\n",
      "k = 14: Inertia = 164088.916559   Score = -54811.418083   Elbow = 11720.636897\n",
      "k = 15: Inertia = 162519.838156   Score = -54644.657420   Elbow = 10834.655877\n",
      "k = 16: Inertia = 160695.049235   Score = -54206.409344   Elbow = 10043.440577\n",
      "k = 17: Inertia = 159044.371567   Score = -53598.742005   Elbow = 9355.551269\n",
      "k = 18: Inertia = 157502.349544   Score = -53056.771685   Elbow = 8750.130530\n",
      "k = 19: Inertia = 156204.874163   Score = -52832.165394   Elbow = 8221.309166\n",
      "k = 20: Inertia = 155117.263122   Score = -52241.668127   Elbow = 7755.863156\n"
     ]
    }
   ],
   "source": [
    "elbows_score = np.zeros(21) \n",
    "for k in range(1,21):\n",
    "    kmeans_model = KMeans(n_clusters=k, random_state=1).fit(obs_train)\n",
    "    \n",
    "    # Sum of distances of samples to their closest cluster center.\n",
    "    inertia = kmeans_model.inertia_\n",
    "    \n",
    "    elbows_score[k] = inertia/k\n",
    "    \n",
    "    print(\"k = %2d: Inertia = %f   Score = %f   Elbow = %f\" % (k,inertia,kmeans_model.score(obs_test), inertia/k))"
   ]
  },
  {
   "cell_type": "code",
   "execution_count": 15,
   "metadata": {},
   "outputs": [
    {
     "data": {
      "image/png": "[encoded data removed]",
      "text/plain": [
       "<matplotlib.figure.Figure at 0x127963940>"
      ]
     },
     "metadata": {},
     "output_type": "display_data"
    }
   ],
   "source": [
    "x = np.array([i for i in range(1,21)])\n",
    "\n",
    "fig, ax = plt.subplots()\n",
    "ax.plot(x, elbows_score[1:21])\n",
    "\n",
    "ax.set(xlabel='Index', ylabel='Elbow score',\n",
    "       title='Elbow method')\n",
    "ax.grid()\n",
    "plt.show()"
   ]
  },
  {
   "cell_type": "markdown",
   "metadata": {},
   "source": [
    "We want this score as high as possible. The k with the best score is the k we should chose, i.e. the optimal number of clusters. The problem is that this score will keep incresing to zero when k increase. This is because score look at the distance from each point to the closest cluster centrum (for the test data, Ineteria does the same for the training data), and train and test set takes the same possible values this is a problem. Since then $2^{128}$ will (potentially) be the best k. Usually this score starts to level of, that the increase in absolute value decrese. So one can usually pick a resoanble K, but we are unsure where such a cap should be choosen here. Interia is much bigger due to the bigger dataset. One need to look at -score."
   ]
  },
  {
   "cell_type": "markdown",
   "metadata": {},
   "source": [
    "Say that K = 6 is a nice treeshold. We take a closer look at K = 6."
   ]
  },
  {
   "cell_type": "code",
   "execution_count": 16,
   "metadata": {
    "collapsed": true
   },
   "outputs": [],
   "source": [
    "kmeans_model = KMeans(n_clusters=6, random_state=1).fit(obs_train)"
   ]
  },
  {
   "cell_type": "code",
   "execution_count": 17,
   "metadata": {},
   "outputs": [
    {
     "data": {
      "text/plain": [
       "-62265.025700011116"
      ]
     },
     "execution_count": 17,
     "metadata": {},
     "output_type": "execute_result"
    }
   ],
   "source": [
    "kmeans_model.score(obs_test)"
   ]
  },
  {
   "cell_type": "code",
   "execution_count": 18,
   "metadata": {},
   "outputs": [
    {
     "name": "stdout",
     "output_type": "stream",
     "text": [
      "Number of people in cluster 0: 1155\n",
      "Number of people in cluster 1: 1369\n",
      "Number of people in cluster 2: 1181\n",
      "Number of people in cluster 3: 1271\n",
      "Number of people in cluster 4: 1344\n",
      "Number of people in cluster 5: 1180\n"
     ]
    }
   ],
   "source": [
    "for l in range(6):\n",
    "    print(\"Number of people in cluster %d: %d\" %(l,sum(kmeans_model.labels_ == l)))"
   ]
  },
  {
   "cell_type": "markdown",
   "metadata": {},
   "source": [
    "We see that the people are fairly evenly divided between the clusters."
   ]
  },
  {
   "cell_type": "markdown",
   "metadata": {
    "collapsed": true
   },
   "source": [
    "$$\\textbf{droppe?}$$"
   ]
  },
  {
   "cell_type": "code",
   "execution_count": 19,
   "metadata": {},
   "outputs": [
    {
     "name": "stdout",
     "output_type": "stream",
     "text": [
      "k =  1: Score = -32.420980\n",
      "k =  2: Score = -27.007115\n",
      "k =  3: Score = -21.844072\n",
      "k =  4: Score = -22.212879\n",
      "k =  5: Score = -17.890017\n",
      "k =  6: Score = -20.931649\n",
      "k =  7: Score = -17.027358\n",
      "k =  8: Score = -16.388413\n",
      "k =  9: Score = -17.284388\n",
      "k = 10: Score = -19.359296\n",
      "k = 11: Score = -17.319460\n",
      "k = 12: Score = -13.422147\n",
      "k = 13: Score = -19.144791\n",
      "k = 14: Score = -14.426294\n",
      "k = 15: Score = -16.424677\n",
      "k = 16: Score = -19.966242\n",
      "k = 17: Score = -20.342668\n",
      "k = 18: Score = -20.559779\n",
      "k = 19: Score = -23.291779\n",
      "k = 20: Score = -23.362581\n"
     ]
    }
   ],
   "source": [
    "for k in range(1,21):\n",
    "    gm_model = GaussianMixture(n_components=k, max_iter = 200, random_state=1).fit(obs_train)\n",
    "    \n",
    "    print(\"k = %2d: Score = %f\" % (k, gm_model.score(obs_test)))"
   ]
  },
  {
   "cell_type": "markdown",
   "metadata": {},
   "source": [
    "We now do the same as before but also take a look at the Bic score to find the optimal value. We have done this because of. http://scikit-learn.org/stable/auto_examples/mixture/plot_gmm_selection.html#sphx-glr-auto-examples-mixture-plot-gmm-selection-py It was wrong of us to look at BicTest. One should only look at BicTrain. The optimal value is 3. But, 2 is not far of. And since we know that is the truth we go for it."
   ]
  },
  {
   "cell_type": "code",
   "execution_count": 17,
   "metadata": {},
   "outputs": [
    {
     "name": "stdout",
     "output_type": "stream",
     "text": [
      "k =  1: ScoreTrain = -31.373   ScoreTest = -32.359   Bic = 545399.189   Aic = 487359.622\n",
      "k =  2: ScoreTrain = -24.810   ScoreTest = -26.926   Bic = 521777.915   Aic = 405691.858\n",
      "k =  3: ScoreTrain = -20.511   ScoreTest = -24.019   Bic = 532103.217   Aic = 357970.670\n",
      "k =  4: ScoreTrain = -17.173   ScoreTest = -22.056   Bic = 556844.621   Aic = 324665.584\n",
      "k =  5: ScoreTrain = -13.436   ScoreTest = -19.714   Bic = 575616.057   Aic = 285390.530\n",
      "k =  6: ScoreTrain = -12.238   ScoreTest = -20.020   Bic = 632465.142   Aic = 284193.125\n",
      "k =  7: ScoreTrain = -9.678   ScoreTest = -218.665   Bic = 668870.530   Aic = 262552.023\n",
      "k =  8: ScoreTrain = -7.701   ScoreTest = -217.959   Bic = 714044.179   Aic = 249679.183\n",
      "k =  9: ScoreTrain = -1.213   ScoreTest = -12.901   Bic = 691539.330   Aic = 169127.844\n"
     ]
    }
   ],
   "source": [
    "for k in range(1,10):\n",
    "    gm_model = GaussianMixture(n_components=k, max_iter = 200, random_state=1).fit(obs_train)\n",
    "    bic = gm_model.bic(obs_train)\n",
    "    aic = gm_model.aic(obs_train)\n",
    "    print(\"k = %2d: ScoreTrain = %.3f   ScoreTest = %.3f   Bic = %.3f   Aic = %.3f\" % (k, gm_model.score(obs_train),gm_model.score(obs_test), bic, aic))"
   ]
  },
  {
   "cell_type": "markdown",
   "metadata": {},
   "source": [
    "From the values above we see that k=13 is the best choice, but k=6 is not that far off, and since 6 is much lower we conclude that with Gaussian Mixture models the 'optimal' choice is 6 clusters. If we look at the score. But AIC and BIC is betther. Here we see that 2 or 3 is optimal."
   ]
  },
  {
   "cell_type": "code",
   "execution_count": 19,
   "metadata": {
    "collapsed": true
   },
   "outputs": [],
   "source": [
    "gm_model = GaussianMixture(n_components=2, max_iter = 200, random_state=1).fit(obs_train)"
   ]
  },
  {
   "cell_type": "code",
   "execution_count": null,
   "metadata": {
    "collapsed": true
   },
   "outputs": [],
   "source": [
    "gm_model.predict(obs_)\n"
   ]
  },
  {
   "cell_type": "markdown",
   "metadata": {},
   "source": [
    "#### We look at kmeans_silhouette_analysis\n",
    "\n",
    "Silhouette coefficients (as these values are referred to as) near +1 indicate that the sample is far away from the neighboring clusters. A value of 0 indicates that the sample is on or very close to the decision boundary between two neighboring clusters and negative values indicate that those samples might have been assigned to the wrong cluster. http://scikit-learn.org/stable/auto_examples/cluster/plot_kmeans_silhouette_analysis.html"
   ]
  },
  {
   "cell_type": "code",
   "execution_count": 122,
   "metadata": {},
   "outputs": [
    {
     "name": "stdout",
     "output_type": "stream",
     "text": [
      "For n_clusters = 2 The average silhouette_score is : 0.08789046555225062\n",
      "For n_clusters = 3 The average silhouette_score is : 0.07400565765849043\n",
      "For n_clusters = 4 The average silhouette_score is : 0.06795148893837454\n",
      "For n_clusters = 5 The average silhouette_score is : 0.06463853037241843\n",
      "For n_clusters = 6 The average silhouette_score is : 0.06346335792308268\n",
      "For n_clusters = 7 The average silhouette_score is : 0.06442224067814628\n",
      "For n_clusters = 8 The average silhouette_score is : 0.06535853448402974\n",
      "For n_clusters = 9 The average silhouette_score is : 0.06588064103198324\n",
      "For n_clusters = 10 The average silhouette_score is : 0.06493274114857885\n"
     ]
    }
   ],
   "source": [
    "for n_clusters in range(2,11):\n",
    "    # Initialize the clusterer with n_clusters value and a random generator\n",
    "    # seed of 10 for reproducibility.\n",
    "    clusterer = KMeans(n_clusters=n_clusters, random_state=10)\n",
    "    cluster_labels = clusterer.fit_predict(obs_train)\n",
    "\n",
    "    # The silhouette_score gives the average value for all the samples.\n",
    "    # This gives a perspective into the density and separation of the formed\n",
    "    # clusters\n",
    "    silhouette_avg = silhouette_score(obs_train, cluster_labels)\n",
    "    print(\"For n_clusters =\", n_clusters,\n",
    "          \"The average silhouette_score is :\", silhouette_avg)"
   ]
  },
  {
   "cell_type": "markdown",
   "metadata": {},
   "source": [
    "We see that the score stabilize after 4 clusters."
   ]
  },
  {
   "cell_type": "markdown",
   "metadata": {},
   "source": [
    "# Final choice of clusters and features\n",
    "In the R file OptimalKAndFeatureImportance.R we have calculated the best choice of K and the most important features, based on SilhouetteScore and the importance score from randomforest, respectively. From now on we use the values obtained there. We got that 2 is the optimal number of clusters (see SilhouetteScore.png and SilhouetteScoreAfterFeatureReduction.png). This gives an average silhouette score of 0.088. The silhouette score of a point is 1, if it is very well separated from the neighbouring cluster, and 0 if it is on, or very near the border of a neighbouring cluster. From the definition of silhouette score, we see that the average score of 0.08 is quite small, and so it does not indicate very separated clusters. \n",
    "\n",
    "Using $\\textbf{random forrest}$ we got that $x_{6}$, $x_4$, $x_{114}$, $x_{12}$, $x_{84}$, $x_2$ and $x_{56}$ are the most important features, in that order. Recall that python counts from 0, so this means columns 5, 3, 113, 11, 83, 1 and 55. \n",
    "\n",
    "Next, we want to explore the differences between the patients belonging to the two different clusters. $\\textbf{We start by dividing the people into 2 clusters. fjerne?}$"
   ]
  },
  {
   "cell_type": "code",
   "execution_count": 24,
   "metadata": {
    "collapsed": true
   },
   "outputs": [],
   "source": [
    "kmeans_model = KMeans(n_clusters=2, random_state=1).fit(obs_train)"
   ]
  },
  {
   "cell_type": "code",
   "execution_count": 26,
   "metadata": {},
   "outputs": [
    {
     "data": {
      "text/plain": [
       "array([0, 0, 1, ..., 1, 0, 0])"
      ]
     },
     "execution_count": 26,
     "metadata": {},
     "output_type": "execute_result"
    }
   ],
   "source": [
    "kmeans_model.labels_"
   ]
  },
  {
   "cell_type": "code",
   "execution_count": 36,
   "metadata": {
    "collapsed": true
   },
   "outputs": [],
   "source": [
    "train_obs_0 = obs_train[kmeans_model.labels_ == 0]\n",
    "train_obs_1 = obs_train[kmeans_model.labels_ == 1]\n",
    "train_lab_0 = lab_train[kmeans_model.labels_ == 0]\n",
    "train_lab_1 = lab_train[kmeans_model.labels_ == 1]"
   ]
  },
  {
   "cell_type": "code",
   "execution_count": 32,
   "metadata": {},
   "outputs": [
    {
     "data": {
      "text/plain": [
       "(3609, 128)"
      ]
     },
     "execution_count": 32,
     "metadata": {},
     "output_type": "execute_result"
    }
   ],
   "source": [
    "train_obs_0.shape"
   ]
  },
  {
   "cell_type": "code",
   "execution_count": 40,
   "metadata": {},
   "outputs": [
    {
     "data": {
      "text/plain": [
       "(3609,)"
      ]
     },
     "execution_count": 40,
     "metadata": {},
     "output_type": "execute_result"
    }
   ],
   "source": [
    "train_lab_0.shape"
   ]
  },
  {
   "cell_type": "markdown",
   "metadata": {},
   "source": [
    "We now plot the histogram and see that there are more people with $$\\textbf{symptoms 1 and 3}$$  in the 0 cluster. \n",
    "And there are more people with $$\\textbf{symptoms 0 and 2} $$in cluster 1."
   ]
  },
  {
   "cell_type": "code",
   "execution_count": 38,
   "metadata": {},
   "outputs": [
    {
     "data": {
      "text/plain": [
       "(array([1269.,    0.,    0., 2071.,    0.,    0.,   95.,    0.,    0.,\n",
       "         174.]),\n",
       " array([0. , 0.3, 0.6, 0.9, 1.2, 1.5, 1.8, 2.1, 2.4, 2.7, 3. ]),\n",
       " <a list of 10 Patch objects>)"
      ]
     },
     "execution_count": 38,
     "metadata": {},
     "output_type": "execute_result"
    },
    {
     "data": {
      "image/png": "[encoded data removed]",
      "text/plain": [
       "<Figure size 432x288 with 1 Axes>"
      ]
     },
     "metadata": {},
     "output_type": "display_data"
    }
   ],
   "source": [
    "plt.hist(train_lab_0)"
   ]
  },
  {
   "cell_type": "code",
   "execution_count": 39,
   "metadata": {},
   "outputs": [
    {
     "data": {
      "text/plain": [
       "(array([2338.,    0.,    0., 1086.,    0.,    0.,  327.,    0.,    0.,\n",
       "         140.]),\n",
       " array([0. , 0.3, 0.6, 0.9, 1.2, 1.5, 1.8, 2.1, 2.4, 2.7, 3. ]),\n",
       " <a list of 10 Patch objects>)"
      ]
     },
     "execution_count": 39,
     "metadata": {},
     "output_type": "execute_result"
    },
    {
     "data": {
      "image/png": "[encoded data removed]",
      "text/plain": [
       "<Figure size 432x288 with 1 Axes>"
      ]
     },
     "metadata": {},
     "output_type": "display_data"
    }
   ],
   "source": [
    "plt.hist(train_lab_1)"
   ]
  },
  {
   "cell_type": "markdown",
   "metadata": {},
   "source": [
    "# Question 2"
   ]
  },
  {
   "cell_type": "markdown",
   "metadata": {},
   "source": [
    "Next, we want to observe the effects of two different therapeutic interventions, one of which is placebo, and the other is an experimental drug. First we calculate the success of the two treatments in the whole data set. Here we assume that treatment 0 is placebo and treatment 1 is active treatment, but it could very well be the other way around. We also assume that Y = 1 means that the patient is cured, and Y = 0 means that the patient is not cured. "
   ]
  },
  {
   "cell_type": "code",
   "execution_count": 76,
   "metadata": {},
   "outputs": [
    {
     "name": "stdout",
     "output_type": "stream",
     "text": [
      "The effectiveness of placebo is: 0.008959 \n",
      "The effectiveness of active treatment is: 0.588338 \n"
     ]
    }
   ],
   "source": [
    "#I want pandas\n",
    "features = pd.read_csv('historical_X.dat', header=None, sep=\" \")\n",
    "actions = pd.read_csv('historical_A.dat', header=None, sep=\" \")\n",
    "outcome = pd.read_csv('historical_Y.dat', header=None, sep=\" \")\n",
    "\n",
    "\n",
    "active_treatments = 0\n",
    "success_placebo = 0\n",
    "success_active = 0\n",
    "\n",
    "active_treatments = sum(actions.loc[:,0])\n",
    "\n",
    "\n",
    "for i in range(len(actions)):\n",
    "    if actions.loc[i,0] == 1 and outcome.loc[i,0] == 1:\n",
    "        success_active += 1\n",
    "    elif actions.loc[i,0] == 0 and outcome.loc[i,0] == 1:\n",
    "        success_placebo += 1\n",
    "\n",
    "\n",
    "print(\"The effectiveness of placebo is: %f \" %(success_placebo/(10000-active_treatments)))\n",
    "print(\"The effectiveness of active treatment is: %f \" %(success_active/(active_treatments)))"
   ]
  },
  {
   "cell_type": "markdown",
   "metadata": {},
   "source": [
    "We see that the treatment is effective in 58.8% of the cases for treatment 1, and 0.9% effective for treatment 0. "
   ]
  },
  {
   "cell_type": "markdown",
   "metadata": {},
   "source": [
    "Next, we want to investigate whether there are some parameters that effect the outcome of the treatment. I.e. if there are some genes or other parameters that affect the effect of the treatment. From previous parameter selection, we found that the most important features were $X_2$, $X_4$, $X_6$, $X_{12}$, $X_{56}$, $X_{84}$, $X_{114}$. To find out if there is some interaction between some parameters, we choose these features and also include the action feature, and do logistic regression for models with interactions with parameter selection. For code see $\\texttt{LogRegInteract.R}$"
   ]
  },
  {
   "cell_type": "raw",
   "metadata": {},
   "source": [
    "\n",
    "Call:\n",
    "glm(formula = Y ~ X2 + X4 + X6 + X56 + X84 + X114 + A + X2:X4 + \n",
    "    X4:X6 + X84:A, family = binomial(link = \"logit\"), data = df2)\n",
    "\n",
    "Deviance Residuals: \n",
    "    Min       1Q   Median       3Q      Max  \n",
    "-3.0360  -0.5767  -0.3569  -0.1525   2.8913  \n",
    "\n",
    "Coefficients:\n",
    "            Estimate Std. Error z value Pr(>|z|)    \n",
    "(Intercept) -4.67718    0.16487 -28.369  < 2e-16 ***\n",
    "X2          -0.08487    0.14421  -0.589 0.556160    \n",
    "X4           1.05140    0.20175   5.211 1.87e-07 ***\n",
    "X6           2.15315    0.15559  13.838  < 2e-16 ***\n",
    "X56          0.31314    0.07974   3.927 8.60e-05 ***\n",
    "X84          0.51283    0.08225   6.235 4.52e-10 ***\n",
    "X114         1.09017    0.16115   6.765 1.33e-11 ***\n",
    "A            4.75012    0.14823  32.045  < 2e-16 ***\n",
    "X2:X4        0.57515    0.16910   3.401 0.000671 ***\n",
    "X4:X6       -1.24885    0.17152  -7.281 3.31e-13 ***\n",
    "X84:A        1.85978    0.39793   4.674 2.96e-06 ***\n",
    "---\n",
    "Signif. codes:  0 ‘***’ 0.001 ‘**’ 0.01 ‘*’ 0.05 ‘.’ 0.1 ‘ ’ 1\n",
    "\n",
    "(Dispersion parameter for binomial family taken to be 1)\n",
    "\n",
    "    Null deviance: 10777.7  on 9998  degrees of freedom\n",
    "Residual deviance:  5832.4  on 9988  degrees of freedom\n",
    "AIC: 5854.4\n",
    "\n",
    "Number of Fisher Scoring iterations: 6\n",
    "\n"
   ]
  },
  {
   "cell_type": "markdown",
   "metadata": {},
   "source": [
    "The text above is the output from R after we have done a parameter selection using BIC, allowing interactions of second order. We see here that the only interaction term including $A$, kept by the feature selection is the interaction between $X_84$ and $A$. The interaction term is positive, meaning that the treatment is more successfull when the $X_84$ feature is present. We repeat this process, but this time using AIC as selection criterion and get the following model. \n"
   ]
  },
  {
   "cell_type": "raw",
   "metadata": {},
   "source": [
    "\n",
    "Call:\n",
    "glm(formula = Y ~ X2 + X4 + X6 + X12 + X56 + X84 + X114 + A + \n",
    "    X2:X4 + X2:X84 + X2:A + X4:X6 + X4:X56 + X4:X84 + X6:X12 + \n",
    "    X6:X56 + X12:X56 + X56:X114 + X84:A, family = binomial(link = \"logit\"), \n",
    "    data = df2)\n",
    "\n",
    "Deviance Residuals: \n",
    "    Min       1Q   Median       3Q      Max  \n",
    "-3.0475  -0.5790  -0.3163  -0.1318   2.9156  \n",
    "\n",
    "Coefficients:\n",
    "            Estimate Std. Error z value Pr(>|z|)    \n",
    "(Intercept) -4.68844    0.24600 -19.058  < 2e-16 ***\n",
    "X2          -0.31497    0.18091  -1.741  0.08169 .  \n",
    "X4           0.89944    0.30607   2.939  0.00330 ** \n",
    "X6           1.88170    0.23232   8.099 5.52e-16 ***\n",
    "X12         -0.09774    0.17791  -0.549  0.58276    \n",
    "X56          0.26167    0.20762   1.260  0.20754    \n",
    "X84          0.65262    0.15372   4.245 2.18e-05 ***\n",
    "X114         1.43465    0.22428   6.397 1.59e-10 ***\n",
    "A            4.68603    0.16591  28.244  < 2e-16 ***\n",
    "X2:X4        0.64661    0.17501   3.695  0.00022 ***\n",
    "X2:X84       0.29707    0.15714   1.891  0.05869 .  \n",
    "X2:A         0.62489    0.36071   1.732  0.08321 .  \n",
    "X4:X6       -1.38088    0.20676  -6.679 2.41e-11 ***\n",
    "X4:X56       0.80771    0.34532   2.339  0.01933 *  \n",
    "X4:X84      -0.33236    0.17645  -1.884  0.05962 .  \n",
    "X6:X12       0.41585    0.18598   2.236  0.02536 *  \n",
    "X6:X56       0.32303    0.19385   1.666  0.09564 .  \n",
    "X12:X56     -0.34621    0.18055  -1.918  0.05517 .  \n",
    "X56:X114    -0.73643    0.33422  -2.203  0.02757 *  \n",
    "X84:A        1.78385    0.40039   4.455 8.38e-06 ***\n",
    "---\n",
    "Signif. codes:  0 ‘***’ 0.001 ‘**’ 0.01 ‘*’ 0.05 ‘.’ 0.1 ‘ ’ 1\n",
    "\n",
    "(Dispersion parameter for binomial family taken to be 1)\n",
    "\n",
    "    Null deviance: 10777.7  on 9998  degrees of freedom\n",
    "Residual deviance:  5809.1  on 9979  degrees of freedom\n",
    "AIC: 5849.1\n",
    "\n",
    "Number of Fisher Scoring iterations: 6\n"
   ]
  },
  {
   "cell_type": "markdown",
   "metadata": {},
   "source": [
    "From this model, it does not seem like any features have a negative interaction with $A$, meaning that treatment1 will be effective for all features. However we do observe that some features and some feature combinations seems to have a negative effect on the result of the treatment. In both the AIC and the BIC model, the presence of the $X2$ feature influences the result of the treatment in a negative way, meaning that these patients are less likely of being cured. Also, both models indicate that the feature combination of $X_4$ and $X_6$ influence the result of the treatment in a negative way. Based on this, we would always recommend the active treatment.  "
   ]
  },
  {
   "cell_type": "markdown",
   "metadata": {},
   "source": [
    "We would also like to investigate whether the clusters found by K-means clustering are affected differently by the treatment. We found that two clusters were the optimal number of clusters. We choose to do this on the whole data set, so that all the data are divided into one of the two clusters. We are not sure whether this is the correct approach, or if we should only fit the test data, so please correct us if we are wrong. For this, we repeat the procedure of the first part of Question 2, but this time dividing the data into the two clusters. "
   ]
  },
  {
   "cell_type": "code",
   "execution_count": 138,
   "metadata": {},
   "outputs": [
    {
     "name": "stdout",
     "output_type": "stream",
     "text": [
      "The effectiveness of placebo in cluster 0 is: 0.001202 \n",
      "The effectiveness of active treatment in cluster 0 is: 0.470206 \n",
      "The effectiveness of placebo in cluster 1 is: 0.018064 \n",
      "The effectiveness of active treatment in cluster 1 is: 0.667636 \n"
     ]
    }
   ],
   "source": [
    "# First fit a K-means\n",
    "kmeans = KMeans(n_clusters = 2, random_state = 1).fit(obs_train)\n",
    "\n",
    "#Divide observations into two clusters. \n",
    "cluster = kmeans.predict(observations)  \n",
    "index_cluster0 = np.where(cluster == 0) \n",
    "index_cluster1 = np.where(cluster == 1)\n",
    "\n",
    "actions_cluster0 = actions.iloc[index_cluster0]\n",
    "outcome_cluster0 = outcome.iloc[index_cluster0]\n",
    "\n",
    "actions_cluster1 = actions.iloc[index_cluster1]\n",
    "outcome_cluster1 = outcome.iloc[index_cluster1]\n",
    "\n",
    "active_treatments0 = sum(actions_cluster0.loc[:,0])\n",
    "active_treatments1 = sum(actions_cluster1.loc[:,0])\n",
    "\n",
    "#First cluster 0:\n",
    "#Successfull and active treatments if both are 1\n",
    "success_active0 = np.sum(np.multiply(actions_cluster0.values, outcome_cluster0.values))\n",
    "#Successfull, active treatments if outcome is 1, but active is 0\n",
    "success_placebo0 = np.sum(outcome_cluster0.values) - success_active0\n",
    "\n",
    "print(\"The effectiveness of placebo in cluster 0 is: %f \" %(success_placebo0/(actions_cluster0.shape[0]-active_treatments0)))\n",
    "print(\"The effectiveness of active treatment in cluster 0 is: %f \" %(success_active0/(active_treatments0)))        \n",
    "\n",
    "#Cluster 1\n",
    "success_active1 = np.sum(np.multiply(actions_cluster1.values, outcome_cluster1.values))\n",
    "success_placebo1 = np.sum(outcome_cluster1.values) - success_active1\n",
    "\n",
    "print(\"The effectiveness of placebo in cluster 1 is: %f \" %(success_placebo1/(actions_cluster1.shape[0]-active_treatments1)))\n",
    "print(\"The effectiveness of active treatment in cluster 1 is: %f \" %(success_active1/(active_treatments1)))        "
   ]
  },
  {
   "cell_type": "markdown",
   "metadata": {},
   "source": [
    "We see that the a bigger proportion of patients in cluster 1 are cured than in cluster 0, this apply both to the active treatment and the placebo treatment.   "
   ]
  },
  {
   "cell_type": "markdown",
   "metadata": {},
   "source": [
    "As we saw in $\\texttt{SilhouetteScoreAfterFeatureReduction.png}$, the clusters were more separated when we only kept the most important features. Maybe the differences in effect of treatment between the two clusters will be even more apparent if we cluster the observations based on only these most important features. "
   ]
  },
  {
   "cell_type": "code",
   "execution_count": 143,
   "metadata": {},
   "outputs": [
    {
     "name": "stdout",
     "output_type": "stream",
     "text": [
      "The effectiveness of placebo in cluster 0 is: 0.010493 \n",
      "The effectiveness of active treatment in cluster 0 is: 0.578473 \n",
      "The effectiveness of placebo in cluster 1 is: 0.007727 \n",
      "The effectiveness of active treatment in cluster 1 is: 0.614173 \n"
     ]
    }
   ],
   "source": [
    "important_features = features[[1, 3, 5, 55, 83 , 113]]\n",
    "if_train, if_test = train_test_split(important_features, test_size=0.25)\n",
    "\n",
    "kmeans_if = KMeans(n_clusters=2, random_state=1).fit(if_train)\n",
    "cluster_if = kmeans_if.predict(important_features)\n",
    "\n",
    "\n",
    "index_cluster0_if = np.where(cluster_if == 0) \n",
    "index_cluster1_if = np.where(cluster_if == 1)\n",
    "\n",
    "actions_cluster0_if = actions.iloc[index_cluster0_if]\n",
    "outcome_cluster0_if = outcome.iloc[index_cluster0_if]\n",
    "\n",
    "actions_cluster1_if = actions.iloc[index_cluster1_if]\n",
    "outcome_cluster1_if = outcome.iloc[index_cluster1_if]\n",
    "\n",
    "\n",
    "active_treatments0_if = sum(actions_cluster0_if.loc[:,0])\n",
    "active_treatments1_if = sum(actions_cluster1_if.loc[:,0])\n",
    "\n",
    "\n",
    "#First cluster 0:\n",
    "#Successfull and active treatments if both are 1\n",
    "success_active0_if = np.sum(np.multiply(actions_cluster0_if.values, outcome_cluster0_if.values))\n",
    "#Successfull, active treatments if outcome is 1, but active is 0\n",
    "success_placebo0_if = np.sum(outcome_cluster0_if.values) - success_active0_if\n",
    "\n",
    "\n",
    "print(\"The effectiveness of placebo in cluster 0 is: %f \" %(success_placebo0_if/(actions_cluster0_if.shape[0]-active_treatments0_if)))\n",
    "print(\"The effectiveness of active treatment in cluster 0 is: %f \" %(success_active0_if/(active_treatments0_if)))        \n",
    "\n",
    "\n",
    "#Cluster 1\n",
    "success_active1_if = np.sum(np.multiply(actions_cluster1_if.values, outcome_cluster1_if.values))\n",
    "success_placebo1_if = np.sum(outcome_cluster1_if.values) - success_active1_if\n",
    "\n",
    "print(\"The effectiveness of placebo in cluster 1 is: %f \" %(success_placebo1_if/(actions_cluster1_if.shape[0]-active_treatments1_if)))\n",
    "print(\"The effectiveness of active treatment in cluster 1 is: %f \" %(success_active1_if/(active_treatments1_if)))        \n",
    "\n",
    "\n",
    "\n",
    "\n"
   ]
  },
  {
   "cell_type": "markdown",
   "metadata": {},
   "source": [
    "These numbers are different from the ones we got previously, when all the features were included. We were hoping to find bigger differences between the clusters using only the most important features, however, the effect of the treatment is more similar between the two clusters when the observations are clustered only by the important features. "
   ]
  },
  {
   "cell_type": "markdown",
   "metadata": {},
   "source": [
    "$\\textbf{I oppgaven spør han \"Are there perhaps cases where \n",
    "          the active treatment is never effective, [...] \". Det vet vi jo at det er etter å ha gjort del 2/3, men har vi noen forutsetning for å kunne si det allerede her?}?$"
   ]
  },
  {
   "cell_type": "markdown",
   "metadata": {
    "collapsed": true
   },
   "source": [
    "# Part two"
   ]
  },
  {
   "cell_type": "markdown",
   "metadata": {},
   "source": [
    "### Exercise 1 (Meassuring utility)"
   ]
  },
  {
   "cell_type": "markdown",
   "metadata": {},
   "source": [
    "#### 1. Measure the utility of $\\pi_0$ on the historical data."
   ]
  },
  {
   "cell_type": "code",
   "execution_count": 20,
   "metadata": {},
   "outputs": [
    {
     "name": "stdout",
     "output_type": "stream",
     "text": [
      "[[1]\n",
      " [0]\n",
      " [0]\n",
      " ...\n",
      " [0]\n",
      " [0]\n",
      " [0]]\n"
     ]
    }
   ],
   "source": [
    "# Actions is an array of 0's and 1's, representing 'placebo' and 'experimantal drug', respectively.\n",
    "print(actions)"
   ]
  },
  {
   "cell_type": "code",
   "execution_count": 21,
   "metadata": {},
   "outputs": [
    {
     "name": "stdout",
     "output_type": "stream",
     "text": [
      "[[1]\n",
      " [0]\n",
      " [0]\n",
      " ...\n",
      " [0]\n",
      " [0]\n",
      " [0]]\n"
     ]
    }
   ],
   "source": [
    "# Outcome is an array of 0' and 1's, representing 'no effect' and 'measurable effect', respectively.\n",
    "print(outcome)"
   ]
  },
  {
   "cell_type": "markdown",
   "metadata": {},
   "source": [
    "The utility function is given as\n",
    "$$\\sum_t r_t = \\sum_t (-0.1a_t + y_t).$$\n",
    "Here the -0.1 factor implies that the active treatment must be at least 10% more effective than the placebo for the utility to be better for the experimental drug than the placebo. We look at the utility of $\\pi_0$ on the historical data."
   ]
  },
  {
   "cell_type": "code",
   "execution_count": 22,
   "metadata": {},
   "outputs": [
    {
     "data": {
      "text/plain": [
       "0.11912"
      ]
     },
     "execution_count": 22,
     "metadata": {},
     "output_type": "execute_result"
    }
   ],
   "source": [
    "U = np.sum(-0.1*actions + outcome)/len(outcome)\n",
    "U"
   ]
  },
  {
   "cell_type": "markdown",
   "metadata": {},
   "source": [
    "We see that the utility is 0.11912. $$\\textbf{We are not confident on wheter or not this is a good result. One should note that $t$ span from 1 to 10 000. So the maximal utility we can achieve is 10 000. However, it that scenario we give placebos to all the patients and we see a measuarble effect in all of them, which is highly unlikely.}$$ Because of our utility function, giving a patient the active treatment decrease the utility if the patient is not cured. \n"
   ]
  },
  {
   "cell_type": "markdown",
   "metadata": {},
   "source": [
    "The exercise asks for the expected utility. We cannot calculate it exactly, but we can estimate it from the data. That is what we have done above. Below we describe it futher.\n",
    "$$\\hat{E[U]} = E_{data}[U] = \\sum_t (-0.1E_{data}[a_t] + E_{data}[y_t])$$ where $E_{data}[a_t] = \\sum(0p(a_t=0) + 1p(a_t=1)) = \\sum (\\frac{\\# a_t = 1}{\\# a_t})$ and $E_{data}[y_t] = \\sum(0p(y_t=0) + 1p(y_t=1)) = \\sum (\\frac{\\# y_t = 1}{\\# y_t})$."
   ]
  },
  {
   "cell_type": "code",
   "execution_count": 70,
   "metadata": {},
   "outputs": [
    {
     "data": {
      "text/plain": [
       "0.1421"
      ]
     },
     "execution_count": 70,
     "metadata": {},
     "output_type": "execute_result"
    }
   ],
   "source": [
    "perc1out = np.sum(outcome==1)/len(outcome)\n",
    "perc1out "
   ]
  },
  {
   "cell_type": "code",
   "execution_count": 71,
   "metadata": {},
   "outputs": [
    {
     "data": {
      "text/plain": [
       "0.2298"
      ]
     },
     "execution_count": 71,
     "metadata": {},
     "output_type": "execute_result"
    }
   ],
   "source": [
    "perc1act = np.sum(actions==1)/len(actions)\n",
    "perc1act"
   ]
  },
  {
   "cell_type": "markdown",
   "metadata": {},
   "source": [
    "$\\textbf{droppe kode under, siden jeg har endret på utility-funksjonen?}$\n"
   ]
  },
  {
   "cell_type": "code",
   "execution_count": 24,
   "metadata": {},
   "outputs": [
    {
     "ename": "NameError",
     "evalue": "name 'perc1act' is not defined",
     "output_type": "error",
     "traceback": [
      "\u001b[0;31m---------------------------------------------------------------------------\u001b[0m",
      "\u001b[0;31mNameError\u001b[0m                                 Traceback (most recent call last)",
      "\u001b[0;32m<ipython-input-24-532214188355>\u001b[0m in \u001b[0;36m<module>\u001b[0;34m()\u001b[0m\n\u001b[0;32m----> 1\u001b[0;31m \u001b[0;36m10000\u001b[0m\u001b[0;34m*\u001b[0m\u001b[0;34m(\u001b[0m\u001b[0;34m-\u001b[0m\u001b[0;36m0.1\u001b[0m\u001b[0;34m*\u001b[0m\u001b[0mperc1act\u001b[0m \u001b[0;34m+\u001b[0m \u001b[0mperc1out\u001b[0m\u001b[0;34m)\u001b[0m\u001b[0;34m\u001b[0m\u001b[0m\n\u001b[0m",
      "\u001b[0;31mNameError\u001b[0m: name 'perc1act' is not defined"
     ]
    }
   ],
   "source": [
    "10000*(-0.1*perc1act + perc1out)"
   ]
  },
  {
   "cell_type": "markdown",
   "metadata": {},
   "source": [
    "Which was the same as we got above, as expected.\n",
    "We have also implemented this in the python file we have delivered.\n",
    "Simply call policy.estimate_utility(features, actions, outcome)."
   ]
  },
  {
   "cell_type": "markdown",
   "metadata": {},
   "source": [
    "#### 2. Provide error bounds on the expected utility\n",
    "To provide error bounds on the expected utility we use bootstraping. We create $B$ datasets by sampling from the original data $10 000$ times with replacement. For each of the $B$ dataset we calculate the expected utility. To get, let's say, a 95% error bound we look at the 2.5% and 97.5% quantile."
   ]
  },
  {
   "cell_type": "code",
   "execution_count": 28,
   "metadata": {},
   "outputs": [],
   "source": [
    "B = 500\n",
    "results = np.zeros(B)\n",
    "\n",
    "for b in range(B):\n",
    "    n = len(outcome)\n",
    "    indices = np.random.choice(n, n)\n",
    "    outcome_bootstrap = outcome[indices]\n",
    "    action_bootstrap = actions[indices]\n",
    "    results[b] = np.sum(-0.1*action_bootstrap + outcome_bootstrap)/len(outcome_bootstrap)"
   ]
  },
  {
   "cell_type": "code",
   "execution_count": 29,
   "metadata": {},
   "outputs": [
    {
     "data": {
      "text/plain": [
       "array([0.1126595 , 0.12503525])"
      ]
     },
     "execution_count": 29,
     "metadata": {},
     "output_type": "execute_result"
    }
   ],
   "source": [
    "bounds = np.percentile(results, [2.5, 97.5])\n",
    "bounds"
   ]
  },
  {
   "cell_type": "markdown",
   "metadata": {},
   "source": [
    "From this we see that a 95% CI for the utility is $\\textbf{[1127.9075, 1261.5225], endre intervalll etter at utilty-funksjon er endret}$. So the utility of $\\pi_0$ is well inside these error bounds."
   ]
  },
  {
   "cell_type": "markdown",
   "metadata": {},
   "source": [
    "### Exercise 2 (Improved policies)\n"
   ]
  },
  {
   "cell_type": "markdown",
   "metadata": {},
   "source": [
    "### 1."
   ]
  },
  {
   "cell_type": "markdown",
   "metadata": {
    "collapsed": true
   },
   "source": [
    "We want to improve the policy, so that we can increase the utility. For the model, we choose a neural network and logistic regression, which we fit by first making an object of the classes $\\texttt{NNRecommender}$ and $\\texttt{LogisticRecommender}$, in the file $\\texttt{TestRecommender.py}$, where we set the reward function to what it is defined as in the project description. We then call the policies' $\\texttt{fit_treatment_outcome}$-function, so that our policies are trained on the historical data. To find the estimated utility of these improved models, we call $\\texttt{policy_NN.estimate_utility(features, None, None, policy.NN)}$ and $\\texttt{policy_logistic.estimate_utility(features, None, None, policy.logistic)}$. Note that when a $\\texttt{policy}$ argument is given to the $\\texttt{estimate_utility}$-function, the $\\texttt{policy}$ will recommend an action, and it is these actions (and the probabilities of the different outomes) that are used to calculate the estimated utility.   "
   ]
  },
  {
   "cell_type": "markdown",
   "metadata": {},
   "source": [
    "### 2.\n"
   ]
  },
  {
   "cell_type": "markdown",
   "metadata": {},
   "source": [
    "Run $\\texttt{TestRecommender.py}$ to see the results. Below you can see the last printout from $\\texttt{TestRecommender.py}$. From this we see that both logistic regression and neural network are better than the historical policy."
   ]
  },
  {
   "cell_type": "code",
   "execution_count": 7,
   "metadata": {},
   "outputs": [
    {
     "name": "stdout",
     "output_type": "stream",
     "text": [
      "Fitting treatment outcomes\n",
      "Neural Network estimating utility   1000 of 10000\n",
      "Neural Network estimating utility   2000 of 10000\n",
      "Neural Network estimating utility   3000 of 10000\n",
      "Neural Network estimating utility   4000 of 10000\n",
      "Neural Network estimating utility   5000 of 10000\n",
      "Neural Network estimating utility   6000 of 10000\n",
      "Neural Network estimating utility   7000 of 10000\n",
      "Neural Network estimating utility   8000 of 10000\n",
      "Neural Network estimating utility   9000 of 10000\n",
      "Neural Network estimating utility  10000 of 10000\n",
      "Logistic model estimating utility   1000 of 10000\n",
      "Logistic model estimating utility   2000 of 10000\n",
      "Logistic model estimating utility   3000 of 10000\n",
      "Logistic model estimating utility   4000 of 10000\n",
      "Logistic model estimating utility   5000 of 10000\n",
      "Logistic model estimating utility   6000 of 10000\n",
      "Logistic model estimating utility   7000 of 10000\n",
      "Logistic model estimating utility   8000 of 10000\n",
      "Logistic model estimating utility   9000 of 10000\n",
      "Logistic model estimating utility  10000 of 10000\n",
      "\n",
      "The historical utility was 0.119120\n",
      "The estimated utility of the improved NN policy is: 0.459083 \n",
      "The estimated utility of the improved logistic policy is: 0.427203\n"
     ]
    }
   ],
   "source": [
    "import pandas\n",
    "\n",
    "features = pandas.read_csv('historical_X.dat', header=None, sep=\" \").values\n",
    "actions = pandas.read_csv('historical_A.dat', header=None, sep=\" \").values\n",
    "outcome = pandas.read_csv('historical_Y.dat', header=None, sep=\" \").values\n",
    "n = features.shape[0]\n",
    "\n",
    "import NNRecommender\n",
    "policy_factory_NN = NNRecommender.NNRecommender\n",
    "policy_NN = policy_factory_NN(2, 2)\n",
    "\n",
    "import LogisticRecommender\n",
    "policy_factory_logistic = LogisticRecommender.LogisticRecommender\n",
    "policy_logistic = policy_factory_logistic(2, 2)\n",
    "\n",
    "def reward_function(action, outcome):\n",
    "    return -0.1*action + outcome\n",
    "\n",
    "# First we need to set the reward\n",
    "policy_NN.set_reward(reward_function)\n",
    "policy_logistic.set_reward(reward_function)\n",
    "\n",
    "## Fit the policy on historical data \n",
    "policy_NN.fit_treatment_outcome(features, actions, outcome)\n",
    "policy_logistic.fit_treatment_outcome(features, actions, outcome)\n",
    "\n",
    "# Utility of the historical policy. Deterministic, so no difference if we call with policy_NN or policy_logistic\n",
    "utility_hist = policy_NN.estimate_utility(features, actions, outcome)/n\n",
    "\n",
    "# Utility of new policy\n",
    "utility_new_policy_NN = policy_NN.estimate_utility(features, None, None, policy_NN)/n\n",
    "utility_new_policy_logistic = policy_logistic.estimate_utility(features, None, None, policy_logistic)/n\n",
    "\n",
    "# Utility of improved policy, using a neural network trained on the historical data\n",
    "print(\"\\nThe historical utility was %2f\" %(utility_hist))\n",
    "print(\"The estimated utility of the improved NN policy is: %2f \" % (utility_new_policy_NN))\n",
    "print(\"The estimated utility of the improved logistic policy is: %2f\"  % (utility_new_policy_logistic))"
   ]
  },
  {
   "cell_type": "markdown",
   "metadata": {
    "collapsed": true
   },
   "source": [
    "$$\\textbf{The historical utility was 1191.200000\n",
    "The estimated utility of the improved NN policy is: 4606.017435 \n",
    "The estimated utility of the improved logistic policy is: 4273.185857. Dette er vel utdatert?}$$"
   ]
  },
  {
   "cell_type": "markdown",
   "metadata": {},
   "source": [
    "# Part 3 - Adaptive experiment design"
   ]
  },
  {
   "cell_type": "markdown",
   "metadata": {},
   "source": [
    "In this part part we are going to test our recommenders on new patients and evaluate the results. We do this by using the $\\texttt{test_policy}$ function. It creates a fixed number of patients, ask the recommenders what treatments each indivdual should recive and then calculate the outcome. At the end it let the recommender obsereve the outcome. "
   ]
  },
  {
   "cell_type": "code",
   "execution_count": 10,
   "metadata": {
    "collapsed": true
   },
   "outputs": [],
   "source": [
    "def test_policy(generator, policy, reward_function, T, seed = None, printout = False):\n",
    "    policy.set_reward(reward_function)\n",
    "    u = 0\n",
    "    \n",
    "    # Variable to count the number of people who were given a treatment\n",
    "    total_given_treatment = 0\n",
    "    \n",
    "    # For reproducibility we allow the user to set the seed\n",
    "    if (seed != None):\n",
    "        np.random.seed(seed)\n",
    "    \n",
    "    for t in range(T):\n",
    "        # We generate 1 new pasient\n",
    "        x = generator.generate_features()\n",
    "        \n",
    "        # Find the best action, from our model\n",
    "        a = policy.recommend(x)\n",
    "\n",
    "        # If given a treatment, then we record it\n",
    "        if (a != 0): \n",
    "            total_given_treatment += 1\n",
    "            \n",
    "        # Generate the outcome based on user_data and action\n",
    "        y = generator.generate_outcome(x, a)\n",
    "       \n",
    "        # Add the utility/reward\n",
    "        u += reward_function(a, y)\n",
    "        \n",
    "        # Let the policy now about the result/refit the model.\n",
    "        policy.observe(x, a, y)\n",
    "        \n",
    "        # A small printout\n",
    "        if ((printout) & ((t + 1) % 100 == 0)):\n",
    "            print(\"Iteration: %4d \\t Current mean reward: %7.4f\" %(t, u/(t+1)))\n",
    "    \n",
    "    return [u/T, total_given_treatment] "
   ]
  },
  {
   "cell_type": "markdown",
   "metadata": {},
   "source": [
    "As discussed in the introduction we use a slightly modified $\\texttt{reward_function}$."
   ]
  },
  {
   "cell_type": "code",
   "execution_count": 11,
   "metadata": {
    "collapsed": true
   },
   "outputs": [],
   "source": [
    "def reward_function(action, outcome):\n",
    "    # Here we use the alternative reward_function discussed in the introduction.\n",
    "    # That is, we assume all medicins have the same cost and that they must be 10% more efficient than the placebo.\n",
    "    if (action >= 1): \n",
    "        return -0.1 + outcome\n",
    "    else: \n",
    "        return outcome"
   ]
  },
  {
   "cell_type": "markdown",
   "metadata": {},
   "source": [
    "To verify the results one should let each recommender run several times. There is a high variability in the results. That means that the results from two consecutive simulations can yield quite different results. Hence it is important to create empiraical confidence intervals for the utility. We have not computed the variance of the empirical data, since this is indirectly visable from the range of the confidence intervals, but the variance is also a good measure."
   ]
  },
  {
   "cell_type": "code",
   "execution_count": 21,
   "metadata": {
    "collapsed": true
   },
   "outputs": [],
   "source": [
    "# generator generates the data and the outcome\n",
    "# policy_maker is an object that can create policies\n",
    "# reward_function calculate the reward given the action and the outcome\n",
    "# T is the number of patients\n",
    "# N is the number of times we should treat T patients\n",
    "# features are the historical features\n",
    "# actions are the historical actions\n",
    "# outcome are the historical outcome\n",
    "# extra is extra arguments for the policy\n",
    "def create_CI(generator, policy_maker, reward_function, T, N, features, actions, outcome, extra = None):\n",
    "    res = np.zeros((N,2))\n",
    "    for n in range(N):\n",
    "        # Create a policy from the policymaker\n",
    "        if (extra == None):\n",
    "            policy = policy_maker(generator.get_n_actions(), generator.get_n_outcomes())\n",
    "        else:\n",
    "            policy = policy_maker(generator.get_n_actions(), generator.get_n_outcomes(), extra)\n",
    "            \n",
    "        # Set the reward function\n",
    "        policy.set_reward(reward_function)\n",
    "        \n",
    "        # Fit the model\n",
    "        policy.fit_treatment_outcome(features, actions, outcome)\n",
    "        \n",
    "        # Record the results\n",
    "        res[n] = test_policy(generator, policy, reward_function, T)\n",
    "        \n",
    "        if((n+1) % 10 == 0):\n",
    "            print(\"Done with n = %d\" % n)\n",
    "\n",
    "    print(\"Utility percentiles(2.5, 50, 97.5): \", np.percentile(res[:,0], [2.5, 50, 97.5]))\n",
    "    print(\"Percentage of treatments percentiles(2.5, 50, 97.5): \", np.percentile(res[:,1], [2.5, 50, 97.5])/T)"
   ]
  },
  {
   "cell_type": "markdown",
   "metadata": {},
   "source": [
    "### Exercise 3 - online policy testing\n"
   ]
  },
  {
   "cell_type": "markdown",
   "metadata": {},
   "source": [
    "#### 1.\n",
    "\n",
    "Here we create a $\\texttt{HistoricalRecommender}$ recommender and test it on the testbench. Recall that the $\\texttt{HistoricalRecommender}$ recommends based on the frequency of recommendations in the historical dataset. That is, if the percentage of people given the placebo in the historical data is $30\\%$, then our recommender will also recommend placebo in $30\\%$ of the cases. \n",
    "\n",
    "In hindsight we are uncertain if we mayhaps misinterpreted this model. The idea might have been that we should have used the historical dataset to find the person in this dataset who is most similar to the new patient and give the new patient the same treatment as the historical patient. This could have been done with a KNN with K=1.\n",
    "\n",
    "Whether or not we misinterpreted it, our model yields close to the historical results. Hence we are quite certain that what we have done is correct."
   ]
  },
  {
   "cell_type": "code",
   "execution_count": 13,
   "metadata": {},
   "outputs": [
    {
     "name": "stdout",
     "output_type": "stream",
     "text": [
      "Utility percentiles(2.5, 50, 97.5):  [0.08415 0.1092  0.14082]\n",
      "Percentage of treatments percentiles(2.5, 50, 97.5):  [0.198   0.23    0.26705]\n"
     ]
    }
   ],
   "source": [
    "import data_generation\n",
    "generator = data_generation.DataGenerator()\n",
    "\n",
    "import HistoricalRecommender\n",
    "policy_factory_historical = HistoricalRecommender.HistoricalRecommender\n",
    "\n",
    "T = 500\n",
    "N = 100\n",
    "create_CI(generator, policy_factory_historical, reward_function, T, N, features, actions, outcome)"
   ]
  },
  {
   "cell_type": "markdown",
   "metadata": {},
   "source": [
    "As we can see above we get a bite wider interval than in the previous part, but note that the median is close to the historical utility and that our $95\\%$ empirical confidence interval cover the results from the historical part.\n",
    "Note that the the historical recommender prescibe treatments to about a fifth of the patients."
   ]
  },
  {
   "cell_type": "markdown",
   "metadata": {},
   "source": [
    "#### 2.\n",
    "Here we are going to look at the improved recommenders. Note that we \n",
    "\n",
    "\n",
    "We also create some \"stupid\" recommenders to have more recommenders to compare our improved policies with. \n",
    "We have created a $\\texttt{FixedTreatmentRecommender}$ and a $\\texttt{RandomRecommender}$. These should be self explanatory, but they always recommend a fixed treatment(placebo or treatment1, defined in the initializtion) or does a random choice.\n"
   ]
  },
  {
   "cell_type": "code",
   "execution_count": 13,
   "metadata": {},
   "outputs": [
    {
     "name": "stdout",
     "output_type": "stream",
     "text": [
      "Always placebo: \n",
      "Utility percentiles(2.5, 50, 97.5):  [0.004   0.012   0.02105]\n",
      "Percentage of treatments percentiles(2.5, 50, 97.5):  [0. 0. 0.]\n",
      "\n",
      "Always treatment1: \n",
      "Utility percentiles(2.5, 50, 97.5):  [0.39695 0.432   0.476  ]\n",
      "Percentage of treatments percentiles(2.5, 50, 97.5):  [1. 1. 1.]\n",
      "\n",
      "Random treatment: \n",
      "Utility percentiles(2.5, 50, 97.5):  [0.19066  0.2237   0.257115]\n",
      "Percentage of treatments percentiles(2.5, 50, 97.5):  [0.45495 0.503   0.54105]\n"
     ]
    }
   ],
   "source": [
    "import FixedTreatmentRecommender\n",
    "policy_factory_fixed = FixedTreatmentRecommender.FixedTreatmentRecommender\n",
    "\n",
    "import RandomRecommender\n",
    "policy_factory_random = RandomRecommender.RandomRecommender\n",
    "\n",
    "T = 500\n",
    "N = 100\n",
    "\n",
    "print(\"Always placebo: \")\n",
    "create_CI(generator, policy_factory_fixed, reward_function, T, N, features, actions, outcome, extra = 0)\n",
    "\n",
    "print(\"\\nAlways treatment1: \")\n",
    "create_CI(generator, policy_factory_fixed, reward_function, T, N, features, actions, outcome, extra = 1)\n",
    "\n",
    "print(\"\\nRandom treatment: \")\n",
    "create_CI(generator, policy_factory_random, reward_function, T, N, features, actions, outcome, extra = 2)"
   ]
  },
  {
   "cell_type": "markdown",
   "metadata": {},
   "source": [
    "Since we in this case we know how the outcomes are generated, that is, we have access to $\\texttt{big_generating_matrices.mat}$ and the $\\texttt{data_generation}$ we can create an $\\texttt{OptimalRecommender}$ that recommends the optimal treatment. From the two files we see that the outcome is decided based on the the sign of the dot product between the user and the recommended action. If the the dot product is positive then $y_t = 1$ and if the dot product is negative then $y_t = 0$. The optimal policy will then chose the action with highest dot product, given that it is positive, else it will recommend the placebo to maximize the reward (to escape the penatlity of using a treatment).   "
   ]
  },
  {
   "cell_type": "code",
   "execution_count": 14,
   "metadata": {},
   "outputs": [
    {
     "name": "stdout",
     "output_type": "stream",
     "text": [
      "Optimal: \n",
      "Utility percentiles(2.5, 50, 97.5):  [0.4536 0.486  0.5292]\n",
      "Percentage of treatments percentiles(2.5, 50, 97.5):  [0.504 0.54  0.588]\n"
     ]
    }
   ],
   "source": [
    "import OptimalRecommender\n",
    "policy_factory_optimal = OptimalRecommender.OptimalRecommender\n",
    "\n",
    "T = 500\n",
    "N = 100\n",
    "\n",
    "print(\"Optimal: \")\n",
    "create_CI(generator, policy_factory_optimal, reward_function, T, N, features, actions, outcome, extra = 2)"
   ]
  },
  {
   "cell_type": "markdown",
   "metadata": {},
   "source": [
    "We see that the opt"
   ]
  },
  {
   "cell_type": "markdown",
   "metadata": {},
   "source": [
    "Now we take a look at our improved policies:\n",
    "Single_logistic\n",
    "Bootstrap_logistic\n",
    "NN_(3,2,2)\n",
    "NN_(5,2)\n"
   ]
  },
  {
   "cell_type": "code",
   "execution_count": 20,
   "metadata": {},
   "outputs": [
    {
     "name": "stdout",
     "output_type": "stream",
     "text": [
      "Single logistic model: \n",
      "Done with n = 99\n",
      "Utility percentiles(2.5, 50, 97.5):  [0.429635 0.4667   0.500715]\n",
      "Percentage of treatments percentiles(2.5, 50, 97.5):  [0.63685 0.67    0.71505]\n",
      "Bootstrap logistic model: \n",
      "Done with n = 99\n",
      "Utility percentiles(2.5, 50, 97.5):  [0.425365 0.4663   0.50262 ]\n",
      "Percentage of treatments percentiles(2.5, 50, 97.5):  [0.64285 0.68    0.71705]\n"
     ]
    }
   ],
   "source": [
    "# Single logistic\n",
    "import LogisticRecommender\n",
    "policy_factory_logistic = LogisticRecommender.LogisticRecommender\n",
    "\n",
    "import LogisticRecommenderBoot\n",
    "policy_factory_logistic_boot = LogisticRecommenderBoot.LogisticRecommenderBoot\n",
    "\n",
    "print(\"Single logistic model: \")\n",
    "create_CI(generator, policy_factory_logistic, reward_function, T, N, features, actions, outcome, extra = 0)\n",
    "\n",
    "print(\"Bootstrap logistic model: \")\n",
    "create_CI(generator, policy_factory_logistic_boot, reward_function, T, N, features, actions, outcome, extra = 0)"
   ]
  },
  {
   "cell_type": "code",
   "execution_count": 22,
   "metadata": {},
   "outputs": [
    {
     "name": "stdout",
     "output_type": "stream",
     "text": [
      "NN(5,2): \n",
      "Done with n = 9\n",
      "Done with n = 19\n",
      "Done with n = 29\n",
      "Done with n = 39\n",
      "Done with n = 49\n",
      "Done with n = 59\n",
      "Done with n = 69\n",
      "Done with n = 79\n",
      "Done with n = 89\n",
      "Done with n = 99\n",
      "Utility percentiles(2.5, 50, 97.5):  [0.42499 0.4612  0.50504]\n",
      "Percentage of treatments percentiles(2.5, 50, 97.5):  [0.4878 0.536  0.5801]\n",
      "NN(2,2,3): \n",
      "Done with n = 9\n",
      "Done with n = 19\n",
      "Done with n = 29\n",
      "Done with n = 39\n",
      "Done with n = 49\n",
      "Done with n = 59\n",
      "Done with n = 69\n",
      "Done with n = 79\n",
      "Done with n = 89\n",
      "Done with n = 99\n",
      "Utility percentiles(2.5, 50, 97.5):  [0.42616 0.4671  0.51069]\n",
      "Percentage of treatments percentiles(2.5, 50, 97.5):  [0.53495 0.578   0.6241 ]\n"
     ]
    }
   ],
   "source": [
    "import NeuralNetworkRecommender\n",
    "policy_factory_NN = NeuralNetworkRecommender.NeuralNetworkRecommender\n",
    "\n",
    "print(\"NN(5,2): \")\n",
    "create_CI(generator, policy_factory_NN, reward_function, T, N, features, actions, outcome, extra = [0, [5,2]])\n",
    "\n",
    "print(\"NN(2,2,3): \")\n",
    "create_CI(generator, policy_factory_NN, reward_function, T, N, features, actions, outcome, extra = [0, [2,2,3]])"
   ]
  },
  {
   "cell_type": "code",
   "execution_count": null,
   "metadata": {
    "collapsed": true
   },
   "outputs": [],
   "source": []
  },
  {
   "cell_type": "markdown",
   "metadata": {},
   "source": [
    "We have also created two other improved polcies with utilize the clustert. That is, based on the the historical data it divides the poplulation into two subpopulations and fit a model on each of these. The results for the logistic cluster are nearly identical to those obtained by the non-clustered version. The clustered nerual network actually obtained a lower utility. We think this perhaps might be due to the fact that the trainingset for the individaul neural networks became too small. As we now, it takes a lot of data to fine tune a neural network. Note that the code below takes a long time to run."
   ]
  },
  {
   "cell_type": "code",
   "execution_count": 24,
   "metadata": {},
   "outputs": [
    {
     "name": "stdout",
     "output_type": "stream",
     "text": [
      "Logistic cluster: \n",
      "Preprocessing data\n",
      "Fitting treatment outcomes\n",
      "Use model 0\n",
      "Use model 0\n",
      "Preprocessing data\n",
      "Fitting treatment outcomes\n",
      "Use model 0\n",
      "Use model 0\n",
      "Preprocessing data\n",
      "Fitting treatment outcomes\n",
      "Use model 0\n",
      "Use model 0\n",
      "Preprocessing data\n",
      "Fitting treatment outcomes\n",
      "Use model 0\n",
      "Use model 0\n",
      "Preprocessing data\n",
      "Fitting treatment outcomes\n",
      "Use model 0\n",
      "Use model 0\n",
      "Preprocessing data\n",
      "Fitting treatment outcomes\n",
      "Use model 1\n",
      "Use model 1\n",
      "Preprocessing data\n",
      "Fitting treatment outcomes\n",
      "Use model 1\n",
      "Use model 1\n",
      "Preprocessing data\n",
      "Fitting treatment outcomes\n",
      "Use model 1\n",
      "Use model 1\n",
      "Preprocessing data\n",
      "Fitting treatment outcomes\n",
      "Use model 1\n",
      "Use model 1\n",
      "Preprocessing data\n",
      "Fitting treatment outcomes\n",
      "Use model 1\n",
      "Use model 1\n",
      "Preprocessing data\n",
      "Fitting treatment outcomes\n",
      "Use model 1\n",
      "Use model 1\n",
      "Preprocessing data\n",
      "Fitting treatment outcomes\n",
      "Use model 0\n",
      "Use model 0\n",
      "Preprocessing data\n",
      "Fitting treatment outcomes\n",
      "Use model 0\n",
      "Use model 0\n",
      "Preprocessing data\n",
      "Fitting treatment outcomes\n",
      "Use model 0\n",
      "Use model 0\n",
      "Preprocessing data\n",
      "Fitting treatment outcomes\n",
      "Use model 1\n",
      "Use model 1\n",
      "Preprocessing data\n",
      "Fitting treatment outcomes\n",
      "Use model 0\n",
      "Use model 0\n",
      "Preprocessing data\n",
      "Fitting treatment outcomes\n",
      "Use model 0\n",
      "Use model 0\n",
      "Preprocessing data\n",
      "Fitting treatment outcomes\n",
      "Use model 1\n",
      "Use model 1\n",
      "Preprocessing data\n",
      "Fitting treatment outcomes\n",
      "Use model 1\n",
      "Use model 1\n",
      "Preprocessing data\n",
      "Fitting treatment outcomes\n",
      "Use model 1\n",
      "Use model 1\n",
      "Preprocessing data\n",
      "Fitting treatment outcomes\n",
      "Preprocessing data\n",
      "Fitting treatment outcomes\n",
      "Use model 0\n",
      "Use model 0\n",
      "Preprocessing data\n",
      "Fitting treatment outcomes\n",
      "Use model 0\n",
      "Use model 0\n",
      "Preprocessing data\n",
      "Fitting treatment outcomes\n",
      "Use model 1\n",
      "Use model 1\n",
      "Preprocessing data\n",
      "Fitting treatment outcomes\n",
      "Use model 0\n",
      "Use model 0\n",
      "Preprocessing data\n",
      "Fitting treatment outcomes\n",
      "Use model 0\n",
      "Use model 0\n",
      "Preprocessing data\n",
      "Fitting treatment outcomes\n",
      "Use model 0\n",
      "Use model 0\n",
      "Preprocessing data\n",
      "Fitting treatment outcomes\n",
      "Use model 1\n",
      "Use model 1\n",
      "Preprocessing data\n",
      "Fitting treatment outcomes\n",
      "Use model 1\n",
      "Use model 1\n",
      "Preprocessing data\n",
      "Fitting treatment outcomes\n",
      "Use model 1\n",
      "Use model 1\n",
      "Preprocessing data\n",
      "Fitting treatment outcomes\n",
      "Use model 0\n",
      "Use model 0\n",
      "Preprocessing data\n",
      "Fitting treatment outcomes\n",
      "Use model 0\n",
      "Use model 0\n",
      "Preprocessing data\n",
      "Fitting treatment outcomes\n",
      "Use model 0\n",
      "Use model 0\n",
      "Preprocessing data\n",
      "Fitting treatment outcomes\n",
      "Use model 1\n",
      "Use model 1\n",
      "Preprocessing data\n",
      "Fitting treatment outcomes\n",
      "Use model 0\n",
      "Use model 0\n",
      "Preprocessing data\n",
      "Fitting treatment outcomes\n",
      "Use model 0\n",
      "Use model 0\n",
      "Preprocessing data\n",
      "Fitting treatment outcomes\n",
      "Use model 0\n",
      "Use model 0\n",
      "Preprocessing data\n",
      "Fitting treatment outcomes\n",
      "Use model 0\n",
      "Use model 0\n",
      "Preprocessing data\n",
      "Fitting treatment outcomes\n",
      "Use model 1\n",
      "Use model 1\n",
      "Preprocessing data\n",
      "Fitting treatment outcomes\n",
      "Use model 1\n",
      "Use model 1\n",
      "Preprocessing data\n",
      "Fitting treatment outcomes\n",
      "Use model 0\n",
      "Use model 0\n",
      "Preprocessing data\n",
      "Fitting treatment outcomes\n",
      "Preprocessing data\n",
      "Fitting treatment outcomes\n",
      "Use model 0\n",
      "Use model 0\n",
      "Preprocessing data\n",
      "Fitting treatment outcomes\n",
      "Use model 0\n",
      "Use model 0\n",
      "Preprocessing data\n",
      "Fitting treatment outcomes\n",
      "Use model 1\n",
      "Use model 1\n",
      "Preprocessing data\n",
      "Fitting treatment outcomes\n",
      "Use model 1\n",
      "Use model 1\n",
      "Preprocessing data\n",
      "Fitting treatment outcomes\n",
      "Use model 0\n",
      "Use model 0\n",
      "Preprocessing data\n",
      "Fitting treatment outcomes\n",
      "Use model 1\n",
      "Use model 1\n",
      "Preprocessing data\n",
      "Fitting treatment outcomes\n",
      "Use model 0\n",
      "Use model 0\n",
      "Preprocessing data\n",
      "Fitting treatment outcomes\n",
      "Use model 1\n",
      "Use model 1\n",
      "Preprocessing data\n",
      "Fitting treatment outcomes\n",
      "Use model 0\n",
      "Use model 0\n",
      "Preprocessing data\n",
      "Fitting treatment outcomes\n",
      "Use model 0\n",
      "Use model 0\n",
      "Preprocessing data\n",
      "Fitting treatment outcomes\n",
      "Use model 0\n",
      "Use model 0\n",
      "Preprocessing data\n",
      "Fitting treatment outcomes\n",
      "Use model 1\n",
      "Use model 1\n",
      "Preprocessing data\n",
      "Fitting treatment outcomes\n",
      "Use model 0\n",
      "Use model 0\n",
      "Preprocessing data\n",
      "Fitting treatment outcomes\n",
      "Use model 0\n",
      "Use model 0\n",
      "Preprocessing data\n",
      "Fitting treatment outcomes\n",
      "Use model 1\n",
      "Use model 1\n",
      "Preprocessing data\n",
      "Fitting treatment outcomes\n",
      "Use model 0\n",
      "Use model 0\n",
      "Preprocessing data\n",
      "Fitting treatment outcomes\n",
      "Use model 1\n",
      "Use model 1\n",
      "Preprocessing data\n",
      "Fitting treatment outcomes\n",
      "Use model 1\n",
      "Use model 1\n",
      "Preprocessing data\n",
      "Fitting treatment outcomes\n",
      "Use model 1\n",
      "Use model 1\n",
      "Preprocessing data\n",
      "Fitting treatment outcomes\n",
      "Use model 1\n",
      "Use model 1\n",
      "Preprocessing data\n",
      "Fitting treatment outcomes\n",
      "Preprocessing data\n",
      "Fitting treatment outcomes\n",
      "Use model 0\n",
      "Use model 0\n",
      "Preprocessing data\n",
      "Fitting treatment outcomes\n",
      "Use model 0\n",
      "Use model 0\n",
      "Preprocessing data\n",
      "Fitting treatment outcomes\n",
      "Use model 0\n",
      "Use model 0\n",
      "Preprocessing data\n",
      "Fitting treatment outcomes\n",
      "Use model 0\n",
      "Use model 0\n",
      "Preprocessing data\n",
      "Fitting treatment outcomes\n",
      "Use model 1\n",
      "Use model 1\n",
      "Preprocessing data\n",
      "Fitting treatment outcomes\n",
      "Use model 0\n",
      "Use model 0\n",
      "Preprocessing data\n",
      "Fitting treatment outcomes\n",
      "Use model 1\n",
      "Use model 1\n",
      "Preprocessing data\n",
      "Fitting treatment outcomes\n",
      "Use model 1\n",
      "Use model 1\n",
      "Preprocessing data\n",
      "Fitting treatment outcomes\n",
      "Use model 1\n",
      "Use model 1\n",
      "Preprocessing data\n",
      "Fitting treatment outcomes\n",
      "Use model 0\n",
      "Use model 0\n",
      "Preprocessing data\n",
      "Fitting treatment outcomes\n",
      "Use model 1\n",
      "Use model 1\n",
      "Preprocessing data\n",
      "Fitting treatment outcomes\n",
      "Use model 0\n",
      "Use model 0\n",
      "Preprocessing data\n",
      "Fitting treatment outcomes\n",
      "Use model 0\n",
      "Use model 0\n",
      "Preprocessing data\n",
      "Fitting treatment outcomes\n",
      "Use model 1\n",
      "Use model 1\n",
      "Preprocessing data\n",
      "Fitting treatment outcomes\n",
      "Use model 0\n",
      "Use model 0\n",
      "Preprocessing data\n",
      "Fitting treatment outcomes\n",
      "Use model 0\n",
      "Use model 0\n",
      "Preprocessing data\n",
      "Fitting treatment outcomes\n",
      "Use model 1\n",
      "Use model 1\n",
      "Preprocessing data\n",
      "Fitting treatment outcomes\n",
      "Use model 0\n",
      "Use model 0\n",
      "Preprocessing data\n",
      "Fitting treatment outcomes\n",
      "Use model 1\n",
      "Use model 1\n",
      "Preprocessing data\n",
      "Fitting treatment outcomes\n",
      "Use model 1\n",
      "Use model 1\n",
      "Preprocessing data\n",
      "Fitting treatment outcomes\n",
      "Preprocessing data\n",
      "Fitting treatment outcomes\n",
      "Use model 1\n",
      "Use model 1\n",
      "Preprocessing data\n",
      "Fitting treatment outcomes\n",
      "Use model 1\n",
      "Use model 1\n",
      "Preprocessing data\n",
      "Fitting treatment outcomes\n",
      "Use model 0\n",
      "Use model 0\n",
      "Preprocessing data\n",
      "Fitting treatment outcomes\n",
      "Use model 0\n",
      "Use model 0\n",
      "Preprocessing data\n",
      "Fitting treatment outcomes\n",
      "Use model 0\n",
      "Use model 0\n",
      "Preprocessing data\n",
      "Fitting treatment outcomes\n",
      "Use model 0\n",
      "Use model 0\n",
      "Preprocessing data\n",
      "Fitting treatment outcomes\n",
      "Use model 1\n",
      "Use model 1\n",
      "Preprocessing data\n",
      "Fitting treatment outcomes\n",
      "Use model 1\n",
      "Use model 1\n",
      "Preprocessing data\n",
      "Fitting treatment outcomes\n",
      "Use model 0\n",
      "Use model 0\n",
      "Preprocessing data\n",
      "Fitting treatment outcomes\n",
      "Use model 0\n",
      "Use model 0\n",
      "Preprocessing data\n",
      "Fitting treatment outcomes\n",
      "Use model 0\n",
      "Use model 0\n",
      "Preprocessing data\n",
      "Fitting treatment outcomes\n",
      "Use model 1\n",
      "Use model 1\n",
      "Preprocessing data\n",
      "Fitting treatment outcomes\n",
      "Use model 1\n",
      "Use model 1\n",
      "Preprocessing data\n",
      "Fitting treatment outcomes\n",
      "Use model 0\n",
      "Use model 0\n",
      "Preprocessing data\n",
      "Fitting treatment outcomes\n",
      "Use model 0\n",
      "Use model 0\n",
      "Preprocessing data\n",
      "Fitting treatment outcomes\n",
      "Use model 0\n",
      "Use model 0\n",
      "Preprocessing data\n",
      "Fitting treatment outcomes\n",
      "Use model 0\n",
      "Use model 0\n",
      "Preprocessing data\n",
      "Fitting treatment outcomes\n",
      "Use model 0\n",
      "Use model 0\n",
      "Preprocessing data\n",
      "Fitting treatment outcomes\n",
      "Use model 1\n",
      "Use model 1\n",
      "Preprocessing data\n",
      "Fitting treatment outcomes\n",
      "Use model 1\n",
      "Use model 1\n",
      "Preprocessing data\n",
      "Fitting treatment outcomes\n",
      "Preprocessing data\n",
      "Fitting treatment outcomes\n",
      "Use model 0\n",
      "Use model 0\n",
      "Preprocessing data\n",
      "Fitting treatment outcomes\n",
      "Use model 0\n",
      "Use model 0\n",
      "Preprocessing data\n",
      "Fitting treatment outcomes\n",
      "Use model 0\n",
      "Use model 0\n",
      "Preprocessing data\n",
      "Fitting treatment outcomes\n",
      "Use model 0\n",
      "Use model 0\n",
      "Preprocessing data\n",
      "Fitting treatment outcomes\n",
      "Use model 1\n",
      "Use model 1\n",
      "Preprocessing data\n",
      "Fitting treatment outcomes\n",
      "Use model 0\n",
      "Use model 0\n",
      "Preprocessing data\n",
      "Fitting treatment outcomes\n",
      "Use model 0\n",
      "Use model 0\n",
      "Preprocessing data\n",
      "Fitting treatment outcomes\n",
      "Use model 1\n",
      "Use model 1\n",
      "Preprocessing data\n",
      "Fitting treatment outcomes\n",
      "Use model 1\n",
      "Use model 1\n",
      "Preprocessing data\n",
      "Fitting treatment outcomes\n",
      "Use model 1\n",
      "Use model 1\n",
      "Preprocessing data\n",
      "Fitting treatment outcomes\n",
      "Use model 0\n",
      "Use model 0\n",
      "Preprocessing data\n",
      "Fitting treatment outcomes\n",
      "Use model 1\n",
      "Use model 1\n",
      "Preprocessing data\n",
      "Fitting treatment outcomes\n",
      "Use model 0\n",
      "Use model 0\n",
      "Preprocessing data\n",
      "Fitting treatment outcomes\n"
     ]
    },
    {
     "name": "stdout",
     "output_type": "stream",
     "text": [
      "Use model 0\n",
      "Use model 0\n",
      "Preprocessing data\n",
      "Fitting treatment outcomes\n",
      "Use model 0\n",
      "Use model 0\n",
      "Preprocessing data\n",
      "Fitting treatment outcomes\n",
      "Use model 1\n",
      "Use model 1\n",
      "Preprocessing data\n",
      "Fitting treatment outcomes\n",
      "Use model 1\n",
      "Use model 1\n",
      "Preprocessing data\n",
      "Fitting treatment outcomes\n",
      "Use model 0\n",
      "Use model 0\n",
      "Preprocessing data\n",
      "Fitting treatment outcomes\n",
      "Use model 1\n",
      "Use model 1\n",
      "Preprocessing data\n",
      "Fitting treatment outcomes\n",
      "Use model 1\n",
      "Use model 1\n",
      "Preprocessing data\n",
      "Fitting treatment outcomes\n",
      "Preprocessing data\n",
      "Fitting treatment outcomes\n",
      "Use model 0\n",
      "Use model 0\n",
      "Preprocessing data\n",
      "Fitting treatment outcomes\n",
      "Use model 1\n",
      "Use model 1\n",
      "Preprocessing data\n",
      "Fitting treatment outcomes\n",
      "Use model 0\n",
      "Use model 0\n",
      "Preprocessing data\n",
      "Fitting treatment outcomes\n",
      "Use model 1\n",
      "Use model 1\n",
      "Preprocessing data\n",
      "Fitting treatment outcomes\n",
      "Use model 0\n",
      "Use model 0\n",
      "Preprocessing data\n",
      "Fitting treatment outcomes\n",
      "Use model 0\n",
      "Use model 0\n",
      "Preprocessing data\n",
      "Fitting treatment outcomes\n",
      "Use model 0\n",
      "Use model 0\n",
      "Preprocessing data\n",
      "Fitting treatment outcomes\n",
      "Use model 1\n",
      "Use model 1\n",
      "Preprocessing data\n",
      "Fitting treatment outcomes\n",
      "Use model 0\n",
      "Use model 0\n",
      "Preprocessing data\n",
      "Fitting treatment outcomes\n",
      "Use model 0\n",
      "Use model 0\n",
      "Preprocessing data\n",
      "Fitting treatment outcomes\n",
      "Use model 1\n",
      "Use model 1\n",
      "Preprocessing data\n",
      "Fitting treatment outcomes\n",
      "Use model 1\n",
      "Use model 1\n",
      "Preprocessing data\n",
      "Fitting treatment outcomes\n",
      "Use model 1\n",
      "Use model 1\n",
      "Preprocessing data\n",
      "Fitting treatment outcomes\n",
      "Use model 0\n",
      "Use model 0\n",
      "Preprocessing data\n",
      "Fitting treatment outcomes\n",
      "Use model 1\n",
      "Use model 1\n",
      "Preprocessing data\n",
      "Fitting treatment outcomes\n",
      "Use model 1\n",
      "Use model 1\n",
      "Preprocessing data\n",
      "Fitting treatment outcomes\n",
      "Use model 0\n",
      "Use model 0\n",
      "Preprocessing data\n",
      "Fitting treatment outcomes\n",
      "Use model 1\n",
      "Use model 1\n",
      "Preprocessing data\n",
      "Fitting treatment outcomes\n",
      "Use model 1\n",
      "Use model 1\n",
      "Preprocessing data\n",
      "Fitting treatment outcomes\n",
      "Use model 1\n",
      "Use model 1\n",
      "Preprocessing data\n",
      "Fitting treatment outcomes\n",
      "Preprocessing data\n",
      "Fitting treatment outcomes\n",
      "Use model 0\n",
      "Use model 0\n",
      "Preprocessing data\n",
      "Fitting treatment outcomes\n",
      "Use model 1\n",
      "Use model 1\n",
      "Preprocessing data\n",
      "Fitting treatment outcomes\n",
      "Use model 0\n",
      "Use model 0\n",
      "Preprocessing data\n",
      "Fitting treatment outcomes\n",
      "Use model 1\n",
      "Use model 1\n",
      "Preprocessing data\n",
      "Fitting treatment outcomes\n",
      "Use model 0\n",
      "Use model 0\n",
      "Preprocessing data\n",
      "Fitting treatment outcomes\n",
      "Use model 0\n",
      "Use model 0\n",
      "Preprocessing data\n",
      "Fitting treatment outcomes\n",
      "Use model 0\n",
      "Use model 0\n",
      "Preprocessing data\n",
      "Fitting treatment outcomes\n",
      "Use model 0\n",
      "Use model 0\n",
      "Preprocessing data\n",
      "Fitting treatment outcomes\n",
      "Use model 1\n",
      "Use model 1\n",
      "Preprocessing data\n",
      "Fitting treatment outcomes\n",
      "Use model 1\n",
      "Use model 1\n",
      "Preprocessing data\n",
      "Fitting treatment outcomes\n",
      "Use model 1\n",
      "Use model 1\n",
      "Preprocessing data\n",
      "Fitting treatment outcomes\n",
      "Use model 0\n",
      "Use model 0\n",
      "Preprocessing data\n",
      "Fitting treatment outcomes\n",
      "Use model 0\n",
      "Use model 0\n",
      "Preprocessing data\n",
      "Fitting treatment outcomes\n",
      "Use model 0\n",
      "Use model 0\n",
      "Preprocessing data\n",
      "Fitting treatment outcomes\n",
      "Use model 0\n",
      "Use model 0\n",
      "Preprocessing data\n",
      "Fitting treatment outcomes\n",
      "Use model 1\n",
      "Use model 1\n",
      "Preprocessing data\n",
      "Fitting treatment outcomes\n",
      "Use model 0\n",
      "Use model 0\n",
      "Preprocessing data\n",
      "Fitting treatment outcomes\n",
      "Use model 1\n",
      "Use model 1\n",
      "Preprocessing data\n",
      "Fitting treatment outcomes\n",
      "Use model 1\n",
      "Use model 1\n",
      "Preprocessing data\n",
      "Fitting treatment outcomes\n",
      "Use model 1\n",
      "Use model 1\n",
      "Preprocessing data\n",
      "Fitting treatment outcomes\n",
      "Preprocessing data\n",
      "Fitting treatment outcomes\n",
      "Use model 0\n",
      "Use model 0\n",
      "Preprocessing data\n",
      "Fitting treatment outcomes\n",
      "Use model 0\n",
      "Use model 0\n",
      "Preprocessing data\n",
      "Fitting treatment outcomes\n",
      "Use model 0\n",
      "Use model 0\n",
      "Preprocessing data\n",
      "Fitting treatment outcomes\n",
      "Use model 1\n",
      "Use model 1\n",
      "Preprocessing data\n",
      "Fitting treatment outcomes\n",
      "Use model 1\n",
      "Use model 1\n",
      "Preprocessing data\n",
      "Fitting treatment outcomes\n",
      "Use model 0\n",
      "Use model 0\n",
      "Preprocessing data\n",
      "Fitting treatment outcomes\n",
      "Use model 0\n",
      "Use model 0\n",
      "Preprocessing data\n",
      "Fitting treatment outcomes\n",
      "Use model 1\n",
      "Use model 1\n",
      "Preprocessing data\n",
      "Fitting treatment outcomes\n",
      "Use model 1\n",
      "Use model 1\n",
      "Preprocessing data\n",
      "Fitting treatment outcomes\n",
      "Use model 1\n",
      "Use model 1\n",
      "Preprocessing data\n",
      "Fitting treatment outcomes\n",
      "Use model 1\n",
      "Use model 1\n",
      "Preprocessing data\n",
      "Fitting treatment outcomes\n",
      "Use model 1\n",
      "Use model 1\n",
      "Preprocessing data\n",
      "Fitting treatment outcomes\n",
      "Use model 1\n",
      "Use model 1\n",
      "Preprocessing data\n",
      "Fitting treatment outcomes\n",
      "Use model 0\n",
      "Use model 0\n",
      "Preprocessing data\n",
      "Fitting treatment outcomes\n",
      "Use model 1\n",
      "Use model 1\n",
      "Preprocessing data\n",
      "Fitting treatment outcomes\n",
      "Use model 0\n",
      "Use model 0\n",
      "Preprocessing data\n",
      "Fitting treatment outcomes\n",
      "Use model 0\n",
      "Use model 0\n",
      "Preprocessing data\n",
      "Fitting treatment outcomes\n",
      "Use model 0\n",
      "Use model 0\n",
      "Preprocessing data\n",
      "Fitting treatment outcomes\n",
      "Use model 0\n",
      "Use model 0\n",
      "Preprocessing data\n",
      "Fitting treatment outcomes\n",
      "Use model 1\n",
      "Use model 1\n",
      "Preprocessing data\n",
      "Fitting treatment outcomes\n",
      "Preprocessing data\n",
      "Fitting treatment outcomes\n",
      "Use model 1\n",
      "Use model 1\n",
      "Preprocessing data\n",
      "Fitting treatment outcomes\n",
      "Use model 0\n",
      "Use model 0\n",
      "Preprocessing data\n",
      "Fitting treatment outcomes\n",
      "Use model 0\n",
      "Use model 0\n",
      "Preprocessing data\n",
      "Fitting treatment outcomes\n",
      "Use model 0\n",
      "Use model 0\n",
      "Preprocessing data\n",
      "Fitting treatment outcomes\n",
      "Use model 0\n",
      "Use model 0\n",
      "Preprocessing data\n",
      "Fitting treatment outcomes\n",
      "Use model 0\n",
      "Use model 0\n",
      "Preprocessing data\n",
      "Fitting treatment outcomes\n",
      "Use model 0\n",
      "Use model 0\n",
      "Preprocessing data\n",
      "Fitting treatment outcomes\n",
      "Use model 1\n",
      "Use model 1\n",
      "Preprocessing data\n",
      "Fitting treatment outcomes\n",
      "Use model 1\n",
      "Use model 1\n",
      "Preprocessing data\n",
      "Fitting treatment outcomes\n",
      "Use model 0\n",
      "Use model 0\n",
      "Preprocessing data\n",
      "Fitting treatment outcomes\n",
      "Use model 0\n",
      "Use model 0\n",
      "Preprocessing data\n",
      "Fitting treatment outcomes\n",
      "Use model 0\n",
      "Use model 0\n",
      "Preprocessing data\n",
      "Fitting treatment outcomes\n",
      "Use model 0\n",
      "Use model 0\n",
      "Preprocessing data\n",
      "Fitting treatment outcomes\n",
      "Use model 1\n",
      "Use model 1\n",
      "Preprocessing data\n",
      "Fitting treatment outcomes\n",
      "Use model 1\n",
      "Use model 1\n",
      "Preprocessing data\n",
      "Fitting treatment outcomes\n",
      "Use model 1\n",
      "Use model 1\n",
      "Preprocessing data\n",
      "Fitting treatment outcomes\n",
      "Use model 0\n",
      "Use model 0\n",
      "Preprocessing data\n",
      "Fitting treatment outcomes\n",
      "Use model 1\n",
      "Use model 1\n",
      "Preprocessing data\n",
      "Fitting treatment outcomes\n",
      "Use model 1\n",
      "Use model 1\n",
      "Preprocessing data\n",
      "Fitting treatment outcomes\n",
      "Use model 1\n",
      "Use model 1\n",
      "Preprocessing data\n",
      "Fitting treatment outcomes\n",
      "Done with n = 9\n",
      "Utility percentiles(2.5, 50, 97.5):  [0.264125 0.4575   0.656   ]\n",
      "Percentage of treatments percentiles(2.5, 50, 97.5):  [0.55   0.7    0.8275]\n",
      "NN cluster(5,2): \n",
      "Preprocessing data\n",
      "Fitting treatment outcomes\n",
      "Use model 0\n",
      "Use model 0\n",
      "Preprocessing data\n",
      "Fitting treatment outcomes\n",
      "Use model 0\n",
      "Use model 0\n",
      "Preprocessing data\n",
      "Fitting treatment outcomes\n",
      "Use model 1\n",
      "Use model 1\n",
      "Preprocessing data\n",
      "Fitting treatment outcomes\n",
      "Use model 0\n",
      "Use model 0\n",
      "Preprocessing data\n",
      "Fitting treatment outcomes\n",
      "Use model 1\n",
      "Use model 1\n",
      "Preprocessing data\n",
      "Fitting treatment outcomes\n",
      "Use model 0\n",
      "Use model 0\n",
      "Preprocessing data\n",
      "Fitting treatment outcomes\n",
      "Use model 1\n",
      "Use model 1\n",
      "Preprocessing data\n",
      "Fitting treatment outcomes\n",
      "Use model 0\n",
      "Use model 0\n",
      "Preprocessing data\n",
      "Fitting treatment outcomes\n",
      "Use model 1\n",
      "Use model 1\n",
      "Preprocessing data\n",
      "Fitting treatment outcomes\n",
      "Use model 1\n",
      "Use model 1\n",
      "Preprocessing data\n",
      "Fitting treatment outcomes\n",
      "Use model 0\n",
      "Use model 0\n",
      "Preprocessing data\n",
      "Fitting treatment outcomes\n",
      "Use model 1\n",
      "Use model 1\n",
      "Preprocessing data\n",
      "Fitting treatment outcomes\n",
      "Use model 1\n",
      "Use model 1\n",
      "Preprocessing data\n",
      "Fitting treatment outcomes\n",
      "Use model 1\n",
      "Use model 1\n",
      "Preprocessing data\n",
      "Fitting treatment outcomes\n",
      "Use model 0\n",
      "Use model 0\n",
      "Preprocessing data\n",
      "Fitting treatment outcomes\n",
      "Use model 1\n",
      "Use model 1\n",
      "Preprocessing data\n",
      "Fitting treatment outcomes\n",
      "Use model 0\n",
      "Use model 0\n",
      "Preprocessing data\n",
      "Fitting treatment outcomes\n",
      "Use model 0\n",
      "Use model 0\n",
      "Preprocessing data\n",
      "Fitting treatment outcomes\n",
      "Use model 1\n",
      "Use model 1\n",
      "Preprocessing data\n",
      "Fitting treatment outcomes\n",
      "Use model 1\n",
      "Use model 1\n",
      "Preprocessing data\n",
      "Fitting treatment outcomes\n",
      "Preprocessing data\n",
      "Fitting treatment outcomes\n",
      "Use model 0\n",
      "Use model 0\n",
      "Preprocessing data\n",
      "Fitting treatment outcomes\n",
      "Use model 1\n",
      "Use model 1\n",
      "Preprocessing data\n",
      "Fitting treatment outcomes\n",
      "Use model 1\n",
      "Use model 1\n",
      "Preprocessing data\n",
      "Fitting treatment outcomes\n",
      "Use model 0\n",
      "Use model 0\n",
      "Preprocessing data\n"
     ]
    },
    {
     "name": "stdout",
     "output_type": "stream",
     "text": [
      "Fitting treatment outcomes\n",
      "Use model 0\n",
      "Use model 0\n",
      "Preprocessing data\n",
      "Fitting treatment outcomes\n",
      "Use model 0\n",
      "Use model 0\n",
      "Preprocessing data\n",
      "Fitting treatment outcomes\n",
      "Use model 0\n",
      "Use model 0\n",
      "Preprocessing data\n",
      "Fitting treatment outcomes\n",
      "Use model 0\n",
      "Use model 0\n",
      "Preprocessing data\n",
      "Fitting treatment outcomes\n",
      "Use model 1\n",
      "Use model 1\n",
      "Preprocessing data\n",
      "Fitting treatment outcomes\n",
      "Use model 1\n",
      "Use model 1\n",
      "Preprocessing data\n",
      "Fitting treatment outcomes\n",
      "Use model 1\n",
      "Use model 1\n",
      "Preprocessing data\n",
      "Fitting treatment outcomes\n",
      "Use model 1\n",
      "Use model 1\n",
      "Preprocessing data\n",
      "Fitting treatment outcomes\n",
      "Use model 0\n",
      "Use model 0\n",
      "Preprocessing data\n",
      "Fitting treatment outcomes\n",
      "Use model 1\n",
      "Use model 1\n",
      "Preprocessing data\n",
      "Fitting treatment outcomes\n",
      "Use model 1\n",
      "Use model 1\n",
      "Preprocessing data\n",
      "Fitting treatment outcomes\n",
      "Use model 0\n",
      "Use model 0\n",
      "Preprocessing data\n",
      "Fitting treatment outcomes\n",
      "Use model 0\n",
      "Use model 0\n",
      "Preprocessing data\n",
      "Fitting treatment outcomes\n",
      "Use model 1\n",
      "Use model 1\n",
      "Preprocessing data\n",
      "Fitting treatment outcomes\n",
      "Use model 0\n",
      "Use model 0\n",
      "Preprocessing data\n",
      "Fitting treatment outcomes\n",
      "Use model 1\n",
      "Use model 1\n",
      "Preprocessing data\n",
      "Fitting treatment outcomes\n",
      "Preprocessing data\n",
      "Fitting treatment outcomes\n",
      "Use model 0\n",
      "Use model 0\n",
      "Preprocessing data\n",
      "Fitting treatment outcomes\n",
      "Use model 0\n",
      "Use model 0\n",
      "Preprocessing data\n",
      "Fitting treatment outcomes\n",
      "Use model 1\n",
      "Use model 1\n",
      "Preprocessing data\n",
      "Fitting treatment outcomes\n",
      "Use model 0\n",
      "Use model 0\n",
      "Preprocessing data\n",
      "Fitting treatment outcomes\n",
      "Use model 0\n",
      "Use model 0\n",
      "Preprocessing data\n",
      "Fitting treatment outcomes\n",
      "Use model 1\n",
      "Use model 1\n",
      "Preprocessing data\n",
      "Fitting treatment outcomes\n",
      "Use model 1\n",
      "Use model 1\n",
      "Preprocessing data\n",
      "Fitting treatment outcomes\n",
      "Use model 0\n",
      "Use model 0\n",
      "Preprocessing data\n",
      "Fitting treatment outcomes\n",
      "Use model 0\n",
      "Use model 0\n",
      "Preprocessing data\n",
      "Fitting treatment outcomes\n",
      "Use model 1\n",
      "Use model 1\n",
      "Preprocessing data\n",
      "Fitting treatment outcomes\n",
      "Use model 0\n",
      "Use model 0\n",
      "Preprocessing data\n",
      "Fitting treatment outcomes\n",
      "Use model 0\n",
      "Use model 0\n",
      "Preprocessing data\n",
      "Fitting treatment outcomes\n",
      "Use model 1\n",
      "Use model 1\n",
      "Preprocessing data\n",
      "Fitting treatment outcomes\n",
      "Use model 1\n",
      "Use model 1\n",
      "Preprocessing data\n",
      "Fitting treatment outcomes\n",
      "Use model 1\n",
      "Use model 1\n",
      "Preprocessing data\n",
      "Fitting treatment outcomes\n",
      "Use model 1\n",
      "Use model 1\n",
      "Preprocessing data\n",
      "Fitting treatment outcomes\n",
      "Use model 1\n",
      "Use model 1\n",
      "Preprocessing data\n",
      "Fitting treatment outcomes\n",
      "Use model 0\n",
      "Use model 0\n",
      "Preprocessing data\n",
      "Fitting treatment outcomes\n",
      "Use model 1\n",
      "Use model 1\n",
      "Preprocessing data\n",
      "Fitting treatment outcomes\n",
      "Use model 0\n",
      "Use model 0\n",
      "Preprocessing data\n",
      "Fitting treatment outcomes\n",
      "Preprocessing data\n",
      "Fitting treatment outcomes\n",
      "Use model 1\n",
      "Use model 1\n",
      "Preprocessing data\n",
      "Fitting treatment outcomes\n",
      "Use model 1\n",
      "Use model 1\n",
      "Preprocessing data\n",
      "Fitting treatment outcomes\n",
      "Use model 1\n",
      "Use model 1\n",
      "Preprocessing data\n",
      "Fitting treatment outcomes\n",
      "Use model 0\n",
      "Use model 0\n",
      "Preprocessing data\n",
      "Fitting treatment outcomes\n",
      "Use model 1\n",
      "Use model 1\n",
      "Preprocessing data\n",
      "Fitting treatment outcomes\n",
      "Use model 1\n",
      "Use model 1\n",
      "Preprocessing data\n",
      "Fitting treatment outcomes\n",
      "Use model 0\n",
      "Use model 0\n",
      "Preprocessing data\n",
      "Fitting treatment outcomes\n",
      "Use model 0\n",
      "Use model 0\n",
      "Preprocessing data\n",
      "Fitting treatment outcomes\n",
      "Use model 0\n",
      "Use model 0\n",
      "Preprocessing data\n",
      "Fitting treatment outcomes\n",
      "Use model 1\n",
      "Use model 1\n",
      "Preprocessing data\n",
      "Fitting treatment outcomes\n",
      "Use model 1\n",
      "Use model 1\n",
      "Preprocessing data\n",
      "Fitting treatment outcomes\n",
      "Use model 0\n",
      "Use model 0\n",
      "Preprocessing data\n",
      "Fitting treatment outcomes\n",
      "Use model 0\n",
      "Use model 0\n",
      "Preprocessing data\n",
      "Fitting treatment outcomes\n",
      "Use model 1\n",
      "Use model 1\n",
      "Preprocessing data\n",
      "Fitting treatment outcomes\n",
      "Use model 0\n",
      "Use model 0\n",
      "Preprocessing data\n",
      "Fitting treatment outcomes\n",
      "Use model 1\n",
      "Use model 1\n",
      "Preprocessing data\n",
      "Fitting treatment outcomes\n",
      "Use model 1\n",
      "Use model 1\n",
      "Preprocessing data\n",
      "Fitting treatment outcomes\n",
      "Use model 0\n",
      "Use model 0\n",
      "Preprocessing data\n",
      "Fitting treatment outcomes\n",
      "Use model 1\n",
      "Use model 1\n",
      "Preprocessing data\n",
      "Fitting treatment outcomes\n",
      "Use model 0\n",
      "Use model 0\n",
      "Preprocessing data\n",
      "Fitting treatment outcomes\n",
      "Preprocessing data\n",
      "Fitting treatment outcomes\n",
      "Use model 1\n",
      "Use model 1\n",
      "Preprocessing data\n",
      "Fitting treatment outcomes\n",
      "Use model 1\n",
      "Use model 1\n",
      "Preprocessing data\n",
      "Fitting treatment outcomes\n",
      "Use model 1\n",
      "Use model 1\n",
      "Preprocessing data\n",
      "Fitting treatment outcomes\n",
      "Use model 0\n",
      "Use model 0\n",
      "Preprocessing data\n",
      "Fitting treatment outcomes\n",
      "Use model 0\n",
      "Use model 0\n",
      "Preprocessing data\n",
      "Fitting treatment outcomes\n",
      "Use model 1\n",
      "Use model 1\n",
      "Preprocessing data\n",
      "Fitting treatment outcomes\n",
      "Use model 0\n",
      "Use model 0\n",
      "Preprocessing data\n",
      "Fitting treatment outcomes\n",
      "Use model 0\n",
      "Use model 0\n",
      "Preprocessing data\n",
      "Fitting treatment outcomes\n",
      "Use model 0\n",
      "Use model 0\n",
      "Preprocessing data\n",
      "Fitting treatment outcomes\n",
      "Use model 0\n",
      "Use model 0\n",
      "Preprocessing data\n",
      "Fitting treatment outcomes\n",
      "Use model 0\n",
      "Use model 0\n",
      "Preprocessing data\n",
      "Fitting treatment outcomes\n",
      "Use model 0\n",
      "Use model 0\n",
      "Preprocessing data\n",
      "Fitting treatment outcomes\n",
      "Use model 1\n",
      "Use model 1\n",
      "Preprocessing data\n",
      "Fitting treatment outcomes\n",
      "Use model 1\n",
      "Use model 1\n",
      "Preprocessing data\n",
      "Fitting treatment outcomes\n",
      "Use model 0\n",
      "Use model 0\n",
      "Preprocessing data\n",
      "Fitting treatment outcomes\n",
      "Use model 0\n",
      "Use model 0\n",
      "Preprocessing data\n",
      "Fitting treatment outcomes\n",
      "Use model 0\n",
      "Use model 0\n",
      "Preprocessing data\n",
      "Fitting treatment outcomes\n",
      "Use model 0\n",
      "Use model 0\n",
      "Preprocessing data\n",
      "Fitting treatment outcomes\n",
      "Use model 0\n",
      "Use model 0\n",
      "Preprocessing data\n",
      "Fitting treatment outcomes\n",
      "Use model 0\n",
      "Use model 0\n",
      "Preprocessing data\n",
      "Fitting treatment outcomes\n",
      "Preprocessing data\n",
      "Fitting treatment outcomes\n",
      "Use model 1\n",
      "Use model 1\n",
      "Preprocessing data\n",
      "Fitting treatment outcomes\n",
      "Use model 0\n",
      "Use model 0\n",
      "Preprocessing data\n",
      "Fitting treatment outcomes\n",
      "Use model 0\n",
      "Use model 0\n",
      "Preprocessing data\n",
      "Fitting treatment outcomes\n",
      "Use model 1\n",
      "Use model 1\n",
      "Preprocessing data\n",
      "Fitting treatment outcomes\n",
      "Use model 0\n",
      "Use model 0\n",
      "Preprocessing data\n",
      "Fitting treatment outcomes\n",
      "Use model 0\n",
      "Use model 0\n",
      "Preprocessing data\n",
      "Fitting treatment outcomes\n",
      "Use model 0\n",
      "Use model 0\n",
      "Preprocessing data\n",
      "Fitting treatment outcomes\n",
      "Use model 1\n",
      "Use model 1\n",
      "Preprocessing data\n",
      "Fitting treatment outcomes\n",
      "Use model 1\n",
      "Use model 1\n",
      "Preprocessing data\n",
      "Fitting treatment outcomes\n",
      "Use model 1\n",
      "Use model 1\n",
      "Preprocessing data\n",
      "Fitting treatment outcomes\n",
      "Use model 1\n",
      "Use model 1\n",
      "Preprocessing data\n",
      "Fitting treatment outcomes\n",
      "Use model 1\n",
      "Use model 1\n",
      "Preprocessing data\n",
      "Fitting treatment outcomes\n",
      "Use model 1\n",
      "Use model 1\n",
      "Preprocessing data\n",
      "Fitting treatment outcomes\n",
      "Use model 0\n",
      "Use model 0\n",
      "Preprocessing data\n",
      "Fitting treatment outcomes\n",
      "Use model 0\n",
      "Use model 0\n",
      "Preprocessing data\n",
      "Fitting treatment outcomes\n",
      "Use model 1\n",
      "Use model 1\n",
      "Preprocessing data\n",
      "Fitting treatment outcomes\n",
      "Use model 1\n",
      "Use model 1\n",
      "Preprocessing data\n",
      "Fitting treatment outcomes\n",
      "Use model 0\n",
      "Use model 0\n",
      "Preprocessing data\n",
      "Fitting treatment outcomes\n",
      "Use model 1\n",
      "Use model 1\n",
      "Preprocessing data\n",
      "Fitting treatment outcomes\n",
      "Use model 0\n",
      "Use model 0\n",
      "Preprocessing data\n",
      "Fitting treatment outcomes\n",
      "Preprocessing data\n",
      "Fitting treatment outcomes\n",
      "Use model 0\n",
      "Use model 0\n",
      "Preprocessing data\n",
      "Fitting treatment outcomes\n",
      "Use model 0\n",
      "Use model 0\n",
      "Preprocessing data\n",
      "Fitting treatment outcomes\n",
      "Use model 1\n",
      "Use model 1\n",
      "Preprocessing data\n",
      "Fitting treatment outcomes\n",
      "Use model 1\n",
      "Use model 1\n",
      "Preprocessing data\n",
      "Fitting treatment outcomes\n",
      "Use model 1\n",
      "Use model 1\n",
      "Preprocessing data\n",
      "Fitting treatment outcomes\n",
      "Use model 1\n",
      "Use model 1\n",
      "Preprocessing data\n",
      "Fitting treatment outcomes\n",
      "Use model 0\n",
      "Use model 0\n",
      "Preprocessing data\n",
      "Fitting treatment outcomes\n",
      "Use model 1\n",
      "Use model 1\n",
      "Preprocessing data\n",
      "Fitting treatment outcomes\n",
      "Use model 1\n",
      "Use model 1\n",
      "Preprocessing data\n",
      "Fitting treatment outcomes\n",
      "Use model 0\n",
      "Use model 0\n",
      "Preprocessing data\n",
      "Fitting treatment outcomes\n",
      "Use model 0\n",
      "Use model 0\n",
      "Preprocessing data\n",
      "Fitting treatment outcomes\n",
      "Use model 1\n",
      "Use model 1\n",
      "Preprocessing data\n",
      "Fitting treatment outcomes\n",
      "Use model 1\n",
      "Use model 1\n",
      "Preprocessing data\n",
      "Fitting treatment outcomes\n",
      "Use model 0\n",
      "Use model 0\n",
      "Preprocessing data\n",
      "Fitting treatment outcomes\n",
      "Use model 0\n",
      "Use model 0\n",
      "Preprocessing data\n",
      "Fitting treatment outcomes\n",
      "Use model 0\n",
      "Use model 0\n",
      "Preprocessing data\n",
      "Fitting treatment outcomes\n",
      "Use model 1\n",
      "Use model 1\n",
      "Preprocessing data\n",
      "Fitting treatment outcomes\n",
      "Use model 1\n",
      "Use model 1\n",
      "Preprocessing data\n"
     ]
    },
    {
     "name": "stdout",
     "output_type": "stream",
     "text": [
      "Fitting treatment outcomes\n",
      "Use model 0\n",
      "Use model 0\n",
      "Preprocessing data\n",
      "Fitting treatment outcomes\n",
      "Use model 0\n",
      "Use model 0\n",
      "Preprocessing data\n",
      "Fitting treatment outcomes\n",
      "Preprocessing data\n",
      "Fitting treatment outcomes\n",
      "Use model 0\n",
      "Use model 0\n",
      "Preprocessing data\n",
      "Fitting treatment outcomes\n",
      "Use model 1\n",
      "Use model 1\n",
      "Preprocessing data\n",
      "Fitting treatment outcomes\n",
      "Use model 0\n",
      "Use model 0\n",
      "Preprocessing data\n",
      "Fitting treatment outcomes\n",
      "Use model 1\n",
      "Use model 1\n",
      "Preprocessing data\n",
      "Fitting treatment outcomes\n",
      "Use model 0\n",
      "Use model 0\n",
      "Preprocessing data\n",
      "Fitting treatment outcomes\n",
      "Use model 1\n",
      "Use model 1\n",
      "Preprocessing data\n",
      "Fitting treatment outcomes\n",
      "Use model 0\n",
      "Use model 0\n",
      "Preprocessing data\n",
      "Fitting treatment outcomes\n",
      "Use model 1\n",
      "Use model 1\n",
      "Preprocessing data\n",
      "Fitting treatment outcomes\n",
      "Use model 0\n",
      "Use model 0\n",
      "Preprocessing data\n",
      "Fitting treatment outcomes\n",
      "Use model 1\n",
      "Use model 1\n",
      "Preprocessing data\n",
      "Fitting treatment outcomes\n",
      "Use model 0\n",
      "Use model 0\n",
      "Preprocessing data\n",
      "Fitting treatment outcomes\n",
      "Use model 0\n",
      "Use model 0\n",
      "Preprocessing data\n",
      "Fitting treatment outcomes\n",
      "Use model 0\n",
      "Use model 0\n",
      "Preprocessing data\n",
      "Fitting treatment outcomes\n",
      "Use model 0\n",
      "Use model 0\n",
      "Preprocessing data\n",
      "Fitting treatment outcomes\n",
      "Use model 0\n",
      "Use model 0\n",
      "Preprocessing data\n",
      "Fitting treatment outcomes\n",
      "Use model 0\n",
      "Use model 0\n",
      "Preprocessing data\n",
      "Fitting treatment outcomes\n",
      "Use model 0\n",
      "Use model 0\n",
      "Preprocessing data\n",
      "Fitting treatment outcomes\n",
      "Use model 1\n",
      "Use model 1\n",
      "Preprocessing data\n",
      "Fitting treatment outcomes\n",
      "Use model 1\n",
      "Use model 1\n",
      "Preprocessing data\n",
      "Fitting treatment outcomes\n",
      "Use model 0\n",
      "Use model 0\n",
      "Preprocessing data\n",
      "Fitting treatment outcomes\n",
      "Preprocessing data\n",
      "Fitting treatment outcomes\n",
      "Use model 0\n",
      "Use model 0\n",
      "Preprocessing data\n",
      "Fitting treatment outcomes\n",
      "Use model 0\n",
      "Use model 0\n",
      "Preprocessing data\n",
      "Fitting treatment outcomes\n",
      "Use model 0\n",
      "Use model 0\n",
      "Preprocessing data\n",
      "Fitting treatment outcomes\n",
      "Use model 0\n",
      "Use model 0\n",
      "Preprocessing data\n",
      "Fitting treatment outcomes\n",
      "Use model 0\n",
      "Use model 0\n",
      "Preprocessing data\n",
      "Fitting treatment outcomes\n",
      "Use model 0\n",
      "Use model 0\n",
      "Preprocessing data\n",
      "Fitting treatment outcomes\n",
      "Use model 1\n",
      "Use model 1\n",
      "Preprocessing data\n",
      "Fitting treatment outcomes\n",
      "Use model 1\n",
      "Use model 1\n",
      "Preprocessing data\n",
      "Fitting treatment outcomes\n",
      "Use model 1\n",
      "Use model 1\n",
      "Preprocessing data\n",
      "Fitting treatment outcomes\n",
      "Use model 0\n",
      "Use model 0\n",
      "Preprocessing data\n",
      "Fitting treatment outcomes\n",
      "Use model 1\n",
      "Use model 1\n",
      "Preprocessing data\n",
      "Fitting treatment outcomes\n",
      "Use model 1\n",
      "Use model 1\n",
      "Preprocessing data\n",
      "Fitting treatment outcomes\n",
      "Use model 0\n",
      "Use model 0\n",
      "Preprocessing data\n",
      "Fitting treatment outcomes\n",
      "Use model 0\n",
      "Use model 0\n",
      "Preprocessing data\n",
      "Fitting treatment outcomes\n",
      "Use model 0\n",
      "Use model 0\n",
      "Preprocessing data\n",
      "Fitting treatment outcomes\n",
      "Use model 0\n",
      "Use model 0\n",
      "Preprocessing data\n",
      "Fitting treatment outcomes\n",
      "Use model 1\n",
      "Use model 1\n",
      "Preprocessing data\n",
      "Fitting treatment outcomes\n",
      "Use model 1\n",
      "Use model 1\n",
      "Preprocessing data\n",
      "Fitting treatment outcomes\n",
      "Use model 1\n",
      "Use model 1\n",
      "Preprocessing data\n",
      "Fitting treatment outcomes\n",
      "Use model 1\n",
      "Use model 1\n",
      "Preprocessing data\n",
      "Fitting treatment outcomes\n",
      "Preprocessing data\n",
      "Fitting treatment outcomes\n",
      "Use model 1\n",
      "Use model 1\n",
      "Preprocessing data\n",
      "Fitting treatment outcomes\n",
      "Use model 0\n",
      "Use model 0\n",
      "Preprocessing data\n",
      "Fitting treatment outcomes\n",
      "Use model 0\n",
      "Use model 0\n",
      "Preprocessing data\n",
      "Fitting treatment outcomes\n",
      "Use model 0\n",
      "Use model 0\n",
      "Preprocessing data\n",
      "Fitting treatment outcomes\n",
      "Use model 0\n",
      "Use model 0\n",
      "Preprocessing data\n",
      "Fitting treatment outcomes\n",
      "Use model 0\n",
      "Use model 0\n",
      "Preprocessing data\n",
      "Fitting treatment outcomes\n",
      "Use model 0\n",
      "Use model 0\n",
      "Preprocessing data\n",
      "Fitting treatment outcomes\n",
      "Use model 1\n",
      "Use model 1\n",
      "Preprocessing data\n",
      "Fitting treatment outcomes\n",
      "Use model 1\n",
      "Use model 1\n",
      "Preprocessing data\n",
      "Fitting treatment outcomes\n",
      "Use model 1\n",
      "Use model 1\n",
      "Preprocessing data\n",
      "Fitting treatment outcomes\n",
      "Use model 1\n",
      "Use model 1\n",
      "Preprocessing data\n",
      "Fitting treatment outcomes\n",
      "Use model 1\n",
      "Use model 1\n",
      "Preprocessing data\n",
      "Fitting treatment outcomes\n",
      "Use model 0\n",
      "Use model 0\n",
      "Preprocessing data\n",
      "Fitting treatment outcomes\n",
      "Use model 0\n",
      "Use model 0\n",
      "Preprocessing data\n",
      "Fitting treatment outcomes\n",
      "Use model 1\n",
      "Use model 1\n",
      "Preprocessing data\n",
      "Fitting treatment outcomes\n",
      "Use model 1\n",
      "Use model 1\n",
      "Preprocessing data\n",
      "Fitting treatment outcomes\n",
      "Use model 1\n",
      "Use model 1\n",
      "Preprocessing data\n",
      "Fitting treatment outcomes\n",
      "Use model 1\n",
      "Use model 1\n",
      "Preprocessing data\n",
      "Fitting treatment outcomes\n",
      "Use model 1\n",
      "Use model 1\n",
      "Preprocessing data\n",
      "Fitting treatment outcomes\n",
      "Use model 0\n",
      "Use model 0\n",
      "Preprocessing data\n",
      "Fitting treatment outcomes\n",
      "Done with n = 9\n",
      "Utility percentiles(2.5, 50, 97.5):  [0.289125 0.43     0.571   ]\n",
      "Percentage of treatments percentiles(2.5, 50, 97.5):  [0.3225 0.45   0.6775]\n"
     ]
    }
   ],
   "source": [
    "import LogisticRecommenderCluster\n",
    "policy_factory_logistic_cluster = LogisticRecommenderCluster.LogisticRecommenderCluster\n",
    "\n",
    "# Old code so is hardcoded to (5,2) layers\n",
    "import NNRecommenderCluster\n",
    "policy_factory_NN_cluster = NNRecommenderCluster.NNRecommenderCluster\n",
    "\n",
    "N = 10\n",
    "T = 20\n",
    "\n",
    "print(\"Logistic cluster: \")\n",
    "create_CI(generator, policy_factory_logistic_cluster, reward_function, T, N, features, actions, outcome)\n",
    "\n",
    "print(\"NN cluster(5,2): \")\n",
    "create_CI(generator, policy_factory_NN_cluster, reward_function, T, N, features, actions, outcome)"
   ]
  },
  {
   "cell_type": "markdown",
   "metadata": {},
   "source": [
    "To summarize the results from this exercise we have made a table. Note that the numbers might be different than the numbers above. That is becaue we have not fixed a seed so the values change slightly each time you run the code. However, since we run the code 100 times each time the differences are miniscue.\n",
    "\n",
    "![title](Table1.png)\n",
    "\n",
    "From the table we see that the historical recommender and the improved recommenders perform at the same level as in the previous part. When we look at the utility confidence intervals of our improved policies we see that they overlap quite a lot. This means that the models are equally good. However, one should note that the neural network recommends the drug less often but obtain the same utility. That is, the Neural Network is better at detecting patients who will respond positive to the treatment than the logistic. The logistic recommends the treatment more, so they treat more pacients but they also get more patients which doesn't respond to the treatment. Here it would have been interesting to change the penalty and see if this influence the utility. One could also here look at a confusion matrix, to analyze the percentages of false-positve, false-negative, true-positve and true-negative.\n",
    "\n",
    "The clustered versions yield approximately the same results, and hence we have omitted them from the table.\n",
    "\n",
    "One should also note that our improved policies are not far from the the optimal values.\n",
    "\n",
    "The fact that by always recommending the treatment we can obtain an utility which is this close to the optimal utility is quite worring. At least in the setting where the vague terms treatments represent drugs. If we are in the case where the treatment is a sunscreen and the placebo is body lotion this \n",
    "giving the medicin results in a 95% percentile of the optimal value might it scary. \n"
   ]
  },
  {
   "cell_type": "markdown",
   "metadata": {},
   "source": [
    "### Exercise 4 - adaptive experiments\n",
    "\n",
    "In this exercise we are going to look at addaptive models. That is, we let our models observe the outcome of their recommendations such that they can learn from them. Since we have used supervised methods this implies that we have to refit our model with the new data. There is probably a better way to do this, since refitting the models take a long time. One should also note that new observations might drown in the old data in the method we have used. Here one might adress issues such as whether one should weight the most resent data higher than the old data. We have not adressed this issue.\n",
    "\n",
    "We will consider two scenarios. In the first scenario we have still only the placebo and the treatment. In the second scenario we introduced the other treatments. That is, we now have 129 treatments: 1 placebo, 2 general treatments and 126 gene specific treatments. Note that we in this scenario we do not have any data for the new treatments. Thus, one have to explore these new treatments and look at the results. This is "
   ]
  },
  {
   "cell_type": "code",
   "execution_count": null,
   "metadata": {
    "collapsed": true
   },
   "outputs": [],
   "source": [
    "\n",
    "\n",
    "\n"
   ]
  },
  {
   "cell_type": "markdown",
   "metadata": {},
   "source": [
    "![title](Table2.png)\n",
    "![title](Table3.png)"
   ]
  },
  {
   "cell_type": "code",
   "execution_count": null,
   "metadata": {
    "collapsed": true
   },
   "outputs": [],
   "source": []
  },
  {
   "cell_type": "code",
   "execution_count": null,
   "metadata": {
    "collapsed": true
   },
   "outputs": [],
   "source": []
  },
  {
   "cell_type": "code",
   "execution_count": null,
   "metadata": {
    "collapsed": true
   },
   "outputs": [],
   "source": []
  },
  {
   "cell_type": "code",
   "execution_count": null,
   "metadata": {
    "collapsed": true
   },
   "outputs": [],
   "source": []
  },
  {
   "cell_type": "code",
   "execution_count": null,
   "metadata": {
    "collapsed": true
   },
   "outputs": [],
   "source": []
  }
 ],
 "metadata": {
  "kernelspec": {
   "display_name": "Python 3",
   "language": "python",
   "name": "python3"
  },
  "language_info": {
   "codemirror_mode": {
    "name": "ipython",
    "version": 3
   },
   "file_extension": ".py",
   "mimetype": "text/x-python",
   "name": "python",
   "nbconvert_exporter": "python",
   "pygments_lexer": "ipython3",
   "version": "3.6.1"
  }
 },
 "nbformat": 4,
 "nbformat_minor": 2
}
