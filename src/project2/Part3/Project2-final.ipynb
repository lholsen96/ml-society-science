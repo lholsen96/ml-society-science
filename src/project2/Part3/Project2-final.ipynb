{
 "cells": [
  {
   "cell_type": "markdown",
   "metadata": {},
   "source": [
    "# Medical Project\n",
    "\n",
    "### Lars Olsen and Oda Kristensen\n",
    "\n",
    "## Part One - Historical Data\n",
    "In this project we are given a dataset of 10 000 patients. Each patient $\\textit{t}$ has attributes $x_t = \\{x_{t,1},x_{t,2},\\dots, x_{t,130}\\}$, where $x_{t,1}$ represents the gender, $x_{t,2}$ represents whether or not the patient smoke, $\\{x_{t,3},\\dots,x_{t,128}\\}$ represents the patient's genes and $\\{x_{t,129},x_{t,130}\\}$ represents the symptoms the patient displays. Note that all the variables are binary, that is $x_{t, \\cdot } \\in \\{ 0,1\\}$. We are also given the historical action $a_t \\in \\{ 0,1\\}$ which represents whether the patient was given a placebo or an active treatment, respectively. Finally, we are given the historical outcome $y_t\\in \\{ 0,1\\}$, whether the patient displayed measurable effects after the treatment. Note that later in the project, part 3, we will expand the action variable to take on values between 0 and 129, that is, $a_t \\in \\{ 0,1,2,\\dots,129\\}$. Where action 2 represents a new general treatment while the remaining treatments are gene specific treatments. I.e. they are more effective if the patient has certain genes.\n",
    "\n",
    "Throughout this project we want to find a policy that maximizes the utility, given by the mean of the rewards. \n",
    "$$\\text{Utility} = \\frac{1}{T}\\sum_t^T r_t = \\frac{1}{T}\\sum_t^T (-0.1a_t + y_t).$$\n",
    "\n",
    "The reward function implies that there is a small penalty associated with the use of an active treatment. Thus, the policy should be somewhat certain that an active treatment will yield a positive result before recommending it. If we omit this term, all our models recommend the active treatment 100% of the time, since the estimated reward of the treatment is higher than the placebo, as we will come back to soon. This penalty can reflect the cost of a treatment. Say that treatment 1 is cheaper than treatment 2, but the second treatment is more effective. Then we should use the cheaper treatment when that treatment will give as good a result (or better) as the more expensive treatment. Otherwise we will use the more expensive treatment. The penalty term may also reflect that there are side effects of the treatment. \n",
    "\n",
    "Later, when we introduce the new actions we let the penalty be the same for all active treatments. That is, we do not use the value of $a_t$, but apply the penalty of $-0.1$ if we use an active treatment. It is not realistic that all the treatments have the same cost, but if we use the reward function above, we get that $a_t = 100$ will yield a reward of $-10$ or $-9$ depending on the outcome. Since we want to maximize the utility we will never end up using the actions corrensponding to a high $a_t$. We did not want to make up random cost for each treatment, hence we choose a fixed cost for all the active treatments. We will still let the placebo treatment have a penalty of 0. \n",
    "\n",
    "First, we need to do some data exploration. We try clustering the data with the k-means algorithm. We also check if we can find the most important features for disease epidimology. "
   ]
  },
  {
   "cell_type": "markdown",
   "metadata": {},
   "source": [
    "We start by importing some packages and modules:"
   ]
  },
  {
   "cell_type": "code",
   "execution_count": 25,
   "metadata": {},
   "outputs": [],
   "source": [
    "import pandas as pd\n",
    "import numpy as np\n",
    "import seaborn as sns\n",
    "import matplotlib.pyplot as plt\n",
    "\n",
    "%matplotlib inline\n",
    "\n",
    "from sklearn.model_selection import train_test_split\n",
    "from sklearn.cluster import KMeans\n",
    "\n",
    "from sklearn.metrics import silhouette_score\n",
    "from sklearn.feature_selection import SelectKBest, chi2"
   ]
  },
  {
   "cell_type": "markdown",
   "metadata": {},
   "source": [
    "We read the files:"
   ]
  },
  {
   "cell_type": "code",
   "execution_count": 2,
   "metadata": {},
   "outputs": [],
   "source": [
    "features = pd.read_csv('historical_X.dat', header=None, sep=\" \").values\n",
    "actions = pd.read_csv('historical_A.dat', header=None, sep=\" \").values\n",
    "outcome = pd.read_csv('historical_Y.dat', header=None, sep=\" \").values"
   ]
  },
  {
   "cell_type": "markdown",
   "metadata": {},
   "source": [
    "In this part of the project we are only interested in the features. The first 128 features are sex, smoker and 126 genes. The two last attributes are the symptoms and these can be taken to be akin to labels in supervised learning. First, we try to categorize the patients by what symptoms they display. There are four possible combinations of symptoms. If a patient displays no symptoms, we put him in category 0. If he displays only the first symptom, we put him in category 1. If he displays only the second symptom, we put him in category 2, and if he displays both symptoms, we put him in category 3. "
   ]
  },
  {
   "cell_type": "code",
   "execution_count": 3,
   "metadata": {},
   "outputs": [],
   "source": [
    "observations = features[:, :128]\n",
    "labels = features[:,128] + features[:,129]*2"
   ]
  },
  {
   "cell_type": "markdown",
   "metadata": {},
   "source": [
    "We take a look at the observations of the 1st pacient, sex = 0, and non smoker."
   ]
  },
  {
   "cell_type": "code",
   "execution_count": 4,
   "metadata": {},
   "outputs": [
    {
     "data": {
      "text/plain": [
       "array([0, 0, 0, 0, 1, 1, 0, 0, 1, 1, 0, 1, 0, 0, 0, 0, 1, 0, 1, 1, 1, 1,\n",
       "       0, 1, 1, 0, 1, 1, 0, 0, 0, 0, 1, 1, 0, 1, 1, 0, 0, 0, 0, 0, 0, 0,\n",
       "       1, 1, 0, 0, 1, 0, 1, 0, 1, 0, 1, 0, 0, 0, 0, 1, 1, 1, 1, 0, 1, 1,\n",
       "       1, 1, 0, 0, 0, 1, 0, 1, 0, 1, 0, 0, 0, 0, 1, 0, 0, 0, 0, 1, 0, 1,\n",
       "       0, 1, 1, 0, 0, 1, 0, 0, 1, 0, 0, 1, 1, 1, 1, 0, 1, 0, 1, 0, 1, 1,\n",
       "       1, 1, 1, 0, 1, 1, 0, 0, 0, 0, 0, 1, 1, 0, 1, 1, 0, 0], dtype=int64)"
      ]
     },
     "execution_count": 4,
     "metadata": {},
     "output_type": "execute_result"
    }
   ],
   "source": [
    "observations[0]"
   ]
  },
  {
   "cell_type": "markdown",
   "metadata": {},
   "source": [
    "We divide our data set into a traing set and a test set."
   ]
  },
  {
   "cell_type": "code",
   "execution_count": 5,
   "metadata": {},
   "outputs": [],
   "source": [
    "obs_train, obs_test, lab_train, lab_test = train_test_split(observations, labels, test_size=0.25)"
   ]
  },
  {
   "cell_type": "markdown",
   "metadata": {},
   "source": [
    "Let's look at the distribution of symptoms:"
   ]
  },
  {
   "cell_type": "code",
   "execution_count": 6,
   "metadata": {},
   "outputs": [
    {
     "data": {
      "image/png": "[encoded data removed]",
      "text/plain": [
       "<Figure size 432x288 with 1 Axes>"
      ]
     },
     "metadata": {},
     "output_type": "display_data"
    }
   ],
   "source": [
    "plt.hist(lab_train)\n",
    "plt.show()"
   ]
  },
  {
   "cell_type": "markdown",
   "metadata": {},
   "source": [
    "We now take a look at the histogram of observation. "
   ]
  },
  {
   "cell_type": "code",
   "execution_count": 7,
   "metadata": {},
   "outputs": [
    {
     "data": {
      "image/png": "[encoded data removed]",
      "text/plain": [
       "<Figure size 432x288 with 1 Axes>"
      ]
     },
     "metadata": {},
     "output_type": "display_data"
    }
   ],
   "source": [
    "plt.hist(obs_train)\n",
    "plt.show()"
   ]
  },
  {
   "cell_type": "markdown",
   "metadata": {},
   "source": [
    "#### Explorative discussion (may be skipped)\n",
    "We talked to Summaya Mumtaz in the lab and she said that from this plot we could se that there are two clusters. We are not sure how she did that. From the definition of the data, the features only take values 0 or 1. If we look at only one attribute at the time we agreee that there are two clusters. Take $x_2$, either the patient smokes ($x_2=1$) or not ($x_2=0$), so we have two clusters of patients. But when we have more dimensions, there are a lot more possible combinations, and so a lot more possible clusters. Since we have 128 features, with two possible values each, there are $2^{128}$ possible, unique patients. We want to examine if we can find some pattern in the data, i.e if there we can divide the patients into different clusters. We use the k-means algorithm to divide the data into $$k$$ clusters, and find optimal $$k$$ by silhouette score and elbow method of k-means score. \n",
    "Say we look at the two first attributes. Then a person can be either male or female and they can smoke or not smoke, i.e. we have four potential combinations. Think of a square with a cluster in each corner. obviously it can be that there are no female smokers. Then we have three clusters. Then we can think of the clusters as being on a line. Male smokers are more similar to male non-smokers than female non-smokers, and male non-smokers are equally similar to both (assuming equal weighting of the attributes). So we have \"male smokers\" -- \"male non-smokers\" -- \"female non-smokers\". In a hypercube we would still have clusters in each corner, and this gives us $2^{128}$ potential clusters. This is an astronomical number. So we must assume that there is pattern in the data, which will lower this number.\n"
   ]
  },
  {
   "cell_type": "markdown",
   "metadata": {},
   "source": [
    "From the two histograms bellow we see that there are more people of the sex zero and more non-smokers."
   ]
  },
  {
   "cell_type": "code",
   "execution_count": 8,
   "metadata": {},
   "outputs": [
    {
     "name": "stderr",
     "output_type": "stream",
     "text": [
      "C:\\Users\\lars9\\Anaconda3\\lib\\site-packages\\matplotlib\\axes\\_axes.py:6462: UserWarning: The 'normed' kwarg is deprecated, and has been replaced by the 'density' kwarg.\n",
      "  warnings.warn(\"The 'normed' kwarg is deprecated, and has been \"\n"
     ]
    },
    {
     "data": {
      "image/png": "[encoded data removed]",
      "text/plain": [
       "<Figure size 432x288 with 1 Axes>"
      ]
     },
     "metadata": {},
     "output_type": "display_data"
    }
   ],
   "source": [
    "sns.distplot(obs_train[0])\n",
    "plt.show()"
   ]
  },
  {
   "cell_type": "code",
   "execution_count": 9,
   "metadata": {},
   "outputs": [
    {
     "name": "stderr",
     "output_type": "stream",
     "text": [
      "C:\\Users\\lars9\\Anaconda3\\lib\\site-packages\\matplotlib\\axes\\_axes.py:6462: UserWarning: The 'normed' kwarg is deprecated, and has been replaced by the 'density' kwarg.\n",
      "  warnings.warn(\"The 'normed' kwarg is deprecated, and has been \"\n"
     ]
    },
    {
     "data": {
      "image/png": "[encoded data removed]",
      "text/plain": [
       "<Figure size 432x288 with 1 Axes>"
      ]
     },
     "metadata": {},
     "output_type": "display_data"
    }
   ],
   "source": [
    "sns.distplot(obs_train[1])\n",
    "plt.show()"
   ]
  },
  {
   "cell_type": "markdown",
   "metadata": {},
   "source": [
    "Let's look at the proportions of smokers among sex 0. "
   ]
  },
  {
   "cell_type": "code",
   "execution_count": 10,
   "metadata": {},
   "outputs": [
    {
     "name": "stderr",
     "output_type": "stream",
     "text": [
      "C:\\Users\\lars9\\Anaconda3\\lib\\site-packages\\matplotlib\\axes\\_axes.py:6462: UserWarning: The 'normed' kwarg is deprecated, and has been replaced by the 'density' kwarg.\n",
      "  warnings.warn(\"The 'normed' kwarg is deprecated, and has been \"\n"
     ]
    },
    {
     "data": {
      "image/png": "[encoded data removed]",
      "text/plain": [
       "<Figure size 432x288 with 1 Axes>"
      ]
     },
     "metadata": {},
     "output_type": "display_data"
    }
   ],
   "source": [
    "sns.distplot(obs_train[1][obs_train[0] == 0])\n",
    "plt.show()"
   ]
  },
  {
   "cell_type": "markdown",
   "metadata": {},
   "source": [
    "Let's look at the proportions of smokers among sex 1."
   ]
  },
  {
   "cell_type": "code",
   "execution_count": 11,
   "metadata": {},
   "outputs": [
    {
     "name": "stderr",
     "output_type": "stream",
     "text": [
      "C:\\Users\\lars9\\Anaconda3\\lib\\site-packages\\matplotlib\\axes\\_axes.py:6462: UserWarning: The 'normed' kwarg is deprecated, and has been replaced by the 'density' kwarg.\n",
      "  warnings.warn(\"The 'normed' kwarg is deprecated, and has been \"\n"
     ]
    },
    {
     "data": {
      "image/png": "[encoded data removed]",
      "text/plain": [
       "<Figure size 432x288 with 1 Axes>"
      ]
     },
     "metadata": {},
     "output_type": "display_data"
    }
   ],
   "source": [
    "sns.distplot(obs_train[1][obs_train[0] == 1])\n",
    "plt.show()"
   ]
  },
  {
   "cell_type": "markdown",
   "metadata": {},
   "source": [
    "We see that there is a higher percentage of sex=0 that smoke than sex=1 that smoke."
   ]
  },
  {
   "cell_type": "markdown",
   "metadata": {},
   "source": [
    "### K-means and Optimal K\n",
    "We try to cluster the data using the k-means algorithm, and try a few different methods to find the optimal number of clusters, $k$."
   ]
  },
  {
   "cell_type": "code",
   "execution_count": 12,
   "metadata": {},
   "outputs": [
    {
     "name": "stdout",
     "output_type": "stream",
     "text": [
      "k =  1: Inertia = 239540.303200   Score = -79850.912267   Elbow = 79850.912267\n",
      "k =  2: Inertia = 217551.179908   Score = -72787.555318   Elbow = 36393.777659\n",
      "k =  3: Inertia = 205968.797886   Score = -68748.876434   Elbow = 22916.292145\n",
      "k =  4: Inertia = 197617.569763   Score = -66451.303391   Elbow = 16612.825848\n",
      "k =  5: Inertia = 191447.542229   Score = -64478.504827   Elbow = 12895.700965\n",
      "k =  6: Inertia = 186241.744263   Score = -62658.956506   Elbow = 10443.159418\n",
      "k =  7: Inertia = 181845.101811   Score = -61098.197257   Elbow = 8728.313894\n",
      "k =  8: Inertia = 177945.015793   Score = -59921.047013   Elbow = 7490.130877\n",
      "k =  9: Inertia = 174903.531138   Score = -58880.136150   Elbow = 6542.237350\n",
      "k = 10: Inertia = 172314.999372   Score = -58167.164673   Elbow = 5816.716467\n",
      "k = 11: Inertia = 169870.300780   Score = -57303.945625   Elbow = 5209.449602\n",
      "k = 12: Inertia = 167817.242421   Score = -56755.152357   Elbow = 4729.596030\n",
      "k = 13: Inertia = 165736.584281   Score = -56025.939353   Elbow = 4309.687643\n",
      "k = 14: Inertia = 163908.208439   Score = -55500.641863   Elbow = 3964.331562\n",
      "k = 15: Inertia = 162270.453356   Score = -54990.188905   Elbow = 3666.012594\n",
      "k = 16: Inertia = 160511.393235   Score = -54410.719166   Elbow = 3400.669948\n",
      "k = 17: Inertia = 158995.872353   Score = -53902.474760   Elbow = 3170.733809\n",
      "k = 18: Inertia = 157577.519129   Score = -53523.041385   Elbow = 2973.502299\n",
      "k = 19: Inertia = 156017.659168   Score = -53048.962193   Elbow = 2792.050642\n",
      "k = 20: Inertia = 154774.930182   Score = -52706.880045   Elbow = 2635.344002\n"
     ]
    }
   ],
   "source": [
    "elbows_score = np.zeros(21) \n",
    "for k in range(1,21):\n",
    "    kmeans_model = KMeans(n_clusters=k, random_state=1).fit(obs_train)\n",
    "    \n",
    "    # Sum of distances of samples to their closest cluster center.\n",
    "    inertia = kmeans_model.inertia_\n",
    "    \n",
    "    elbows_score[k] = -kmeans_model.score(obs_test)/k\n",
    "    \n",
    "    print(\"k = %2d: Inertia = %f   Score = %f   Elbow = %f\" % (k,inertia,kmeans_model.score(obs_test), elbows_score[k]))"
   ]
  },
  {
   "cell_type": "code",
   "execution_count": 13,
   "metadata": {},
   "outputs": [
    {
     "data": {
      "image/png": "[encoded data removed]",
      "text/plain": [
       "<Figure size 432x288 with 1 Axes>"
      ]
     },
     "metadata": {},
     "output_type": "display_data"
    }
   ],
   "source": [
    "# Let's plot the elbow score and look for the elbow\n",
    "# From the plot it looks like it is for either K=2 or K=3.\n",
    "x = np.array([i for i in range(1,21)])\n",
    "\n",
    "fig, ax = plt.subplots()\n",
    "ax.plot(x, elbows_score[1:21])\n",
    "\n",
    "ax.set(xlabel='Index', ylabel='Elbow score',\n",
    "       title='Elbow method')\n",
    "ax.grid()\n",
    "plt.show()"
   ]
  },
  {
   "cell_type": "markdown",
   "metadata": {},
   "source": [
    "We want the k-means score as high as possible.  The k with the best score is the k we should chose, i.e. the optimal number of clusters. The problem is that this score will keep incresing to zero when k increases. This is because score is calculated from the distance from each point to the closest cluster centroid. Inertia is the sum of the squared distances between the points inside of a cluster. Since the train and test data have the same possible values, the k-means score will keep decreasing until there are a cluster in each corner of the hypercube that defines the feature space. Because of this $2^{128}$ will (potentially) be the best k, if we use the k-means score as the criterion to chose $k$. Usually this score starts to level of, that the increase in absolute value decrease. So one can usually pick a resonable $k$. This is known as the elbow method.   "
   ]
  },
  {
   "cell_type": "markdown",
   "metadata": {},
   "source": [
    "Say that K = 2 is a nice treeshold. We take a closer look at K = 2."
   ]
  },
  {
   "cell_type": "code",
   "execution_count": 14,
   "metadata": {},
   "outputs": [],
   "source": [
    "kmeans_model = KMeans(n_clusters=2, random_state=1).fit(obs_train)"
   ]
  },
  {
   "cell_type": "code",
   "execution_count": 15,
   "metadata": {},
   "outputs": [
    {
     "data": {
      "text/plain": [
       "-72787.55531829562"
      ]
     },
     "execution_count": 15,
     "metadata": {},
     "output_type": "execute_result"
    }
   ],
   "source": [
    "kmeans_model.score(obs_test)"
   ]
  },
  {
   "cell_type": "code",
   "execution_count": 16,
   "metadata": {},
   "outputs": [
    {
     "name": "stdout",
     "output_type": "stream",
     "text": [
      "Number of people in cluster 0: 3709\n",
      "Number of people in cluster 1: 3791\n"
     ]
    }
   ],
   "source": [
    "for l in range(2):\n",
    "    print(\"Number of people in cluster %d: %d\" %(l,sum(kmeans_model.labels_ == l)))"
   ]
  },
  {
   "cell_type": "markdown",
   "metadata": {},
   "source": [
    "We see that the people are fairly divided between the clusters."
   ]
  },
  {
   "cell_type": "markdown",
   "metadata": {},
   "source": [
    "#### K-means Silhouette Analysis \n",
    "\n",
    "We will also look at the silhouette score as a tool to find the optimal $k$. The silhouette score is defined as follows \n",
    "\n",
    "$$ \\frac{(b - a)}{\\max(a, b)}$$\n",
    "where $a$ is the mean intra-cluster distance, and $b$ is the distance between the sample and the nearest cluster that the sample is not a part of. \n",
    "\n",
    "from this, we see that a silhouette scorea near +1 indicate that the sample is far away from the neighboring clusters. A value of 0 indicates that the sample is on or very close to the decision boundary between two neighboring clusters and negative values indicate that those samples might have been assigned to the wrong cluster. http://scikit-learn.org/stable/auto_examples/cluster/plot_kmeans_silhouette_analysis.html\n",
    "\n",
    "Using silhouette score as criterion for the optimal $k$, we want the silhouette score to be as big as possible. "
   ]
  },
  {
   "cell_type": "code",
   "execution_count": 17,
   "metadata": {
    "scrolled": true
   },
   "outputs": [
    {
     "name": "stdout",
     "output_type": "stream",
     "text": [
      "For n_clusters = 2 The average silhouette_score is : 0.08886993606224575\n",
      "For n_clusters = 3 The average silhouette_score is : 0.07389904607173357\n",
      "For n_clusters = 4 The average silhouette_score is : 0.06938099447933833\n",
      "For n_clusters = 5 The average silhouette_score is : 0.06583929336668182\n",
      "For n_clusters = 6 The average silhouette_score is : 0.06382818007952795\n",
      "For n_clusters = 7 The average silhouette_score is : 0.06379434840757288\n",
      "For n_clusters = 8 The average silhouette_score is : 0.06548722174042636\n",
      "For n_clusters = 9 The average silhouette_score is : 0.06418217499961712\n",
      "For n_clusters = 10 The average silhouette_score is : 0.06438648215882345\n"
     ]
    }
   ],
   "source": [
    "for n_clusters in range(2,11):\n",
    "    # Initialize the clusterer with n_clusters value and a random generator\n",
    "    # seed of 10 for reproducibility.\n",
    "    clusterer = KMeans(n_clusters=n_clusters, random_state=10)\n",
    "    cluster_labels = clusterer.fit_predict(obs_train)\n",
    "\n",
    "    # The silhouette_score gives the average value for all the samples.\n",
    "    # This gives a perspective into the density and separation of the formed\n",
    "    # clusters\n",
    "    silhouette_avg = silhouette_score(obs_train, cluster_labels)\n",
    "    print(\"For n_clusters =\", n_clusters,\n",
    "          \"The average silhouette_score is :\", silhouette_avg)"
   ]
  },
  {
   "cell_type": "markdown",
   "metadata": {},
   "source": [
    "From this, we see that we get the highest value of the silhouette score at $k = 2$, so if we use the silhouette score as the criterion, we should choose $k = 2$. For the rest of this project, we will use $k = 2$ when we use clustering. "
   ]
  },
  {
   "cell_type": "markdown",
   "metadata": {},
   "source": [
    "![title](SilhouetteScore.png)"
   ]
  },
  {
   "cell_type": "markdown",
   "metadata": {},
   "source": [
    "Let's try out Kmeans with 2 clusters."
   ]
  },
  {
   "cell_type": "code",
   "execution_count": 18,
   "metadata": {},
   "outputs": [],
   "source": [
    "kmeans_model = KMeans(n_clusters=2, random_state=1).fit(obs_train)"
   ]
  },
  {
   "cell_type": "code",
   "execution_count": 19,
   "metadata": {},
   "outputs": [
    {
     "data": {
      "text/plain": [
       "array([1, 0, 0, ..., 1, 1, 0])"
      ]
     },
     "execution_count": 19,
     "metadata": {},
     "output_type": "execute_result"
    }
   ],
   "source": [
    "kmeans_model.labels_"
   ]
  },
  {
   "cell_type": "code",
   "execution_count": 20,
   "metadata": {},
   "outputs": [],
   "source": [
    "train_obs_0 = obs_train[kmeans_model.labels_ == 0]\n",
    "train_obs_1 = obs_train[kmeans_model.labels_ == 1]\n",
    "train_lab_0 = lab_train[kmeans_model.labels_ == 0]\n",
    "train_lab_1 = lab_train[kmeans_model.labels_ == 1]"
   ]
  },
  {
   "cell_type": "markdown",
   "metadata": {},
   "source": [
    "We now plot the histogram and see that there are more people with symptom categories 1 and 3  in the 0 cluster. \n",
    "And there are more people with symptom categories 0 and 2 in cluster 1."
   ]
  },
  {
   "cell_type": "code",
   "execution_count": 21,
   "metadata": {},
   "outputs": [
    {
     "data": {
      "image/png": "[encoded data removed]",
      "text/plain": [
       "<Figure size 432x288 with 1 Axes>"
      ]
     },
     "metadata": {},
     "output_type": "display_data"
    }
   ],
   "source": [
    "plt.hist(train_lab_0)\n",
    "plt.show()"
   ]
  },
  {
   "cell_type": "code",
   "execution_count": 22,
   "metadata": {},
   "outputs": [
    {
     "data": {
      "image/png": "[encoded data removed]",
      "text/plain": [
       "<Figure size 432x288 with 1 Axes>"
      ]
     },
     "metadata": {},
     "output_type": "display_data"
    }
   ],
   "source": [
    "plt.hist(train_lab_1)\n",
    "plt.show()"
   ]
  },
  {
   "cell_type": "markdown",
   "metadata": {},
   "source": [
    "From the plots, we see that there are more patients in cluster 1 that experience symptoms, than in cluster 0. This may mean that the patients in cluster 1 are more ill than the patients in cluster 0. At least it means that the patients in cluster 1, on average, $\\textit{feel}$ more sick than the patients in cluster $0$.  "
   ]
  },
  {
   "cell_type": "markdown",
   "metadata": {},
   "source": [
    "### Feature selction on the historical data\n",
    "\n",
    "Here we use scikit learn's $\\texttt{SelectKBest}$ (https://scikit-learn.org/stable/modules/generated/sklearn.feature_selection.SelectKBest.html) to score the features using the $\\texttt{chi2}$ function. Chi-squared is suited for classification tasks with non-negative features, which fits our scenario. In the code below we look at both the 10 best scores and all the significant explanatory variables. From the printout we see that 102 of the variables are significant, that is, they have a p-value of less than 0.05. By the defintion of the p-value we expect some of these variables are included by chance.\n",
    "\n",
    "We have also created 250 trees from $\\texttt{ExtraTreesClassifier}$ and from this we look at the feature importances of each of the varaibles in this ensamble of trees. Here we see that there is an overlap with the results from the $\\texttt{SelectKBest}$-method. Both methods agree that $x_{130} = a, x_{128}, x_{129}, x_{102}$ are the 4 most important features, in descending order. That means that the treatment and the symptoms are the most important factors for whether or not the patient displays measurable effects after the treatment. The order of the other variables can be shifted in the two methods due to, e.g. high correlation between the variables, but we have not done any further investigation into that. \n",
    "\n",
    "Note that we included the actions here. This is strictly a part of the next question, but either way, we now know that the action is the most important feature."
   ]
  },
  {
   "cell_type": "code",
   "execution_count": 23,
   "metadata": {},
   "outputs": [
    {
     "data": {
      "text/plain": [
       "(10000, 131)"
      ]
     },
     "execution_count": 23,
     "metadata": {},
     "output_type": "execute_result"
    }
   ],
   "source": [
    "import pandas\n",
    "features2 = pandas.read_csv('historical_X.dat', header=None, sep=\" \")\n",
    "features2['a'] = pandas.read_csv('historical_A.dat', header=None, sep=\" \")\n",
    "\n",
    "X, y = features2.values, outcome\n",
    "X.shape"
   ]
  },
  {
   "cell_type": "code",
   "execution_count": 27,
   "metadata": {},
   "outputs": [
    {
     "name": "stdout",
     "output_type": "stream",
     "text": [
      "The 10 variables with best score: \n",
      "[130 128 129 102  55   5 126  44  52 101]\n",
      "[3753.63263455  617.44078638  504.95725172  270.78275622  207.93236283\n",
      "  200.7152214   192.89502425  174.65142505  165.34247839  161.54590066]\n",
      "\n",
      "The 102 most significant vairables\n",
      "[130 128 129 102  55   5 126  44  52 101  69 123  94 125   7  48  84  43\n",
      "  97  50  46   3   2  28  10  72  42  85  11  60  83  93 107 110  23 119\n",
      "  15  49  24 113  90  22  66  73  63  91 120  95  53  16 124  26 105  71\n",
      "  31  20  45 103  58  41  68  78  59  19  89 108  70  27  29  18 117  21\n",
      "  12  62  65  77  61  17 118 114 104  51  30 111  92 109  13  88  34  64\n",
      "  98  35   8  75  14  38  79  82 122  87  54   0]\n",
      "[0.00000000e+000 2.69388243e-136 7.93200355e-112 7.66146540e-061\n",
      " 3.88128940e-047 1.45799468e-045 7.42051836e-044 7.13389823e-040\n",
      " 7.70010748e-038 5.19873280e-037 3.77305985e-036 4.47491319e-036\n",
      " 6.35297613e-035 1.35183836e-033 5.10005660e-033 7.50601148e-033\n",
      " 2.95759765e-032 7.90761948e-032 1.66939946e-030 3.56119654e-030\n",
      " 1.45657621e-029 1.74220512e-029 2.92991312e-028 5.18434273e-027\n",
      " 2.08242011e-026 8.85935690e-026 3.46856264e-024 7.90899928e-024\n",
      " 1.65647408e-023 3.25479944e-022 6.01246332e-022 1.71389959e-021\n",
      " 5.31899755e-019 6.82335203e-019 1.67766006e-018 4.80860478e-017\n",
      " 1.72977601e-016 3.38779350e-016 4.39540455e-015 1.07964056e-014\n",
      " 1.12816851e-014 2.06271732e-014 1.02603396e-013 1.17547114e-013\n",
      " 4.47771942e-012 1.12136574e-011 1.53988629e-011 3.13637005e-011\n",
      " 4.50355639e-011 8.18201697e-011 9.16406437e-011 9.27057231e-011\n",
      " 2.40461685e-010 2.62444108e-010 3.79284305e-010 4.43381607e-010\n",
      " 7.29311738e-010 1.01494895e-009 2.03298215e-009 4.30979083e-009\n",
      " 6.19648811e-009 8.14485814e-009 1.07121951e-008 3.77179937e-008\n",
      " 5.75166824e-008 2.34781462e-007 4.30914558e-007 5.79182798e-007\n",
      " 5.80268020e-007 1.31455984e-006 4.01143881e-006 8.19761118e-006\n",
      " 1.22534327e-005 1.41655765e-005 1.50441802e-005 1.65305920e-005\n",
      " 2.93645317e-005 3.01271752e-005 3.58095598e-005 1.88313931e-004\n",
      " 2.54875941e-004 3.57877416e-004 5.77076415e-004 9.57272439e-004\n",
      " 1.20204348e-003 1.88107539e-003 2.25154127e-003 2.70523970e-003\n",
      " 2.92808566e-003 4.25046706e-003 4.82398210e-003 7.09734872e-003\n",
      " 7.52529621e-003 7.60004732e-003 7.72444571e-003 8.12511664e-003\n",
      " 8.39188331e-003 2.23261654e-002 3.31813859e-002 3.51647370e-002\n",
      " 4.29716540e-002 4.58646427e-002]\n"
     ]
    }
   ],
   "source": [
    "from sklearn.feature_selection import SelectKBest, chi2\n",
    "k_best = SelectKBest(chi2, k=2).fit(X, y)\n",
    "\n",
    "# Let's look at the 10 best scores\n",
    "# High score is better\n",
    "b = np.argsort(-k_best.scores_)[:10]\n",
    "print(\"The 10 variables with best score: \")\n",
    "print(b)\n",
    "print(k_best.scores_[b])\n",
    "\n",
    "# Let's look at the best p-values. A low p-value indicate that the explanatory variable is significant.\n",
    "# We set the significance limit at 0.05 = 5e-02\n",
    "print(\"\\nThe 102 most significant vairables\")\n",
    "b = np.argsort(k_best.pvalues_)[:102]\n",
    "print(b)\n",
    "print(k_best.pvalues_[b])\n"
   ]
  },
  {
   "cell_type": "markdown",
   "metadata": {},
   "source": [
    "Let's now look at the case where create an ensamble of 250 trees and look at the importance of the variables in these trees. "
   ]
  },
  {
   "cell_type": "code",
   "execution_count": 28,
   "metadata": {
    "scrolled": false
   },
   "outputs": [
    {
     "name": "stdout",
     "output_type": "stream",
     "text": [
      "The ten variables with highest scores:\n",
      "[130 128 129 102 101 127   5  23   7 126]\n",
      "[0.34049146 0.03828523 0.02930302 0.01922443 0.010168   0.01010108\n",
      " 0.00924306 0.00907907 0.00903429 0.0086236 ]\n"
     ]
    }
   ],
   "source": [
    "from sklearn.ensemble import ExtraTreesClassifier\n",
    "\n",
    "clf = ExtraTreesClassifier(n_estimators=250)\n",
    "clf = clf.fit(X, np.ravel(y))\n",
    "b = np.argsort(-clf.feature_importances_)[:10]\n",
    "print(\"The ten variables with highest scores:\")\n",
    "print(b)\n",
    "print(clf.feature_importances_[b])"
   ]
  },
  {
   "cell_type": "markdown",
   "metadata": {},
   "source": [
    "### Question 2 - Measuring the effect of actions"
   ]
  },
  {
   "cell_type": "markdown",
   "metadata": {},
   "source": [
    "Next, we want to observe the effects of two different therapeutic interventions, one of which is placebo, and the other is an experimental drug. First we calculate the success of the two treatments in the whole data set. Here we assume that treatment 0 is placebo and treatment 1 is active treatment, but it could very well be the other way around. We also assume that Y = 1 means that the patient is cured, and Y = 0 means that the patient is not cured. "
   ]
  },
  {
   "cell_type": "code",
   "execution_count": 29,
   "metadata": {},
   "outputs": [
    {
     "name": "stdout",
     "output_type": "stream",
     "text": [
      "The effectiveness of placebo is: 0.008959 \n",
      "The effectiveness of active treatment is: 0.588338 \n"
     ]
    }
   ],
   "source": [
    "features = pd.read_csv('historical_X.dat', header=None, sep=\" \")\n",
    "actions = pd.read_csv('historical_A.dat', header=None, sep=\" \")\n",
    "outcome = pd.read_csv('historical_Y.dat', header=None, sep=\" \")\n",
    "\n",
    "active_treatments = 0\n",
    "success_placebo = 0\n",
    "success_active = 0\n",
    "\n",
    "active_treatments = sum(actions.loc[:,0])\n",
    "\n",
    "for i in range(len(actions)):\n",
    "    if actions.loc[i,0] == 1 and outcome.loc[i,0] == 1:\n",
    "        success_active += 1\n",
    "    elif actions.loc[i,0] == 0 and outcome.loc[i,0] == 1:\n",
    "        success_placebo += 1\n",
    "\n",
    "print(\"The effectiveness of placebo is: %f \" %(success_placebo/(10000-active_treatments)))\n",
    "print(\"The effectiveness of active treatment is: %f \" %(success_active/(active_treatments)))"
   ]
  },
  {
   "cell_type": "markdown",
   "metadata": {},
   "source": [
    "We see that the treatment is effective in 58.8% of the cases for treatment 1, and 0.9% effective for treatment 0. "
   ]
  },
  {
   "cell_type": "markdown",
   "metadata": {},
   "source": [
    "Next, we want to investigate whether there are some variables that effect the outcome of the treatment. I.e. if there are some genes or other variables that affect the effect of the treatment. From previous variable\n",
    "selection, we found that the most important features were $X_2$, $X_4$, $X_6$, $X_{12}$, $X_{56}$, $X_{84}$, $X_{114}$. To find out if there is some interaction between some parameters, we choose these features and also include the action feature, and do logistic regression for models with interactions with parameter selection. For code see $\\texttt{log_reg_interact.R}$"
   ]
  },
  {
   "cell_type": "raw",
   "metadata": {},
   "source": [
    "Call:\n",
    "glm(formula = Y ~ X2 + X4 + X6 + X56 + X84 + X114 + A + X2:X4 + \n",
    "    X4:X6 + X84:A, family = binomial(link = \"logit\"), data = df2)\n",
    "\n",
    "Deviance Residuals: \n",
    "    Min       1Q   Median       3Q      Max  \n",
    "-3.0360  -0.5767  -0.3569  -0.1525   2.8913  \n",
    "\n",
    "Coefficients:\n",
    "            Estimate Std. Error z value Pr(>|z|)    \n",
    "(Intercept) -4.67718    0.16487 -28.369  < 2e-16 ***\n",
    "X2          -0.08487    0.14421  -0.589 0.556160    \n",
    "X4           1.05140    0.20175   5.211 1.87e-07 ***\n",
    "X6           2.15315    0.15559  13.838  < 2e-16 ***\n",
    "X56          0.31314    0.07974   3.927 8.60e-05 ***\n",
    "X84          0.51283    0.08225   6.235 4.52e-10 ***\n",
    "X114         1.09017    0.16115   6.765 1.33e-11 ***\n",
    "A            4.75012    0.14823  32.045  < 2e-16 ***\n",
    "X2:X4        0.57515    0.16910   3.401 0.000671 ***\n",
    "X4:X6       -1.24885    0.17152  -7.281 3.31e-13 ***\n",
    "X84:A        1.85978    0.39793   4.674 2.96e-06 ***\n",
    "---\n",
    "Signif. codes:  0 ‘***’ 0.001 ‘**’ 0.01 ‘*’ 0.05 ‘.’ 0.1 ‘ ’ 1\n",
    "\n",
    "(Dispersion parameter for binomial family taken to be 1)\n",
    "\n",
    "    Null deviance: 10777.7  on 9998  degrees of freedom\n",
    "Residual deviance:  5832.4  on 9988  degrees of freedom\n",
    "AIC: 5854.4\n",
    "\n",
    "Number of Fisher Scoring iterations: 6"
   ]
  },
  {
   "cell_type": "markdown",
   "metadata": {},
   "source": [
    "The text above is the output from R after we have done a parameter selection using BIC, allowing interactions of second order. We see here that the only interaction term including $A$ kept by the feature selection is the interaction between $X_{84}$ and $A$. The interaction term is positive, meaning that the treatment is more successfull when the $X_{84}$ feature is present. We repeat this process, but this time using AIC as selection criterion and get the following model. "
   ]
  },
  {
   "cell_type": "raw",
   "metadata": {},
   "source": [
    "Call:\n",
    "glm(formula = Y ~ X2 + X4 + X6 + X12 + X56 + X84 + X114 + A + \n",
    "    X2:X4 + X2:X84 + X2:A + X4:X6 + X4:X56 + X4:X84 + X6:X12 + \n",
    "    X6:X56 + X12:X56 + X56:X114 + X84:A, family = binomial(link = \"logit\"), \n",
    "    data = df2)\n",
    "\n",
    "Deviance Residuals: \n",
    "    Min       1Q   Median       3Q      Max  \n",
    "-3.0475  -0.5790  -0.3163  -0.1318   2.9156  \n",
    "\n",
    "Coefficients:\n",
    "            Estimate Std. Error z value Pr(>|z|)    \n",
    "(Intercept) -4.68844    0.24600 -19.058  < 2e-16 ***\n",
    "X2          -0.31497    0.18091  -1.741  0.08169 .  \n",
    "X4           0.89944    0.30607   2.939  0.00330 ** \n",
    "X6           1.88170    0.23232   8.099 5.52e-16 ***\n",
    "X12         -0.09774    0.17791  -0.549  0.58276    \n",
    "X56          0.26167    0.20762   1.260  0.20754    \n",
    "X84          0.65262    0.15372   4.245 2.18e-05 ***\n",
    "X114         1.43465    0.22428   6.397 1.59e-10 ***\n",
    "A            4.68603    0.16591  28.244  < 2e-16 ***\n",
    "X2:X4        0.64661    0.17501   3.695  0.00022 ***\n",
    "X2:X84       0.29707    0.15714   1.891  0.05869 .  \n",
    "X2:A         0.62489    0.36071   1.732  0.08321 .  \n",
    "X4:X6       -1.38088    0.20676  -6.679 2.41e-11 ***\n",
    "X4:X56       0.80771    0.34532   2.339  0.01933 *  \n",
    "X4:X84      -0.33236    0.17645  -1.884  0.05962 .  \n",
    "X6:X12       0.41585    0.18598   2.236  0.02536 *  \n",
    "X6:X56       0.32303    0.19385   1.666  0.09564 .  \n",
    "X12:X56     -0.34621    0.18055  -1.918  0.05517 .  \n",
    "X56:X114    -0.73643    0.33422  -2.203  0.02757 *  \n",
    "X84:A        1.78385    0.40039   4.455 8.38e-06 ***\n",
    "---\n",
    "Signif. codes:  0 ‘***’ 0.001 ‘**’ 0.01 ‘*’ 0.05 ‘.’ 0.1 ‘ ’ 1\n",
    "\n",
    "(Dispersion parameter for binomial family taken to be 1)\n",
    "\n",
    "    Null deviance: 10777.7  on 9998  degrees of freedom\n",
    "Residual deviance:  5809.1  on 9979  degrees of freedom\n",
    "AIC: 5849.1\n",
    "\n",
    "Number of Fisher Scoring iterations: 6"
   ]
  },
  {
   "cell_type": "markdown",
   "metadata": {},
   "source": [
    "From this model, it does not seem like any features have a negative interaction with $A$, meaning that the active treatment will be effective for all features. However we do observe that some features and some feature combinations seems to have a negative effect on the result of the treatment. In both the AIC and the BIC model, the presence of the $X_2$ feature influences the result of the treatment in a negative way, meaning that these patients are less likely of being cured. Also, both models indicate that the feature combination of $X_4$ and $X_6$ influence the result of the treatment in a negative way. Based on this, we would always recommend the active treatment.  "
   ]
  },
  {
   "cell_type": "markdown",
   "metadata": {},
   "source": [
    "We would also like to investigate whether the clusters found by K-means clustering are affected differently by the treatment. We found that two clusters were the optimal number of clusters. We choose to do this on the whole data set, so that all the data are divided into one of the two clusters. For this, we repeat the procedure of the first part of Question 2, but this time dividing the data into the two clusters. "
   ]
  },
  {
   "cell_type": "code",
   "execution_count": 30,
   "metadata": {},
   "outputs": [
    {
     "name": "stdout",
     "output_type": "stream",
     "text": [
      "The effectiveness of placebo in cluster 0 is: 0.017947 \n",
      "The effectiveness of active treatment in cluster 0 is: 0.665198 \n",
      "The effectiveness of placebo in cluster 1 is: 0.001209 \n",
      "The effectiveness of active treatment in cluster 1 is: 0.476496 \n"
     ]
    }
   ],
   "source": [
    "# First fit a K-means\n",
    "kmeans = KMeans(n_clusters = 2, random_state = 1).fit(obs_train)\n",
    "\n",
    "#Divide observations into two clusters. \n",
    "cluster = kmeans.predict(observations)  \n",
    "index_cluster0 = np.where(cluster == 0) \n",
    "index_cluster1 = np.where(cluster == 1)\n",
    "\n",
    "actions_cluster0 = actions.iloc[index_cluster0]\n",
    "outcome_cluster0 = outcome.iloc[index_cluster0]\n",
    "\n",
    "actions_cluster1 = actions.iloc[index_cluster1]\n",
    "outcome_cluster1 = outcome.iloc[index_cluster1]\n",
    "\n",
    "active_treatments0 = sum(actions_cluster0.loc[:,0])\n",
    "active_treatments1 = sum(actions_cluster1.loc[:,0])\n",
    "\n",
    "#First cluster 0:\n",
    "#Successfull and active treatments if both are 1\n",
    "success_active0 = np.sum(np.multiply(actions_cluster0.values, outcome_cluster0.values))\n",
    "#Successfull, active treatments if outcome is 1, but active is 0\n",
    "success_placebo0 = np.sum(outcome_cluster0.values) - success_active0\n",
    "\n",
    "print(\"The effectiveness of placebo in cluster 0 is: %f \" %(success_placebo0/(actions_cluster0.shape[0]-active_treatments0)))\n",
    "print(\"The effectiveness of active treatment in cluster 0 is: %f \" %(success_active0/(active_treatments0)))        \n",
    "\n",
    "#Cluster 1\n",
    "success_active1 = np.sum(np.multiply(actions_cluster1.values, outcome_cluster1.values))\n",
    "success_placebo1 = np.sum(outcome_cluster1.values) - success_active1\n",
    "\n",
    "print(\"The effectiveness of placebo in cluster 1 is: %f \" %(success_placebo1/(actions_cluster1.shape[0]-active_treatments1)))\n",
    "print(\"The effectiveness of active treatment in cluster 1 is: %f \" %(success_active1/(active_treatments1)))        "
   ]
  },
  {
   "cell_type": "markdown",
   "metadata": {},
   "source": [
    "We see that the a bigger proportion of patients in cluster 1 are cured than in cluster 0, this apply both to the active treatment and the placebo treatment.   "
   ]
  },
  {
   "cell_type": "markdown",
   "metadata": {
    "collapsed": true
   },
   "source": [
    "# Part Two - Improved Policies\n",
    "### Exercise 1 (Measuring utility)\n",
    "#### 1. Measure the utility of $\\pi_0$ on the historical data."
   ]
  },
  {
   "cell_type": "code",
   "execution_count": 33,
   "metadata": {},
   "outputs": [
    {
     "name": "stdout",
     "output_type": "stream",
     "text": [
      "[[1]\n",
      " [0]\n",
      " [0]\n",
      " ...\n",
      " [0]\n",
      " [0]\n",
      " [0]]\n"
     ]
    }
   ],
   "source": [
    "features = pd.read_csv('historical_X.dat', header=None, sep=\" \").values\n",
    "actions = pd.read_csv('historical_A.dat', header=None, sep=\" \").values\n",
    "outcome = pd.read_csv('historical_Y.dat', header=None, sep=\" \").values\n",
    "\n",
    "# Actions is an array of 0's and 1's, representing 'placebo' and 'experimantal drug', respectively.\n",
    "print(actions)"
   ]
  },
  {
   "cell_type": "code",
   "execution_count": 34,
   "metadata": {},
   "outputs": [
    {
     "name": "stdout",
     "output_type": "stream",
     "text": [
      "[[1]\n",
      " [0]\n",
      " [0]\n",
      " ...\n",
      " [0]\n",
      " [0]\n",
      " [0]]\n"
     ]
    }
   ],
   "source": [
    "# Outcome is an array of 0' and 1's, representing 'no effect' and 'measurable effect', respectively.\n",
    "print(outcome)"
   ]
  },
  {
   "cell_type": "markdown",
   "metadata": {},
   "source": [
    "The utility function is given as:\n",
    "$$\\frac{1}{T}\\sum_t^T r_t = \\frac{1}{T}\\sum_t^T (-0.1a_t + y_t).$$\n",
    "Here the -0.1 factor implies that the active treatment must be at least 10% more effective than the placebo for the utility to be better for the experimental drug than the placebo. We look at the utility of $\\pi_0$ on the historical data."
   ]
  },
  {
   "cell_type": "code",
   "execution_count": 35,
   "metadata": {},
   "outputs": [
    {
     "data": {
      "text/plain": [
       "0.11912"
      ]
     },
     "execution_count": 35,
     "metadata": {},
     "output_type": "execute_result"
    }
   ],
   "source": [
    "U = np.sum(-0.1*actions + outcome)/len(outcome)\n",
    "U"
   ]
  },
  {
   "cell_type": "markdown",
   "metadata": {},
   "source": [
    "We see that the utility is 0.11912. At this point, we are not confident on wheter or not this is a good result. One should note that $t$ span from 0 to 1. So the maximal utility we can achieve is 1. However, in that scenario we give placebo to all the patients and we see a measurable effect in all of them, which is highly unlikely. Because of our utility function, giving a patient the active treatment decrease the utility if the patient is not cured. "
   ]
  },
  {
   "cell_type": "markdown",
   "metadata": {},
   "source": [
    "The exercise asks for the expected utility. We cannot calculate it exactly, but we can estimate it from the data. That is what we have done above. Below we describe it futher.\n",
    "$$\\hat{E[U]} = E_{data}[U] = \\frac{1}{T}\\sum_t^T (-0.1E_{data}[a_t] + E_{data}[y_t])$$ where $E_{data}[a_t] = 0p(a_t=0) + 1p(a_t=1) = \\frac{\\# a_t = 1}{\\# a_t}$ and $E_{data}[y_t] = 0p(y_t=0) + 1p(y_t=1) = \\frac{\\# y_t = 1}{\\# y_t}$."
   ]
  },
  {
   "cell_type": "code",
   "execution_count": 36,
   "metadata": {},
   "outputs": [
    {
     "data": {
      "text/plain": [
       "0.1421"
      ]
     },
     "execution_count": 36,
     "metadata": {},
     "output_type": "execute_result"
    }
   ],
   "source": [
    "perc1out = np.sum(outcome==1)/len(outcome)\n",
    "perc1out "
   ]
  },
  {
   "cell_type": "code",
   "execution_count": 37,
   "metadata": {},
   "outputs": [
    {
     "data": {
      "text/plain": [
       "0.2298"
      ]
     },
     "execution_count": 37,
     "metadata": {},
     "output_type": "execute_result"
    }
   ],
   "source": [
    "perc1act = np.sum(actions==1)/len(actions)\n",
    "perc1act"
   ]
  },
  {
   "cell_type": "code",
   "execution_count": 38,
   "metadata": {},
   "outputs": [
    {
     "data": {
      "text/plain": [
       "0.11912"
      ]
     },
     "execution_count": 38,
     "metadata": {},
     "output_type": "execute_result"
    }
   ],
   "source": [
    "-0.1*perc1act + perc1out"
   ]
  },
  {
   "cell_type": "markdown",
   "metadata": {},
   "source": [
    "Which was the same as we got above, as expected.\n",
    "We have also implemented this in the python file we have delivered.\n",
    "Simply call policy.estimate_utility(features, actions, outcome)."
   ]
  },
  {
   "cell_type": "markdown",
   "metadata": {},
   "source": [
    "#### 2. Provide error bounds on the expected utility\n",
    "To provide error bounds on the expected utility we use bootstraping. We create $B$ datasets by sampling from the original data $10 000$ times with replacement. For each of the $B$ dataset we calculate the expected utility. We do this to get empirical confidence intervals of the expected utility. For a 95% error bound we look at the 2.5% and 97.5% quantile."
   ]
  },
  {
   "cell_type": "code",
   "execution_count": 39,
   "metadata": {},
   "outputs": [],
   "source": [
    "B = 500\n",
    "results = np.zeros(B)\n",
    "\n",
    "for b in range(B):\n",
    "    n = len(outcome)\n",
    "    indices = np.random.choice(n, n)\n",
    "    outcome_bootstrap = outcome[indices]\n",
    "    action_bootstrap = actions[indices]\n",
    "    results[b] = np.sum(-0.1*action_bootstrap + outcome_bootstrap)/n"
   ]
  },
  {
   "cell_type": "code",
   "execution_count": 40,
   "metadata": {},
   "outputs": [
    {
     "data": {
      "text/plain": [
       "array([0.11275725, 0.1258845 ])"
      ]
     },
     "execution_count": 40,
     "metadata": {},
     "output_type": "execute_result"
    }
   ],
   "source": [
    "bounds = np.percentile(results, [2.5, 97.5])\n",
    "bounds"
   ]
  },
  {
   "cell_type": "markdown",
   "metadata": {},
   "source": [
    "From this we see that a 95% CI for the utility is $[0.1131, 0.1259]$. So the utility of $\\pi_0$ is well inside these error bounds."
   ]
  },
  {
   "cell_type": "markdown",
   "metadata": {},
   "source": [
    "We want to improve the policy, so that we can increase the utility. For the model, we choose a neural network and logistic regression, which we fit by first making an object of the classes $\\texttt{NNRecommender}$ and $\\texttt{LogisticRecommender}$, in the file $\\texttt{TestRecommender.py}$, where we set the reward function to what it is defined as in the project description. We then call the policies' $\\texttt{fit_treatment_outcome}$-function, so that our policies are trained on the historical data. To find the estimated utility of these improved models, we call $\\texttt{policy_NN.estimate_utility(features, None, None, policy.NN)}$ and $\\texttt{policy_logistic.estimate_utility(features, None, None, policy.logistic)}$. Note that when a $\\texttt{policy}$ argument is given to the $\\texttt{estimate_utility}$-function, the $\\texttt{policy}$ will recommend an action, and it is these actions (and the probabilities of the different outomes) that are used to calculate the estimated utility.  $\\textbf{Skriv hva modellene er}$.    "
   ]
  },
  {
   "cell_type": "markdown",
   "metadata": {},
   "source": [
    "#### 2.\n",
    "$\\textbf{Forklar hva dette er }$\n",
    "\n",
    "Below you can see the last printout from $\\texttt{TestRecommender.py}$. From this we see that both logistic regression and neural network are better than the historical policy.\n",
    "\n"
   ]
  },
  {
   "cell_type": "code",
   "execution_count": 41,
   "metadata": {},
   "outputs": [
    {
     "name": "stdout",
     "output_type": "stream",
     "text": [
      "Neural Network estimating utility   1000 of 10000\n",
      "Neural Network estimating utility   2000 of 10000\n",
      "Neural Network estimating utility   3000 of 10000\n",
      "Neural Network estimating utility   4000 of 10000\n",
      "Neural Network estimating utility   5000 of 10000\n",
      "Neural Network estimating utility   6000 of 10000\n",
      "Neural Network estimating utility   7000 of 10000\n",
      "Neural Network estimating utility   8000 of 10000\n",
      "Neural Network estimating utility   9000 of 10000\n",
      "Neural Network estimating utility  10000 of 10000\n",
      "Logistic model estimating utility   1000 of 10000\n",
      "Logistic model estimating utility   2000 of 10000\n",
      "Logistic model estimating utility   3000 of 10000\n",
      "Logistic model estimating utility   4000 of 10000\n",
      "Logistic model estimating utility   5000 of 10000\n",
      "Logistic model estimating utility   6000 of 10000\n",
      "Logistic model estimating utility   7000 of 10000\n",
      "Logistic model estimating utility   8000 of 10000\n",
      "Logistic model estimating utility   9000 of 10000\n",
      "Logistic model estimating utility  10000 of 10000\n",
      "\n",
      "The historical utility was 0.119120\n",
      "The estimated utility of the improved NN policy is: 0.459083 \n",
      "The estimated utility of the improved logistic policy is: 0.427203\n"
     ]
    }
   ],
   "source": [
    "import pandas\n",
    "\n",
    "features = pandas.read_csv('historical_X.dat', header=None, sep=\" \").values\n",
    "actions = pandas.read_csv('historical_A.dat', header=None, sep=\" \").values\n",
    "outcome = pandas.read_csv('historical_Y.dat', header=None, sep=\" \").values\n",
    "n = features.shape[0]\n",
    "\n",
    "import NNRecommender\n",
    "policy_factory_NN = NNRecommender.NNRecommender\n",
    "policy_NN = policy_factory_NN(2, 2)\n",
    "\n",
    "import LogisticRecommender\n",
    "policy_factory_logistic = LogisticRecommender.LogisticRecommender\n",
    "policy_logistic = policy_factory_logistic(2, 2)\n",
    "\n",
    "def reward_function(action, outcome):\n",
    "    return -0.1*action + outcome\n",
    "\n",
    "# First we need to set the reward\n",
    "policy_NN.set_reward(reward_function)\n",
    "policy_logistic.set_reward(reward_function)\n",
    "\n",
    "## Fit the policy on historical data \n",
    "policy_NN.fit_treatment_outcome(features, actions, outcome)\n",
    "policy_logistic.fit_treatment_outcome(features, actions, outcome)\n",
    "\n",
    "# Utility of the historical policy. Deterministic, so no difference if we call with policy_NN or policy_logistic\n",
    "utility_hist = policy_NN.estimate_utility(features, actions, outcome)/n\n",
    "\n",
    "# Utility of new policy\n",
    "utility_new_policy_NN = policy_NN.estimate_utility(features, None, None, policy_NN)/n\n",
    "utility_new_policy_logistic = policy_logistic.estimate_utility(features, None, None, policy_logistic)/n\n",
    "\n",
    "# Utility of improved policy, using a neural network trained on the historical data\n",
    "print(\"\\nThe historical utility was %2f\" %(utility_hist))\n",
    "print(\"The estimated utility of the improved NN policy is: %2f \" % (utility_new_policy_NN))\n",
    "print(\"The estimated utility of the improved logistic policy is: %2f\"  % (utility_new_policy_logistic))"
   ]
  },
  {
   "cell_type": "markdown",
   "metadata": {},
   "source": [
    "# Part Three - Adaptive Experiment Design"
   ]
  },
  {
   "cell_type": "markdown",
   "metadata": {},
   "source": [
    "In this part part we are going to test our recommenders on new patients and evaluate the results. We do this by using the $\\texttt{test_policy}$ function. It creates a fixed number of patients, ask the recommenders what treatment each indivdual should recive and then calculate the outcome. At the end it let the recommender observe the outcome. "
   ]
  },
  {
   "cell_type": "code",
   "execution_count": 42,
   "metadata": {},
   "outputs": [],
   "source": [
    "def test_policy(generator, policy, reward_function, T, seed = None, printout = False, print_index = 100, actions=False):\n",
    "    policy.set_reward(reward_function)\n",
    "    u = 0\n",
    "    \n",
    "    # Variable to count the number of people who were given a treatment\n",
    "    total_given_treatment = 0\n",
    "    \n",
    "    # For reproducibility we allow the user to set the seed\n",
    "    if (seed != None):\n",
    "        np.random.seed(seed)\n",
    "        \n",
    "    # Record the number of each treatments \n",
    "    if (actions == True):\n",
    "        actions_count = np.zeros(129)\n",
    "    \n",
    "    for t in range(T):\n",
    "        # We generate 1 new pasient\n",
    "        x = generator.generate_features()\n",
    "        \n",
    "        # Find the best action, from our model\n",
    "        a = policy.recommend(x)\n",
    "        \n",
    "        if (actions == True):\n",
    "            actions_count[a] += 1\n",
    "\n",
    "        # If given a treatment, then we record it\n",
    "        if (a != 0): \n",
    "            total_given_treatment += 1\n",
    "            \n",
    "        # Generate the outcome based on user_data and action\n",
    "        y = generator.generate_outcome(x, a)\n",
    "       \n",
    "        # Add the utility/reward\n",
    "        u += reward_function(a, y)\n",
    "        \n",
    "        # Let the policy now about the result/refit the model.\n",
    "        policy.observe(x, a, y)\n",
    "        \n",
    "        # A small printout\n",
    "        if ((printout) & (t % print_index == 0)):\n",
    "            print(\"Iteration: %6d \\t Current mean reward: %7.4f\" %(t, u/(t+1)))\n",
    "    \n",
    "    if (actions):\n",
    "        return [u/T, total_given_treatment, actions_count] \n",
    "    else:\n",
    "        return [u/T, total_given_treatment] "
   ]
  },
  {
   "cell_type": "markdown",
   "metadata": {},
   "source": [
    "As discussed in the introduction we use a slightly modified $\\texttt{reward_function}$."
   ]
  },
  {
   "cell_type": "code",
   "execution_count": 43,
   "metadata": {},
   "outputs": [],
   "source": [
    "def reward_function(action, outcome):\n",
    "    # Here we use the alternative reward_function discussed in the introduction.\n",
    "    # That is, we assume all medicins have the same cost and that they must be 10% more efficient than the placebo.\n",
    "    if (action >= 1): \n",
    "        return -0.1 + outcome\n",
    "    else: \n",
    "        return outcome"
   ]
  },
  {
   "cell_type": "markdown",
   "metadata": {},
   "source": [
    "To verify the results one should let each recommender run several times. There is a high variability in the results. That means that the results from two consecutive simulations can yield quite different results. Hence it is important to create empirical confidence intervals for the utility. We have not computed the variance of the empirical data, since this is indirectly visible from the range of the confidence intervals, but the variance is also a good measure."
   ]
  },
  {
   "cell_type": "code",
   "execution_count": 44,
   "metadata": {},
   "outputs": [],
   "source": [
    "# generator generates the data and the outcome\n",
    "# policy_maker is an object that can create policies\n",
    "# reward_function calculate the reward given the action and the outcome\n",
    "# T is the number of patients\n",
    "# N is the number of times we should treat T patients\n",
    "# features are the historical features\n",
    "# actions are the historical actions\n",
    "# outcome are the historical outcome\n",
    "# extra is extra arguments for the policy\n",
    "def create_CI(generator, policy_maker, reward_function, T, N, features, actions, outcome, extra = None):\n",
    "    res = np.zeros((N,2))\n",
    "    for n in range(N):\n",
    "        # Create a policy from the policymaker\n",
    "        if (extra == None):\n",
    "            policy = policy_maker(generator.get_n_actions(), generator.get_n_outcomes())\n",
    "        else:\n",
    "            policy = policy_maker(generator.get_n_actions(), generator.get_n_outcomes(), extra)\n",
    "            \n",
    "        # Set the reward function\n",
    "        policy.set_reward(reward_function)\n",
    "        \n",
    "        # Fit the model\n",
    "        policy.fit_treatment_outcome(features, actions, outcome)\n",
    "        \n",
    "        # Record the results\n",
    "        res[n] = test_policy(generator, policy, reward_function, T, seed = 27183+n)\n",
    "        \n",
    "        if(n % 10 == 0):\n",
    "            print(\"Done with n = %d\" % n)\n",
    "\n",
    "    print(\"Utility percentiles(2.5, 50, 97.5): \", np.percentile(res[:,0], [2.5, 50, 97.5]))\n",
    "    print(\"Percentage of treatments percentiles(2.5, 50, 97.5): \", np.percentile(res[:,1], [2.5, 50, 97.5])/T)"
   ]
  },
  {
   "cell_type": "markdown",
   "metadata": {},
   "source": [
    "### Exercise 3 - online policy testing\n"
   ]
  },
  {
   "cell_type": "markdown",
   "metadata": {},
   "source": [
    "#### 1.\n",
    "\n",
    "Here we create a $\\texttt{HistoricalRecommender}$ recommender and test it on the testbench. Recall that the $\\texttt{HistoricalRecommender}$ recommends based on the frequency of recommendations in the historical dataset. That is, if the percentage of people given the placebo in the historical data is $30\\%$, then our recommender will also recommend placebo in $30\\%$ of the cases. \n",
    "\n",
    "In hindsight we are uncertain if we mayhaps misinterpreted this model. The idea might have been that we should have used the historical dataset to find the person in this dataset who is most similar to the new patient and give the new patient the same treatment as the historical patient. This could have been done with a KNN with K=1.\n",
    "\n",
    "Whether or not we misinterpreted it, our model yields close to the historical results. Hence we are quite certain that what we have done is correct."
   ]
  },
  {
   "cell_type": "code",
   "execution_count": 45,
   "metadata": {},
   "outputs": [],
   "source": [
    "import data_generation\n",
    "generator = data_generation.DataGenerator()"
   ]
  },
  {
   "cell_type": "code",
   "execution_count": 46,
   "metadata": {},
   "outputs": [
    {
     "name": "stdout",
     "output_type": "stream",
     "text": [
      "Done with n = 0\n",
      "Done with n = 10\n",
      "Done with n = 20\n",
      "Done with n = 30\n",
      "Done with n = 40\n",
      "Done with n = 50\n",
      "Done with n = 60\n",
      "Done with n = 70\n",
      "Done with n = 80\n",
      "Done with n = 90\n",
      "Utility percentiles(2.5, 50, 97.5):  [0.08799 0.1064  0.13249]\n",
      "Percentage of treatments percentiles(2.5, 50, 97.5):  [0.202   0.23    0.26305]\n"
     ]
    }
   ],
   "source": [
    "import HistoricalRecommender\n",
    "policy_factory_historical = HistoricalRecommender.HistoricalRecommender\n",
    "\n",
    "T = 500\n",
    "N = 100\n",
    "create_CI(generator, policy_factory_historical, reward_function, T, N, features, actions, outcome)"
   ]
  },
  {
   "cell_type": "markdown",
   "metadata": {},
   "source": [
    "As we can see above we get a bite wider interval than in the previous part, but note that the median is close to the historical utility and that our $95\\%$ empirical confidence interval cover the results from the historical part.\n",
    "Note that the the historical recommender prescribe treatments to about a fifth of the patients."
   ]
  },
  {
   "cell_type": "markdown",
   "metadata": {},
   "source": [
    "#### 2.\n",
    "Here we are going to look at the improved recommenders. For these improved recommenders we tested both neural network models and logistic regression models. We tuned  $\\textbf{Skriv om tuning og ksdfkd}$ \n",
    "We also create some trivial recommenders to have more recommenders to compare our improved policies with. \n",
    "We have created a $\\texttt{FixedTreatmentRecommender}$ and a $\\texttt{RandomRecommender}$. These should be self explanatory, but they always recommend a fixed treatment(placebo or active treatment, defined in the initialization) or does a random choice.\n"
   ]
  },
  {
   "cell_type": "code",
   "execution_count": 47,
   "metadata": {},
   "outputs": [
    {
     "name": "stdout",
     "output_type": "stream",
     "text": [
      "Always placebo: \n",
      "Done with n = 0\n",
      "Done with n = 10\n",
      "Done with n = 20\n",
      "Done with n = 30\n",
      "Done with n = 40\n",
      "Done with n = 50\n",
      "Done with n = 60\n",
      "Done with n = 70\n",
      "Done with n = 80\n",
      "Done with n = 90\n",
      "Utility percentiles(2.5, 50, 97.5):  [0.004 0.012 0.022]\n",
      "Percentage of treatments percentiles(2.5, 50, 97.5):  [0. 0. 0.]\n",
      "\n",
      "Always treatment1: \n",
      "Done with n = 0\n",
      "Done with n = 10\n",
      "Done with n = 20\n",
      "Done with n = 30\n",
      "Done with n = 40\n",
      "Done with n = 50\n",
      "Done with n = 60\n",
      "Done with n = 70\n",
      "Done with n = 80\n",
      "Done with n = 90\n",
      "Utility percentiles(2.5, 50, 97.5):  [0.38895 0.434   0.478  ]\n",
      "Percentage of treatments percentiles(2.5, 50, 97.5):  [1. 1. 1.]\n",
      "\n",
      "Random treatment: \n",
      "Done with n = 0\n",
      "Done with n = 10\n",
      "Done with n = 20\n",
      "Done with n = 30\n",
      "Done with n = 40\n",
      "Done with n = 50\n",
      "Done with n = 60\n",
      "Done with n = 70\n",
      "Done with n = 80\n",
      "Done with n = 90\n",
      "Utility percentiles(2.5, 50, 97.5):  [0.188095 0.2252   0.26056 ]\n",
      "Percentage of treatments percentiles(2.5, 50, 97.5):  [0.4619 0.505  0.54  ]\n"
     ]
    }
   ],
   "source": [
    "import FixedTreatmentRecommender\n",
    "policy_factory_fixed = FixedTreatmentRecommender.FixedTreatmentRecommender\n",
    "\n",
    "import RandomRecommender\n",
    "policy_factory_random = RandomRecommender.RandomRecommender\n",
    "\n",
    "T = 500\n",
    "N = 100\n",
    "\n",
    "print(\"Always placebo: \")\n",
    "create_CI(generator, policy_factory_fixed, reward_function, T, N, features, actions, outcome, extra = 0)\n",
    "\n",
    "print(\"\\nAlways treatment1: \")\n",
    "create_CI(generator, policy_factory_fixed, reward_function, T, N, features, actions, outcome, extra = 1)\n",
    "\n",
    "print(\"\\nRandom treatment: \")\n",
    "create_CI(generator, policy_factory_random, reward_function, T, N, features, actions, outcome, extra = 2)"
   ]
  },
  {
   "cell_type": "markdown",
   "metadata": {},
   "source": [
    "Since we in this case know how the outcomes are generated, that is, we have access to $\\texttt{big_generating_matrices.mat}$ and the $\\texttt{data_generation}$ we can create an $\\texttt{OptimalRecommender}$ that recommends the optimal treatment. From the two files we see that the outcome is decided based on the the sign of the dot product between the user and the $a$'th row of the big generating matrices. If the the dot product is positive then $y_t = 1$ and if the dot product is negative then $y_t = 0$. The optimal policy will then chose the action with highest dot product, given that it is positive, else it will recommend the placebo to maximize the reward (to escape the penatlity of using a treatment).   "
   ]
  },
  {
   "cell_type": "code",
   "execution_count": 48,
   "metadata": {},
   "outputs": [
    {
     "name": "stdout",
     "output_type": "stream",
     "text": [
      "Optimal: \n",
      "Done with n = 0\n",
      "Done with n = 10\n",
      "Done with n = 20\n",
      "Done with n = 30\n",
      "Done with n = 40\n",
      "Done with n = 50\n",
      "Done with n = 60\n",
      "Done with n = 70\n",
      "Done with n = 80\n",
      "Done with n = 90\n",
      "Utility percentiles(2.5, 50, 97.5):  [0.440055 0.4806   0.5202  ]\n",
      "Percentage of treatments percentiles(2.5, 50, 97.5):  [0.48895 0.534   0.578  ]\n"
     ]
    }
   ],
   "source": [
    "import OptimalRecommender\n",
    "policy_factory_optimal = OptimalRecommender.OptimalRecommender\n",
    "\n",
    "T = 500\n",
    "N = 100\n",
    "\n",
    "print(\"Optimal: \")\n",
    "create_CI(generator, policy_factory_optimal, reward_function, T, N, features, actions, outcome, extra = 2)"
   ]
  },
  {
   "cell_type": "markdown",
   "metadata": {},
   "source": [
    "We see that the optimal recommender performs a lot better than the historical recommender. \n",
    "\n",
    "Now we take a look at our improved policies:\n",
    "Single_logistic\n",
    "Bootstrap_logistic\n",
    "NN_(3,2,2)\n",
    "NN_(5,2)\n",
    "$\\textbf{Forklar}$\n"
   ]
  },
  {
   "cell_type": "code",
   "execution_count": 49,
   "metadata": {},
   "outputs": [
    {
     "name": "stdout",
     "output_type": "stream",
     "text": [
      "Single logistic model: \n",
      "Done with n = 0\n",
      "Done with n = 10\n",
      "Done with n = 20\n",
      "Done with n = 30\n",
      "Done with n = 40\n",
      "Done with n = 50\n",
      "Done with n = 60\n",
      "Done with n = 70\n",
      "Done with n = 80\n",
      "Done with n = 90\n",
      "Utility percentiles(2.5, 50, 97.5):  [0.425695 0.4673   0.50802 ]\n",
      "Percentage of treatments percentiles(2.5, 50, 97.5):  [0.6299 0.678  0.712 ]\n",
      "Bootstrap logistic model: \n",
      "Done with n = 0\n",
      "Done with n = 10\n",
      "Done with n = 20\n",
      "Done with n = 30\n",
      "Done with n = 40\n",
      "Done with n = 50\n",
      "Done with n = 60\n",
      "Done with n = 70\n",
      "Done with n = 80\n",
      "Done with n = 90\n",
      "Utility percentiles(2.5, 50, 97.5):  [0.4248   0.4665   0.507705]\n",
      "Percentage of treatments percentiles(2.5, 50, 97.5):  [0.63495 0.682   0.72115]\n"
     ]
    }
   ],
   "source": [
    "# Single logistic\n",
    "import LogisticRecommender\n",
    "policy_factory_logistic = LogisticRecommender.LogisticRecommender\n",
    "\n",
    "# Ensamble of logistic models based on bootstraped datasets\n",
    "import LogisticRecommenderBoot\n",
    "policy_factory_logistic_boot = LogisticRecommenderBoot.LogisticRecommenderBoot\n",
    "\n",
    "print(\"Single logistic model: \")\n",
    "create_CI(generator, policy_factory_logistic, reward_function, T, N, features, actions, outcome, extra = 0)\n",
    "\n",
    "print(\"\\nBootstrap logistic model: \")\n",
    "create_CI(generator, policy_factory_logistic_boot, reward_function, T, N, features, actions, outcome, extra = 0)"
   ]
  },
  {
   "cell_type": "code",
   "execution_count": 22,
   "metadata": {},
   "outputs": [
    {
     "name": "stdout",
     "output_type": "stream",
     "text": [
      "NN(5,2): \n",
      "Done with n = 9\n",
      "Done with n = 19\n",
      "Done with n = 29\n",
      "Done with n = 39\n",
      "Done with n = 49\n",
      "Done with n = 59\n",
      "Done with n = 69\n",
      "Done with n = 79\n",
      "Done with n = 89\n",
      "Done with n = 99\n",
      "Utility percentiles(2.5, 50, 97.5):  [0.42499 0.4612  0.50504]\n",
      "Percentage of treatments percentiles(2.5, 50, 97.5):  [0.4878 0.536  0.5801]\n",
      "NN(2,2,3): \n",
      "Done with n = 9\n",
      "Done with n = 19\n",
      "Done with n = 29\n",
      "Done with n = 39\n",
      "Done with n = 49\n",
      "Done with n = 59\n",
      "Done with n = 69\n",
      "Done with n = 79\n",
      "Done with n = 89\n",
      "Done with n = 99\n",
      "Utility percentiles(2.5, 50, 97.5):  [0.42616 0.4671  0.51069]\n",
      "Percentage of treatments percentiles(2.5, 50, 97.5):  [0.53495 0.578   0.6241 ]\n"
     ]
    }
   ],
   "source": [
    "import NeuralNetworkRecommender\n",
    "policy_factory_NN = NeuralNetworkRecommender.NeuralNetworkRecommender\n",
    "\n",
    "print(\"NN(5,2): \")\n",
    "create_CI(generator, policy_factory_NN, reward_function, T, N, features, actions, outcome, extra = [0, [5,2]])\n",
    "\n",
    "print(\"\\nNN(2,2,3): \")\n",
    "create_CI(generator, policy_factory_NN, reward_function, T, N, features, actions, outcome, extra = [0, [2,2,3]])"
   ]
  },
  {
   "cell_type": "markdown",
   "metadata": {},
   "source": [
    "We have also created two other improved policies that use clustering; $\\texttt{LogisticRecommenderCluster}$ and $\\texttt{NNRecommenderCluster}$. That is, based on the the historical data it divides the population into two subpopulations and fit a model on each of these. The results for $\\texttt{LogisticRecommenderCluster}$ and $\\texttt{NNRecommenderCluster}$ are nearly identical to those obtained by the non-clustered versions. The neural network using clustering actually obtained a lower utility than the neural network that that did not use clustering of the date. We think this might be due to the fact that the training set for the individual neural networks became too small. As we know, it takes a lot of data to fine tune a neural network. Note that the code below takes a long time to run."
   ]
  },
  {
   "cell_type": "code",
   "execution_count": 55,
   "metadata": {},
   "outputs": [
    {
     "name": "stdout",
     "output_type": "stream",
     "text": [
      "Logistic cluster: \n",
      "Done with n = 0\n",
      "Utility percentiles(2.5, 50, 97.5):  [0.313625 0.46     0.73975 ]\n",
      "Percentage of treatments percentiles(2.5, 50, 97.5):  [0.56125 0.7     0.8775 ]\n",
      "NN cluster(5,2): \n",
      "Done with n = 0\n",
      "Utility percentiles(2.5, 50, 97.5):  [0.320125 0.425    0.675   ]\n",
      "Percentage of treatments percentiles(2.5, 50, 97.5):  [0.41125 0.525   0.75   ]\n"
     ]
    }
   ],
   "source": [
    "import LogisticRecommenderCluster\n",
    "policy_factory_logistic_cluster = LogisticRecommenderCluster.LogisticRecommenderCluster\n",
    "\n",
    "# Old code so is hardcoded to (5,2) layers\n",
    "import NNRecommenderCluster\n",
    "policy_factory_NN_cluster = NNRecommenderCluster.NNRecommenderCluster\n",
    "\n",
    "N = 100\n",
    "T = 500\n",
    "\n",
    "print(\"Logistic cluster: \")\n",
    "create_CI(generator, policy_factory_logistic_cluster, reward_function, T, N, features, actions, outcome)\n",
    "\n",
    "print(\"NN cluster(5,2): \")\n",
    "create_CI(generator, policy_factory_NN_cluster, reward_function, T, N, features, actions, outcome)"
   ]
  },
  {
   "cell_type": "markdown",
   "metadata": {},
   "source": [
    "To summarize the results from this exercise we have made a table. Note that the numbers might be different than the numbers above. That is becaus\n",
    "e we have not fixed a seed so the values change slightly each time you run the code. However, since we run the code 100 times each time the differences are miniscule.\n",
    "\n",
    "![title](Table1.png)\n",
    "\n",
    "From the table we see that the historical recommender and the improved recommenders perform at the same level as in the previous part. When we look at the utility confidence intervals of our improved policies we see that they overlap quite a lot. This means that the models are about equally good. However, one should note that the neural network recommends the drug less often but obtain the same utility as the logistic model. That is, the neural network is better at detecting patients who will respond to the treatment than the logistic model. The logistic model  recommends the treatment more often, so they treat more patients but they also get more patients who do not respond to the treatment. Here it would have been interesting to change the penalty and see if this influence the utility. One could also here look at a confusion matrix, to analyze the percentages of false-positve, false-negative, true-positve and true-negative.\n",
    "\n",
    "The clustered versions yield approximately the same results, and hence we have omitted them from the table.\n",
    "\n",
    "One should also note that utilty our improved policies are not far from the the utility optimal policy.\n",
    "\n",
    "\n",
    "\n",
    "$\\text{skriv om at siden utility er ganske lik \"koster\" det kanskje ikke så mye å gi behandling, eller så kan det være at de fleste pasienter faktisk trenger den}$\n",
    "\n",
    "The fact that by always recommending the treatment we can obtain an utility which is this close to the optimal utility is quite worrying. At least in the setting where the vague terms treatments represent drugs. If we are in the case where the treatment is a sunscreen and the placebo is body lotion this \n",
    "giving the medicin results in a 95% percentile of the optimal value might it scary. \n"
   ]
  },
  {
   "cell_type": "markdown",
   "metadata": {},
   "source": [
    "### Exercise 4 - adaptive experiments\n",
    "\n",
    "In this exercise we are going to look at addaptive models. That is, we let our models observe the outcome of their recommendations such that they can learn from them. Since we have used supervised methods this implies that we have to refit our model with the new data. There is probably a better way to do this, since refitting the models take a long time. One should also note that new observations might drown in the old data in the method we have used. Here one might adress issues such as whether one should weight the most resent data higher than the old data. We have not adressed this issue.\n",
    "\n",
    "We will consider two scenarios. In the first scenario we have still only the placebo and the treatment. In the second scenario we introduced the other treatments. That is, we now have 129 treatments: 1 placebo, 2 general treatments and 126 gene specific treatments. Note that we in this scenario we do not have any data for the new treatments. Thus, one have to explore these new treatments and look at the results. This we will do for a fixed number of treatments, and then we are going to use the best treatment for the rest. \n",
    "\n",
    "Here there are two potential goals according to the text: discover the most effective treatment policy at the end of the trial or maximize the expected number of people to be treated. We have gone for the second on, but with the modified $\\texttt{reward_function}$ discussed earlier. \n",
    "\n",
    "We take a look at the first section first.\n",
    "#### 1. \n",
    "We have alredy described what the code does. It adds the new patient to the old dataset and refit the model. We do this with two of the models above. This is due to the long computation time it takes to run these simulations. Since the single logistic and the bootstrap logistic obtained the same results last time we only look at the simple version here. We also only look at the (5,2) neural network. We would have liked to tested (2,2,3) too, but it takes too long time. We allow our models to observe by changing the zeros to ones in the extra, otherwise the code below is identical to the one above."
   ]
  },
  {
   "cell_type": "code",
   "execution_count": null,
   "metadata": {},
   "outputs": [],
   "source": [
    "# We reduce the number of patients due to the computation time\n",
    "# We do noe recommend to run this block again since it takes hours to run.\n",
    "N = 100\n",
    "T = 100\n",
    "\n",
    "# Optimal recommender\n",
    "import OptimalRecommender\n",
    "policy_factory_optimal = OptimalRecommender.OptimalRecommender\n",
    "\n",
    "# Single logistic\n",
    "import LogisticRecommender\n",
    "policy_factory_logistic = LogisticRecommender.LogisticRecommender\n",
    "\n",
    "# Nerural network\n",
    "import NeuralNetworkRecommender\n",
    "policy_factory_NN = NeuralNetworkRecommender.NeuralNetworkRecommender\n",
    "\n",
    "print(\"Optimal: \")\n",
    "create_CI(generator, policy_factory_optimal, reward_function, T, N, features, actions, outcome, extra = 2)\n",
    "\n",
    "print(\"Single logistic model: \")\n",
    "create_CI(generator, policy_factory_logistic, reward_function, T, N, features, actions, outcome, extra = 1)\n",
    "\n",
    "print(\"NN(5,2): \")\n",
    "create_CI(generator, policy_factory_NN, reward_function, T, N, features, actions, outcome, extra = [1, [5,2]])"
   ]
  },
  {
   "cell_type": "markdown",
   "metadata": {},
   "source": [
    "We can see the results of the code above in the left part of the table below. Note that there is not much improvments compared to the previous table. This might be because the new information drowns in the old data or there is some underlying noise that cannot be reduced. Note that each model now only treats 100 persons, due to the computational time, hence the wider intervals. So if you want to compare the results in this table with the previous table you should look at the medians.\n",
    "\n",
    "\n",
    "![title](Table2.png)\n"
   ]
  },
  {
   "cell_type": "markdown",
   "metadata": {},
   "source": [
    "#### 2. \n",
    "In this setting we are able to choose among the 129 treatments. We initialy had some difficulites so we will first adress what we had done. "
   ]
  },
  {
   "cell_type": "markdown",
   "metadata": {},
   "source": [
    "We are informed that treatment 2 is a general treatment. So we want to compare it to the other genereal treatment; treatment 1. In some scenarios it it possible to test two treatments on a single individual, and in other cases it's impossible. E.g. you cannot donclude which of two painkillers relived you of the pain, under the assumption that both were taken by oral administration. However, you can can apply two different body lotions for dry skin on either arm and check which worked or not. In the code below we simulate the the latter scenario. \n",
    "\n",
    "Note that the analyis above in rooted in the real world. Since we are given the code we can treat the same patient with different treatments no mather the scenario. We also want to note that the analysis we are doing here is perhaps not applicable in the real world, since we just give them treatments and see what happens."
   ]
  },
  {
   "cell_type": "code",
   "execution_count": 50,
   "metadata": {},
   "outputs": [],
   "source": [
    "# Choose medicine 1 and 2 which we want to compare. \n",
    "# Can take values between 0 and 129, inclusive. \n",
    "# N is the number of individuals we want to compare.\n",
    "\n",
    "def compareTwoMedicines(med1, med2, N, seed = 10):\n",
    "    # Number of times medicine 1 worked \n",
    "    num1 = 0\n",
    "\n",
    "    # Number of times medicine 2 worked\n",
    "    num2 = 0\n",
    "\n",
    "    # Number of times only medicine 2 worked\n",
    "    numjust1 = 0\n",
    "\n",
    "    # Number of times only medicine 1 worked\n",
    "    numjust2 = 0\n",
    "\n",
    "    # Number of times both medecines worked\n",
    "    numboth = 0\n",
    "\n",
    "    # Number of times neither medicine worked\n",
    "    numnone = 0\n",
    "\n",
    "    # Set seed for reproducibility\n",
    "    np.random.seed(seed)\n",
    "    for _ in range(N):\n",
    "            # We generate 1 new pasient\n",
    "            x = generator.generate_features()\n",
    "\n",
    "            # Generate the outcome based on user_data and action\n",
    "            y_1 = generator.generate_outcome(x, med1)\n",
    "            y_2 = generator.generate_outcome(x, med2)\n",
    "\n",
    "            if (y_1 == 1): num1 += 1\n",
    "            if (y_2 == 1): num2 += 1\n",
    "            if ((y_1 == 1) & (y_2 == 1)): numboth += 1\n",
    "            if ((y_1 == 0) & (y_2 == 0)): numnone += 1\n",
    "            if ((y_1 == 1) & (y_2 == 0)): numjust1 += 1\n",
    "            if ((y_1 == 0) & (y_2 == 1)): numjust2 += 1\n",
    "    print(\"Med1 = %d and med2 = %3d: %6d %6d %9d %9d %5d %6d\" % (med1, med2, num1, num2, numjust1, numjust2, numboth, numnone))"
   ]
  },
  {
   "cell_type": "code",
   "execution_count": 51,
   "metadata": {},
   "outputs": [
    {
     "name": "stdout",
     "output_type": "stream",
     "text": [
      "Med1 = 1 and med2 =   2:  53553  54690     19312     20449 34241  25998\n"
     ]
    }
   ],
   "source": [
    "compareTwoMedicines(1, 2, 100000)"
   ]
  },
  {
   "cell_type": "markdown",
   "metadata": {},
   "source": [
    "From this printout we see that there is some overlap between the two general treatments. That is, there is about $34.2\\%$ of the patients who display measurable effects to both treatments. Some patients react positively to only one of the treatments while other pasients, about $26\\%$ don't react positively to either treatment. This information is summeraized by the following venn diagram. \n",
    "![Venn](Venn.png)\n"
   ]
  },
  {
   "cell_type": "markdown",
   "metadata": {},
   "source": [
    "If we do the same analysis that we did above with treatment 1 and the gene specific treatments we get some interesting results. From the printout below we see that we never observe an instance where only the gene specific treatment works. If it worked, then the general treatment 1 also worked. So, we are always better of by only recommending the placebo, treatment1 or treatment2."
   ]
  },
  {
   "cell_type": "code",
   "execution_count": 72,
   "metadata": {},
   "outputs": [
    {
     "name": "stdout",
     "output_type": "stream",
     "text": [
      "                          #med1  #med2 #justmed1 #justmed2 #both  #none\n",
      "Med1 = 1 and med2 =   0:  26766    579     26187         0   579  23234\n",
      "Med1 = 1 and med2 =   1:  26766  26766         0         0 26766  23234\n",
      "Med1 = 1 and med2 =   2:  26766  27305      9677     10216 17089  13018\n",
      "Med1 = 1 and med2 =   3:  26766    365     26401         0   365  23234\n",
      "Med1 = 1 and med2 =   4:  26766    774     25992         0   774  23234\n",
      "Med1 = 1 and med2 =   5:  26766    458     26308         0   458  23234\n",
      "Med1 = 1 and med2 =   6:  26766    889     25877         0   889  23234\n",
      "Med1 = 1 and med2 =   7:  26766    832     25934         0   832  23234\n",
      "Med1 = 1 and med2 =   8:  26766    597     26169         0   597  23234\n",
      "Med1 = 1 and med2 =   9:  26766   1570     25196         0  1570  23234\n",
      "Med1 = 1 and med2 =  10:  26766    737     26029         0   737  23234\n",
      "Med1 = 1 and med2 =  11:  26766   1631     25135         0  1631  23234\n",
      "Med1 = 1 and med2 =  12:  26766    847     25919         0   847  23234\n",
      "Med1 = 1 and med2 =  13:  26766    724     26042         0   724  23234\n",
      "Med1 = 1 and med2 =  14:  26766    906     25860         0   906  23234\n",
      "Med1 = 1 and med2 =  15:  26766    772     25994         0   772  23234\n",
      "Med1 = 1 and med2 =  16:  26766    955     25811         0   955  23234\n",
      "Med1 = 1 and med2 =  17:  26766    655     26111         0   655  23234\n",
      "Med1 = 1 and med2 =  18:  26766    899     25867         0   899  23234\n",
      "Med1 = 1 and med2 =  19:  26766    747     26019         0   747  23234\n",
      "Med1 = 1 and med2 =  20:  26766    357     26409         0   357  23234\n",
      "Med1 = 1 and med2 =  21:  26766   1237     25529         0  1237  23234\n",
      "Med1 = 1 and med2 =  22:  26766    873     25893         0   873  23234\n",
      "Med1 = 1 and med2 =  23:  26766    566     26200         0   566  23234\n",
      "Med1 = 1 and med2 =  24:  26766    828     25938         0   828  23234\n",
      "Med1 = 1 and med2 =  25:  26766    783     25983         0   783  23234\n",
      "Med1 = 1 and med2 =  26:  26766   1761     25005         0  1761  23234\n",
      "Med1 = 1 and med2 =  27:  26766    475     26291         0   475  23234\n",
      "Med1 = 1 and med2 =  28:  26766   1629     25137         0  1629  23234\n",
      "Med1 = 1 and med2 =  29:  26766    446     26320         0   446  23234\n",
      "Med1 = 1 and med2 =  30:  26766    884     25882         0   884  23234\n",
      "Med1 = 1 and med2 =  31:  26766    843     25923         0   843  23234\n",
      "Med1 = 1 and med2 =  32:  26766    875     25891         0   875  23234\n",
      "Med1 = 1 and med2 =  33:  26766    817     25949         0   817  23234\n",
      "Med1 = 1 and med2 =  34:  26766    756     26010         0   756  23234\n",
      "Med1 = 1 and med2 =  35:  26766    738     26028         0   738  23234\n",
      "Med1 = 1 and med2 =  36:  26766    684     26082         0   684  23234\n",
      "Med1 = 1 and med2 =  37:  26766    769     25997         0   769  23234\n",
      "Med1 = 1 and med2 =  38:  26766    683     26083         0   683  23234\n",
      "Med1 = 1 and med2 =  39:  26766    520     26246         0   520  23234\n",
      "Med1 = 1 and med2 =  40:  26766    790     25976         0   790  23234\n",
      "Med1 = 1 and med2 =  41:  26766    814     25952         0   814  23234\n",
      "Med1 = 1 and med2 =  42:  26766    589     26177         0   589  23234\n",
      "Med1 = 1 and med2 =  43:  26766    627     26139         0   627  23234\n",
      "Med1 = 1 and med2 =  44:  26766    676     26090         0   676  23234\n",
      "Med1 = 1 and med2 =  45:  26766    856     25910         0   856  23234\n",
      "Med1 = 1 and med2 =  46:  26766    851     25915         0   851  23234\n",
      "Med1 = 1 and med2 =  47:  26766    616     26150         0   616  23234\n",
      "Med1 = 1 and med2 =  48:  26766    473     26293         0   473  23234\n",
      "Med1 = 1 and med2 =  49:  26766   1091     25675         0  1091  23234\n",
      "Med1 = 1 and med2 =  50:  26766    775     25991         0   775  23234\n",
      "Med1 = 1 and med2 =  51:  26766    874     25892         0   874  23234\n",
      "Med1 = 1 and med2 =  52:  26766    255     26511         0   255  23234\n",
      "Med1 = 1 and med2 =  53:  26766   1135     25631         0  1135  23234\n",
      "Med1 = 1 and med2 =  54:  26766    712     26054         0   712  23234\n",
      "Med1 = 1 and med2 =  55:  26766    719     26047         0   719  23234\n",
      "Med1 = 1 and med2 =  56:  26766    549     26217         0   549  23234\n",
      "Med1 = 1 and med2 =  57:  26766    602     26164         0   602  23234\n",
      "Med1 = 1 and med2 =  58:  26766    726     26040         0   726  23234\n",
      "Med1 = 1 and med2 =  59:  26766    619     26147         0   619  23234\n",
      "Med1 = 1 and med2 =  60:  26766    682     26084         0   682  23234\n",
      "Med1 = 1 and med2 =  61:  26766    819     25947         0   819  23234\n",
      "Med1 = 1 and med2 =  62:  26766    745     26021         0   745  23234\n",
      "Med1 = 1 and med2 =  63:  26766    863     25903         0   863  23234\n",
      "Med1 = 1 and med2 =  64:  26766   1238     25528         0  1238  23234\n",
      "Med1 = 1 and med2 =  65:  26766    823     25943         0   823  23234\n",
      "Med1 = 1 and med2 =  66:  26766    818     25948         0   818  23234\n",
      "Med1 = 1 and med2 =  67:  26766    542     26224         0   542  23234\n",
      "Med1 = 1 and med2 =  68:  26766    905     25861         0   905  23234\n",
      "Med1 = 1 and med2 =  69:  26766    642     26124         0   642  23234\n",
      "Med1 = 1 and med2 =  70:  26766    659     26107         0   659  23234\n",
      "Med1 = 1 and med2 =  71:  26766    628     26138         0   628  23234\n",
      "Med1 = 1 and med2 =  72:  26766    733     26033         0   733  23234\n",
      "Med1 = 1 and med2 =  73:  26766    718     26048         0   718  23234\n",
      "Med1 = 1 and med2 =  74:  26766    924     25842         0   924  23234\n",
      "Med1 = 1 and med2 =  75:  26766   1196     25570         0  1196  23234\n",
      "Med1 = 1 and med2 =  76:  26766    561     26205         0   561  23234\n",
      "Med1 = 1 and med2 =  77:  26766    642     26124         0   642  23234\n",
      "Med1 = 1 and med2 =  78:  26766    689     26077         0   689  23234\n",
      "Med1 = 1 and med2 =  79:  26766    948     25818         0   948  23234\n",
      "Med1 = 1 and med2 =  80:  26766    810     25956         0   810  23234\n",
      "Med1 = 1 and med2 =  81:  26766    839     25927         0   839  23234\n",
      "Med1 = 1 and med2 =  82:  26766    688     26078         0   688  23234\n",
      "Med1 = 1 and med2 =  83:  26766    669     26097         0   669  23234\n",
      "Med1 = 1 and med2 =  84:  26766    646     26120         0   646  23234\n",
      "Med1 = 1 and med2 =  85:  26766    507     26259         0   507  23234\n",
      "Med1 = 1 and med2 =  86:  26766   2985     23781         0  2985  23234\n",
      "Med1 = 1 and med2 =  87:  26766    767     25999         0   767  23234\n",
      "Med1 = 1 and med2 =  88:  26766    757     26009         0   757  23234\n",
      "Med1 = 1 and med2 =  89:  26766    953     25813         0   953  23234\n",
      "Med1 = 1 and med2 =  90:  26766    736     26030         0   736  23234\n",
      "Med1 = 1 and med2 =  91:  26766    743     26023         0   743  23234\n",
      "Med1 = 1 and med2 =  92:  26766   1380     25386         0  1380  23234\n",
      "Med1 = 1 and med2 =  93:  26766    693     26073         0   693  23234\n",
      "Med1 = 1 and med2 =  94:  26766   1058     25708         0  1058  23234\n",
      "Med1 = 1 and med2 =  95:  26766    695     26071         0   695  23234\n",
      "Med1 = 1 and med2 =  96:  26766    955     25811         0   955  23234\n",
      "Med1 = 1 and med2 =  97:  26766    958     25808         0   958  23234\n",
      "Med1 = 1 and med2 =  98:  26766    570     26196         0   570  23234\n",
      "Med1 = 1 and med2 =  99:  26766    705     26061         0   705  23234\n",
      "Med1 = 1 and med2 = 100:  26766   1323     25443         0  1323  23234\n",
      "Med1 = 1 and med2 = 101:  26766    562     26204         0   562  23234\n",
      "Med1 = 1 and med2 = 102:  26766    344     26422         0   344  23234\n",
      "Med1 = 1 and med2 = 103:  26766   1135     25631         0  1135  23234\n",
      "Med1 = 1 and med2 = 104:  26766    652     26114         0   652  23234\n",
      "Med1 = 1 and med2 = 105:  26766    524     26242         0   524  23234\n",
      "Med1 = 1 and med2 = 106:  26766   1100     25666         0  1100  23234\n",
      "Med1 = 1 and med2 = 107:  26766    969     25797         0   969  23234\n",
      "Med1 = 1 and med2 = 108:  26766    361     26405         0   361  23234\n",
      "Med1 = 1 and med2 = 109:  26766    663     26103         0   663  23234\n",
      "Med1 = 1 and med2 = 110:  26766    795     25971         0   795  23234\n",
      "Med1 = 1 and med2 = 111:  26766   1232     25534         0  1232  23234\n",
      "Med1 = 1 and med2 = 112:  26766    714     26052         0   714  23234\n"
     ]
    },
    {
     "name": "stdout",
     "output_type": "stream",
     "text": [
      "Med1 = 1 and med2 = 113:  26766    592     26174         0   592  23234\n",
      "Med1 = 1 and med2 = 114:  26766    836     25930         0   836  23234\n",
      "Med1 = 1 and med2 = 115:  26766   1019     25747         0  1019  23234\n",
      "Med1 = 1 and med2 = 116:  26766    639     26127         0   639  23234\n",
      "Med1 = 1 and med2 = 117:  26766    782     25984         0   782  23234\n",
      "Med1 = 1 and med2 = 118:  26766    718     26048         0   718  23234\n",
      "Med1 = 1 and med2 = 119:  26766    735     26031         0   735  23234\n",
      "Med1 = 1 and med2 = 120:  26766    667     26099         0   667  23234\n",
      "Med1 = 1 and med2 = 121:  26766    240     26526         0   240  23234\n",
      "Med1 = 1 and med2 = 122:  26766    896     25870         0   896  23234\n",
      "Med1 = 1 and med2 = 123:  26766    782     25984         0   782  23234\n",
      "Med1 = 1 and med2 = 124:  26766    625     26141         0   625  23234\n",
      "Med1 = 1 and med2 = 125:  26766    675     26091         0   675  23234\n",
      "Med1 = 1 and med2 = 126:  26766    917     25849         0   917  23234\n",
      "Med1 = 1 and med2 = 127:  26766   4294     22472         0  4294  23234\n",
      "Med1 = 1 and med2 = 128:  26766    787     25979         0   787  23234\n"
     ]
    }
   ],
   "source": [
    "print(\"                          #med1  #med2 #justmed1 #justmed2 #both  #none\")\n",
    "for i in range(129):\n",
    "    compareTwoMedicines(1, i, 50000)"
   ]
  },
  {
   "cell_type": "markdown",
   "metadata": {},
   "source": [
    "Let's now for a second assume that the gene specific treatments only target a single gene, and more precisely, that treatment 3 correspond to gene 1, treatment 4 correspond to gene 4 and so on. This might be a far fetched assumption, but it's the way we have interpreted the exercise. Then we can conduct a similar calculation as above and look at the proportions of the different genes. That is, for each patient we record wether the treatment was a success or not, and in either case we also record the value of the specific gene. We do this for 10 000 patients. From these calulations we get empirical estimates for the 1) probabilities that a given treatment is a success given the value of the genes, 2) the probabilities for a gene taking on a specific value given that the treatment was a success and 3) general success rates and failure rates. Below you see the code and the final table of the 20 \"best\" treatments, under the assumption that we always recommend it no mater the features and that we can give mutiple treatments to the same people."
   ]
  },
  {
   "cell_type": "code",
   "execution_count": 52,
   "metadata": {},
   "outputs": [],
   "source": [
    "def test_policy2(generator, policy, reward_function, T):\n",
    "    policy.set_reward(reward_function)\n",
    "    # Set seed for reproducibility\n",
    "    seed_number = 333213\n",
    "    # Utility\n",
    "    u = 0\n",
    "    # varaible to count\n",
    "    number_treated_gen0 = 0\n",
    "    number_treated_gen1 = 0\n",
    "    number_failed_gen0  = 0\n",
    "    number_failed_gen1  = 0\n",
    "    \n",
    "    for t in range(T):\n",
    "        # For reproducibility and to analyse the same patients every time the code is called\n",
    "        np.random.seed(seed_number + t)\n",
    "        # We generate 1 new pasient\n",
    "        x = generator.generate_features()\n",
    "        # Fixed model, always give a fixed number\n",
    "        a = policy.recommend(x)\n",
    "        # Generate the outcome based on user_data and action\n",
    "        y = generator.generate_outcome(x, a)\n",
    "        # Add the utility/reward\n",
    "        u += reward_function(a, y)\n",
    "        \n",
    "        # From the feedback after the presentation you said we should look at the proportions of gene0 and gene1 for the \n",
    "        # general treatments. Since they do not correspond to a single gen we assume that your note was reagarding the fact \n",
    "        # that we highlightet treatment 127/gene 125 and hence that we should look at these proportions.\n",
    "        # We can do this by just changing the a value here and use the same code as before:\n",
    "        if (a in [0,1,2]): \n",
    "            a = 127\n",
    "        \n",
    "        # If success or failure count the genes\n",
    "        if(y == 1): \n",
    "            if (x[a] == 0):\n",
    "                number_treated_gen0 += 1\n",
    "            if (x[a] == 1):\n",
    "                number_treated_gen1 += 1\n",
    "        else:\n",
    "            if (x[a] == 0):\n",
    "                number_failed_gen0 += 1\n",
    "            if (x[a] == 1):\n",
    "                number_failed_gen1 += 1\n",
    "                \n",
    "        \n",
    "    return [u/T, number_treated_gen0, number_treated_gen1, number_failed_gen0, number_failed_gen1] "
   ]
  },
  {
   "cell_type": "code",
   "execution_count": 53,
   "metadata": {},
   "outputs": [
    {
     "name": "stdout",
     "output_type": "stream",
     "text": [
      "Treatment  Utility  Total success: %gen0   %gen1   Total fail: %gen0   %gen1    Successrate given gen0/gen1\n",
      "        2    0.444        5443     0.305   0.695        4557    0.548   0.452    0.400  0.647 (ratios of gene 125)\n",
      "        1    0.434        5341     0.457   0.543        4659    0.368   0.632    0.588  0.496 (ratios of gene 125)\n",
      "        0    0.014         140     0.564   0.436        9860    0.414   0.586    0.019  0.010 (ratios of gene 125)\n",
      "      127   -0.009         906     0.091   0.909        9094    0.448   0.552    0.020  0.141 \n",
      "       86   -0.040         603     0.221   0.779        9397    0.531   0.469    0.026  0.096 \n",
      "       28   -0.062         380     0.463   0.537        9620    0.493   0.507    0.036  0.040 \n",
      "       26   -0.063         368     0.139   0.861        9632    0.517   0.483    0.010  0.064 \n",
      "       11   -0.065         354     0.136   0.864        9646    0.516   0.484    0.010  0.062 \n",
      "        9   -0.067         334     0.266   0.734        9666    0.512   0.488    0.018  0.049 \n",
      "       92   -0.069         315     0.441   0.559        9685    0.503   0.497    0.028  0.035 \n",
      "       64   -0.072         282     0.273   0.727        9718    0.509   0.491    0.015  0.041 \n",
      "      111   -0.072         280     0.357   0.643        9720    0.496   0.504    0.020  0.035 \n",
      "      100   -0.072         279     0.276   0.724        9721    0.508   0.492    0.015  0.040 \n",
      "       21   -0.073         271     0.321   0.679        9729    0.504   0.496    0.017  0.037 \n",
      "       75   -0.074         260     0.512   0.488        9740    0.497   0.503    0.027  0.025 \n",
      "      103   -0.075         253     0.577   0.423        9747    0.501   0.499    0.029  0.022 \n",
      "       53   -0.075         249     0.739   0.261        9751    0.502   0.498    0.036  0.013 \n",
      "      106   -0.076         243     0.403   0.597        9757    0.498   0.502    0.020  0.029 \n",
      "       49   -0.076         237     0.764   0.236        9763    0.497   0.503    0.036  0.011 \n",
      "       94   -0.077         227     0.577   0.423        9773    0.495   0.505    0.026  0.019 \n"
     ]
    }
   ],
   "source": [
    "import FixedTreatmentRecommender\n",
    "\n",
    "# matrix to store the results for the 129 medicines\n",
    "results_fixed_treatment = np.zeros((generator.get_n_actions(), 5))\n",
    "\n",
    "# Number of patients\n",
    "T = 10000\n",
    "\n",
    "# Run each model\n",
    "for i in range(len(results_fixed_treatment)):\n",
    "    policy_temp = FixedTreatmentRecommender.FixedTreatmentRecommender(generator.get_n_actions(), generator.get_n_outcomes(), i)\n",
    "    results_fixed_treatment[i] = test_policy2(generator, policy_temp, reward_function, T)\n",
    "\n",
    "\n",
    "# Let's only look at the k best gene treatments\n",
    "k = 20\n",
    "best_indices = np.argsort(-results_fixed_treatment[:,0])[:k]\n",
    "\n",
    "print(\"Treatment  Utility  Total success: %gen0   %gen1   Total fail: %gen0   %gen1    Successrate given gen0/gen1\")\n",
    "for i in best_indices:\n",
    "    util = results_fixed_treatment[i,0]\n",
    "    suc0 = results_fixed_treatment[i,1]\n",
    "    suc1 = results_fixed_treatment[i,2]\n",
    "    fail0 = results_fixed_treatment[i,3]\n",
    "    fail1 = results_fixed_treatment[i,4]\n",
    "    tot_suc = suc0 + suc1\n",
    "    tot_fail = fail0 + fail1\n",
    "    tot = tot_suc + tot_fail\n",
    "    percentage_suc0 = suc0 / tot_suc\n",
    "    percentage_suc1 = suc1 / tot_suc\n",
    "    percentage_fail0 = fail0 / tot_fail\n",
    "    percentage_fail1 = fail1 / tot_fail\n",
    "    percentage_0_succ = suc0/(suc0+fail0)\n",
    "    percentage_1_succ = suc1/(suc1+fail1)\n",
    "    if (i in [0,1,2]):\n",
    "        print(\"%9d  %7.3f        %4d     %4.3f   %4.3f        %3d  %7.3f  %6.3f   %6.3f %6.3f (ratios of gene 125)\" % (i, util, tot_suc, percentage_suc0, percentage_suc1, tot_fail, percentage_fail0, percentage_fail1,  percentage_0_succ, percentage_1_succ))\n",
    "    else:\n",
    "        print(\"%9d  %7.3f        %4d     %4.3f   %4.3f        %3d  %7.3f  %6.3f   %6.3f %6.3f \" % (i, util, tot_suc, percentage_suc0, percentage_suc1, tot_fail, percentage_fail0, percentage_fail1,  percentage_0_succ, percentage_1_succ))\n"
   ]
  },
  {
   "cell_type": "markdown",
   "metadata": {},
   "source": [
    "As in our presentation we want to highlight treatment 127, corresponding to gene 125. If we know the treatment was a success, then we can with a high probability, more precise $91\\%$, assume that the value of gene 125 was 1. However, this doesn't mean that we should give treatment 127 to a pasient with the value of gene 125 being 1, since the successrate is only $14.1\\%$, while the successrates for the general treatments are much higher. \n",
    "Note that the table display the successrates of the general treatment given gene 125 and they are both better independently of the value of gene 125. These values are only comparable with treatment 127. From them we see that there is a higher successrate for treatment 1 if gene 125 is 0, while the successrate of treatment 2 is higher if the gene has a value of 1.\n",
    "\n",
    "This whole analysis has been a huge digression, but that is something we did after we made some models which became worse when we introduced the new treatments. We had initaially assumed that our results would become better with the new treatments, which we have concluded is wrong. Hence when we do an exploration later on, we are losing potential utility which we are not able to re-earn. Once again, we highlight this, since we have the generator file we can look at it. If we let the $\\texttt{OptimalRecommender}$ recommend between action zero to two or zero to 129, we obtain the same results. Again, this is not possible in the real world, but since we are working in a sandbox scenario we wanted to make a note of it."
   ]
  },
  {
   "cell_type": "code",
   "execution_count": 106,
   "metadata": {},
   "outputs": [
    {
     "name": "stdout",
     "output_type": "stream",
     "text": [
      "Optimal (129 treatments): \n",
      "Done with n = 0\n",
      "Done with n = 10\n",
      "Done with n = 20\n",
      "Done with n = 30\n",
      "Done with n = 40\n",
      "Done with n = 50\n",
      "Done with n = 60\n",
      "Done with n = 70\n",
      "Done with n = 80\n",
      "Done with n = 90\n",
      "Utility percentiles(2.5, 50, 97.5):  [0.632655 0.6624   0.693945]\n",
      "Percentage of treatments percentiles(2.5, 50, 97.5):  [0.70295 0.736   0.77105]\n",
      "Optimal (3 treatments): \n",
      "Done with n = 0\n",
      "Done with n = 10\n",
      "Done with n = 20\n",
      "Done with n = 30\n",
      "Done with n = 40\n",
      "Done with n = 50\n",
      "Done with n = 60\n",
      "Done with n = 70\n",
      "Done with n = 80\n",
      "Done with n = 90\n",
      "Utility percentiles(2.5, 50, 97.5):  [0.632655 0.6624   0.693945]\n",
      "Percentage of treatments percentiles(2.5, 50, 97.5):  [0.70295 0.736   0.77105]\n"
     ]
    }
   ],
   "source": [
    "T = 500\n",
    "N = 100\n",
    "\n",
    "print(\"Optimal (129 treatments): \")\n",
    "create_CI(generator, policy_factory_optimal, reward_function, T, N, features, actions, outcome, extra = generator.get_n_actions())\n",
    "print(\"Optimal (3 treatments): \")\n",
    "create_CI(generator, policy_factory_optimal, reward_function, T, N, features, actions, outcome, extra = 3)"
   ]
  },
  {
   "cell_type": "markdown",
   "metadata": {},
   "source": [
    "Let's forget this for a moment and rather illustrate how we obtained the results we presentated at the seminar, table 2. That is, where we let the the improved polcies take on values zero, one and two. Let's start by looking at the neural network. Initialy we thought we had to manually force it to explore the second treatment, but after some simulations we figured out that we actually obtained the best results by not forcing the neural network to recommend the second general treatment. Why this is, we are not certain of. Maybe NN are exporationary by nature or we might just been lucky. Either way, the new policy recommend treatments much more often than before and obtain a median utility of 0.622 which is pretty close to the optimal value of 0.666. \n",
    "The NN recommends the action, among the three, that maximizes the estimated reward of the patient.\n",
    "\n",
    "Our results with the logistic model did not work as we had intended. It uses the same idea as above to choose it recommendations, but it ends up always chosing the second treatment. We do not think there is an error in the code, but it is strange that the confidence intervals have zero width. Under the assumption that our code is correct is that the model is too optimistic on the effect of the treatment and that the coefficient corresponding to the action variable is positive, hence it chooses the second action. \n",
    "\n",
    "In the presentation we highlighted this issue and presented a possible solution, which would be to use dummy variables for the action. Your feedback was that that might work, but you recommended us to have a seperate model for each action. We have looked into this and will presentate our findings later in the paper.\n"
   ]
  },
  {
   "cell_type": "code",
   "execution_count": null,
   "metadata": {},
   "outputs": [],
   "source": [
    "# We do not reccommend to run this chunk. It is computationally heavy and takes a long time to run.\n",
    "# We ran it in the terminal, since it is faster.\n",
    "T = 100\n",
    "N = 100\n",
    "\n",
    "# Optimal recommender\n",
    "import OptimalRecommender\n",
    "policy_factory_optimal = OptimalRecommender.OptimalRecommender\n",
    "\n",
    "# Single logistic\n",
    "import LogisticRecommender2Actions\n",
    "policy_factory_logistic = LogisticRecommender2Actions.LogisticRecommender2Actions\n",
    "\n",
    "# Nerural network\n",
    "import NeuralNetworkRecommender2Actions\n",
    "policy_factory_NN = NeuralNetworkRecommender2Actions.NeuralNetworkRecommender2Actions\n",
    "\n",
    "print(\"Optimal: \")\n",
    "create_CI(generator, policy_factory_optimal, reward_function, T, N, features, actions, outcome, extra = 2)\n",
    "\n",
    "print(\"Single logistic model: \")\n",
    "create_CI(generator, policy_factory_logistic, reward_function, T, N, features, actions, outcome, extra = 1)\n",
    "\n",
    "print(\"NN(5,2): \")\n",
    "create_CI(generator, policy_factory_NN, reward_function, T, N, features, actions, outcome, extra = [1, [5,2]])"
   ]
  },
  {
   "cell_type": "markdown",
   "metadata": {},
   "source": [
    "![title](Table2.png)\n",
    "![title](Table3.png)"
   ]
  },
  {
   "cell_type": "markdown",
   "metadata": {},
   "source": [
    "## The new version of logistic based on presentation feedback:\n",
    "\n",
    "We start by looking at the version of the logistic model. Here we only look at the three first actions. Note that only action 2 is unknown. Hence we force or model to explore this choice 20 times. This number should propably been decided dynamically by some method, but we lack time to do the analysis. After the first 20 patients it recommends the action with highest estimated utility. Note that the recommender now have 3 models. In the first model all the actions are 0, in the second they are 1 and in the last one we only have action 2. We did not have time to run the $\\texttt{create_CI}$, so we simply ran the code with 2000 patients and looked at the utility. Since we treated so many pasients we hope that the utility has converged. From the printouts that looks to be a reasonable assumption. One should note that the recommender is still too optimistic and prescribe the treatment too often. However, it accheive the best mean utility we have observed this far.\n"
   ]
  },
  {
   "cell_type": "code",
   "execution_count": 13,
   "metadata": {},
   "outputs": [
    {
     "name": "stdout",
     "output_type": "stream",
     "text": [
      "Iteration:    0 \t Current mean reward:  0.9000\n",
      "Iteration:  100 \t Current mean reward:  0.5931\n",
      "Iteration:  200 \t Current mean reward:  0.6413\n",
      "Iteration:  300 \t Current mean reward:  0.6276\n",
      "Iteration:  400 \t Current mean reward:  0.6357\n",
      "Iteration:  500 \t Current mean reward:  0.6305\n",
      "Iteration:  600 \t Current mean reward:  0.6354\n",
      "Iteration:  700 \t Current mean reward:  0.6389\n",
      "Iteration:  800 \t Current mean reward:  0.6441\n",
      "Iteration:  900 \t Current mean reward:  0.6425\n",
      "Iteration: 1000 \t Current mean reward:  0.6473\n",
      "Iteration: 1100 \t Current mean reward:  0.6493\n",
      "Iteration: 1200 \t Current mean reward:  0.6510\n",
      "Iteration: 1300 \t Current mean reward:  0.6487\n",
      "Iteration: 1400 \t Current mean reward:  0.6545\n",
      "Iteration: 1500 \t Current mean reward:  0.6602\n",
      "Iteration: 1600 \t Current mean reward:  0.6633\n",
      "Iteration: 1700 \t Current mean reward:  0.6590\n",
      "Iteration: 1800 \t Current mean reward:  0.6562\n",
      "Iteration: 1900 \t Current mean reward:  0.6564\n"
     ]
    },
    {
     "data": {
      "text/plain": [
       "[0.6565000000000086, 2000]"
      ]
     },
     "execution_count": 13,
     "metadata": {},
     "output_type": "execute_result"
    }
   ],
   "source": [
    "import LogisticRecommender2Tips\n",
    "T = 2000\n",
    "\n",
    "policy_factory_tips = LogisticRecommender2Tips.LogisticRecommender2Tips\n",
    "policy_logistic_tips = policy_factory_tips(generator.get_n_actions(), generator.get_n_outcomes(), force_alt_med = 20, force_action=2)\n",
    "policy_logistic_tips.set_reward(reward_function)\n",
    "policy_logistic_tips.fit_treatment_outcome(features, actions, outcome)\n",
    "test_policy(generator, policy_logistic_tips, reward_function, T, 1334, printout = True)"
   ]
  },
  {
   "cell_type": "markdown",
   "metadata": {},
   "source": [
    "We tried to generalize this method to the case with 129 treatments. However, we got stuck. Since we use a logistic model we need a training set which contains instances of both outcomes, for most of the treatments we did not acchieve this even when we forced the recommender to recommend each treatment 20 times. Then we though we could remove the treatments which yielded no sucess after 20 patients. However, we ran into some coding issues and had no time to solve the bugs. We think this could have given some good results. Instead we choose to explore the 129 treatments based on a method we looked at in class, Thompson sampling, which yielded acceptable results."
   ]
  },
  {
   "cell_type": "markdown",
   "metadata": {},
   "source": [
    "### Thompson sampling\n",
    "In class we devoled the $\\texttt{thompson_bandit}$. It has a beta prior for each of the 129 treatments. The first two treatments we know quite a lot about, we could have found empirical parameters for the beta prior by momentmatching (set the analytic and the historical moments to be identical), but we have chosen parameters which creates the prior we ought to have. The prior for the placebo has the majority of it's weight located close to 0 while the first treatment has a more evenly distributed weight with the mode at 0.5. For the other treatments we do not know anything, hence we chose a uniform dsitribution for them. These priors will be washed away by the data. \n",
    "For each patient we draw a random value from the distributions for each of the treatments and recommend the treatment with the maximum value. From the printout below we see that the recommender first tries out the different treatments and learn from this. After some time it will figure out which treatments are the best and always go for this or these. If there is a treatment superior then it will always chose that one, but in this case both action 1 and action 2 are almost equally good(from earlier analysis), so we will recommend a mixture of them over time. This is because of the randomness by drawing a random point from the distributions.  \n",
    "We see that the utility converges to around 0.443. This is as expected. From earlier analysis we showed that treatment 1 and treatment 2 was effective in about 54% of the cases. If we also include the -0.1 penalty in the utility function we end up with the utility that we see here."
   ]
  },
  {
   "cell_type": "code",
   "execution_count": 100,
   "metadata": {},
   "outputs": [
    {
     "name": "stdout",
     "output_type": "stream",
     "text": [
      "Thompson 20 000:\n",
      "Iteration:      0 \t Current mean reward: -0.1000\n",
      "Iteration:   1000 \t Current mean reward:  0.0086\n",
      "Iteration:   2000 \t Current mean reward:  0.1594\n",
      "Iteration:   3000 \t Current mean reward:  0.2469\n",
      "Iteration:   4000 \t Current mean reward:  0.2940\n",
      "Iteration:   5000 \t Current mean reward:  0.3192\n",
      "Iteration:   6000 \t Current mean reward:  0.3426\n",
      "Iteration:   7000 \t Current mean reward:  0.3575\n",
      "Iteration:   8000 \t Current mean reward:  0.3695\n",
      "Iteration:   9000 \t Current mean reward:  0.3775\n",
      "Iteration:  10000 \t Current mean reward:  0.3827\n",
      "Iteration:  11000 \t Current mean reward:  0.3863\n",
      "Iteration:  12000 \t Current mean reward:  0.3895\n",
      "Iteration:  13000 \t Current mean reward:  0.3935\n",
      "Iteration:  14000 \t Current mean reward:  0.3968\n",
      "Iteration:  15000 \t Current mean reward:  0.3995\n",
      "Iteration:  16000 \t Current mean reward:  0.4007\n",
      "Iteration:  17000 \t Current mean reward:  0.4034\n",
      "Iteration:  18000 \t Current mean reward:  0.4057\n",
      "Iteration:  19000 \t Current mean reward:  0.4071\n",
      "10 most used treatments:\n",
      "Treatment:      2     1     0    45     4     7    97    65    66    32\n",
      "Times used: 14994  3740    15    15    15    15    15    14    14    14\n",
      "\n",
      "Thompson 200 000:\n",
      "Iteration:      0 \t Current mean reward: -0.1000\n",
      "Iteration:  10000 \t Current mean reward:  0.3827\n",
      "Iteration:  20000 \t Current mean reward:  0.4095\n",
      "Iteration:  30000 \t Current mean reward:  0.4182\n",
      "Iteration:  40000 \t Current mean reward:  0.4241\n",
      "Iteration:  50000 \t Current mean reward:  0.4283\n",
      "Iteration:  60000 \t Current mean reward:  0.4317\n",
      "Iteration:  70000 \t Current mean reward:  0.4347\n",
      "Iteration:  80000 \t Current mean reward:  0.4356\n",
      "Iteration:  90000 \t Current mean reward:  0.4369\n",
      "Iteration: 100000 \t Current mean reward:  0.4388\n",
      "Iteration: 110000 \t Current mean reward:  0.4397\n",
      "Iteration: 120000 \t Current mean reward:  0.4407\n",
      "Iteration: 130000 \t Current mean reward:  0.4411\n",
      "Iteration: 140000 \t Current mean reward:  0.4414\n",
      "Iteration: 150000 \t Current mean reward:  0.4417\n",
      "Iteration: 160000 \t Current mean reward:  0.4416\n",
      "Iteration: 170000 \t Current mean reward:  0.4420\n",
      "Iteration: 180000 \t Current mean reward:  0.4426\n",
      "Iteration: 190000 \t Current mean reward:  0.4430\n",
      "10 most used treatments:\n",
      "Treatment:       2      1     0   119   111    75    66    98    97    92\n",
      "Times used:  14994   3740    15    13    13    14    14    13    15    13\n",
      "\n",
      "Thompson  (20 000): utility = 0.409575\n",
      "Thompson (200 000): utility = 0.443400\n"
     ]
    }
   ],
   "source": [
    "T = 20000\n",
    "import thompson_bandit\n",
    "\n",
    "n_actions = 129\n",
    "n_outcomes = 2\n",
    "prior_a = [2,2] + [1]*127\n",
    "prior_b = [5,2] + [1]*127\n",
    "thompson_policy = thompson_bandit.ThompsonBandit(129, 2, prior_a, prior_b)\n",
    "print(\"Thompson 20 000:\")\n",
    "thompson_result1 = test_policy(generator, thompson_policy, reward_function, T, 100, True, 1000, True)\n",
    "\n",
    "print(\"10 most used treatments:\")\n",
    "b = np.argsort(-thompson_result1[2])[:10]\n",
    "print(\"Treatment:  %5d %5d %5d %5d %5d %5d %5d %5d %5d %5d\" % (b[0], b[1], b[2], b[3], b[4], b[5], b[6], b[7], b[8], b[9]))\n",
    "r = thompson_result1[2][b]\n",
    "print(\"Times used: %5d %5d %5d %5d %5d %5d %5d %5d %5d %5d\" % (r[0], r[1], r[2], r[3], r[4], r[5], r[6], r[7], r[8], r[9]))\n",
    "\n",
    "\n",
    "T = 200000\n",
    "print(\"\\nThompson 200 000:\")\n",
    "thompson_policy = thompson_bandit.ThompsonBandit(129, 2, prior_a, prior_b)\n",
    "thompson_result2 = test_policy(generator, thompson_policy, reward_function, T, 100, True, 10000, True)\n",
    "print(\"10 most used treatments:\")\n",
    "b = np.argsort(-thompson_result2[2])[:10]\n",
    "print(\"Treatment:  %6d %6d %5d %5d %5d %5d %5d %5d %5d %5d\" % (b[0], b[1], b[2], b[3], b[4], b[5], b[6], b[7], b[8], b[9]))\n",
    "r = thompson_result1[2][b]\n",
    "print(\"Times used: %6d %6d %5d %5d %5d %5d %5d %5d %5d %5d\" % (r[0], r[1], r[2], r[3], r[4], r[5], r[6], r[7], r[8], r[9]))\n",
    "\n",
    "\n",
    "print(\"\\nThompson  (20 000): utility = %f\" %thompson_result1[0])\n",
    "print(\"Thompson (200 000): utility = %f\" %thompson_result2[0])"
   ]
  },
  {
   "cell_type": "markdown",
   "metadata": {},
   "source": [
    "# A small discussion on Privacy and Fairness\n",
    "\n",
    "As statisticians we have to remember that data we are working on often origins from human beings and that our conclusions can effect their lives. It is therefor important to adress certain concepts such as privacy and fairness. The former is related to the fact that the data can be e.g. stolen by an adversary. This might be an insurance company which are able to identify you based on database merging and from this they might increase the insurence due to some specefic genes, hypotetically. We do not want this to happen. We might solve this by adding noise to the features. Since we are dealing with binary data this correspond to flip some of the values. However, this might also make it harder for us to give the right treatments. Say that we have a treatment that always work if the pacients have a set of genes, but it is lethal if you don't have the right genes (extremmly hypotetically case). In this scenario we have to be sure about the genes, but if the data has noise we cannot use this medicine on the patient without risking his/hers life. \n",
    "\n",
    "One should also adress fairness. That is that our recommender doesn't discriminate based on gender, ethnectiy, ect. In this dataset the only potential disciminative featuers are the features regarding gender and whether or not the patient smoke. In this project we are in a different setting than in the previous project and it might be a good ting to seperate based on gender. Say that treatment 1 is more effective on female while treatment 2 is more effective on men, then we would like to know the gender on the patient. However, if we are in the first setting were males more often are given placebo then women, then this might be a issue. \n",
    "\n",
    "We have not done any analysis on our models in this project, since we did it in the previous one, but we wanted to adress it."
   ]
  }
 ],
 "metadata": {
  "kernelspec": {
   "display_name": "Python 3",
   "language": "python",
   "name": "python3"
  },
  "language_info": {
   "codemirror_mode": {
    "name": "ipython",
    "version": 3
   },
   "file_extension": ".py",
   "mimetype": "text/x-python",
   "name": "python",
   "nbconvert_exporter": "python",
   "pygments_lexer": "ipython3",
   "version": "3.6.5"
  }
 },
 "nbformat": 4,
 "nbformat_minor": 2
}
