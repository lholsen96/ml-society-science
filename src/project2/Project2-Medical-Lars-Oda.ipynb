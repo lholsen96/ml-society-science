{
 "cells": [
  {
   "cell_type": "markdown",
   "metadata": {},
   "source": [
    "# Medical Project\n",
    "### Lars Olsen and Oda Kristensen"
   ]
  },
  {
   "cell_type": "markdown",
   "metadata": {},
   "source": [
    "We start by importing some packages and modules:"
   ]
  },
  {
   "cell_type": "code",
   "execution_count": 2,
   "metadata": {
    "collapsed": true
   },
   "outputs": [],
   "source": [
    "import pandas as pd\n",
    "import matplotlib.pyplot as plt\n",
    "%matplotlib inline\n",
    "\n",
    "from sklearn.model_selection import train_test_split\n",
    "from sklearn.cluster import KMeans\n",
    "from sklearn.mixture import GaussianMixture"
   ]
  },
  {
   "cell_type": "code",
   "execution_count": 3,
   "metadata": {
    "collapsed": true
   },
   "outputs": [],
   "source": [
    "import numpy as np\n",
    "import pandas as pd\n",
    "from sklearn.linear_model import LogisticRegression\n",
    "from sklearn.model_selection import cross_val_score, KFold\n",
    "from sklearn.metrics import confusion_matrix, accuracy_score, make_scorer\n",
    "import matplotlib.pyplot as plt\n",
    "import seaborn as sns, numpy as np\n",
    "from scipy.stats import norm\n",
    "from __future__ import print_function\n",
    "\n",
    "from sklearn.datasets import make_blobs\n",
    "from sklearn.cluster import KMeans\n",
    "from sklearn.metrics import silhouette_samples, silhouette_score\n",
    "\n",
    "import matplotlib.pyplot as plt\n",
    "import matplotlib.cm as cm\n",
    "import numpy as np\n",
    "%matplotlib inline"
   ]
  },
  {
   "cell_type": "markdown",
   "metadata": {},
   "source": [
    "We read the files:"
   ]
  },
  {
   "cell_type": "code",
   "execution_count": 4,
   "metadata": {
    "collapsed": true
   },
   "outputs": [],
   "source": [
    "features = pd.read_csv('historical_X.dat', header=None, sep=\" \").values\n",
    "actions = pd.read_csv('historical_A.dat', header=None, sep=\" \").values\n",
    "outcome = pd.read_csv('historical_Y.dat', header=None, sep=\" \").values"
   ]
  },
  {
   "cell_type": "markdown",
   "metadata": {},
   "source": [
    "In this part of the project we are only interested in the features. The first 128 features are what we obsere; sex, smoker and 126 genes. The 2 last attributes are the symptoms and these can be taken to be akin to labels in supervised learning."
   ]
  },
  {
   "cell_type": "code",
   "execution_count": 5,
   "metadata": {
    "collapsed": true
   },
   "outputs": [],
   "source": [
    "observations = features[:, :128]\n",
    "labels = features[:,128] + features[:,129]*2"
   ]
  },
  {
   "cell_type": "markdown",
   "metadata": {},
   "source": [
    "We take a look at the observations of the 1st pacient, sex = 0, and non smoker."
   ]
  },
  {
   "cell_type": "code",
   "execution_count": 6,
   "metadata": {},
   "outputs": [
    {
     "data": {
      "text/plain": [
       "array([0, 0, 0, 0, 1, 1, 0, 0, 1, 1, 0, 1, 0, 0, 0, 0, 1, 0, 1, 1, 1, 1,\n",
       "       0, 1, 1, 0, 1, 1, 0, 0, 0, 0, 1, 1, 0, 1, 1, 0, 0, 0, 0, 0, 0, 0,\n",
       "       1, 1, 0, 0, 1, 0, 1, 0, 1, 0, 1, 0, 0, 0, 0, 1, 1, 1, 1, 0, 1, 1,\n",
       "       1, 1, 0, 0, 0, 1, 0, 1, 0, 1, 0, 0, 0, 0, 1, 0, 0, 0, 0, 1, 0, 1,\n",
       "       0, 1, 1, 0, 0, 1, 0, 0, 1, 0, 0, 1, 1, 1, 1, 0, 1, 0, 1, 0, 1, 1,\n",
       "       1, 1, 1, 0, 1, 1, 0, 0, 0, 0, 0, 1, 1, 0, 1, 1, 0, 0], dtype=int64)"
      ]
     },
     "execution_count": 6,
     "metadata": {},
     "output_type": "execute_result"
    }
   ],
   "source": [
    "observations[0]"
   ]
  },
  {
   "cell_type": "markdown",
   "metadata": {},
   "source": [
    "We divide our data set into a traing set and a test set."
   ]
  },
  {
   "cell_type": "code",
   "execution_count": 7,
   "metadata": {
    "collapsed": true
   },
   "outputs": [],
   "source": [
    "obs_train, obs_test, lab_train, lab_test = train_test_split(observations, labels, test_size=0.25)"
   ]
  },
  {
   "cell_type": "markdown",
   "metadata": {},
   "source": [
    "Let's look at the distribution of symptoms:"
   ]
  },
  {
   "cell_type": "code",
   "execution_count": 8,
   "metadata": {},
   "outputs": [
    {
     "data": {
      "text/plain": [
       "(array([3587.,    0.,    0., 3180.,    0.,    0.,  419.,    0.,    0.,\n",
       "         314.]),\n",
       " array([0. , 0.3, 0.6, 0.9, 1.2, 1.5, 1.8, 2.1, 2.4, 2.7, 3. ]),\n",
       " <a list of 10 Patch objects>)"
      ]
     },
     "execution_count": 8,
     "metadata": {},
     "output_type": "execute_result"
    },
    {
     "data": {
      "image/png": "[encoded data removed]",
      "text/plain": [
       "<Figure size 432x288 with 1 Axes>"
      ]
     },
     "metadata": {},
     "output_type": "display_data"
    }
   ],
   "source": [
    "plt.hist(lab_train)"
   ]
  },
  {
   "cell_type": "markdown",
   "metadata": {},
   "source": [
    "We now take a look at the histogram of observation. "
   ]
  },
  {
   "cell_type": "code",
   "execution_count": 9,
   "metadata": {},
   "outputs": [
    {
     "data": {
      "text/plain": [
       "([array([3762.,    0.,    0.,    0.,    0.,    0.,    0.,    0.,    0.,\n",
       "         3738.]),\n",
       "  array([5436.,    0.,    0.,    0.,    0.,    0.,    0.,    0.,    0.,\n",
       "         2064.]),\n",
       "  array([3709.,    0.,    0.,    0.,    0.,    0.,    0.,    0.,    0.,\n",
       "         3791.]),\n",
       "  array([3688.,    0.,    0.,    0.,    0.,    0.,    0.,    0.,    0.,\n",
       "         3812.]),\n",
       "  array([3725.,    0.,    0.,    0.,    0.,    0.,    0.,    0.,    0.,\n",
       "         3775.]),\n",
       "  array([3744.,    0.,    0.,    0.,    0.,    0.,    0.,    0.,    0.,\n",
       "         3756.]),\n",
       "  array([3803.,    0.,    0.,    0.,    0.,    0.,    0.,    0.,    0.,\n",
       "         3697.]),\n",
       "  array([3759.,    0.,    0.,    0.,    0.,    0.,    0.,    0.,    0.,\n",
       "         3741.]),\n",
       "  array([3797.,    0.,    0.,    0.,    0.,    0.,    0.,    0.,    0.,\n",
       "         3703.]),\n",
       "  array([3786.,    0.,    0.,    0.,    0.,    0.,    0.,    0.,    0.,\n",
       "         3714.]),\n",
       "  array([3712.,    0.,    0.,    0.,    0.,    0.,    0.,    0.,    0.,\n",
       "         3788.]),\n",
       "  array([3795.,    0.,    0.,    0.,    0.,    0.,    0.,    0.,    0.,\n",
       "         3705.]),\n",
       "  array([3740.,    0.,    0.,    0.,    0.,    0.,    0.,    0.,    0.,\n",
       "         3760.]),\n",
       "  array([3731.,    0.,    0.,    0.,    0.,    0.,    0.,    0.,    0.,\n",
       "         3769.]),\n",
       "  array([3689.,    0.,    0.,    0.,    0.,    0.,    0.,    0.,    0.,\n",
       "         3811.]),\n",
       "  array([3738.,    0.,    0.,    0.,    0.,    0.,    0.,    0.,    0.,\n",
       "         3762.]),\n",
       "  array([3771.,    0.,    0.,    0.,    0.,    0.,    0.,    0.,    0.,\n",
       "         3729.]),\n",
       "  array([3704.,    0.,    0.,    0.,    0.,    0.,    0.,    0.,    0.,\n",
       "         3796.]),\n",
       "  array([3775.,    0.,    0.,    0.,    0.,    0.,    0.,    0.,    0.,\n",
       "         3725.]),\n",
       "  array([3762.,    0.,    0.,    0.,    0.,    0.,    0.,    0.,    0.,\n",
       "         3738.]),\n",
       "  array([3748.,    0.,    0.,    0.,    0.,    0.,    0.,    0.,    0.,\n",
       "         3752.]),\n",
       "  array([3844.,    0.,    0.,    0.,    0.,    0.,    0.,    0.,    0.,\n",
       "         3656.]),\n",
       "  array([3829.,    0.,    0.,    0.,    0.,    0.,    0.,    0.,    0.,\n",
       "         3671.]),\n",
       "  array([3719.,    0.,    0.,    0.,    0.,    0.,    0.,    0.,    0.,\n",
       "         3781.]),\n",
       "  array([3749.,    0.,    0.,    0.,    0.,    0.,    0.,    0.,    0.,\n",
       "         3751.]),\n",
       "  array([3758.,    0.,    0.,    0.,    0.,    0.,    0.,    0.,    0.,\n",
       "         3742.]),\n",
       "  array([3820.,    0.,    0.,    0.,    0.,    0.,    0.,    0.,    0.,\n",
       "         3680.]),\n",
       "  array([3783.,    0.,    0.,    0.,    0.,    0.,    0.,    0.,    0.,\n",
       "         3717.]),\n",
       "  array([3736.,    0.,    0.,    0.,    0.,    0.,    0.,    0.,    0.,\n",
       "         3764.]),\n",
       "  array([3809.,    0.,    0.,    0.,    0.,    0.,    0.,    0.,    0.,\n",
       "         3691.]),\n",
       "  array([3722.,    0.,    0.,    0.,    0.,    0.,    0.,    0.,    0.,\n",
       "         3778.]),\n",
       "  array([3720.,    0.,    0.,    0.,    0.,    0.,    0.,    0.,    0.,\n",
       "         3780.]),\n",
       "  array([3721.,    0.,    0.,    0.,    0.,    0.,    0.,    0.,    0.,\n",
       "         3779.]),\n",
       "  array([3728.,    0.,    0.,    0.,    0.,    0.,    0.,    0.,    0.,\n",
       "         3772.]),\n",
       "  array([3731.,    0.,    0.,    0.,    0.,    0.,    0.,    0.,    0.,\n",
       "         3769.]),\n",
       "  array([3771.,    0.,    0.,    0.,    0.,    0.,    0.,    0.,    0.,\n",
       "         3729.]),\n",
       "  array([3727.,    0.,    0.,    0.,    0.,    0.,    0.,    0.,    0.,\n",
       "         3773.]),\n",
       "  array([3766.,    0.,    0.,    0.,    0.,    0.,    0.,    0.,    0.,\n",
       "         3734.]),\n",
       "  array([3735.,    0.,    0.,    0.,    0.,    0.,    0.,    0.,    0.,\n",
       "         3765.]),\n",
       "  array([3746.,    0.,    0.,    0.,    0.,    0.,    0.,    0.,    0.,\n",
       "         3754.]),\n",
       "  array([3779.,    0.,    0.,    0.,    0.,    0.,    0.,    0.,    0.,\n",
       "         3721.]),\n",
       "  array([3737.,    0.,    0.,    0.,    0.,    0.,    0.,    0.,    0.,\n",
       "         3763.]),\n",
       "  array([3796.,    0.,    0.,    0.,    0.,    0.,    0.,    0.,    0.,\n",
       "         3704.]),\n",
       "  array([3749.,    0.,    0.,    0.,    0.,    0.,    0.,    0.,    0.,\n",
       "         3751.]),\n",
       "  array([3726.,    0.,    0.,    0.,    0.,    0.,    0.,    0.,    0.,\n",
       "         3774.]),\n",
       "  array([3734.,    0.,    0.,    0.,    0.,    0.,    0.,    0.,    0.,\n",
       "         3766.]),\n",
       "  array([3706.,    0.,    0.,    0.,    0.,    0.,    0.,    0.,    0.,\n",
       "         3794.]),\n",
       "  array([3753.,    0.,    0.,    0.,    0.,    0.,    0.,    0.,    0.,\n",
       "         3747.]),\n",
       "  array([3632.,    0.,    0.,    0.,    0.,    0.,    0.,    0.,    0.,\n",
       "         3868.]),\n",
       "  array([3779.,    0.,    0.,    0.,    0.,    0.,    0.,    0.,    0.,\n",
       "         3721.]),\n",
       "  array([3701.,    0.,    0.,    0.,    0.,    0.,    0.,    0.,    0.,\n",
       "         3799.]),\n",
       "  array([3788.,    0.,    0.,    0.,    0.,    0.,    0.,    0.,    0.,\n",
       "         3712.]),\n",
       "  array([3799.,    0.,    0.,    0.,    0.,    0.,    0.,    0.,    0.,\n",
       "         3701.]),\n",
       "  array([3777.,    0.,    0.,    0.,    0.,    0.,    0.,    0.,    0.,\n",
       "         3723.]),\n",
       "  array([3756.,    0.,    0.,    0.,    0.,    0.,    0.,    0.,    0.,\n",
       "         3744.]),\n",
       "  array([3785.,    0.,    0.,    0.,    0.,    0.,    0.,    0.,    0.,\n",
       "         3715.]),\n",
       "  array([3721.,    0.,    0.,    0.,    0.,    0.,    0.,    0.,    0.,\n",
       "         3779.]),\n",
       "  array([3783.,    0.,    0.,    0.,    0.,    0.,    0.,    0.,    0.,\n",
       "         3717.]),\n",
       "  array([3724.,    0.,    0.,    0.,    0.,    0.,    0.,    0.,    0.,\n",
       "         3776.]),\n",
       "  array([3748.,    0.,    0.,    0.,    0.,    0.,    0.,    0.,    0.,\n",
       "         3752.]),\n",
       "  array([3759.,    0.,    0.,    0.,    0.,    0.,    0.,    0.,    0.,\n",
       "         3741.]),\n",
       "  array([3781.,    0.,    0.,    0.,    0.,    0.,    0.,    0.,    0.,\n",
       "         3719.]),\n",
       "  array([3786.,    0.,    0.,    0.,    0.,    0.,    0.,    0.,    0.,\n",
       "         3714.]),\n",
       "  array([3779.,    0.,    0.,    0.,    0.,    0.,    0.,    0.,    0.,\n",
       "         3721.]),\n",
       "  array([3839.,    0.,    0.,    0.,    0.,    0.,    0.,    0.,    0.,\n",
       "         3661.]),\n",
       "  array([3810.,    0.,    0.,    0.,    0.,    0.,    0.,    0.,    0.,\n",
       "         3690.]),\n",
       "  array([3753.,    0.,    0.,    0.,    0.,    0.,    0.,    0.,    0.,\n",
       "         3747.]),\n",
       "  array([3700.,    0.,    0.,    0.,    0.,    0.,    0.,    0.,    0.,\n",
       "         3800.]),\n",
       "  array([3795.,    0.,    0.,    0.,    0.,    0.,    0.,    0.,    0.,\n",
       "         3705.]),\n",
       "  array([3756.,    0.,    0.,    0.,    0.,    0.,    0.,    0.,    0.,\n",
       "         3744.]),\n",
       "  array([3729.,    0.,    0.,    0.,    0.,    0.,    0.,    0.,    0.,\n",
       "         3771.]),\n",
       "  array([3737.,    0.,    0.,    0.,    0.,    0.,    0.,    0.,    0.,\n",
       "         3763.]),\n",
       "  array([3720.,    0.,    0.,    0.,    0.,    0.,    0.,    0.,    0.,\n",
       "         3780.]),\n",
       "  array([3757.,    0.,    0.,    0.,    0.,    0.,    0.,    0.,    0.,\n",
       "         3743.]),\n",
       "  array([3688.,    0.,    0.,    0.,    0.,    0.,    0.,    0.,    0.,\n",
       "         3812.]),\n",
       "  array([3735.,    0.,    0.,    0.,    0.,    0.,    0.,    0.,    0.,\n",
       "         3765.]),\n",
       "  array([3668.,    0.,    0.,    0.,    0.,    0.,    0.,    0.,    0.,\n",
       "         3832.]),\n",
       "  array([3734.,    0.,    0.,    0.,    0.,    0.,    0.,    0.,    0.,\n",
       "         3766.]),\n",
       "  array([3715.,    0.,    0.,    0.,    0.,    0.,    0.,    0.,    0.,\n",
       "         3785.]),\n",
       "  array([3773.,    0.,    0.,    0.,    0.,    0.,    0.,    0.,    0.,\n",
       "         3727.]),\n",
       "  array([3660.,    0.,    0.,    0.,    0.,    0.,    0.,    0.,    0.,\n",
       "         3840.]),\n",
       "  array([3805.,    0.,    0.,    0.,    0.,    0.,    0.,    0.,    0.,\n",
       "         3695.]),\n",
       "  array([3755.,    0.,    0.,    0.,    0.,    0.,    0.,    0.,    0.,\n",
       "         3745.]),\n",
       "  array([3726.,    0.,    0.,    0.,    0.,    0.,    0.,    0.,    0.,\n",
       "         3774.]),\n",
       "  array([3775.,    0.,    0.,    0.,    0.,    0.,    0.,    0.,    0.,\n",
       "         3725.]),\n",
       "  array([3668.,    0.,    0.,    0.,    0.,    0.,    0.,    0.,    0.,\n",
       "         3832.]),\n",
       "  array([3762.,    0.,    0.,    0.,    0.,    0.,    0.,    0.,    0.,\n",
       "         3738.]),\n",
       "  array([3746.,    0.,    0.,    0.,    0.,    0.,    0.,    0.,    0.,\n",
       "         3754.]),\n",
       "  array([3687.,    0.,    0.,    0.,    0.,    0.,    0.,    0.,    0.,\n",
       "         3813.]),\n",
       "  array([3706.,    0.,    0.,    0.,    0.,    0.,    0.,    0.,    0.,\n",
       "         3794.]),\n",
       "  array([3724.,    0.,    0.,    0.,    0.,    0.,    0.,    0.,    0.,\n",
       "         3776.]),\n",
       "  array([3711.,    0.,    0.,    0.,    0.,    0.,    0.,    0.,    0.,\n",
       "         3789.]),\n",
       "  array([3728.,    0.,    0.,    0.,    0.,    0.,    0.,    0.,    0.,\n",
       "         3772.]),\n",
       "  array([3731.,    0.,    0.,    0.,    0.,    0.,    0.,    0.,    0.,\n",
       "         3769.]),\n",
       "  array([3743.,    0.,    0.,    0.,    0.,    0.,    0.,    0.,    0.,\n",
       "         3757.]),\n",
       "  array([3629.,    0.,    0.,    0.,    0.,    0.,    0.,    0.,    0.,\n",
       "         3871.]),\n",
       "  array([3785.,    0.,    0.,    0.,    0.,    0.,    0.,    0.,    0.,\n",
       "         3715.]),\n",
       "  array([3723.,    0.,    0.,    0.,    0.,    0.,    0.,    0.,    0.,\n",
       "         3777.]),\n",
       "  array([3719.,    0.,    0.,    0.,    0.,    0.,    0.,    0.,    0.,\n",
       "         3781.]),\n",
       "  array([3769.,    0.,    0.,    0.,    0.,    0.,    0.,    0.,    0.,\n",
       "         3731.]),\n",
       "  array([3727.,    0.,    0.,    0.,    0.,    0.,    0.,    0.,    0.,\n",
       "         3773.]),\n",
       "  array([3746.,    0.,    0.,    0.,    0.,    0.,    0.,    0.,    0.,\n",
       "         3754.]),\n",
       "  array([3696.,    0.,    0.,    0.,    0.,    0.,    0.,    0.,    0.,\n",
       "         3804.]),\n",
       "  array([3815.,    0.,    0.,    0.,    0.,    0.,    0.,    0.,    0.,\n",
       "         3685.]),\n",
       "  array([3746.,    0.,    0.,    0.,    0.,    0.,    0.,    0.,    0.,\n",
       "         3754.]),\n",
       "  array([3709.,    0.,    0.,    0.,    0.,    0.,    0.,    0.,    0.,\n",
       "         3791.]),\n",
       "  array([3702.,    0.,    0.,    0.,    0.,    0.,    0.,    0.,    0.,\n",
       "         3798.]),\n",
       "  array([3736.,    0.,    0.,    0.,    0.,    0.,    0.,    0.,    0.,\n",
       "         3764.]),\n",
       "  array([3724.,    0.,    0.,    0.,    0.,    0.,    0.,    0.,    0.,\n",
       "         3776.]),\n",
       "  array([3768.,    0.,    0.,    0.,    0.,    0.,    0.,    0.,    0.,\n",
       "         3732.]),\n",
       "  array([3786.,    0.,    0.,    0.,    0.,    0.,    0.,    0.,    0.,\n",
       "         3714.]),\n",
       "  array([3699.,    0.,    0.,    0.,    0.,    0.,    0.,    0.,    0.,\n",
       "         3801.]),\n",
       "  array([3703.,    0.,    0.,    0.,    0.,    0.,    0.,    0.,    0.,\n",
       "         3797.]),\n",
       "  array([3703.,    0.,    0.,    0.,    0.,    0.,    0.,    0.,    0.,\n",
       "         3797.]),\n",
       "  array([3824.,    0.,    0.,    0.,    0.,    0.,    0.,    0.,    0.,\n",
       "         3676.]),\n",
       "  array([3695.,    0.,    0.,    0.,    0.,    0.,    0.,    0.,    0.,\n",
       "         3805.]),\n",
       "  array([3705.,    0.,    0.,    0.,    0.,    0.,    0.,    0.,    0.,\n",
       "         3795.]),\n",
       "  array([3754.,    0.,    0.,    0.,    0.,    0.,    0.,    0.,    0.,\n",
       "         3746.]),\n",
       "  array([3759.,    0.,    0.,    0.,    0.,    0.,    0.,    0.,    0.,\n",
       "         3741.]),\n",
       "  array([3776.,    0.,    0.,    0.,    0.,    0.,    0.,    0.,    0.,\n",
       "         3724.]),\n",
       "  array([3749.,    0.,    0.,    0.,    0.,    0.,    0.,    0.,    0.,\n",
       "         3751.]),\n",
       "  array([3802.,    0.,    0.,    0.,    0.,    0.,    0.,    0.,    0.,\n",
       "         3698.]),\n",
       "  array([3741.,    0.,    0.,    0.,    0.,    0.,    0.,    0.,    0.,\n",
       "         3759.]),\n",
       "  array([3743.,    0.,    0.,    0.,    0.,    0.,    0.,    0.,    0.,\n",
       "         3757.]),\n",
       "  array([3770.,    0.,    0.,    0.,    0.,    0.,    0.,    0.,    0.,\n",
       "         3730.]),\n",
       "  array([3718.,    0.,    0.,    0.,    0.,    0.,    0.,    0.,    0.,\n",
       "         3782.]),\n",
       "  array([3744.,    0.,    0.,    0.,    0.,    0.,    0.,    0.,    0.,\n",
       "         3756.]),\n",
       "  array([3171.,    0.,    0.,    0.,    0.,    0.,    0.,    0.,    0.,\n",
       "         4329.])],\n",
       " array([0. , 0.1, 0.2, 0.3, 0.4, 0.5, 0.6, 0.7, 0.8, 0.9, 1. ]),\n",
       " <a list of 128 Lists of Patches objects>)"
      ]
     },
     "execution_count": 9,
     "metadata": {},
     "output_type": "execute_result"
    },
    {
     "data": {
      "image/png": "[encoded data removed]",
      "text/plain": [
       "<Figure size 432x288 with 1 Axes>"
      ]
     },
     "metadata": {},
     "output_type": "display_data"
    }
   ],
   "source": [
    "plt.hist(obs_train)"
   ]
  },
  {
   "cell_type": "markdown",
   "metadata": {},
   "source": [
    "We talked to Summaya Mumtaz in the lab and she said that from this plot we could se that there are two clusters. We are not sure how she did that. For us it just seems that each attribute takes either the value of zero or one, as we know they do from the definition of the data. If we look at only one attribute at the time we agreee that we have two clusters. Take $x_2$, either they smoke ($x_2=1$) or not ($x_2=0$), so we have to clusters. But when we have more dimensions I feel like we have more clusters. Say we look at the two first attributes. Then a person can be either male or female and the can smoke or not smoke, i.e. we have four potential combinations. Think of a square with a cluster in each corner. obviously it can be that there are no female smokers. Then we have three clusters. Then we can think of the clusters as being on a line. Male smokers are more similar to male non-smokers than female non-smokers, and male non-smokers are equally similar to both (assuming equal weighting of the attributes). So we have \"male smokers\" -- \"male non-smokers\" -- \"female non-smokers\". In a hypercube we would still have clusters in each corner, and this gives us $2^{128}$ potential clusters. This is an astronomical number. So we must assume that there is pattern in the data, which will lower this number. "
   ]
  },
  {
   "cell_type": "markdown",
   "metadata": {},
   "source": [
    "From the two histograms bellow we see that there are more people of the sex zero and more non-smokers."
   ]
  },
  {
   "cell_type": "code",
   "execution_count": 10,
   "metadata": {},
   "outputs": [
    {
     "name": "stderr",
     "output_type": "stream",
     "text": [
      "C:\\Users\\lars9\\Anaconda3\\lib\\site-packages\\matplotlib\\axes\\_axes.py:6462: UserWarning: The 'normed' kwarg is deprecated, and has been replaced by the 'density' kwarg.\n",
      "  warnings.warn(\"The 'normed' kwarg is deprecated, and has been \"\n"
     ]
    },
    {
     "data": {
      "text/plain": [
       "<matplotlib.axes._subplots.AxesSubplot at 0x28141cdcf28>"
      ]
     },
     "execution_count": 10,
     "metadata": {},
     "output_type": "execute_result"
    },
    {
     "data": {
      "image/png": "[encoded data removed]",
      "text/plain": [
       "<Figure size 432x288 with 1 Axes>"
      ]
     },
     "metadata": {},
     "output_type": "display_data"
    }
   ],
   "source": [
    "sns.distplot(obs_train[0])"
   ]
  },
  {
   "cell_type": "code",
   "execution_count": 11,
   "metadata": {},
   "outputs": [
    {
     "name": "stderr",
     "output_type": "stream",
     "text": [
      "C:\\Users\\lars9\\Anaconda3\\lib\\site-packages\\matplotlib\\axes\\_axes.py:6462: UserWarning: The 'normed' kwarg is deprecated, and has been replaced by the 'density' kwarg.\n",
      "  warnings.warn(\"The 'normed' kwarg is deprecated, and has been \"\n"
     ]
    },
    {
     "data": {
      "text/plain": [
       "<matplotlib.axes._subplots.AxesSubplot at 0x28141992cc0>"
      ]
     },
     "execution_count": 11,
     "metadata": {},
     "output_type": "execute_result"
    },
    {
     "data": {
      "image/png": "[encoded data removed]",
      "text/plain": [
       "<Figure size 432x288 with 1 Axes>"
      ]
     },
     "metadata": {},
     "output_type": "display_data"
    }
   ],
   "source": [
    "sns.distplot(obs_train[1])"
   ]
  },
  {
   "cell_type": "markdown",
   "metadata": {},
   "source": [
    "Let's look at the proportions of smokers among sex 0. "
   ]
  },
  {
   "cell_type": "code",
   "execution_count": 12,
   "metadata": {},
   "outputs": [
    {
     "name": "stderr",
     "output_type": "stream",
     "text": [
      "C:\\Users\\lars9\\Anaconda3\\lib\\site-packages\\matplotlib\\axes\\_axes.py:6462: UserWarning: The 'normed' kwarg is deprecated, and has been replaced by the 'density' kwarg.\n",
      "  warnings.warn(\"The 'normed' kwarg is deprecated, and has been \"\n"
     ]
    },
    {
     "data": {
      "text/plain": [
       "<matplotlib.axes._subplots.AxesSubplot at 0x28143e2a710>"
      ]
     },
     "execution_count": 12,
     "metadata": {},
     "output_type": "execute_result"
    },
    {
     "data": {
      "image/png": "[encoded data removed]",
      "text/plain": [
       "<Figure size 432x288 with 1 Axes>"
      ]
     },
     "metadata": {},
     "output_type": "display_data"
    }
   ],
   "source": [
    "sns.distplot(obs_train[1][obs_train[0] == 0])"
   ]
  },
  {
   "cell_type": "markdown",
   "metadata": {},
   "source": [
    "Let's look at the proportions of smokers among sex 1."
   ]
  },
  {
   "cell_type": "code",
   "execution_count": 13,
   "metadata": {},
   "outputs": [
    {
     "name": "stderr",
     "output_type": "stream",
     "text": [
      "C:\\Users\\lars9\\Anaconda3\\lib\\site-packages\\matplotlib\\axes\\_axes.py:6462: UserWarning: The 'normed' kwarg is deprecated, and has been replaced by the 'density' kwarg.\n",
      "  warnings.warn(\"The 'normed' kwarg is deprecated, and has been \"\n"
     ]
    },
    {
     "data": {
      "text/plain": [
       "<matplotlib.axes._subplots.AxesSubplot at 0x281431d3da0>"
      ]
     },
     "execution_count": 13,
     "metadata": {},
     "output_type": "execute_result"
    },
    {
     "data": {
      "image/png": "[encoded data removed]",
      "text/plain": [
       "<Figure size 432x288 with 1 Axes>"
      ]
     },
     "metadata": {},
     "output_type": "display_data"
    }
   ],
   "source": [
    "sns.distplot(obs_train[1][obs_train[0] == 1])"
   ]
  },
  {
   "cell_type": "markdown",
   "metadata": {},
   "source": [
    "We see that there is a higher percentage of sex=0 that smoke than sex=1 that smoke."
   ]
  },
  {
   "cell_type": "markdown",
   "metadata": {},
   "source": [
    "### Let's now take a look at the scores with Kmeans"
   ]
  },
  {
   "cell_type": "code",
   "execution_count": 14,
   "metadata": {},
   "outputs": [
    {
     "name": "stdout",
     "output_type": "stream",
     "text": [
      "k =  1: Interia = 239549.282667   Score = -79846.447911   Elbow = 239549.282667\n",
      "k =  2: Interia = 217616.358386   Score = -72742.361465   Elbow = 108808.179193\n",
      "k =  3: Interia = 205723.135989   Score = -68968.492063   Elbow = 68574.378663\n",
      "k =  4: Interia = 197825.569160   Score = -66295.307862   Elbow = 49456.392290\n",
      "k =  5: Interia = 191524.677904   Score = -64410.779083   Elbow = 38304.935581\n",
      "k =  6: Interia = 186250.998561   Score = -62488.298111   Elbow = 31041.833094\n",
      "k =  7: Interia = 181883.682733   Score = -61153.526674   Elbow = 25983.383248\n",
      "k =  8: Interia = 177917.984800   Score = -59948.446131   Elbow = 22239.748100\n",
      "k =  9: Interia = 174746.591407   Score = -58948.281042   Elbow = 19416.287934\n",
      "k = 10: Interia = 172014.988540   Score = -58178.619964   Elbow = 17201.498854\n",
      "k = 11: Interia = 169704.817964   Score = -57463.519875   Elbow = 15427.710724\n",
      "k = 12: Interia = 167554.986101   Score = -56689.960379   Elbow = 13962.915508\n",
      "k = 13: Interia = 165564.734884   Score = -56276.837002   Elbow = 12735.748837\n",
      "k = 14: Interia = 163723.726316   Score = -55207.156240   Elbow = 11694.551880\n",
      "k = 15: Interia = 161797.873457   Score = -55078.450752   Elbow = 10786.524897\n",
      "k = 16: Interia = 160313.381570   Score = -54623.330224   Elbow = 10019.586348\n",
      "k = 17: Interia = 158678.402267   Score = -53997.689649   Elbow = 9334.023663\n",
      "k = 18: Interia = 157240.193257   Score = -53593.911893   Elbow = 8735.566292\n",
      "k = 19: Interia = 156061.188169   Score = -53214.844295   Elbow = 8213.746746\n",
      "k = 20: Interia = 154645.364512   Score = -53029.868999   Elbow = 7732.268226\n"
     ]
    }
   ],
   "source": [
    "for k in range(1,21):\n",
    "    kmeans_model = KMeans(n_clusters=k, random_state=1).fit(obs_train)\n",
    "    \n",
    "    # Sum of distances of samples to their closest cluster center.\n",
    "    interia = kmeans_model.inertia_\n",
    "    \n",
    "    print(\"k = %2d: Interia = %f   Score = %f   Elbow = %f\" % (k,interia,kmeans_model.score(obs_test), interia/k))"
   ]
  },
  {
   "cell_type": "markdown",
   "metadata": {},
   "source": [
    "We want this score as high as possible. The k with the best score is the k we should chose, i.e. the optimal number of clusters. The problem is that this score will keep incresing to zero when k increase. This is because score look at the distance from each point to the closest cluster centrum (for the test data, Ineteria does the same for the training data), and train and test set takes the same possible values this is a problem. Since then $2^{128}$ will (potentially) be the best k. Usually this score starts to level of, that the increase in absolute value decrese. So one can usually pick a resoanble K, but we are unsure where such a cap should be choosen here. Interia is much bigger due to the bigger dataset. One need to look at -score."
   ]
  },
  {
   "cell_type": "markdown",
   "metadata": {},
   "source": [
    "Say that K = 6 is a nice treeshold. We take a closer look at K = 6."
   ]
  },
  {
   "cell_type": "code",
   "execution_count": 17,
   "metadata": {
    "collapsed": true
   },
   "outputs": [],
   "source": [
    "kmeans_model = KMeans(n_clusters=6, random_state=1).fit(obs_train)"
   ]
  },
  {
   "cell_type": "code",
   "execution_count": 18,
   "metadata": {},
   "outputs": [
    {
     "data": {
      "text/plain": [
       "-62687.212628782916"
      ]
     },
     "execution_count": 18,
     "metadata": {},
     "output_type": "execute_result"
    }
   ],
   "source": [
    "kmeans_model.score(obs_test)"
   ]
  },
  {
   "cell_type": "code",
   "execution_count": 19,
   "metadata": {},
   "outputs": [
    {
     "name": "stdout",
     "output_type": "stream",
     "text": [
      "Number of people in cluster 0: 1274\n",
      "Number of people in cluster 1: 1131\n",
      "Number of people in cluster 2: 1369\n",
      "Number of people in cluster 3: 1385\n",
      "Number of people in cluster 4: 1128\n",
      "Number of people in cluster 5: 1213\n"
     ]
    }
   ],
   "source": [
    "for l in range(6):\n",
    "    print(\"Number of people in cluster %d: %d\" %(l,sum(kmeans_model.labels_ == l)))"
   ]
  },
  {
   "cell_type": "markdown",
   "metadata": {},
   "source": [
    "We see that the people are fairly divided between the clusters."
   ]
  },
  {
   "cell_type": "code",
   "execution_count": null,
   "metadata": {
    "collapsed": true
   },
   "outputs": [],
   "source": []
  },
  {
   "cell_type": "code",
   "execution_count": 20,
   "metadata": {},
   "outputs": [
    {
     "name": "stdout",
     "output_type": "stream",
     "text": [
      "k =  1: Score = -32.603439\n",
      "k =  2: Score = -27.188233\n",
      "k =  3: Score = -25.275091\n",
      "k =  4: Score = -24.016455\n",
      "k =  5: Score = -21.425464\n",
      "k =  6: Score = -18.076322\n",
      "k =  7: Score = -20.838692\n",
      "k =  8: Score = -18.565873\n",
      "k =  9: Score = -15.420511\n",
      "k = 10: Score = -18.877297\n",
      "k = 11: Score = -21.430816\n",
      "k = 12: Score = -19.669526\n",
      "k = 13: Score = -19.959870\n",
      "k = 14: Score = -16.383825\n",
      "k = 15: Score = -19.406439\n",
      "k = 16: Score = -19.771687\n",
      "k = 17: Score = -21.365973\n",
      "k = 18: Score = -21.447191\n",
      "k = 19: Score = -19.663103\n",
      "k = 20: Score = -22.821534\n"
     ]
    }
   ],
   "source": [
    "for k in range(1,21):\n",
    "    gm_model = GaussianMixture(n_components=k, max_iter = 200, random_state=1).fit(obs_train)\n",
    "    \n",
    "    print(\"k = %2d: Score = %f\" % (k, gm_model.score(obs_test)))"
   ]
  },
  {
   "cell_type": "markdown",
   "metadata": {},
   "source": [
    "We now do the same as before but also take a look at the Bic score to find the optimal value. We have done this because of. http://scikit-learn.org/stable/auto_examples/mixture/plot_gmm_selection.html#sphx-glr-auto-examples-mixture-plot-gmm-selection-py It was wrong of us to look at BicTest. One should only look at BicTrain. The optimal value is 3. But, 2 is not far of. And since we know that is the truth we go for it."
   ]
  },
  {
   "cell_type": "code",
   "execution_count": 17,
   "metadata": {},
   "outputs": [
    {
     "name": "stdout",
     "output_type": "stream",
     "text": [
      "k =  1: ScoreTrain = -31.373   ScoreTest = -32.359   Bic = 545399.189   Aic = 487359.622\n",
      "k =  2: ScoreTrain = -24.810   ScoreTest = -26.926   Bic = 521777.915   Aic = 405691.858\n",
      "k =  3: ScoreTrain = -20.511   ScoreTest = -24.019   Bic = 532103.217   Aic = 357970.670\n",
      "k =  4: ScoreTrain = -17.173   ScoreTest = -22.056   Bic = 556844.621   Aic = 324665.584\n",
      "k =  5: ScoreTrain = -13.436   ScoreTest = -19.714   Bic = 575616.057   Aic = 285390.530\n",
      "k =  6: ScoreTrain = -12.238   ScoreTest = -20.020   Bic = 632465.142   Aic = 284193.125\n",
      "k =  7: ScoreTrain = -9.678   ScoreTest = -218.665   Bic = 668870.530   Aic = 262552.023\n",
      "k =  8: ScoreTrain = -7.701   ScoreTest = -217.959   Bic = 714044.179   Aic = 249679.183\n",
      "k =  9: ScoreTrain = -1.213   ScoreTest = -12.901   Bic = 691539.330   Aic = 169127.844\n"
     ]
    }
   ],
   "source": [
    "for k in range(1,10):\n",
    "    gm_model = GaussianMixture(n_components=k, max_iter = 200, random_state=1).fit(obs_train)\n",
    "    bic = gm_model.bic(obs_train)\n",
    "    aic = gm_model.aic(obs_train)\n",
    "    print(\"k = %2d: ScoreTrain = %.3f   ScoreTest = %.3f   Bic = %.3f   Aic = %.3f\" % (k, gm_model.score(obs_train),gm_model.score(obs_test), bic, aic))"
   ]
  },
  {
   "cell_type": "markdown",
   "metadata": {},
   "source": [
    "From the values above we see that k=13 is the best choice, but k=6 is not that far off, and since 6 is much lower we conclude that with Gaussian Mixture models the 'optimal' choice is 6 clusters. If we look at the score. But AIC and BIC is betther. Here we see that 2 or 3 is optimal."
   ]
  },
  {
   "cell_type": "code",
   "execution_count": 19,
   "metadata": {
    "collapsed": true
   },
   "outputs": [],
   "source": [
    "gm_model = GaussianMixture(n_components=2, max_iter = 200, random_state=1).fit(obs_train)"
   ]
  },
  {
   "cell_type": "code",
   "execution_count": null,
   "metadata": {
    "collapsed": true
   },
   "outputs": [],
   "source": [
    "gm_model.predict(obs_)\n"
   ]
  },
  {
   "cell_type": "markdown",
   "metadata": {},
   "source": [
    "#### We look at kmeans_silhouette_analysis\n",
    "\n",
    "Silhouette coefficients (as these values are referred to as) near +1 indicate that the sample is far away from the neighboring clusters. A value of 0 indicates that the sample is on or very close to the decision boundary between two neighboring clusters and negative values indicate that those samples might have been assigned to the wrong cluster. http://scikit-learn.org/stable/auto_examples/cluster/plot_kmeans_silhouette_analysis.html"
   ]
  },
  {
   "cell_type": "code",
   "execution_count": 122,
   "metadata": {},
   "outputs": [
    {
     "name": "stdout",
     "output_type": "stream",
     "text": [
      "For n_clusters = 2 The average silhouette_score is : 0.08789046555225062\n",
      "For n_clusters = 3 The average silhouette_score is : 0.07400565765849043\n",
      "For n_clusters = 4 The average silhouette_score is : 0.06795148893837454\n",
      "For n_clusters = 5 The average silhouette_score is : 0.06463853037241843\n",
      "For n_clusters = 6 The average silhouette_score is : 0.06346335792308268\n",
      "For n_clusters = 7 The average silhouette_score is : 0.06442224067814628\n",
      "For n_clusters = 8 The average silhouette_score is : 0.06535853448402974\n",
      "For n_clusters = 9 The average silhouette_score is : 0.06588064103198324\n",
      "For n_clusters = 10 The average silhouette_score is : 0.06493274114857885\n"
     ]
    }
   ],
   "source": [
    "for n_clusters in range(2,11):\n",
    "    # Initialize the clusterer with n_clusters value and a random generator\n",
    "    # seed of 10 for reproducibility.\n",
    "    clusterer = KMeans(n_clusters=n_clusters, random_state=10)\n",
    "    cluster_labels = clusterer.fit_predict(obs_train)\n",
    "\n",
    "    # The silhouette_score gives the average value for all the samples.\n",
    "    # This gives a perspective into the density and separation of the formed\n",
    "    # clusters\n",
    "    silhouette_avg = silhouette_score(obs_train, cluster_labels)\n",
    "    print(\"For n_clusters =\", n_clusters,\n",
    "          \"The average silhouette_score is :\", silhouette_avg)"
   ]
  },
  {
   "cell_type": "markdown",
   "metadata": {},
   "source": [
    "We see that the score stabilize after 4 clusters."
   ]
  },
  {
   "cell_type": "markdown",
   "metadata": {},
   "source": [
    "# Final choice of clusters and features\n",
    "In the R file OptimalKAndFeatureImportance.R we have calculated the best choice of K and the most important features, based on SilhouetteScore and the importance score from randomforest, respectively. From now on we use the values obtained there. We got that 2 is the optimal number of clusters (see SilhouetteScore.png and SilhouetteScoreAfterFeatureReduction.png) and $x_{6}$, $x_4$, $x_{114}$, $x_{12}$, $x_{84}$, $x_2$ and $x_{56}$ are the most important feautres, in that order. Recall that python counts from 0, so this means columns 5, 3, 113, 11, 83, 1 and 55. \n",
    "\n",
    "Start by dividing the people into 2 clusters."
   ]
  },
  {
   "cell_type": "code",
   "execution_count": 24,
   "metadata": {
    "collapsed": true
   },
   "outputs": [],
   "source": [
    "kmeans_model = KMeans(n_clusters=2, random_state=1).fit(obs_train)"
   ]
  },
  {
   "cell_type": "code",
   "execution_count": 26,
   "metadata": {},
   "outputs": [
    {
     "data": {
      "text/plain": [
       "array([0, 0, 1, ..., 1, 0, 0])"
      ]
     },
     "execution_count": 26,
     "metadata": {},
     "output_type": "execute_result"
    }
   ],
   "source": [
    "kmeans_model.labels_"
   ]
  },
  {
   "cell_type": "code",
   "execution_count": 36,
   "metadata": {
    "collapsed": true
   },
   "outputs": [],
   "source": [
    "train_obs_0 = obs_train[kmeans_model.labels_ == 0]\n",
    "train_obs_1 = obs_train[kmeans_model.labels_ == 1]\n",
    "train_lab_0 = lab_train[kmeans_model.labels_ == 0]\n",
    "train_lab_1 = lab_train[kmeans_model.labels_ == 1]"
   ]
  },
  {
   "cell_type": "code",
   "execution_count": 32,
   "metadata": {},
   "outputs": [
    {
     "data": {
      "text/plain": [
       "(3609, 128)"
      ]
     },
     "execution_count": 32,
     "metadata": {},
     "output_type": "execute_result"
    }
   ],
   "source": [
    "train_obs_0.shape"
   ]
  },
  {
   "cell_type": "code",
   "execution_count": 40,
   "metadata": {},
   "outputs": [
    {
     "data": {
      "text/plain": [
       "(3609,)"
      ]
     },
     "execution_count": 40,
     "metadata": {},
     "output_type": "execute_result"
    }
   ],
   "source": [
    "train_lab_0.shape"
   ]
  },
  {
   "cell_type": "markdown",
   "metadata": {},
   "source": [
    "We now plot the histogram and see that there are more people with symptoms 1 and 3 in the 0 cluster. \n",
    "And there are more people with symptoms 0 and 2 in cluster 1."
   ]
  },
  {
   "cell_type": "code",
   "execution_count": 38,
   "metadata": {},
   "outputs": [
    {
     "data": {
      "text/plain": [
       "(array([1269.,    0.,    0., 2071.,    0.,    0.,   95.,    0.,    0.,\n",
       "         174.]),\n",
       " array([0. , 0.3, 0.6, 0.9, 1.2, 1.5, 1.8, 2.1, 2.4, 2.7, 3. ]),\n",
       " <a list of 10 Patch objects>)"
      ]
     },
     "execution_count": 38,
     "metadata": {},
     "output_type": "execute_result"
    },
    {
     "data": {
      "image/png": "[encoded data removed]",
      "text/plain": [
       "<Figure size 432x288 with 1 Axes>"
      ]
     },
     "metadata": {},
     "output_type": "display_data"
    }
   ],
   "source": [
    "plt.hist(train_lab_0)"
   ]
  },
  {
   "cell_type": "code",
   "execution_count": 39,
   "metadata": {},
   "outputs": [
    {
     "data": {
      "text/plain": [
       "(array([2338.,    0.,    0., 1086.,    0.,    0.,  327.,    0.,    0.,\n",
       "         140.]),\n",
       " array([0. , 0.3, 0.6, 0.9, 1.2, 1.5, 1.8, 2.1, 2.4, 2.7, 3. ]),\n",
       " <a list of 10 Patch objects>)"
      ]
     },
     "execution_count": 39,
     "metadata": {},
     "output_type": "execute_result"
    },
    {
     "data": {
      "image/png": "[encoded data removed]",
      "text/plain": [
       "<Figure size 432x288 with 1 Axes>"
      ]
     },
     "metadata": {},
     "output_type": "display_data"
    }
   ],
   "source": [
    "plt.hist(train_lab_1)"
   ]
  },
  {
   "cell_type": "markdown",
   "metadata": {},
   "source": [
    "# Question 2"
   ]
  },
  {
   "cell_type": "markdown",
   "metadata": {},
   "source": [
    "Next, we want to observe the effects of two different therapeutic interventions, one of which is placebo, and the other is an experimental drug. First we calculate the success of the two treatments in the whole data set. Here we assume that treatment 0 is placebo and treatment 1 is active treatment, but it could very well be the other way around. We also assume that Y = 1 means that the patient is cured, and Y = 0 means that the patient is not cured. "
   ]
  },
  {
   "cell_type": "code",
   "execution_count": 76,
   "metadata": {},
   "outputs": [
    {
     "name": "stdout",
     "output_type": "stream",
     "text": [
      "The effectiveness of placebo is: 0.008959 \n",
      "The effectiveness of active treatment is: 0.588338 \n"
     ]
    }
   ],
   "source": [
    "#I want pandas\n",
    "features = pd.read_csv('historical_X.dat', header=None, sep=\" \")\n",
    "actions = pd.read_csv('historical_A.dat', header=None, sep=\" \")\n",
    "outcome = pd.read_csv('historical_Y.dat', header=None, sep=\" \")\n",
    "\n",
    "\n",
    "active_treatments = 0\n",
    "success_placebo = 0\n",
    "success_active = 0\n",
    "\n",
    "active_treatments = sum(actions.loc[:,0])\n",
    "\n",
    "\n",
    "for i in range(len(actions)):\n",
    "    if actions.loc[i,0] == 1 and outcome.loc[i,0] == 1:\n",
    "        success_active += 1\n",
    "    elif actions.loc[i,0] == 0 and outcome.loc[i,0] == 1:\n",
    "        success_placebo += 1\n",
    "\n",
    "\n",
    "print(\"The effectiveness of placebo is: %f \" %(success_placebo/(10000-active_treatments)))\n",
    "print(\"The effectiveness of active treatment is: %f \" %(success_active/(active_treatments)))"
   ]
  },
  {
   "cell_type": "markdown",
   "metadata": {},
   "source": [
    "We see that the treatment is effective in 58.8% of the cases for treatment 1, and 0.9% effective for treatment 0. "
   ]
  },
  {
   "cell_type": "markdown",
   "metadata": {},
   "source": [
    "Next, we want to investigate whether there are some parameters that effect the outcome of the treatment. I.e. if there are some genes or other parameters that affect the effect of the treatment. From previous parameter selection, we found that the most important features were $X_2$, $X_4$, $X_6$, $X_{12}$, $X_{56}$, $X_{84}$, $X_{114}$. To find out if there is some interaction between some parameters, we choose these features and also include the action feature, and do logistic regression for models with interactions with parameter selection. For code see $\\texttt{LogRegInteract.R}$"
   ]
  },
  {
   "cell_type": "raw",
   "metadata": {},
   "source": [
    "\n",
    "Call:\n",
    "glm(formula = Y ~ X2 + X4 + X6 + X56 + X84 + X114 + A + X2:X4 + \n",
    "    X4:X6 + X84:A, family = binomial(link = \"logit\"), data = df2)\n",
    "\n",
    "Deviance Residuals: \n",
    "    Min       1Q   Median       3Q      Max  \n",
    "-3.0360  -0.5767  -0.3569  -0.1525   2.8913  \n",
    "\n",
    "Coefficients:\n",
    "            Estimate Std. Error z value Pr(>|z|)    \n",
    "(Intercept) -4.67718    0.16487 -28.369  < 2e-16 ***\n",
    "X2          -0.08487    0.14421  -0.589 0.556160    \n",
    "X4           1.05140    0.20175   5.211 1.87e-07 ***\n",
    "X6           2.15315    0.15559  13.838  < 2e-16 ***\n",
    "X56          0.31314    0.07974   3.927 8.60e-05 ***\n",
    "X84          0.51283    0.08225   6.235 4.52e-10 ***\n",
    "X114         1.09017    0.16115   6.765 1.33e-11 ***\n",
    "A            4.75012    0.14823  32.045  < 2e-16 ***\n",
    "X2:X4        0.57515    0.16910   3.401 0.000671 ***\n",
    "X4:X6       -1.24885    0.17152  -7.281 3.31e-13 ***\n",
    "X84:A        1.85978    0.39793   4.674 2.96e-06 ***\n",
    "---\n",
    "Signif. codes:  0 ‘***’ 0.001 ‘**’ 0.01 ‘*’ 0.05 ‘.’ 0.1 ‘ ’ 1\n",
    "\n",
    "(Dispersion parameter for binomial family taken to be 1)\n",
    "\n",
    "    Null deviance: 10777.7  on 9998  degrees of freedom\n",
    "Residual deviance:  5832.4  on 9988  degrees of freedom\n",
    "AIC: 5854.4\n",
    "\n",
    "Number of Fisher Scoring iterations: 6\n",
    "\n"
   ]
  },
  {
   "cell_type": "markdown",
   "metadata": {},
   "source": [
    "The text above is the output from R after we have done a parameter selection using BIC, allowing interactions of second order. We see here that the only interaction term including $A$, kept by the feature selection is the interaction between $X_84$ and $A$. The interaction term is positive, meaning that the treatment is more successfull when the $X_84$ feature is present. We repeat this process, but this time using AIC as selection criterion and get the following model. \n"
   ]
  },
  {
   "cell_type": "raw",
   "metadata": {},
   "source": [
    "\n",
    "Call:\n",
    "glm(formula = Y ~ X2 + X4 + X6 + X12 + X56 + X84 + X114 + A + \n",
    "    X2:X4 + X2:X84 + X2:A + X4:X6 + X4:X56 + X4:X84 + X6:X12 + \n",
    "    X6:X56 + X12:X56 + X56:X114 + X84:A, family = binomial(link = \"logit\"), \n",
    "    data = df2)\n",
    "\n",
    "Deviance Residuals: \n",
    "    Min       1Q   Median       3Q      Max  \n",
    "-3.0475  -0.5790  -0.3163  -0.1318   2.9156  \n",
    "\n",
    "Coefficients:\n",
    "            Estimate Std. Error z value Pr(>|z|)    \n",
    "(Intercept) -4.68844    0.24600 -19.058  < 2e-16 ***\n",
    "X2          -0.31497    0.18091  -1.741  0.08169 .  \n",
    "X4           0.89944    0.30607   2.939  0.00330 ** \n",
    "X6           1.88170    0.23232   8.099 5.52e-16 ***\n",
    "X12         -0.09774    0.17791  -0.549  0.58276    \n",
    "X56          0.26167    0.20762   1.260  0.20754    \n",
    "X84          0.65262    0.15372   4.245 2.18e-05 ***\n",
    "X114         1.43465    0.22428   6.397 1.59e-10 ***\n",
    "A            4.68603    0.16591  28.244  < 2e-16 ***\n",
    "X2:X4        0.64661    0.17501   3.695  0.00022 ***\n",
    "X2:X84       0.29707    0.15714   1.891  0.05869 .  \n",
    "X2:A         0.62489    0.36071   1.732  0.08321 .  \n",
    "X4:X6       -1.38088    0.20676  -6.679 2.41e-11 ***\n",
    "X4:X56       0.80771    0.34532   2.339  0.01933 *  \n",
    "X4:X84      -0.33236    0.17645  -1.884  0.05962 .  \n",
    "X6:X12       0.41585    0.18598   2.236  0.02536 *  \n",
    "X6:X56       0.32303    0.19385   1.666  0.09564 .  \n",
    "X12:X56     -0.34621    0.18055  -1.918  0.05517 .  \n",
    "X56:X114    -0.73643    0.33422  -2.203  0.02757 *  \n",
    "X84:A        1.78385    0.40039   4.455 8.38e-06 ***\n",
    "---\n",
    "Signif. codes:  0 ‘***’ 0.001 ‘**’ 0.01 ‘*’ 0.05 ‘.’ 0.1 ‘ ’ 1\n",
    "\n",
    "(Dispersion parameter for binomial family taken to be 1)\n",
    "\n",
    "    Null deviance: 10777.7  on 9998  degrees of freedom\n",
    "Residual deviance:  5809.1  on 9979  degrees of freedom\n",
    "AIC: 5849.1\n",
    "\n",
    "Number of Fisher Scoring iterations: 6\n"
   ]
  },
  {
   "cell_type": "markdown",
   "metadata": {},
   "source": [
    "From this model, it does not seem like any features have a negative interaction with $A$, meaning that treatment1 will be effective for all features. However we do observe that some features and some feature combinations seems to have a negative effect on the result of the treatment. In both the AIC and the BIC model, the presence of the $X2$ feature influences the result of the treatment in a negative way, meaning that these patients are less likely of being cured. Also, both models indicate that the feature combination of $X_4$ and $X_6$ influence the result of the treatment in a negative way. Based on this, we would always recommend the active treatment.  "
   ]
  },
  {
   "cell_type": "markdown",
   "metadata": {},
   "source": [
    "We would also like to investigate whether the clusters found by K-means clustering are affected differently by the treatment. We found that two clusters were the optimal number of clusters. We choose to do this on the whole data set, so that all the data are divided into one of the two clusters. We are not sure whether this is the correct approach, or if we should only fit the test data, so please correct us if we are wrong. For this, we repeat the procedure of the first part of Question 2, but this time dividing the data into the two clusters. "
   ]
  },
  {
   "cell_type": "code",
   "execution_count": 138,
   "metadata": {},
   "outputs": [
    {
     "name": "stdout",
     "output_type": "stream",
     "text": [
      "The effectiveness of placebo in cluster 0 is: 0.001202 \n",
      "The effectiveness of active treatment in cluster 0 is: 0.470206 \n",
      "The effectiveness of placebo in cluster 1 is: 0.018064 \n",
      "The effectiveness of active treatment in cluster 1 is: 0.667636 \n"
     ]
    }
   ],
   "source": [
    "# First fit a K-means\n",
    "kmeans = KMeans(n_clusters = 2, random_state = 1).fit(obs_train)\n",
    "\n",
    "#Divide observations into two clusters. \n",
    "cluster = kmeans.predict(observations)  \n",
    "index_cluster0 = np.where(cluster == 0) \n",
    "index_cluster1 = np.where(cluster == 1)\n",
    "\n",
    "actions_cluster0 = actions.iloc[index_cluster0]\n",
    "outcome_cluster0 = outcome.iloc[index_cluster0]\n",
    "\n",
    "actions_cluster1 = actions.iloc[index_cluster1]\n",
    "outcome_cluster1 = outcome.iloc[index_cluster1]\n",
    "\n",
    "\n",
    "active_treatments0 = sum(actions_cluster0.loc[:,0])\n",
    "active_treatments1 = sum(actions_cluster1.loc[:,0])\n",
    "\n",
    "\n",
    "#First cluster 0:\n",
    "#Successfull and active treatments if both are 1\n",
    "success_active0 = np.sum(np.multiply(actions_cluster0.values, outcome_cluster0.values))\n",
    "#Successfull, active treatments if outcome is 1, but active is 0\n",
    "success_placebo0 = np.sum(outcome_cluster0.values) - success_active0\n",
    "\n",
    "\n",
    "print(\"The effectiveness of placebo in cluster 0 is: %f \" %(success_placebo0/(actions_cluster0.shape[0]-active_treatments0)))\n",
    "print(\"The effectiveness of active treatment in cluster 0 is: %f \" %(success_active0/(active_treatments0)))        \n",
    "\n",
    "\n",
    "#Cluster 1\n",
    "success_active1 = np.sum(np.multiply(actions_cluster1.values, outcome_cluster1.values))\n",
    "success_placebo1 = np.sum(outcome_cluster1.values) - success_active1\n",
    "\n",
    "print(\"The effectiveness of placebo in cluster 1 is: %f \" %(success_placebo1/(actions_cluster1.shape[0]-active_treatments1)))\n",
    "print(\"The effectiveness of active treatment in cluster 1 is: %f \" %(success_active1/(active_treatments1)))        \n",
    "\n",
    "\n"
   ]
  },
  {
   "cell_type": "markdown",
   "metadata": {},
   "source": [
    "We see that the a bigger proportion of patients in cluster 1 are cured than in cluster 0, this apply both to the active treatment and the placebo treatment.   "
   ]
  },
  {
   "cell_type": "markdown",
   "metadata": {},
   "source": [
    "As we saw in $\\texttt{SilhouetteScoreAfterFeatureReduction.png}$, the clusters were more separated when we only kept the most important features. Maybe the differences in effect of treatment between the two clusters will be even more apparent if we cluster the observations based on only these most important features. "
   ]
  },
  {
   "cell_type": "code",
   "execution_count": 143,
   "metadata": {},
   "outputs": [
    {
     "name": "stdout",
     "output_type": "stream",
     "text": [
      "The effectiveness of placebo in cluster 0 is: 0.010493 \n",
      "The effectiveness of active treatment in cluster 0 is: 0.578473 \n",
      "The effectiveness of placebo in cluster 1 is: 0.007727 \n",
      "The effectiveness of active treatment in cluster 1 is: 0.614173 \n"
     ]
    }
   ],
   "source": [
    "important_features = features[[1, 3, 5, 55, 83 , 113]]\n",
    "if_train, if_test = train_test_split(important_features, test_size=0.25)\n",
    "\n",
    "kmeans_if = KMeans(n_clusters=2, random_state=1).fit(if_train)\n",
    "cluster_if = kmeans_if.predict(important_features)\n",
    "\n",
    "\n",
    "index_cluster0_if = np.where(cluster_if == 0) \n",
    "index_cluster1_if = np.where(cluster_if == 1)\n",
    "\n",
    "actions_cluster0_if = actions.iloc[index_cluster0_if]\n",
    "outcome_cluster0_if = outcome.iloc[index_cluster0_if]\n",
    "\n",
    "actions_cluster1_if = actions.iloc[index_cluster1_if]\n",
    "outcome_cluster1_if = outcome.iloc[index_cluster1_if]\n",
    "\n",
    "\n",
    "active_treatments0_if = sum(actions_cluster0_if.loc[:,0])\n",
    "active_treatments1_if = sum(actions_cluster1_if.loc[:,0])\n",
    "\n",
    "\n",
    "#First cluster 0:\n",
    "#Successfull and active treatments if both are 1\n",
    "success_active0_if = np.sum(np.multiply(actions_cluster0_if.values, outcome_cluster0_if.values))\n",
    "#Successfull, active treatments if outcome is 1, but active is 0\n",
    "success_placebo0_if = np.sum(outcome_cluster0_if.values) - success_active0_if\n",
    "\n",
    "\n",
    "print(\"The effectiveness of placebo in cluster 0 is: %f \" %(success_placebo0_if/(actions_cluster0_if.shape[0]-active_treatments0_if)))\n",
    "print(\"The effectiveness of active treatment in cluster 0 is: %f \" %(success_active0_if/(active_treatments0_if)))        \n",
    "\n",
    "\n",
    "#Cluster 1\n",
    "success_active1_if = np.sum(np.multiply(actions_cluster1_if.values, outcome_cluster1_if.values))\n",
    "success_placebo1_if = np.sum(outcome_cluster1_if.values) - success_active1_if\n",
    "\n",
    "print(\"The effectiveness of placebo in cluster 1 is: %f \" %(success_placebo1_if/(actions_cluster1_if.shape[0]-active_treatments1_if)))\n",
    "print(\"The effectiveness of active treatment in cluster 1 is: %f \" %(success_active1_if/(active_treatments1_if)))        \n",
    "\n",
    "\n",
    "\n",
    "\n"
   ]
  },
  {
   "cell_type": "markdown",
   "metadata": {},
   "source": [
    "These numbers are different from the ones we got previously, when all the features were included. We were hoping to find bigger differences between the clusters using only the most important features, however, the effect of the treatment is more similar between the two clusters when the observations are clustered only by the important features. "
   ]
  },
  {
   "cell_type": "markdown",
   "metadata": {
    "collapsed": true
   },
   "source": [
    "# Part two"
   ]
  },
  {
   "cell_type": "markdown",
   "metadata": {},
   "source": [
    "### Exercise 1 (Meassuring utility)"
   ]
  },
  {
   "cell_type": "markdown",
   "metadata": {},
   "source": [
    "#### 1. Measure the utility of $\\pi_0$ on the historical data."
   ]
  },
  {
   "cell_type": "code",
   "execution_count": 29,
   "metadata": {},
   "outputs": [
    {
     "name": "stdout",
     "output_type": "stream",
     "text": [
      "[[1]\n",
      " [0]\n",
      " [0]\n",
      " ...\n",
      " [0]\n",
      " [0]\n",
      " [0]]\n"
     ]
    }
   ],
   "source": [
    "# Actions is an array of 0's and 1's, representing 'placebo' and 'experimantal drug', respectively.\n",
    "print(actions)"
   ]
  },
  {
   "cell_type": "code",
   "execution_count": 32,
   "metadata": {},
   "outputs": [
    {
     "name": "stdout",
     "output_type": "stream",
     "text": [
      "[[1]\n",
      " [0]\n",
      " [0]\n",
      " ...\n",
      " [0]\n",
      " [0]\n",
      " [0]]\n"
     ]
    }
   ],
   "source": [
    "# Outcome is an array of 0' and 1's, representing 'no effect' and 'measurable effect', respectively.\n",
    "print(outcome)"
   ]
  },
  {
   "cell_type": "markdown",
   "metadata": {},
   "source": [
    "The utility function is given as\n",
    "$$\\sum_t r_t = \\sum_t (-0.1a_t + y_t).$$\n",
    "Here the -0.1 factor implies that the active treatment must be at least 10% more effective than the placebo for the utility to be better for the experimental drug than the placebo. We look at the utility of $\\pi_0$ on the historical data."
   ]
  },
  {
   "cell_type": "code",
   "execution_count": 34,
   "metadata": {},
   "outputs": [
    {
     "data": {
      "text/plain": [
       "1191.2"
      ]
     },
     "execution_count": 34,
     "metadata": {},
     "output_type": "execute_result"
    }
   ],
   "source": [
    "U = np.sum(-0.1*actions + outcome)\n",
    "U"
   ]
  },
  {
   "cell_type": "markdown",
   "metadata": {},
   "source": [
    "We see that the utility is 1191.2. We are not confident on wheter or not this is a good result. One should note that $t$ span from 1 to 10 000. So the maximal utility we can achieve is 10 000. However, it that scenario we give placebos to all the patients and we see a measuarble effect in all of them, which is highly unlikely. We see that giving a patient the experimental drug decrease the utility, if not the experimental drug affect the outcome in a postive direction. "
   ]
  },
  {
   "cell_type": "markdown",
   "metadata": {},
   "source": [
    "The exercise asks for the expected utility. We cannot calculate it exactly, but we can estimate it from the data. That is what we have done above. Below we describe it futher.\n",
    "$$\\hat{E[U]} = E_{data}[U] = \\sum_t (-0.1E_{data}[a_t] + E_{data}[y_t])$$ where $E_{data}[a_t] = \\sum(0p(a_t=0) + 1p(a_t=1)) = \\sum (\\frac{\\# a_t = 1}{\\# a_t})$ and $E_{data}[y_t] = \\sum(0p(y_t=0) + 1p(y_t=1)) = \\sum (\\frac{\\# y_t = 1}{\\# y_t})$."
   ]
  },
  {
   "cell_type": "code",
   "execution_count": 70,
   "metadata": {},
   "outputs": [
    {
     "data": {
      "text/plain": [
       "0.1421"
      ]
     },
     "execution_count": 70,
     "metadata": {},
     "output_type": "execute_result"
    }
   ],
   "source": [
    "np.sum(outcome==1)/len(outcome)"
   ]
  },
  {
   "cell_type": "code",
   "execution_count": 71,
   "metadata": {},
   "outputs": [
    {
     "data": {
      "text/plain": [
       "0.2298"
      ]
     },
     "execution_count": 71,
     "metadata": {},
     "output_type": "execute_result"
    }
   ],
   "source": [
    "np.sum(actions==1)/len(actions)"
   ]
  },
  {
   "cell_type": "code",
   "execution_count": 72,
   "metadata": {},
   "outputs": [
    {
     "data": {
      "text/plain": [
       "1191.2"
      ]
     },
     "execution_count": 72,
     "metadata": {},
     "output_type": "execute_result"
    }
   ],
   "source": [
    "10000*(-0.1*0.2298 + 0.1421)"
   ]
  },
  {
   "cell_type": "markdown",
   "metadata": {},
   "source": [
    "Which was the same as we got above, as expected.\n",
    "We have also implemented this in the python file we have delivered.\n",
    "Simply call policy.estimate_utility(features, actions, outcome)."
   ]
  },
  {
   "cell_type": "markdown",
   "metadata": {},
   "source": [
    "#### 2. Provide error bounds on the expected utility\n",
    "To provide error bounds on the expected utility we use bootstraping. We create $B$ datasets by sampling from the original data $10 000$ times with replacement. For each of the $B$ dataset we calculate the expected utility. To get, let's say, a 95% error bound we look at the 2.5% and 97.5% quantile."
   ]
  },
  {
   "cell_type": "code",
   "execution_count": 61,
   "metadata": {
    "collapsed": true
   },
   "outputs": [],
   "source": [
    "B = 500\n",
    "results = np.zeros(B)\n",
    "\n",
    "for b in range(B):\n",
    "    n = len(outcome)\n",
    "    indices = np.random.choice(n, n)\n",
    "    outcome_bootstrap = outcome[indices]\n",
    "    action_bootstrap = actions[indices]\n",
    "    results[b] = np.sum(-0.1*action_bootstrap + outcome_bootstrap)"
   ]
  },
  {
   "cell_type": "code",
   "execution_count": 62,
   "metadata": {},
   "outputs": [
    {
     "data": {
      "text/plain": [
       "array([1127.9075, 1261.5225])"
      ]
     },
     "execution_count": 62,
     "metadata": {},
     "output_type": "execute_result"
    }
   ],
   "source": [
    "bounds = np.percentile(results, [2.5, 97.5])\n",
    "bounds"
   ]
  },
  {
   "cell_type": "markdown",
   "metadata": {},
   "source": [
    "From this we see that a 95% CI for the utility is $[1127.9075, 1261.5225]$. So the utility of $\\pi_0$ is well inside these error bounds."
   ]
  },
  {
   "cell_type": "markdown",
   "metadata": {},
   "source": [
    "### Exercise 2 (Improved policies)\n"
   ]
  },
  {
   "cell_type": "markdown",
   "metadata": {},
   "source": [
    "### 1."
   ]
  },
  {
   "cell_type": "markdown",
   "metadata": {
    "collapsed": true
   },
   "source": [
    "We want to improve the policy, so that we can increase the utility. For the model, we choose a neural network and logistic regression, which we fit by first making an object of the classes $\\texttt{NNRecommender}$ and $\\texttt{LogisticRecommender}$, in the file $\\texttt{TestRecommender.py}$, where we set the reward function to what it is defined as in the project description. We then call the policies' $\\texttt{fit_treatment_outcome}$-function, so that our policies are trained on the historical data. To find the estimated utility of these improved models, we call $\\texttt{policy_NN.estimate_utility(features, None, None, policy.NN)}$ and $\\texttt{policy_logistic.estimate_utility(features, None, None, policy.logistic)}$. Note that when a $\\texttt{policy}$ argument is given to the $\\texttt{estimate_utility}$-function, the $\\texttt{policy}$ will recommend an action, and it is these actions (and the probabilities of the different outomes) that are used to calculate the estimated utility.   "
   ]
  },
  {
   "cell_type": "markdown",
   "metadata": {},
   "source": [
    "### 2.\n"
   ]
  },
  {
   "cell_type": "markdown",
   "metadata": {},
   "source": [
    "Run $\\texttt{TestRecommender.py}$ to see the results. Below you can see the last printout from $\\texttt{TestRecommender.py}$. From this we see that both logistic regression and neural network are better than the historical policy."
   ]
  },
  {
   "cell_type": "raw",
   "metadata": {
    "collapsed": true
   },
   "source": [
    "The historical utility was 1191.200000\n",
    "The estimated utility of the improved NN policy is: 4606.017435 \n",
    "The estimated utility of the improved logistic policy is: 4273.185857 "
   ]
  }
 ],
 "metadata": {
  "kernelspec": {
   "display_name": "Python 3",
   "language": "python",
   "name": "python3"
  },
  "language_info": {
   "codemirror_mode": {
    "name": "ipython",
    "version": 3
   },
   "file_extension": ".py",
   "mimetype": "text/x-python",
   "name": "python",
   "nbconvert_exporter": "python",
   "pygments_lexer": "ipython3",
   "version": "3.6.1"
  }
 },
 "nbformat": 4,
 "nbformat_minor": 2
}
