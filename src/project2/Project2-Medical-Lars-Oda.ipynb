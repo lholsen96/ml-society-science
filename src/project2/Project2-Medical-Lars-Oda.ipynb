{
 "cells": [
  {
   "cell_type": "markdown",
   "metadata": {},
   "source": [
    "# Medical Project\n",
    "### Lars Olsen and Oda Kristensen"
   ]
  },
  {
   "cell_type": "markdown",
   "metadata": {},
   "source": [
    "We start by importing some packages and modules:"
   ]
  },
  {
   "cell_type": "code",
   "execution_count": 2,
   "metadata": {
    "collapsed": true
   },
   "outputs": [],
   "source": [
    "import pandas as pd\n",
    "import matplotlib.pyplot as plt\n",
    "%matplotlib inline\n",
    "\n",
    "from sklearn.model_selection import train_test_split\n",
    "from sklearn.cluster import KMeans\n",
    "from sklearn.mixture import GaussianMixture"
   ]
  },
  {
   "cell_type": "code",
   "execution_count": 5,
   "metadata": {
    "collapsed": true
   },
   "outputs": [],
   "source": [
    "import numpy as np\n",
    "import pandas as pd\n",
    "from sklearn.linear_model import LogisticRegression\n",
    "from sklearn.model_selection import cross_val_score, KFold\n",
    "from sklearn.metrics import confusion_matrix, accuracy_score, make_scorer\n",
    "import matplotlib.pyplot as plt\n",
    "import seaborn as sns, numpy as np\n",
    "from scipy.stats import norm\n",
    "from __future__ import print_function\n",
    "\n",
    "from sklearn.datasets import make_blobs\n",
    "from sklearn.cluster import KMeans\n",
    "from sklearn.metrics import silhouette_samples, silhouette_score\n",
    "\n",
    "import matplotlib.pyplot as plt\n",
    "import matplotlib.cm as cm\n",
    "import numpy as np\n",
    "%matplotlib inline"
   ]
  },
  {
   "cell_type": "markdown",
   "metadata": {},
   "source": [
    "We read the files:"
   ]
  },
  {
   "cell_type": "code",
   "execution_count": 6,
   "metadata": {},
   "outputs": [],
   "source": [
    "features = pd.read_csv('historical_X.dat', header=None, sep=\" \").values\n",
    "actions = pd.read_csv('historical_A.dat', header=None, sep=\" \").values\n",
    "outcome = pd.read_csv('historical_Y.dat', header=None, sep=\" \").values"
   ]
  },
  {
   "cell_type": "markdown",
   "metadata": {},
   "source": [
    "In this part of the project we are only interested in the features. The first 128 features are what we obsere; sex, smoker and 126 genes. The 2 last attributes are the symptoms and these can be taken to be akin to labels in supervised learning."
   ]
  },
  {
   "cell_type": "code",
   "execution_count": 7,
   "metadata": {
    "collapsed": true
   },
   "outputs": [],
   "source": [
    "observations = features[:, :128]\n",
    "labels = features[:,128] + features[:,129]*2"
   ]
  },
  {
   "cell_type": "markdown",
   "metadata": {},
   "source": [
    "We take a look at the observations of the 1st pacient, sex = 0, and non smoker."
   ]
  },
  {
   "cell_type": "code",
   "execution_count": 8,
   "metadata": {},
   "outputs": [
    {
     "data": {
      "text/plain": [
       "array([0, 0, 0, 0, 1, 1, 0, 0, 1, 1, 0, 1, 0, 0, 0, 0, 1, 0, 1, 1, 1, 1,\n",
       "       0, 1, 1, 0, 1, 1, 0, 0, 0, 0, 1, 1, 0, 1, 1, 0, 0, 0, 0, 0, 0, 0,\n",
       "       1, 1, 0, 0, 1, 0, 1, 0, 1, 0, 1, 0, 0, 0, 0, 1, 1, 1, 1, 0, 1, 1,\n",
       "       1, 1, 0, 0, 0, 1, 0, 1, 0, 1, 0, 0, 0, 0, 1, 0, 0, 0, 0, 1, 0, 1,\n",
       "       0, 1, 1, 0, 0, 1, 0, 0, 1, 0, 0, 1, 1, 1, 1, 0, 1, 0, 1, 0, 1, 1,\n",
       "       1, 1, 1, 0, 1, 1, 0, 0, 0, 0, 0, 1, 1, 0, 1, 1, 0, 0])"
      ]
     },
     "execution_count": 8,
     "metadata": {},
     "output_type": "execute_result"
    }
   ],
   "source": [
    "observations[0]"
   ]
  },
  {
   "cell_type": "markdown",
   "metadata": {},
   "source": [
    "We divide our data set into a traing set and a test set."
   ]
  },
  {
   "cell_type": "code",
   "execution_count": 9,
   "metadata": {
    "collapsed": true
   },
   "outputs": [],
   "source": [
    "obs_train, obs_test, lab_train, lab_test = train_test_split(observations, labels, test_size=0.25)"
   ]
  },
  {
   "cell_type": "markdown",
   "metadata": {},
   "source": [
    "Let's look at the distribution of symptoms:"
   ]
  },
  {
   "cell_type": "code",
   "execution_count": 10,
   "metadata": {},
   "outputs": [
    {
     "data": {
      "text/plain": [
       "(array([3629.,    0.,    0., 3143.,    0.,    0.,  406.,    0.,    0.,\n",
       "         322.]),\n",
       " array([0. , 0.3, 0.6, 0.9, 1.2, 1.5, 1.8, 2.1, 2.4, 2.7, 3. ]),\n",
       " <a list of 10 Patch objects>)"
      ]
     },
     "execution_count": 10,
     "metadata": {},
     "output_type": "execute_result"
    },
    {
     "data": {
      "image/png": "[encoded data removed]",
      "text/plain": [
       "<matplotlib.figure.Figure at 0x121571b38>"
      ]
     },
     "metadata": {},
     "output_type": "display_data"
    }
   ],
   "source": [
    "plt.hist(lab_train)"
   ]
  },
  {
   "cell_type": "markdown",
   "metadata": {},
   "source": [
    "We now take a look at the histogram of observation. "
   ]
  },
  {
   "cell_type": "code",
   "execution_count": 11,
   "metadata": {},
   "outputs": [
    {
     "data": {
      "text/plain": [
       "([array([3739.,    0.,    0.,    0.,    0.,    0.,    0.,    0.,    0.,\n",
       "         3761.]),\n",
       "  array([5477.,    0.,    0.,    0.,    0.,    0.,    0.,    0.,    0.,\n",
       "         2023.]),\n",
       "  array([3680.,    0.,    0.,    0.,    0.,    0.,    0.,    0.,    0.,\n",
       "         3820.]),\n",
       "  array([3668.,    0.,    0.,    0.,    0.,    0.,    0.,    0.,    0.,\n",
       "         3832.]),\n",
       "  array([3710.,    0.,    0.,    0.,    0.,    0.,    0.,    0.,    0.,\n",
       "         3790.]),\n",
       "  array([3782.,    0.,    0.,    0.,    0.,    0.,    0.,    0.,    0.,\n",
       "         3718.]),\n",
       "  array([3778.,    0.,    0.,    0.,    0.,    0.,    0.,    0.,    0.,\n",
       "         3722.]),\n",
       "  array([3706.,    0.,    0.,    0.,    0.,    0.,    0.,    0.,    0.,\n",
       "         3794.]),\n",
       "  array([3834.,    0.,    0.,    0.,    0.,    0.,    0.,    0.,    0.,\n",
       "         3666.]),\n",
       "  array([3808.,    0.,    0.,    0.,    0.,    0.,    0.,    0.,    0.,\n",
       "         3692.]),\n",
       "  array([3709.,    0.,    0.,    0.,    0.,    0.,    0.,    0.,    0.,\n",
       "         3791.]),\n",
       "  array([3796.,    0.,    0.,    0.,    0.,    0.,    0.,    0.,    0.,\n",
       "         3704.]),\n",
       "  array([3728.,    0.,    0.,    0.,    0.,    0.,    0.,    0.,    0.,\n",
       "         3772.]),\n",
       "  array([3672.,    0.,    0.,    0.,    0.,    0.,    0.,    0.,    0.,\n",
       "         3828.]),\n",
       "  array([3715.,    0.,    0.,    0.,    0.,    0.,    0.,    0.,    0.,\n",
       "         3785.]),\n",
       "  array([3752.,    0.,    0.,    0.,    0.,    0.,    0.,    0.,    0.,\n",
       "         3748.]),\n",
       "  array([3738.,    0.,    0.,    0.,    0.,    0.,    0.,    0.,    0.,\n",
       "         3762.]),\n",
       "  array([3720.,    0.,    0.,    0.,    0.,    0.,    0.,    0.,    0.,\n",
       "         3780.]),\n",
       "  array([3821.,    0.,    0.,    0.,    0.,    0.,    0.,    0.,    0.,\n",
       "         3679.]),\n",
       "  array([3746.,    0.,    0.,    0.,    0.,    0.,    0.,    0.,    0.,\n",
       "         3754.]),\n",
       "  array([3818.,    0.,    0.,    0.,    0.,    0.,    0.,    0.,    0.,\n",
       "         3682.]),\n",
       "  array([3886.,    0.,    0.,    0.,    0.,    0.,    0.,    0.,    0.,\n",
       "         3614.]),\n",
       "  array([3836.,    0.,    0.,    0.,    0.,    0.,    0.,    0.,    0.,\n",
       "         3664.]),\n",
       "  array([3760.,    0.,    0.,    0.,    0.,    0.,    0.,    0.,    0.,\n",
       "         3740.]),\n",
       "  array([3806.,    0.,    0.,    0.,    0.,    0.,    0.,    0.,    0.,\n",
       "         3694.]),\n",
       "  array([3735.,    0.,    0.,    0.,    0.,    0.,    0.,    0.,    0.,\n",
       "         3765.]),\n",
       "  array([3796.,    0.,    0.,    0.,    0.,    0.,    0.,    0.,    0.,\n",
       "         3704.]),\n",
       "  array([3835.,    0.,    0.,    0.,    0.,    0.,    0.,    0.,    0.,\n",
       "         3665.]),\n",
       "  array([3698.,    0.,    0.,    0.,    0.,    0.,    0.,    0.,    0.,\n",
       "         3802.]),\n",
       "  array([3796.,    0.,    0.,    0.,    0.,    0.,    0.,    0.,    0.,\n",
       "         3704.]),\n",
       "  array([3655.,    0.,    0.,    0.,    0.,    0.,    0.,    0.,    0.,\n",
       "         3845.]),\n",
       "  array([3738.,    0.,    0.,    0.,    0.,    0.,    0.,    0.,    0.,\n",
       "         3762.]),\n",
       "  array([3738.,    0.,    0.,    0.,    0.,    0.,    0.,    0.,    0.,\n",
       "         3762.]),\n",
       "  array([3731.,    0.,    0.,    0.,    0.,    0.,    0.,    0.,    0.,\n",
       "         3769.]),\n",
       "  array([3728.,    0.,    0.,    0.,    0.,    0.,    0.,    0.,    0.,\n",
       "         3772.]),\n",
       "  array([3815.,    0.,    0.,    0.,    0.,    0.,    0.,    0.,    0.,\n",
       "         3685.]),\n",
       "  array([3699.,    0.,    0.,    0.,    0.,    0.,    0.,    0.,    0.,\n",
       "         3801.]),\n",
       "  array([3697.,    0.,    0.,    0.,    0.,    0.,    0.,    0.,    0.,\n",
       "         3803.]),\n",
       "  array([3752.,    0.,    0.,    0.,    0.,    0.,    0.,    0.,    0.,\n",
       "         3748.]),\n",
       "  array([3756.,    0.,    0.,    0.,    0.,    0.,    0.,    0.,    0.,\n",
       "         3744.]),\n",
       "  array([3759.,    0.,    0.,    0.,    0.,    0.,    0.,    0.,    0.,\n",
       "         3741.]),\n",
       "  array([3740.,    0.,    0.,    0.,    0.,    0.,    0.,    0.,    0.,\n",
       "         3760.]),\n",
       "  array([3757.,    0.,    0.,    0.,    0.,    0.,    0.,    0.,    0.,\n",
       "         3743.]),\n",
       "  array([3747.,    0.,    0.,    0.,    0.,    0.,    0.,    0.,    0.,\n",
       "         3753.]),\n",
       "  array([3755.,    0.,    0.,    0.,    0.,    0.,    0.,    0.,    0.,\n",
       "         3745.]),\n",
       "  array([3761.,    0.,    0.,    0.,    0.,    0.,    0.,    0.,    0.,\n",
       "         3739.]),\n",
       "  array([3674.,    0.,    0.,    0.,    0.,    0.,    0.,    0.,    0.,\n",
       "         3826.]),\n",
       "  array([3719.,    0.,    0.,    0.,    0.,    0.,    0.,    0.,    0.,\n",
       "         3781.]),\n",
       "  array([3652.,    0.,    0.,    0.,    0.,    0.,    0.,    0.,    0.,\n",
       "         3848.]),\n",
       "  array([3715.,    0.,    0.,    0.,    0.,    0.,    0.,    0.,    0.,\n",
       "         3785.]),\n",
       "  array([3775.,    0.,    0.,    0.,    0.,    0.,    0.,    0.,    0.,\n",
       "         3725.]),\n",
       "  array([3758.,    0.,    0.,    0.,    0.,    0.,    0.,    0.,    0.,\n",
       "         3742.]),\n",
       "  array([3817.,    0.,    0.,    0.,    0.,    0.,    0.,    0.,    0.,\n",
       "         3683.]),\n",
       "  array([3738.,    0.,    0.,    0.,    0.,    0.,    0.,    0.,    0.,\n",
       "         3762.]),\n",
       "  array([3721.,    0.,    0.,    0.,    0.,    0.,    0.,    0.,    0.,\n",
       "         3779.]),\n",
       "  array([3788.,    0.,    0.,    0.,    0.,    0.,    0.,    0.,    0.,\n",
       "         3712.]),\n",
       "  array([3709.,    0.,    0.,    0.,    0.,    0.,    0.,    0.,    0.,\n",
       "         3791.]),\n",
       "  array([3748.,    0.,    0.,    0.,    0.,    0.,    0.,    0.,    0.,\n",
       "         3752.]),\n",
       "  array([3666.,    0.,    0.,    0.,    0.,    0.,    0.,    0.,    0.,\n",
       "         3834.]),\n",
       "  array([3781.,    0.,    0.,    0.,    0.,    0.,    0.,    0.,    0.,\n",
       "         3719.]),\n",
       "  array([3790.,    0.,    0.,    0.,    0.,    0.,    0.,    0.,    0.,\n",
       "         3710.]),\n",
       "  array([3794.,    0.,    0.,    0.,    0.,    0.,    0.,    0.,    0.,\n",
       "         3706.]),\n",
       "  array([3765.,    0.,    0.,    0.,    0.,    0.,    0.,    0.,    0.,\n",
       "         3735.]),\n",
       "  array([3793.,    0.,    0.,    0.,    0.,    0.,    0.,    0.,    0.,\n",
       "         3707.]),\n",
       "  array([3822.,    0.,    0.,    0.,    0.,    0.,    0.,    0.,    0.,\n",
       "         3678.]),\n",
       "  array([3823.,    0.,    0.,    0.,    0.,    0.,    0.,    0.,    0.,\n",
       "         3677.]),\n",
       "  array([3723.,    0.,    0.,    0.,    0.,    0.,    0.,    0.,    0.,\n",
       "         3777.]),\n",
       "  array([3771.,    0.,    0.,    0.,    0.,    0.,    0.,    0.,    0.,\n",
       "         3729.]),\n",
       "  array([3795.,    0.,    0.,    0.,    0.,    0.,    0.,    0.,    0.,\n",
       "         3705.]),\n",
       "  array([3705.,    0.,    0.,    0.,    0.,    0.,    0.,    0.,    0.,\n",
       "         3795.]),\n",
       "  array([3708.,    0.,    0.,    0.,    0.,    0.,    0.,    0.,    0.,\n",
       "         3792.]),\n",
       "  array([3764.,    0.,    0.,    0.,    0.,    0.,    0.,    0.,    0.,\n",
       "         3736.]),\n",
       "  array([3691.,    0.,    0.,    0.,    0.,    0.,    0.,    0.,    0.,\n",
       "         3809.]),\n",
       "  array([3747.,    0.,    0.,    0.,    0.,    0.,    0.,    0.,    0.,\n",
       "         3753.]),\n",
       "  array([3643.,    0.,    0.,    0.,    0.,    0.,    0.,    0.,    0.,\n",
       "         3857.]),\n",
       "  array([3688.,    0.,    0.,    0.,    0.,    0.,    0.,    0.,    0.,\n",
       "         3812.]),\n",
       "  array([3645.,    0.,    0.,    0.,    0.,    0.,    0.,    0.,    0.,\n",
       "         3855.]),\n",
       "  array([3687.,    0.,    0.,    0.,    0.,    0.,    0.,    0.,    0.,\n",
       "         3813.]),\n",
       "  array([3682.,    0.,    0.,    0.,    0.,    0.,    0.,    0.,    0.,\n",
       "         3818.]),\n",
       "  array([3805.,    0.,    0.,    0.,    0.,    0.,    0.,    0.,    0.,\n",
       "         3695.]),\n",
       "  array([3700.,    0.,    0.,    0.,    0.,    0.,    0.,    0.,    0.,\n",
       "         3800.]),\n",
       "  array([3751.,    0.,    0.,    0.,    0.,    0.,    0.,    0.,    0.,\n",
       "         3749.]),\n",
       "  array([3694.,    0.,    0.,    0.,    0.,    0.,    0.,    0.,    0.,\n",
       "         3806.]),\n",
       "  array([3695.,    0.,    0.,    0.,    0.,    0.,    0.,    0.,    0.,\n",
       "         3805.]),\n",
       "  array([3736.,    0.,    0.,    0.,    0.,    0.,    0.,    0.,    0.,\n",
       "         3764.]),\n",
       "  array([3697.,    0.,    0.,    0.,    0.,    0.,    0.,    0.,    0.,\n",
       "         3803.]),\n",
       "  array([3703.,    0.,    0.,    0.,    0.,    0.,    0.,    0.,    0.,\n",
       "         3797.]),\n",
       "  array([3746.,    0.,    0.,    0.,    0.,    0.,    0.,    0.,    0.,\n",
       "         3754.]),\n",
       "  array([3666.,    0.,    0.,    0.,    0.,    0.,    0.,    0.,    0.,\n",
       "         3834.]),\n",
       "  array([3736.,    0.,    0.,    0.,    0.,    0.,    0.,    0.,    0.,\n",
       "         3764.]),\n",
       "  array([3752.,    0.,    0.,    0.,    0.,    0.,    0.,    0.,    0.,\n",
       "         3748.]),\n",
       "  array([3732.,    0.,    0.,    0.,    0.,    0.,    0.,    0.,    0.,\n",
       "         3768.]),\n",
       "  array([3732.,    0.,    0.,    0.,    0.,    0.,    0.,    0.,    0.,\n",
       "         3768.]),\n",
       "  array([3698.,    0.,    0.,    0.,    0.,    0.,    0.,    0.,    0.,\n",
       "         3802.]),\n",
       "  array([3746.,    0.,    0.,    0.,    0.,    0.,    0.,    0.,    0.,\n",
       "         3754.]),\n",
       "  array([3653.,    0.,    0.,    0.,    0.,    0.,    0.,    0.,    0.,\n",
       "         3847.]),\n",
       "  array([3804.,    0.,    0.,    0.,    0.,    0.,    0.,    0.,    0.,\n",
       "         3696.]),\n",
       "  array([3688.,    0.,    0.,    0.,    0.,    0.,    0.,    0.,    0.,\n",
       "         3812.]),\n",
       "  array([3732.,    0.,    0.,    0.,    0.,    0.,    0.,    0.,    0.,\n",
       "         3768.]),\n",
       "  array([3736.,    0.,    0.,    0.,    0.,    0.,    0.,    0.,    0.,\n",
       "         3764.]),\n",
       "  array([3719.,    0.,    0.,    0.,    0.,    0.,    0.,    0.,    0.,\n",
       "         3781.]),\n",
       "  array([3789.,    0.,    0.,    0.,    0.,    0.,    0.,    0.,    0.,\n",
       "         3711.]),\n",
       "  array([3772.,    0.,    0.,    0.,    0.,    0.,    0.,    0.,    0.,\n",
       "         3728.]),\n",
       "  array([3805.,    0.,    0.,    0.,    0.,    0.,    0.,    0.,    0.,\n",
       "         3695.]),\n",
       "  array([3762.,    0.,    0.,    0.,    0.,    0.,    0.,    0.,    0.,\n",
       "         3738.]),\n",
       "  array([3684.,    0.,    0.,    0.,    0.,    0.,    0.,    0.,    0.,\n",
       "         3816.]),\n",
       "  array([3726.,    0.,    0.,    0.,    0.,    0.,    0.,    0.,    0.,\n",
       "         3774.]),\n",
       "  array([3729.,    0.,    0.,    0.,    0.,    0.,    0.,    0.,    0.,\n",
       "         3771.]),\n",
       "  array([3728.,    0.,    0.,    0.,    0.,    0.,    0.,    0.,    0.,\n",
       "         3772.]),\n",
       "  array([3785.,    0.,    0.,    0.,    0.,    0.,    0.,    0.,    0.,\n",
       "         3715.]),\n",
       "  array([3808.,    0.,    0.,    0.,    0.,    0.,    0.,    0.,    0.,\n",
       "         3692.]),\n",
       "  array([3727.,    0.,    0.,    0.,    0.,    0.,    0.,    0.,    0.,\n",
       "         3773.]),\n",
       "  array([3708.,    0.,    0.,    0.,    0.,    0.,    0.,    0.,    0.,\n",
       "         3792.]),\n",
       "  array([3685.,    0.,    0.,    0.,    0.,    0.,    0.,    0.,    0.,\n",
       "         3815.]),\n",
       "  array([3843.,    0.,    0.,    0.,    0.,    0.,    0.,    0.,    0.,\n",
       "         3657.]),\n",
       "  array([3718.,    0.,    0.,    0.,    0.,    0.,    0.,    0.,    0.,\n",
       "         3782.]),\n",
       "  array([3738.,    0.,    0.,    0.,    0.,    0.,    0.,    0.,    0.,\n",
       "         3762.]),\n",
       "  array([3764.,    0.,    0.,    0.,    0.,    0.,    0.,    0.,    0.,\n",
       "         3736.]),\n",
       "  array([3762.,    0.,    0.,    0.,    0.,    0.,    0.,    0.,    0.,\n",
       "         3738.]),\n",
       "  array([3742.,    0.,    0.,    0.,    0.,    0.,    0.,    0.,    0.,\n",
       "         3758.]),\n",
       "  array([3719.,    0.,    0.,    0.,    0.,    0.,    0.,    0.,    0.,\n",
       "         3781.]),\n",
       "  array([3819.,    0.,    0.,    0.,    0.,    0.,    0.,    0.,    0.,\n",
       "         3681.]),\n",
       "  array([3752.,    0.,    0.,    0.,    0.,    0.,    0.,    0.,    0.,\n",
       "         3748.]),\n",
       "  array([3722.,    0.,    0.,    0.,    0.,    0.,    0.,    0.,    0.,\n",
       "         3778.]),\n",
       "  array([3778.,    0.,    0.,    0.,    0.,    0.,    0.,    0.,    0.,\n",
       "         3722.]),\n",
       "  array([3770.,    0.,    0.,    0.,    0.,    0.,    0.,    0.,    0.,\n",
       "         3730.]),\n",
       "  array([3697.,    0.,    0.,    0.,    0.,    0.,    0.,    0.,    0.,\n",
       "         3803.]),\n",
       "  array([3154.,    0.,    0.,    0.,    0.,    0.,    0.,    0.,    0.,\n",
       "         4346.])],\n",
       " array([0. , 0.1, 0.2, 0.3, 0.4, 0.5, 0.6, 0.7, 0.8, 0.9, 1. ]),\n",
       " <a list of 128 Lists of Patches objects>)"
      ]
     },
     "execution_count": 11,
     "metadata": {},
     "output_type": "execute_result"
    },
    {
     "data": {
      "image/png": "[encoded data removed]",
      "text/plain": [
       "<matplotlib.figure.Figure at 0x121ca96a0>"
      ]
     },
     "metadata": {},
     "output_type": "display_data"
    }
   ],
   "source": [
    "plt.hist(obs_train)"
   ]
  },
  {
   "cell_type": "markdown",
   "metadata": {},
   "source": [
    "We talked to Summaya Mumtaz in the lab and she said that from this plot we could se that there are two clusters. We are not sure how she did that. For us it just seems that each attribute takes either the value of zero or one, as we know they do from the definition of the data. If we look at only one attribute at the time we agreee that we have two clusters. Take $x_2$, either they smoke ($x_2=1$) or not ($x_2=0$), so we have to clusters. But when we have more dimensions I feel like we have more clusters. Say we look at the two first attributes. Then a person can be either male or female and the can smoke or not smoke, i.e. we have four potential combinations. Think of a square with a cluster in each corner. obviously it can be that there are no female smokers. Then we have three clusters. Then we can think of the clusters as being on a line. Male smokers are more similar to male non-smokers than female non-smokers, and male non-smokers are equally similar to both (assuming equal weighting of the attributes). So we have \"male smokers\" -- \"male non-smokers\" -- \"female non-smokers\". In a hypercube we would still have clusters in each corner, and this gives us $2^{128}$ potential clusters. This is an astronomical number. So we must assume that there is pattern in the data, which will lower this number. "
   ]
  },
  {
   "cell_type": "markdown",
   "metadata": {},
   "source": [
    "From the two histograms bellow we see that there are more people of the sex zero and more non-smokers."
   ]
  },
  {
   "cell_type": "code",
   "execution_count": 12,
   "metadata": {},
   "outputs": [
    {
     "name": "stderr",
     "output_type": "stream",
     "text": [
      "/Users/Oda/anaconda/lib/python3.6/site-packages/scipy/stats/stats.py:1633: FutureWarning: Using a non-tuple sequence for multidimensional indexing is deprecated; use `arr[tuple(seq)]` instead of `arr[seq]`. In the future this will be interpreted as an array index, `arr[np.array(seq)]`, which will result either in an error or a different result.\n",
      "  return np.add.reduce(sorted[indexer] * weights, axis=axis) / sumval\n"
     ]
    },
    {
     "data": {
      "text/plain": [
       "<matplotlib.axes._subplots.AxesSubplot at 0x126450f98>"
      ]
     },
     "execution_count": 12,
     "metadata": {},
     "output_type": "execute_result"
    },
    {
     "data": {
      "image/png": "[encoded data removed]",
      "text/plain": [
       "<matplotlib.figure.Figure at 0x127e98400>"
      ]
     },
     "metadata": {},
     "output_type": "display_data"
    }
   ],
   "source": [
    "sns.distplot(obs_train[0])"
   ]
  },
  {
   "cell_type": "code",
   "execution_count": 13,
   "metadata": {},
   "outputs": [
    {
     "name": "stderr",
     "output_type": "stream",
     "text": [
      "/Users/Oda/anaconda/lib/python3.6/site-packages/scipy/stats/stats.py:1633: FutureWarning: Using a non-tuple sequence for multidimensional indexing is deprecated; use `arr[tuple(seq)]` instead of `arr[seq]`. In the future this will be interpreted as an array index, `arr[np.array(seq)]`, which will result either in an error or a different result.\n",
      "  return np.add.reduce(sorted[indexer] * weights, axis=axis) / sumval\n"
     ]
    },
    {
     "data": {
      "text/plain": [
       "<matplotlib.axes._subplots.AxesSubplot at 0x126f42fd0>"
      ]
     },
     "execution_count": 13,
     "metadata": {},
     "output_type": "execute_result"
    },
    {
     "data": {
      "image/png": "[encoded data removed]",
      "text/plain": [
       "<matplotlib.figure.Figure at 0x126af17b8>"
      ]
     },
     "metadata": {},
     "output_type": "display_data"
    }
   ],
   "source": [
    "sns.distplot(obs_train[1])"
   ]
  },
  {
   "cell_type": "markdown",
   "metadata": {},
   "source": [
    "Let's look at the proportions of smokers among sex 0. "
   ]
  },
  {
   "cell_type": "code",
   "execution_count": 14,
   "metadata": {},
   "outputs": [
    {
     "name": "stderr",
     "output_type": "stream",
     "text": [
      "/Users/Oda/anaconda/lib/python3.6/site-packages/scipy/stats/stats.py:1633: FutureWarning: Using a non-tuple sequence for multidimensional indexing is deprecated; use `arr[tuple(seq)]` instead of `arr[seq]`. In the future this will be interpreted as an array index, `arr[np.array(seq)]`, which will result either in an error or a different result.\n",
      "  return np.add.reduce(sorted[indexer] * weights, axis=axis) / sumval\n"
     ]
    },
    {
     "data": {
      "text/plain": [
       "<matplotlib.axes._subplots.AxesSubplot at 0x1274c2668>"
      ]
     },
     "execution_count": 14,
     "metadata": {},
     "output_type": "execute_result"
    },
    {
     "data": {
      "image/png": "[encoded data removed]",
      "text/plain": [
       "<matplotlib.figure.Figure at 0x127b19fd0>"
      ]
     },
     "metadata": {},
     "output_type": "display_data"
    }
   ],
   "source": [
    "sns.distplot(obs_train[1][obs_train[0] == 0])"
   ]
  },
  {
   "cell_type": "markdown",
   "metadata": {},
   "source": [
    "Let's look at the proportions of smokers among sex 1."
   ]
  },
  {
   "cell_type": "code",
   "execution_count": 15,
   "metadata": {},
   "outputs": [
    {
     "name": "stderr",
     "output_type": "stream",
     "text": [
      "/Users/Oda/anaconda/lib/python3.6/site-packages/scipy/stats/stats.py:1633: FutureWarning: Using a non-tuple sequence for multidimensional indexing is deprecated; use `arr[tuple(seq)]` instead of `arr[seq]`. In the future this will be interpreted as an array index, `arr[np.array(seq)]`, which will result either in an error or a different result.\n",
      "  return np.add.reduce(sorted[indexer] * weights, axis=axis) / sumval\n"
     ]
    },
    {
     "data": {
      "text/plain": [
       "<matplotlib.axes._subplots.AxesSubplot at 0x127f57358>"
      ]
     },
     "execution_count": 15,
     "metadata": {},
     "output_type": "execute_result"
    },
    {
     "data": {
      "image/png": "[encoded data removed]",
      "text/plain": [
       "<matplotlib.figure.Figure at 0x127f5cf60>"
      ]
     },
     "metadata": {},
     "output_type": "display_data"
    }
   ],
   "source": [
    "sns.distplot(obs_train[1][obs_train[0] == 1])"
   ]
  },
  {
   "cell_type": "markdown",
   "metadata": {},
   "source": [
    "We see that there is a higher percentage of sex=0 that smoke than sex=1 that smoke."
   ]
  },
  {
   "cell_type": "markdown",
   "metadata": {},
   "source": [
    "### Let's now take a look at the scores with Kmeans"
   ]
  },
  {
   "cell_type": "code",
   "execution_count": 21,
   "metadata": {},
   "outputs": [
    {
     "name": "stdout",
     "output_type": "stream",
     "text": [
      "k =  1: Interia = 239515.208400   Score = -79883.380400\n",
      "k =  2: Interia = 217581.878820   Score = -72790.834381\n",
      "k =  3: Interia = 205510.151391   Score = -69313.049068\n",
      "k =  4: Interia = 197463.994167   Score = -66682.025134\n",
      "k =  5: Interia = 191095.180082   Score = -64610.487630\n",
      "k =  6: Interia = 186065.732481   Score = -62687.212629\n",
      "k =  7: Interia = 181861.913769   Score = -61256.264464\n",
      "k =  8: Interia = 178169.586675   Score = -59898.688167\n",
      "k =  9: Interia = 174942.015523   Score = -58896.858035\n",
      "k = 10: Interia = 172218.273364   Score = -58102.713262\n",
      "k = 11: Interia = 169956.626020   Score = -57294.130437\n",
      "k = 12: Interia = 167873.894891   Score = -56505.273995\n",
      "k = 13: Interia = 165609.516943   Score = -55900.379338\n",
      "k = 14: Interia = 163758.939357   Score = -55403.094910\n",
      "k = 15: Interia = 161974.704503   Score = -54784.672692\n",
      "k = 16: Interia = 160388.749016   Score = -54301.602786\n",
      "k = 17: Interia = 158499.558356   Score = -53949.019186\n",
      "k = 18: Interia = 157148.585675   Score = -53693.342835\n",
      "k = 19: Interia = 155902.276512   Score = -53137.403876\n",
      "k = 20: Interia = 154693.037602   Score = -52571.076384\n"
     ]
    }
   ],
   "source": [
    "for k in range(1,21):\n",
    "    kmeans_model = KMeans(n_clusters=k, random_state=1).fit(obs_train)\n",
    "    \n",
    "    # Sum of distances of samples to their closest cluster center.\n",
    "    interia = kmeans_model.inertia_\n",
    "    \n",
    "    print(\"k = %2d: Interia = %f   Score = %f\" % (k,interia,kmeans_model.score(obs_test)))"
   ]
  },
  {
   "cell_type": "markdown",
   "metadata": {},
   "source": [
    "We want this score as high as possible. The k with the best score is the k we should chose, i.e. the optimal number of clusters. The problem is that this score will keep incresing to zero when k increase. This is because score look at the distance from each point to the closest cluster centrum (for the test data, Ineteria does the same for the training data), and train and test set takes the same possible values this is a problem. Since then $2^{128}$ will (potentially) be the best k. Usually this score starts to level of, that the increase in absolute value decrese. So one can usually pick a resoanble K, but we are unsure where such a cap should be choosen here. Interia is much bigger due to the bigger dataset. One need to look at -score."
   ]
  },
  {
   "cell_type": "markdown",
   "metadata": {},
   "source": [
    "Say that K = 6 is a nice treeshold. We take a closer look at K = 6."
   ]
  },
  {
   "cell_type": "code",
   "execution_count": 17,
   "metadata": {
    "collapsed": true
   },
   "outputs": [],
   "source": [
    "kmeans_model = KMeans(n_clusters=6, random_state=1).fit(obs_train)"
   ]
  },
  {
   "cell_type": "code",
   "execution_count": 18,
   "metadata": {},
   "outputs": [
    {
     "data": {
      "text/plain": [
       "-62687.212628782916"
      ]
     },
     "execution_count": 18,
     "metadata": {},
     "output_type": "execute_result"
    }
   ],
   "source": [
    "kmeans_model.score(obs_test)"
   ]
  },
  {
   "cell_type": "code",
   "execution_count": 19,
   "metadata": {},
   "outputs": [
    {
     "name": "stdout",
     "output_type": "stream",
     "text": [
      "Number of people in cluster 0: 1274\n",
      "Number of people in cluster 1: 1131\n",
      "Number of people in cluster 2: 1369\n",
      "Number of people in cluster 3: 1385\n",
      "Number of people in cluster 4: 1128\n",
      "Number of people in cluster 5: 1213\n"
     ]
    }
   ],
   "source": [
    "for l in range(6):\n",
    "    print(\"Number of people in cluster %d: %d\" %(l,sum(kmeans_model.labels_ == l)))"
   ]
  },
  {
   "cell_type": "markdown",
   "metadata": {},
   "source": [
    "We see that the people are fairly divided between the clusters."
   ]
  },
  {
   "cell_type": "code",
   "execution_count": null,
   "metadata": {
    "collapsed": true
   },
   "outputs": [],
   "source": []
  },
  {
   "cell_type": "code",
   "execution_count": 20,
   "metadata": {},
   "outputs": [
    {
     "name": "stdout",
     "output_type": "stream",
     "text": [
      "k =  1: Score = -32.603439\n",
      "k =  2: Score = -27.188233\n",
      "k =  3: Score = -25.275091\n",
      "k =  4: Score = -24.016455\n",
      "k =  5: Score = -21.425464\n",
      "k =  6: Score = -18.076322\n",
      "k =  7: Score = -20.838692\n",
      "k =  8: Score = -18.565873\n",
      "k =  9: Score = -15.420511\n",
      "k = 10: Score = -18.877297\n",
      "k = 11: Score = -21.430816\n",
      "k = 12: Score = -19.669526\n",
      "k = 13: Score = -19.959870\n",
      "k = 14: Score = -16.383825\n",
      "k = 15: Score = -19.406439\n",
      "k = 16: Score = -19.771687\n",
      "k = 17: Score = -21.365973\n",
      "k = 18: Score = -21.447191\n",
      "k = 19: Score = -19.663103\n",
      "k = 20: Score = -22.821534\n"
     ]
    }
   ],
   "source": [
    "for k in range(1,21):\n",
    "    gm_model = GaussianMixture(n_components=k, max_iter = 200, random_state=1).fit(obs_train)\n",
    "    \n",
    "    print(\"k = %2d: Score = %f\" % (k, gm_model.score(obs_test)))"
   ]
  },
  {
   "cell_type": "markdown",
   "metadata": {},
   "source": [
    "We now do the same as before but also take a look at the Bic score to find the optimal value. We have done this because of. http://scikit-learn.org/stable/auto_examples/mixture/plot_gmm_selection.html#sphx-glr-auto-examples-mixture-plot-gmm-selection-py It was wrong of us to look at BicTest. One should only look at BicTrain. The optimal value is 3. But, 2 is not far of. And since we know that is the truth we go for it."
   ]
  },
  {
   "cell_type": "code",
   "execution_count": 17,
   "metadata": {},
   "outputs": [
    {
     "name": "stdout",
     "output_type": "stream",
     "text": [
      "k =  1: ScoreTrain = -31.373   ScoreTest = -32.359   Bic = 545399.189   Aic = 487359.622\n",
      "k =  2: ScoreTrain = -24.810   ScoreTest = -26.926   Bic = 521777.915   Aic = 405691.858\n",
      "k =  3: ScoreTrain = -20.511   ScoreTest = -24.019   Bic = 532103.217   Aic = 357970.670\n",
      "k =  4: ScoreTrain = -17.173   ScoreTest = -22.056   Bic = 556844.621   Aic = 324665.584\n",
      "k =  5: ScoreTrain = -13.436   ScoreTest = -19.714   Bic = 575616.057   Aic = 285390.530\n",
      "k =  6: ScoreTrain = -12.238   ScoreTest = -20.020   Bic = 632465.142   Aic = 284193.125\n",
      "k =  7: ScoreTrain = -9.678   ScoreTest = -218.665   Bic = 668870.530   Aic = 262552.023\n",
      "k =  8: ScoreTrain = -7.701   ScoreTest = -217.959   Bic = 714044.179   Aic = 249679.183\n",
      "k =  9: ScoreTrain = -1.213   ScoreTest = -12.901   Bic = 691539.330   Aic = 169127.844\n"
     ]
    }
   ],
   "source": [
    "for k in range(1,10):\n",
    "    gm_model = GaussianMixture(n_components=k, max_iter = 200, random_state=1).fit(obs_train)\n",
    "    bic = gm_model.bic(obs_train)\n",
    "    aic = gm_model.aic(obs_train)\n",
    "    print(\"k = %2d: ScoreTrain = %.3f   ScoreTest = %.3f   Bic = %.3f   Aic = %.3f\" % (k, gm_model.score(obs_train),gm_model.score(obs_test), bic, aic))"
   ]
  },
  {
   "cell_type": "markdown",
   "metadata": {},
   "source": [
    "From the values above we see that k=13 is the best choice, but k=6 is not that far off, and since 6 is much lower we conclude that with Gaussian Mixture models the 'optimal' choice is 6 clusters. If we look at the score. But AIC and BIC is betther. Here we see that 2 or 3 is optimal."
   ]
  },
  {
   "cell_type": "code",
   "execution_count": 19,
   "metadata": {
    "collapsed": true
   },
   "outputs": [],
   "source": [
    "gm_model = GaussianMixture(n_components=2, max_iter = 200, random_state=1).fit(obs_train)"
   ]
  },
  {
   "cell_type": "code",
   "execution_count": null,
   "metadata": {
    "collapsed": true
   },
   "outputs": [],
   "source": [
    "gm_model.predict(obs_)\n"
   ]
  },
  {
   "cell_type": "markdown",
   "metadata": {},
   "source": [
    "#### We look at kmeans_silhouette_analysis\n",
    "\n",
    "Silhouette coefficients (as these values are referred to as) near +1 indicate that the sample is far away from the neighboring clusters. A value of 0 indicates that the sample is on or very close to the decision boundary between two neighboring clusters and negative values indicate that those samples might have been assigned to the wrong cluster. http://scikit-learn.org/stable/auto_examples/cluster/plot_kmeans_silhouette_analysis.html"
   ]
  },
  {
   "cell_type": "code",
   "execution_count": 122,
   "metadata": {},
   "outputs": [
    {
     "name": "stdout",
     "output_type": "stream",
     "text": [
      "For n_clusters = 2 The average silhouette_score is : 0.08789046555225062\n",
      "For n_clusters = 3 The average silhouette_score is : 0.07400565765849043\n",
      "For n_clusters = 4 The average silhouette_score is : 0.06795148893837454\n",
      "For n_clusters = 5 The average silhouette_score is : 0.06463853037241843\n",
      "For n_clusters = 6 The average silhouette_score is : 0.06346335792308268\n",
      "For n_clusters = 7 The average silhouette_score is : 0.06442224067814628\n",
      "For n_clusters = 8 The average silhouette_score is : 0.06535853448402974\n",
      "For n_clusters = 9 The average silhouette_score is : 0.06588064103198324\n",
      "For n_clusters = 10 The average silhouette_score is : 0.06493274114857885\n"
     ]
    }
   ],
   "source": [
    "for n_clusters in range(2,11):\n",
    "    # Initialize the clusterer with n_clusters value and a random generator\n",
    "    # seed of 10 for reproducibility.\n",
    "    clusterer = KMeans(n_clusters=n_clusters, random_state=10)\n",
    "    cluster_labels = clusterer.fit_predict(obs_train)\n",
    "\n",
    "    # The silhouette_score gives the average value for all the samples.\n",
    "    # This gives a perspective into the density and separation of the formed\n",
    "    # clusters\n",
    "    silhouette_avg = silhouette_score(obs_train, cluster_labels)\n",
    "    print(\"For n_clusters =\", n_clusters,\n",
    "          \"The average silhouette_score is :\", silhouette_avg)"
   ]
  },
  {
   "cell_type": "markdown",
   "metadata": {},
   "source": [
    "We see that the score stabilize after 4 clusters."
   ]
  },
  {
   "cell_type": "markdown",
   "metadata": {},
   "source": [
    "# Final choice of clusters and features\n",
    "In the R file OptimalKAndFeatureImportance.R we have calculated the best choice of K and the most important features, based on SilhouetteScore and the importance score from randomforest, respectively. From now on we use the values obtained there. We got that 2 is the optimal number of clusters (see SilhouetteScore.png and SilhouetteScoreAfterFeatureReduction.png) and $x_{6}$, $x_4$, $x_{114}$, $x_{12}$, $x_{84}$, $x_2$ and $x_{56}$ are the most important feautres, in that order. Recall that python counts from 0, so this means columns 5, 3, 113, 11, 83, 1 and 55. \n",
    "\n",
    "Start by dividing the people into 2 clusters."
   ]
  },
  {
   "cell_type": "code",
   "execution_count": 24,
   "metadata": {
    "collapsed": true
   },
   "outputs": [],
   "source": [
    "kmeans_model = KMeans(n_clusters=2, random_state=1).fit(obs_train)"
   ]
  },
  {
   "cell_type": "code",
   "execution_count": 26,
   "metadata": {},
   "outputs": [
    {
     "data": {
      "text/plain": [
       "array([0, 0, 1, ..., 1, 0, 0])"
      ]
     },
     "execution_count": 26,
     "metadata": {},
     "output_type": "execute_result"
    }
   ],
   "source": [
    "kmeans_model.labels_"
   ]
  },
  {
   "cell_type": "code",
   "execution_count": 36,
   "metadata": {
    "collapsed": true
   },
   "outputs": [],
   "source": [
    "train_obs_0 = obs_train[kmeans_model.labels_ == 0]\n",
    "train_obs_1 = obs_train[kmeans_model.labels_ == 1]\n",
    "train_lab_0 = lab_train[kmeans_model.labels_ == 0]\n",
    "train_lab_1 = lab_train[kmeans_model.labels_ == 1]"
   ]
  },
  {
   "cell_type": "code",
   "execution_count": 32,
   "metadata": {},
   "outputs": [
    {
     "data": {
      "text/plain": [
       "(3609, 128)"
      ]
     },
     "execution_count": 32,
     "metadata": {},
     "output_type": "execute_result"
    }
   ],
   "source": [
    "train_obs_0.shape"
   ]
  },
  {
   "cell_type": "code",
   "execution_count": 40,
   "metadata": {},
   "outputs": [
    {
     "data": {
      "text/plain": [
       "(3609,)"
      ]
     },
     "execution_count": 40,
     "metadata": {},
     "output_type": "execute_result"
    }
   ],
   "source": [
    "train_lab_0.shape"
   ]
  },
  {
   "cell_type": "markdown",
   "metadata": {},
   "source": [
    "We now plot the histogram and see that there are more people with symptoms 1 and 3 in the 0 cluster. \n",
    "And there are more people with symptoms 0 and 2 in cluster 1."
   ]
  },
  {
   "cell_type": "code",
   "execution_count": 38,
   "metadata": {},
   "outputs": [
    {
     "data": {
      "text/plain": [
       "(array([1269.,    0.,    0., 2071.,    0.,    0.,   95.,    0.,    0.,\n",
       "         174.]),\n",
       " array([0. , 0.3, 0.6, 0.9, 1.2, 1.5, 1.8, 2.1, 2.4, 2.7, 3. ]),\n",
       " <a list of 10 Patch objects>)"
      ]
     },
     "execution_count": 38,
     "metadata": {},
     "output_type": "execute_result"
    },
    {
     "data": {
      "image/png": "[encoded data removed]",
      "text/plain": [
       "<Figure size 432x288 with 1 Axes>"
      ]
     },
     "metadata": {},
     "output_type": "display_data"
    }
   ],
   "source": [
    "plt.hist(train_lab_0)"
   ]
  },
  {
   "cell_type": "code",
   "execution_count": 39,
   "metadata": {},
   "outputs": [
    {
     "data": {
      "text/plain": [
       "(array([2338.,    0.,    0., 1086.,    0.,    0.,  327.,    0.,    0.,\n",
       "         140.]),\n",
       " array([0. , 0.3, 0.6, 0.9, 1.2, 1.5, 1.8, 2.1, 2.4, 2.7, 3. ]),\n",
       " <a list of 10 Patch objects>)"
      ]
     },
     "execution_count": 39,
     "metadata": {},
     "output_type": "execute_result"
    },
    {
     "data": {
      "image/png": "[encoded data removed]",
      "text/plain": [
       "<Figure size 432x288 with 1 Axes>"
      ]
     },
     "metadata": {},
     "output_type": "display_data"
    }
   ],
   "source": [
    "plt.hist(train_lab_1)"
   ]
  },
  {
   "cell_type": "markdown",
   "metadata": {},
   "source": [
    "# Question 2"
   ]
  },
  {
   "cell_type": "markdown",
   "metadata": {},
   "source": [
    "Next, we want to observe the effects of two different therapeutic interventions, one of which is placebo, and the other is an experimental drug. First we calculate the success of the two treatments in the whole data set. Here we assume that treatment 0 is placebo and treatment 1 is active treatment, but it could very well be the other way around. We also assume that Y = 1 means that the patient is cured, and Y = 0 means that the patient is not cured. "
   ]
  },
  {
   "cell_type": "code",
   "execution_count": 76,
   "metadata": {},
   "outputs": [
    {
     "name": "stdout",
     "output_type": "stream",
     "text": [
      "The effectiveness of placebo is: 0.008959 \n",
      "The effectiveness of active treatment is: 0.588338 \n"
     ]
    }
   ],
   "source": [
    "#I want pandas\n",
    "features = pd.read_csv('historical_X.dat', header=None, sep=\" \")\n",
    "actions = pd.read_csv('historical_A.dat', header=None, sep=\" \")\n",
    "outcome = pd.read_csv('historical_Y.dat', header=None, sep=\" \")\n",
    "\n",
    "\n",
    "active_treatments = 0\n",
    "success_placebo = 0\n",
    "success_active = 0\n",
    "\n",
    "active_treatments = sum(actions.loc[:,0])\n",
    "\n",
    "\n",
    "for i in range(len(actions)):\n",
    "    if actions.loc[i,0] == 1 and outcome.loc[i,0] == 1:\n",
    "        success_active += 1\n",
    "    elif actions.loc[i,0] == 0 and outcome.loc[i,0] == 1:\n",
    "        success_placebo += 1\n",
    "\n",
    "\n",
    "print(\"The effectiveness of placebo is: %f \" %(success_placebo/(10000-active_treatments)))\n",
    "print(\"The effectiveness of active treatment is: %f \" %(success_active/(active_treatments)))"
   ]
  },
  {
   "cell_type": "markdown",
   "metadata": {},
   "source": [
    "We see that the treatment is effective in 58.8% of the cases for treatment 1, and 0.9% effective for treatment 0. "
   ]
  },
  {
   "cell_type": "markdown",
   "metadata": {},
   "source": [
    "Next, we want to investigate whether there are some parameters that effect the outcome of the treatment. I.e. if there are some genes or other parameters that affect the effect of the treatment. From previous parameter selection, we found that the most important features were $X_2$, $X_4$, $X_6$, $X_{12}$, $X_{56}$, $X_{84}$, $X_{114}$. To find out if there is some interaction between some parameters, we choose these features and also include the action feature, and do logistic regression for models with interactions with parameter selection. For code see $\\texttt{LogRegInteract.R}$"
   ]
  },
  {
   "cell_type": "raw",
   "metadata": {},
   "source": [
    "\n",
    "Call:\n",
    "glm(formula = Y ~ X2 + X4 + X6 + X56 + X84 + X114 + A + X2:X4 + \n",
    "    X4:X6 + X84:A, family = binomial(link = \"logit\"), data = df2)\n",
    "\n",
    "Deviance Residuals: \n",
    "    Min       1Q   Median       3Q      Max  \n",
    "-3.0360  -0.5767  -0.3569  -0.1525   2.8913  \n",
    "\n",
    "Coefficients:\n",
    "            Estimate Std. Error z value Pr(>|z|)    \n",
    "(Intercept) -4.67718    0.16487 -28.369  < 2e-16 ***\n",
    "X2          -0.08487    0.14421  -0.589 0.556160    \n",
    "X4           1.05140    0.20175   5.211 1.87e-07 ***\n",
    "X6           2.15315    0.15559  13.838  < 2e-16 ***\n",
    "X56          0.31314    0.07974   3.927 8.60e-05 ***\n",
    "X84          0.51283    0.08225   6.235 4.52e-10 ***\n",
    "X114         1.09017    0.16115   6.765 1.33e-11 ***\n",
    "A            4.75012    0.14823  32.045  < 2e-16 ***\n",
    "X2:X4        0.57515    0.16910   3.401 0.000671 ***\n",
    "X4:X6       -1.24885    0.17152  -7.281 3.31e-13 ***\n",
    "X84:A        1.85978    0.39793   4.674 2.96e-06 ***\n",
    "---\n",
    "Signif. codes:  0 ‘***’ 0.001 ‘**’ 0.01 ‘*’ 0.05 ‘.’ 0.1 ‘ ’ 1\n",
    "\n",
    "(Dispersion parameter for binomial family taken to be 1)\n",
    "\n",
    "    Null deviance: 10777.7  on 9998  degrees of freedom\n",
    "Residual deviance:  5832.4  on 9988  degrees of freedom\n",
    "AIC: 5854.4\n",
    "\n",
    "Number of Fisher Scoring iterations: 6\n",
    "\n"
   ]
  },
  {
   "cell_type": "markdown",
   "metadata": {},
   "source": [
    "The text above is the output from R after we have done a parameter selection using BIC, allowing interactions of second order. We see here that the only interaction term including $A$, kept by the feature selection is the interaction between $X_84$ and $A$. The interaction term is positive, meaning that the treatment is more successfull when the $X_84$ feature is present. We repeat this process, but this time using AIC as selection criterion and get the following model. \n"
   ]
  },
  {
   "cell_type": "raw",
   "metadata": {},
   "source": [
    "\n",
    "Call:\n",
    "glm(formula = Y ~ X2 + X4 + X6 + X12 + X56 + X84 + X114 + A + \n",
    "    X2:X4 + X2:X84 + X2:A + X4:X6 + X4:X56 + X4:X84 + X6:X12 + \n",
    "    X6:X56 + X12:X56 + X56:X114 + X84:A, family = binomial(link = \"logit\"), \n",
    "    data = df2)\n",
    "\n",
    "Deviance Residuals: \n",
    "    Min       1Q   Median       3Q      Max  \n",
    "-3.0475  -0.5790  -0.3163  -0.1318   2.9156  \n",
    "\n",
    "Coefficients:\n",
    "            Estimate Std. Error z value Pr(>|z|)    \n",
    "(Intercept) -4.68844    0.24600 -19.058  < 2e-16 ***\n",
    "X2          -0.31497    0.18091  -1.741  0.08169 .  \n",
    "X4           0.89944    0.30607   2.939  0.00330 ** \n",
    "X6           1.88170    0.23232   8.099 5.52e-16 ***\n",
    "X12         -0.09774    0.17791  -0.549  0.58276    \n",
    "X56          0.26167    0.20762   1.260  0.20754    \n",
    "X84          0.65262    0.15372   4.245 2.18e-05 ***\n",
    "X114         1.43465    0.22428   6.397 1.59e-10 ***\n",
    "A            4.68603    0.16591  28.244  < 2e-16 ***\n",
    "X2:X4        0.64661    0.17501   3.695  0.00022 ***\n",
    "X2:X84       0.29707    0.15714   1.891  0.05869 .  \n",
    "X2:A         0.62489    0.36071   1.732  0.08321 .  \n",
    "X4:X6       -1.38088    0.20676  -6.679 2.41e-11 ***\n",
    "X4:X56       0.80771    0.34532   2.339  0.01933 *  \n",
    "X4:X84      -0.33236    0.17645  -1.884  0.05962 .  \n",
    "X6:X12       0.41585    0.18598   2.236  0.02536 *  \n",
    "X6:X56       0.32303    0.19385   1.666  0.09564 .  \n",
    "X12:X56     -0.34621    0.18055  -1.918  0.05517 .  \n",
    "X56:X114    -0.73643    0.33422  -2.203  0.02757 *  \n",
    "X84:A        1.78385    0.40039   4.455 8.38e-06 ***\n",
    "---\n",
    "Signif. codes:  0 ‘***’ 0.001 ‘**’ 0.01 ‘*’ 0.05 ‘.’ 0.1 ‘ ’ 1\n",
    "\n",
    "(Dispersion parameter for binomial family taken to be 1)\n",
    "\n",
    "    Null deviance: 10777.7  on 9998  degrees of freedom\n",
    "Residual deviance:  5809.1  on 9979  degrees of freedom\n",
    "AIC: 5849.1\n",
    "\n",
    "Number of Fisher Scoring iterations: 6\n"
   ]
  },
  {
   "cell_type": "markdown",
   "metadata": {},
   "source": [
    "From this model, it does not seem like any features have a negative interaction with $A$, meaning that treatment1 will be effective for all features. However we do observe that some features and some feature combinations seems to have a negative effect on the result of the treatment. In both the AIC and the BIC model, the presence of the $X2$ feature influences the result of the treatment in a negative way, meaning that these patients are less likely of being cured. Also, both models indicate that the feature combination of $X_4$ and $X_6$ influence the result of the treatment in a negative way. Based on this, we would always recommend the active treatment.  "
   ]
  },
  {
   "cell_type": "markdown",
   "metadata": {},
   "source": [
    "We would also like to investigate whether the clusters found by K-means clustering are affected differently by the treatment. We found that two clusters were the optimal number of clusters. We choose to do this on the whole data set, so that all the data are divided into one of the two clusters. We are not sure whether this is the correct approach, or if we should only fit the test data, so please correct us if we are wrong. For this, we repeat the procedure of the first part of Question 2, but this time dividing the data into the two clusters. "
   ]
  },
  {
   "cell_type": "code",
   "execution_count": 120,
   "metadata": {},
   "outputs": [
    {
     "name": "stdout",
     "output_type": "stream",
     "text": [
      "The effectiveness of placebo in cluster 0 is: 0.001444 \n",
      "The effectiveness of active treatment in cluster 0 is: 0.478168 \n",
      "The effectiveness of placebo in cluster 1 is: 0.017761 \n",
      "The effectiveness of active treatment in cluster 1 is: 0.664459 \n"
     ]
    }
   ],
   "source": [
    "# First fit a K-means\n",
    "kmeans = KMeans(n_clusters = 2, random_state = 1).fit(obs_train)\n",
    "\n",
    "#Divide observations into two clusters. \n",
    "cluster = kmeans.predict(observations)  \n",
    "index_cluster0 = np.where(cluster == 0) \n",
    "index_cluster1 = np.where(cluster == 1)\n",
    "\n",
    "actions_cluster0 = actions.iloc[index_cluster0]\n",
    "outcome_cluster0 = outcome.iloc[index_cluster0]\n",
    "\n",
    "actions_cluster1 = actions.iloc[index_cluster1]\n",
    "outcome_cluster1 = outcome.iloc[index_cluster1]\n",
    "\n",
    "\n",
    "active_treatments_0 = sum(actions_cluster0.loc[:,0])\n",
    "active_treatments_1 = sum(actions_cluster1.loc[:,0])\n",
    "\n",
    "\n",
    "#First cluster 0:\n",
    "#Successfull and active treatments if both are 1\n",
    "success_active_0 = np.sum(np.multiply(actions_cluster0.values, outcome_cluster0.values))\n",
    "#Successfull, active treatments if outcome is 1, but active is 0\n",
    "success_placebo_0 = np.sum(outcome_cluster0.values) - success_active_0\n",
    "\n",
    "\n",
    "print(\"The effectiveness of placebo in cluster 0 is: %f \" %(success_placebo_0/(actions_cluster0.shape[0]-active_treatments_0)))\n",
    "print(\"The effectiveness of active treatment in cluster 0 is: %f \" %(success_active_0/(active_treatments_0)))        \n",
    "\n",
    "\n",
    "#Cluster 1\n",
    "\n",
    "success_active_1 = np.sum(np.multiply(actions_cluster1.values, outcome_cluster1.values))\n",
    "success_placebo_1 = np.sum(outcome_cluster1.values) - success_active_1\n",
    "\n",
    "print(\"The effectiveness of placebo in cluster 1 is: %f \" %(success_placebo_1/(actions_cluster1.shape[0]-active_treatments_1)))\n",
    "print(\"The effectiveness of active treatment in cluster 1 is: %f \" %(success_active_1/(active_treatments_1)))        \n",
    "\n",
    "\n"
   ]
  },
  {
   "cell_type": "markdown",
   "metadata": {},
   "source": [
    "We see that the a bigger proportion of patients in cluster 1 are cured than in cluster 0, this apply both to the active treatment and the placebo treatment.   "
   ]
  },
  {
   "cell_type": "markdown",
   "metadata": {},
   "source": [
    "As we saw in $\\texttt{SilhouetteScoreAfterFeatureReduction.png}$, the clusters were more separated when we only kept the most important features. Maybe the differences between the two clusters will be even more apparent if we cluster the observations based on only these most important features. "
   ]
  },
  {
   "cell_type": "code",
   "execution_count": null,
   "metadata": {
    "collapsed": true
   },
   "outputs": [],
   "source": []
  }
 ],
 "metadata": {
  "kernelspec": {
   "display_name": "Python 3",
   "language": "python",
   "name": "python3"
  },
  "language_info": {
   "codemirror_mode": {
    "name": "ipython",
    "version": 3
   },
   "file_extension": ".py",
   "mimetype": "text/x-python",
   "name": "python",
   "nbconvert_exporter": "python",
   "pygments_lexer": "ipython3",
   "version": "3.6.1"
  }
 },
 "nbformat": 4,
 "nbformat_minor": 2
}
