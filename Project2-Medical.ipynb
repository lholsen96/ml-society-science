{
 "cells": [
  {
   "cell_type": "markdown",
   "metadata": {},
   "source": [
    "# Medical Project\n",
    "### Lars Olsen and Oda Kristensen"
   ]
  },
  {
   "cell_type": "markdown",
   "metadata": {},
   "source": [
    "We start by inporting some packages and modules:"
   ]
  },
  {
   "cell_type": "code",
   "execution_count": 99,
   "metadata": {},
   "outputs": [],
   "source": [
    "import pandas as pd\n",
    "import matplotlib.pyplot as plt\n",
    "%matplotlib inline\n",
    "\n",
    "from sklearn.model_selection import train_test_split\n",
    "from sklearn.cluster import KMeans\n",
    "from sklearn.mixture import GaussianMixture"
   ]
  },
  {
   "cell_type": "code",
   "execution_count": null,
   "metadata": {},
   "outputs": [],
   "source": [
    "import numpy as np\n",
    "import pandas as pd\n",
    "from sklearn.linear_model import LogisticRegression\n",
    "from sklearn.model_selection import cross_val_score, KFold\n",
    "from sklearn.metrics import confusion_matrix, accuracy_score, make_scorer\n",
    "import matplotlib.pyplot as plt\n",
    "import seaborn as sns, numpy as np\n",
    "from scipy.stats import norm\n",
    "from __future__ import print_function\n",
    "\n",
    "from sklearn.datasets import make_blobs\n",
    "from sklearn.cluster import KMeans\n",
    "from sklearn.metrics import silhouette_samples, silhouette_score\n",
    "\n",
    "import matplotlib.pyplot as plt\n",
    "import matplotlib.cm as cm\n",
    "import numpy as np\n",
    "%matplotlib inline"
   ]
  },
  {
   "cell_type": "markdown",
   "metadata": {},
   "source": [
    "We read the files:"
   ]
  },
  {
   "cell_type": "code",
   "execution_count": 12,
   "metadata": {},
   "outputs": [],
   "source": [
    "features = pd.read_csv('historical_X.dat', header=None, sep=\" \").values\n",
    "actions = pd.read_csv('historical_A.dat', header=None, sep=\" \").values\n",
    "outcome = pd.read_csv('historical_Y.dat', header=None, sep=\" \").values"
   ]
  },
  {
   "cell_type": "markdown",
   "metadata": {},
   "source": [
    "In this part of the project we are only interested in the features. The first 128 features are what we obsere; sex, smoker and 126 genes. The 2 last attributes are the symptoms and these can be taken to be akin to labels in supervised learning."
   ]
  },
  {
   "cell_type": "code",
   "execution_count": 13,
   "metadata": {},
   "outputs": [],
   "source": [
    "observations = features[:, :128]\n",
    "labels = features[:,128] + features[:,129]*2"
   ]
  },
  {
   "cell_type": "markdown",
   "metadata": {},
   "source": [
    "We take a look at the observations of the 1st pacient, sex = 0, and non smoker."
   ]
  },
  {
   "cell_type": "code",
   "execution_count": 14,
   "metadata": {},
   "outputs": [
    {
     "data": {
      "text/plain": [
       "array([0, 0, 0, 0, 1, 1, 0, 0, 1, 1, 0, 1, 0, 0, 0, 0, 1, 0, 1, 1, 1, 1,\n",
       "       0, 1, 1, 0, 1, 1, 0, 0, 0, 0, 1, 1, 0, 1, 1, 0, 0, 0, 0, 0, 0, 0,\n",
       "       1, 1, 0, 0, 1, 0, 1, 0, 1, 0, 1, 0, 0, 0, 0, 1, 1, 1, 1, 0, 1, 1,\n",
       "       1, 1, 0, 0, 0, 1, 0, 1, 0, 1, 0, 0, 0, 0, 1, 0, 0, 0, 0, 1, 0, 1,\n",
       "       0, 1, 1, 0, 0, 1, 0, 0, 1, 0, 0, 1, 1, 1, 1, 0, 1, 0, 1, 0, 1, 1,\n",
       "       1, 1, 1, 0, 1, 1, 0, 0, 0, 0, 0, 1, 1, 0, 1, 1, 0, 0], dtype=int64)"
      ]
     },
     "execution_count": 14,
     "metadata": {},
     "output_type": "execute_result"
    }
   ],
   "source": [
    "observations[0]"
   ]
  },
  {
   "cell_type": "markdown",
   "metadata": {},
   "source": [
    "We divide our data set into a traing set and a test set."
   ]
  },
  {
   "cell_type": "code",
   "execution_count": 15,
   "metadata": {},
   "outputs": [],
   "source": [
    "obs_train, obs_test, lab_train, lab_test = train_test_split(observations, labels, test_size=0.25)"
   ]
  },
  {
   "cell_type": "markdown",
   "metadata": {},
   "source": [
    "Let's look at the distribution of symptoms:"
   ]
  },
  {
   "cell_type": "code",
   "execution_count": 16,
   "metadata": {},
   "outputs": [
    {
     "data": {
      "text/plain": [
       "(array([3607.,    0.,    0., 3157.,    0.,    0.,  422.,    0.,    0.,\n",
       "         314.]),\n",
       " array([0. , 0.3, 0.6, 0.9, 1.2, 1.5, 1.8, 2.1, 2.4, 2.7, 3. ]),\n",
       " <a list of 10 Patch objects>)"
      ]
     },
     "execution_count": 16,
     "metadata": {},
     "output_type": "execute_result"
    },
    {
     "data": {
      "image/png": "[encoded data removed]",
      "text/plain": [
       "<Figure size 432x288 with 1 Axes>"
      ]
     },
     "metadata": {},
     "output_type": "display_data"
    }
   ],
   "source": [
    "plt.hist(lab_train)"
   ]
  },
  {
   "cell_type": "markdown",
   "metadata": {},
   "source": [
    "We now take a look at the histogram of observation. "
   ]
  },
  {
   "cell_type": "code",
   "execution_count": 63,
   "metadata": {},
   "outputs": [
    {
     "data": {
      "text/plain": [
       "([array([3730.,    0.,    0.,    0.,    0.,    0.,    0.,    0.,    0.,\n",
       "         3770.]),\n",
       "  array([5444.,    0.,    0.,    0.,    0.,    0.,    0.,    0.,    0.,\n",
       "         2056.]),\n",
       "  array([3725.,    0.,    0.,    0.,    0.,    0.,    0.,    0.,    0.,\n",
       "         3775.]),\n",
       "  array([3707.,    0.,    0.,    0.,    0.,    0.,    0.,    0.,    0.,\n",
       "         3793.]),\n",
       "  array([3739.,    0.,    0.,    0.,    0.,    0.,    0.,    0.,    0.,\n",
       "         3761.]),\n",
       "  array([3807.,    0.,    0.,    0.,    0.,    0.,    0.,    0.,    0.,\n",
       "         3693.]),\n",
       "  array([3756.,    0.,    0.,    0.,    0.,    0.,    0.,    0.,    0.,\n",
       "         3744.]),\n",
       "  array([3753.,    0.,    0.,    0.,    0.,    0.,    0.,    0.,    0.,\n",
       "         3747.]),\n",
       "  array([3811.,    0.,    0.,    0.,    0.,    0.,    0.,    0.,    0.,\n",
       "         3689.]),\n",
       "  array([3867.,    0.,    0.,    0.,    0.,    0.,    0.,    0.,    0.,\n",
       "         3633.]),\n",
       "  array([3700.,    0.,    0.,    0.,    0.,    0.,    0.,    0.,    0.,\n",
       "         3800.]),\n",
       "  array([3825.,    0.,    0.,    0.,    0.,    0.,    0.,    0.,    0.,\n",
       "         3675.]),\n",
       "  array([3696.,    0.,    0.,    0.,    0.,    0.,    0.,    0.,    0.,\n",
       "         3804.]),\n",
       "  array([3757.,    0.,    0.,    0.,    0.,    0.,    0.,    0.,    0.,\n",
       "         3743.]),\n",
       "  array([3682.,    0.,    0.,    0.,    0.,    0.,    0.,    0.,    0.,\n",
       "         3818.]),\n",
       "  array([3728.,    0.,    0.,    0.,    0.,    0.,    0.,    0.,    0.,\n",
       "         3772.]),\n",
       "  array([3697.,    0.,    0.,    0.,    0.,    0.,    0.,    0.,    0.,\n",
       "         3803.]),\n",
       "  array([3677.,    0.,    0.,    0.,    0.,    0.,    0.,    0.,    0.,\n",
       "         3823.]),\n",
       "  array([3765.,    0.,    0.,    0.,    0.,    0.,    0.,    0.,    0.,\n",
       "         3735.]),\n",
       "  array([3800.,    0.,    0.,    0.,    0.,    0.,    0.,    0.,    0.,\n",
       "         3700.]),\n",
       "  array([3804.,    0.,    0.,    0.,    0.,    0.,    0.,    0.,    0.,\n",
       "         3696.]),\n",
       "  array([3855.,    0.,    0.,    0.,    0.,    0.,    0.,    0.,    0.,\n",
       "         3645.]),\n",
       "  array([3784.,    0.,    0.,    0.,    0.,    0.,    0.,    0.,    0.,\n",
       "         3716.]),\n",
       "  array([3654.,    0.,    0.,    0.,    0.,    0.,    0.,    0.,    0.,\n",
       "         3846.]),\n",
       "  array([3747.,    0.,    0.,    0.,    0.,    0.,    0.,    0.,    0.,\n",
       "         3753.]),\n",
       "  array([3713.,    0.,    0.,    0.,    0.,    0.,    0.,    0.,    0.,\n",
       "         3787.]),\n",
       "  array([3799.,    0.,    0.,    0.,    0.,    0.,    0.,    0.,    0.,\n",
       "         3701.]),\n",
       "  array([3796.,    0.,    0.,    0.,    0.,    0.,    0.,    0.,    0.,\n",
       "         3704.]),\n",
       "  array([3669.,    0.,    0.,    0.,    0.,    0.,    0.,    0.,    0.,\n",
       "         3831.]),\n",
       "  array([3780.,    0.,    0.,    0.,    0.,    0.,    0.,    0.,    0.,\n",
       "         3720.]),\n",
       "  array([3738.,    0.,    0.,    0.,    0.,    0.,    0.,    0.,    0.,\n",
       "         3762.]),\n",
       "  array([3727.,    0.,    0.,    0.,    0.,    0.,    0.,    0.,    0.,\n",
       "         3773.]),\n",
       "  array([3761.,    0.,    0.,    0.,    0.,    0.,    0.,    0.,    0.,\n",
       "         3739.]),\n",
       "  array([3671.,    0.,    0.,    0.,    0.,    0.,    0.,    0.,    0.,\n",
       "         3829.]),\n",
       "  array([3769.,    0.,    0.,    0.,    0.,    0.,    0.,    0.,    0.,\n",
       "         3731.]),\n",
       "  array([3744.,    0.,    0.,    0.,    0.,    0.,    0.,    0.,    0.,\n",
       "         3756.]),\n",
       "  array([3694.,    0.,    0.,    0.,    0.,    0.,    0.,    0.,    0.,\n",
       "         3806.]),\n",
       "  array([3765.,    0.,    0.,    0.,    0.,    0.,    0.,    0.,    0.,\n",
       "         3735.]),\n",
       "  array([3742.,    0.,    0.,    0.,    0.,    0.,    0.,    0.,    0.,\n",
       "         3758.]),\n",
       "  array([3719.,    0.,    0.,    0.,    0.,    0.,    0.,    0.,    0.,\n",
       "         3781.]),\n",
       "  array([3795.,    0.,    0.,    0.,    0.,    0.,    0.,    0.,    0.,\n",
       "         3705.]),\n",
       "  array([3768.,    0.,    0.,    0.,    0.,    0.,    0.,    0.,    0.,\n",
       "         3732.]),\n",
       "  array([3840.,    0.,    0.,    0.,    0.,    0.,    0.,    0.,    0.,\n",
       "         3660.]),\n",
       "  array([3744.,    0.,    0.,    0.,    0.,    0.,    0.,    0.,    0.,\n",
       "         3756.]),\n",
       "  array([3744.,    0.,    0.,    0.,    0.,    0.,    0.,    0.,    0.,\n",
       "         3756.]),\n",
       "  array([3801.,    0.,    0.,    0.,    0.,    0.,    0.,    0.,    0.,\n",
       "         3699.]),\n",
       "  array([3732.,    0.,    0.,    0.,    0.,    0.,    0.,    0.,    0.,\n",
       "         3768.]),\n",
       "  array([3685.,    0.,    0.,    0.,    0.,    0.,    0.,    0.,    0.,\n",
       "         3815.]),\n",
       "  array([3665.,    0.,    0.,    0.,    0.,    0.,    0.,    0.,    0.,\n",
       "         3835.]),\n",
       "  array([3739.,    0.,    0.,    0.,    0.,    0.,    0.,    0.,    0.,\n",
       "         3761.]),\n",
       "  array([3738.,    0.,    0.,    0.,    0.,    0.,    0.,    0.,    0.,\n",
       "         3762.]),\n",
       "  array([3848.,    0.,    0.,    0.,    0.,    0.,    0.,    0.,    0.,\n",
       "         3652.]),\n",
       "  array([3799.,    0.,    0.,    0.,    0.,    0.,    0.,    0.,    0.,\n",
       "         3701.]),\n",
       "  array([3769.,    0.,    0.,    0.,    0.,    0.,    0.,    0.,    0.,\n",
       "         3731.]),\n",
       "  array([3717.,    0.,    0.,    0.,    0.,    0.,    0.,    0.,    0.,\n",
       "         3783.]),\n",
       "  array([3757.,    0.,    0.,    0.,    0.,    0.,    0.,    0.,    0.,\n",
       "         3743.]),\n",
       "  array([3762.,    0.,    0.,    0.,    0.,    0.,    0.,    0.,    0.,\n",
       "         3738.]),\n",
       "  array([3758.,    0.,    0.,    0.,    0.,    0.,    0.,    0.,    0.,\n",
       "         3742.]),\n",
       "  array([3722.,    0.,    0.,    0.,    0.,    0.,    0.,    0.,    0.,\n",
       "         3778.]),\n",
       "  array([3784.,    0.,    0.,    0.,    0.,    0.,    0.,    0.,    0.,\n",
       "         3716.]),\n",
       "  array([3822.,    0.,    0.,    0.,    0.,    0.,    0.,    0.,    0.,\n",
       "         3678.]),\n",
       "  array([3740.,    0.,    0.,    0.,    0.,    0.,    0.,    0.,    0.,\n",
       "         3760.]),\n",
       "  array([3743.,    0.,    0.,    0.,    0.,    0.,    0.,    0.,    0.,\n",
       "         3757.]),\n",
       "  array([3804.,    0.,    0.,    0.,    0.,    0.,    0.,    0.,    0.,\n",
       "         3696.]),\n",
       "  array([3745.,    0.,    0.,    0.,    0.,    0.,    0.,    0.,    0.,\n",
       "         3755.]),\n",
       "  array([3832.,    0.,    0.,    0.,    0.,    0.,    0.,    0.,    0.,\n",
       "         3668.]),\n",
       "  array([3763.,    0.,    0.,    0.,    0.,    0.,    0.,    0.,    0.,\n",
       "         3737.]),\n",
       "  array([3683.,    0.,    0.,    0.,    0.,    0.,    0.,    0.,    0.,\n",
       "         3817.]),\n",
       "  array([3811.,    0.,    0.,    0.,    0.,    0.,    0.,    0.,    0.,\n",
       "         3689.]),\n",
       "  array([3734.,    0.,    0.,    0.,    0.,    0.,    0.,    0.,    0.,\n",
       "         3766.]),\n",
       "  array([3763.,    0.,    0.,    0.,    0.,    0.,    0.,    0.,    0.,\n",
       "         3737.]),\n",
       "  array([3796.,    0.,    0.,    0.,    0.,    0.,    0.,    0.,    0.,\n",
       "         3704.]),\n",
       "  array([3689.,    0.,    0.,    0.,    0.,    0.,    0.,    0.,    0.,\n",
       "         3811.]),\n",
       "  array([3747.,    0.,    0.,    0.,    0.,    0.,    0.,    0.,    0.,\n",
       "         3753.]),\n",
       "  array([3672.,    0.,    0.,    0.,    0.,    0.,    0.,    0.,    0.,\n",
       "         3828.]),\n",
       "  array([3662.,    0.,    0.,    0.,    0.,    0.,    0.,    0.,    0.,\n",
       "         3838.]),\n",
       "  array([3762.,    0.,    0.,    0.,    0.,    0.,    0.,    0.,    0.,\n",
       "         3738.]),\n",
       "  array([3749.,    0.,    0.,    0.,    0.,    0.,    0.,    0.,    0.,\n",
       "         3751.]),\n",
       "  array([3747.,    0.,    0.,    0.,    0.,    0.,    0.,    0.,    0.,\n",
       "         3753.]),\n",
       "  array([3758.,    0.,    0.,    0.,    0.,    0.,    0.,    0.,    0.,\n",
       "         3742.]),\n",
       "  array([3661.,    0.,    0.,    0.,    0.,    0.,    0.,    0.,    0.,\n",
       "         3839.]),\n",
       "  array([3800.,    0.,    0.,    0.,    0.,    0.,    0.,    0.,    0.,\n",
       "         3700.]),\n",
       "  array([3788.,    0.,    0.,    0.,    0.,    0.,    0.,    0.,    0.,\n",
       "         3712.]),\n",
       "  array([3716.,    0.,    0.,    0.,    0.,    0.,    0.,    0.,    0.,\n",
       "         3784.]),\n",
       "  array([3761.,    0.,    0.,    0.,    0.,    0.,    0.,    0.,    0.,\n",
       "         3739.]),\n",
       "  array([3704.,    0.,    0.,    0.,    0.,    0.,    0.,    0.,    0.,\n",
       "         3796.]),\n",
       "  array([3726.,    0.,    0.,    0.,    0.,    0.,    0.,    0.,    0.,\n",
       "         3774.]),\n",
       "  array([3713.,    0.,    0.,    0.,    0.,    0.,    0.,    0.,    0.,\n",
       "         3787.]),\n",
       "  array([3642.,    0.,    0.,    0.,    0.,    0.,    0.,    0.,    0.,\n",
       "         3858.]),\n",
       "  array([3713.,    0.,    0.,    0.,    0.,    0.,    0.,    0.,    0.,\n",
       "         3787.]),\n",
       "  array([3761.,    0.,    0.,    0.,    0.,    0.,    0.,    0.,    0.,\n",
       "         3739.]),\n",
       "  array([3749.,    0.,    0.,    0.,    0.,    0.,    0.,    0.,    0.,\n",
       "         3751.]),\n",
       "  array([3824.,    0.,    0.,    0.,    0.,    0.,    0.,    0.,    0.,\n",
       "         3676.]),\n",
       "  array([3674.,    0.,    0.,    0.,    0.,    0.,    0.,    0.,    0.,\n",
       "         3826.]),\n",
       "  array([3769.,    0.,    0.,    0.,    0.,    0.,    0.,    0.,    0.,\n",
       "         3731.]),\n",
       "  array([3720.,    0.,    0.,    0.,    0.,    0.,    0.,    0.,    0.,\n",
       "         3780.]),\n",
       "  array([3779.,    0.,    0.,    0.,    0.,    0.,    0.,    0.,    0.,\n",
       "         3721.]),\n",
       "  array([3716.,    0.,    0.,    0.,    0.,    0.,    0.,    0.,    0.,\n",
       "         3784.]),\n",
       "  array([3805.,    0.,    0.,    0.,    0.,    0.,    0.,    0.,    0.,\n",
       "         3695.]),\n",
       "  array([3727.,    0.,    0.,    0.,    0.,    0.,    0.,    0.,    0.,\n",
       "         3773.]),\n",
       "  array([3687.,    0.,    0.,    0.,    0.,    0.,    0.,    0.,    0.,\n",
       "         3813.]),\n",
       "  array([3760.,    0.,    0.,    0.,    0.,    0.,    0.,    0.,    0.,\n",
       "         3740.]),\n",
       "  array([3685.,    0.,    0.,    0.,    0.,    0.,    0.,    0.,    0.,\n",
       "         3815.]),\n",
       "  array([3876.,    0.,    0.,    0.,    0.,    0.,    0.,    0.,    0.,\n",
       "         3624.]),\n",
       "  array([3730.,    0.,    0.,    0.,    0.,    0.,    0.,    0.,    0.,\n",
       "         3770.]),\n",
       "  array([3740.,    0.,    0.,    0.,    0.,    0.,    0.,    0.,    0.,\n",
       "         3760.]),\n",
       "  array([3723.,    0.,    0.,    0.,    0.,    0.,    0.,    0.,    0.,\n",
       "         3777.]),\n",
       "  array([3729.,    0.,    0.,    0.,    0.,    0.,    0.,    0.,    0.,\n",
       "         3771.]),\n",
       "  array([3680.,    0.,    0.,    0.,    0.,    0.,    0.,    0.,    0.,\n",
       "         3820.]),\n",
       "  array([3743.,    0.,    0.,    0.,    0.,    0.,    0.,    0.,    0.,\n",
       "         3757.]),\n",
       "  array([3810.,    0.,    0.,    0.,    0.,    0.,    0.,    0.,    0.,\n",
       "         3690.]),\n",
       "  array([3738.,    0.,    0.,    0.,    0.,    0.,    0.,    0.,    0.,\n",
       "         3762.]),\n",
       "  array([3675.,    0.,    0.,    0.,    0.,    0.,    0.,    0.,    0.,\n",
       "         3825.]),\n",
       "  array([3730.,    0.,    0.,    0.,    0.,    0.,    0.,    0.,    0.,\n",
       "         3770.]),\n",
       "  array([3749.,    0.,    0.,    0.,    0.,    0.,    0.,    0.,    0.,\n",
       "         3751.]),\n",
       "  array([3679.,    0.,    0.,    0.,    0.,    0.,    0.,    0.,    0.,\n",
       "         3821.]),\n",
       "  array([3755.,    0.,    0.,    0.,    0.,    0.,    0.,    0.,    0.,\n",
       "         3745.]),\n",
       "  array([3797.,    0.,    0.,    0.,    0.,    0.,    0.,    0.,    0.,\n",
       "         3703.]),\n",
       "  array([3812.,    0.,    0.,    0.,    0.,    0.,    0.,    0.,    0.,\n",
       "         3688.]),\n",
       "  array([3678.,    0.,    0.,    0.,    0.,    0.,    0.,    0.,    0.,\n",
       "         3822.]),\n",
       "  array([3780.,    0.,    0.,    0.,    0.,    0.,    0.,    0.,    0.,\n",
       "         3720.]),\n",
       "  array([3820.,    0.,    0.,    0.,    0.,    0.,    0.,    0.,    0.,\n",
       "         3680.]),\n",
       "  array([3763.,    0.,    0.,    0.,    0.,    0.,    0.,    0.,    0.,\n",
       "         3737.]),\n",
       "  array([3724.,    0.,    0.,    0.,    0.,    0.,    0.,    0.,    0.,\n",
       "         3776.]),\n",
       "  array([3736.,    0.,    0.,    0.,    0.,    0.,    0.,    0.,    0.,\n",
       "         3764.]),\n",
       "  array([3699.,    0.,    0.,    0.,    0.,    0.,    0.,    0.,    0.,\n",
       "         3801.]),\n",
       "  array([3714.,    0.,    0.,    0.,    0.,    0.,    0.,    0.,    0.,\n",
       "         3786.]),\n",
       "  array([3137.,    0.,    0.,    0.,    0.,    0.,    0.,    0.,    0.,\n",
       "         4363.])],\n",
       " array([0. , 0.1, 0.2, 0.3, 0.4, 0.5, 0.6, 0.7, 0.8, 0.9, 1. ]),\n",
       " <a list of 128 Lists of Patches objects>)"
      ]
     },
     "execution_count": 63,
     "metadata": {},
     "output_type": "execute_result"
    },
    {
     "data": {
      "image/png": "[encoded data removed]",
      "text/plain": [
       "<Figure size 432x288 with 1 Axes>"
      ]
     },
     "metadata": {},
     "output_type": "display_data"
    }
   ],
   "source": [
    "plt.hist(obs_train)"
   ]
  },
  {
   "cell_type": "markdown",
   "metadata": {},
   "source": [
    "We talked to Summaya Mumtaz in the lab and she said that from this plot we could se that there are two clusters. I'm not sure how she did that. For me it just seems that each attribute takes either the value of zero or one, as we know they do from the definition of the data. If we look at only one attribute at the time I agreee that we have two clusters. Take $x_2$, either they smoke ($x_2=1$) or not ($x_2=0$), so we have to clusters. But when we have more dimensions I feel like we have more clusters. Say we look at the two first attributes. Then a person can be either male or female and the can smoke or not smoke, i.e. we have four potential combinations. Think of a square with a cluster in each corner. obviously it can be that there are no female smokers. Then we have three clusters. Then we can think of the clusters as being on a line. Male smokers are more similar to male non-smokers than female non-smokers, and male non-smokers are equally similar to both (assuming equal weighting of the attributes). So we have \"male smokers\" -- \"male non-smokers\" -- \"female non-smokers\". In a hypercube we would still have clusters in each corner, and this gives us $2^{128}$ potential clusters. This is an astronomical number. So we must assume that there is pattern in the data, which will lower this number. "
   ]
  },
  {
   "cell_type": "markdown",
   "metadata": {},
   "source": [
    "From the two histograms bellow we see that there are more people of the sex zero and more non-smokers."
   ]
  },
  {
   "cell_type": "code",
   "execution_count": 74,
   "metadata": {},
   "outputs": [
    {
     "name": "stderr",
     "output_type": "stream",
     "text": [
      "C:\\Users\\lars9\\Anaconda3\\lib\\site-packages\\matplotlib\\axes\\_axes.py:6462: UserWarning: The 'normed' kwarg is deprecated, and has been replaced by the 'density' kwarg.\n",
      "  warnings.warn(\"The 'normed' kwarg is deprecated, and has been \"\n"
     ]
    },
    {
     "data": {
      "text/plain": [
       "<matplotlib.axes._subplots.AxesSubplot at 0x24e0357a400>"
      ]
     },
     "execution_count": 74,
     "metadata": {},
     "output_type": "execute_result"
    },
    {
     "data": {
      "image/png": "[encoded data removed]",
      "text/plain": [
       "<Figure size 432x288 with 1 Axes>"
      ]
     },
     "metadata": {},
     "output_type": "display_data"
    }
   ],
   "source": [
    "sns.distplot(obs_train[0])"
   ]
  },
  {
   "cell_type": "code",
   "execution_count": 75,
   "metadata": {},
   "outputs": [
    {
     "name": "stderr",
     "output_type": "stream",
     "text": [
      "C:\\Users\\lars9\\Anaconda3\\lib\\site-packages\\matplotlib\\axes\\_axes.py:6462: UserWarning: The 'normed' kwarg is deprecated, and has been replaced by the 'density' kwarg.\n",
      "  warnings.warn(\"The 'normed' kwarg is deprecated, and has been \"\n"
     ]
    },
    {
     "data": {
      "text/plain": [
       "<matplotlib.axes._subplots.AxesSubplot at 0x24e035f25c0>"
      ]
     },
     "execution_count": 75,
     "metadata": {},
     "output_type": "execute_result"
    },
    {
     "data": {
      "image/png": "[encoded data removed]",
      "text/plain": [
       "<Figure size 432x288 with 1 Axes>"
      ]
     },
     "metadata": {},
     "output_type": "display_data"
    }
   ],
   "source": [
    "sns.distplot(obs_train[1])"
   ]
  },
  {
   "cell_type": "markdown",
   "metadata": {},
   "source": [
    "Let's look at the proportions of smokers among sex 0. "
   ]
  },
  {
   "cell_type": "code",
   "execution_count": 76,
   "metadata": {},
   "outputs": [
    {
     "name": "stderr",
     "output_type": "stream",
     "text": [
      "C:\\Users\\lars9\\Anaconda3\\lib\\site-packages\\matplotlib\\axes\\_axes.py:6462: UserWarning: The 'normed' kwarg is deprecated, and has been replaced by the 'density' kwarg.\n",
      "  warnings.warn(\"The 'normed' kwarg is deprecated, and has been \"\n"
     ]
    },
    {
     "data": {
      "text/plain": [
       "<matplotlib.axes._subplots.AxesSubplot at 0x24e036262b0>"
      ]
     },
     "execution_count": 76,
     "metadata": {},
     "output_type": "execute_result"
    },
    {
     "data": {
      "image/png": "[encoded data removed]",
      "text/plain": [
       "<Figure size 432x288 with 1 Axes>"
      ]
     },
     "metadata": {},
     "output_type": "display_data"
    }
   ],
   "source": [
    "sns.distplot(obs_train[1][obs_train[0] == 0])"
   ]
  },
  {
   "cell_type": "markdown",
   "metadata": {},
   "source": [
    "Let's look at the proportions of smokers among sex 1."
   ]
  },
  {
   "cell_type": "code",
   "execution_count": 77,
   "metadata": {},
   "outputs": [
    {
     "name": "stderr",
     "output_type": "stream",
     "text": [
      "C:\\Users\\lars9\\Anaconda3\\lib\\site-packages\\matplotlib\\axes\\_axes.py:6462: UserWarning: The 'normed' kwarg is deprecated, and has been replaced by the 'density' kwarg.\n",
      "  warnings.warn(\"The 'normed' kwarg is deprecated, and has been \"\n"
     ]
    },
    {
     "data": {
      "text/plain": [
       "<matplotlib.axes._subplots.AxesSubplot at 0x24e030a64e0>"
      ]
     },
     "execution_count": 77,
     "metadata": {},
     "output_type": "execute_result"
    },
    {
     "data": {
      "image/png": "[encoded data removed]",
      "text/plain": [
       "<Figure size 432x288 with 1 Axes>"
      ]
     },
     "metadata": {},
     "output_type": "display_data"
    }
   ],
   "source": [
    "sns.distplot(obs_train[1][obs_train[0] == 1])"
   ]
  },
  {
   "cell_type": "markdown",
   "metadata": {},
   "source": [
    "We see that there is a higher percentage of sex0 that smoke than sex=1 that smoke."
   ]
  },
  {
   "cell_type": "markdown",
   "metadata": {},
   "source": [
    "### Let's now take a look at the scores with Kmeans"
   ]
  },
  {
   "cell_type": "code",
   "execution_count": 87,
   "metadata": {},
   "outputs": [
    {
     "name": "stdout",
     "output_type": "stream",
     "text": [
      "k =  1: Interia = 239527.175867   Score = -79867.046178\n",
      "k =  2: Interia = 217785.109431   Score = -72587.124245\n",
      "k =  3: Interia = 205810.968713   Score = -69004.129817\n",
      "k =  4: Interia = 197775.670797   Score = -66427.130312\n",
      "k =  5: Interia = 191490.696269   Score = -64234.429293\n",
      "k =  6: Interia = 186203.590870   Score = -62579.128115\n",
      "k =  7: Interia = 181705.492180   Score = -61365.462732\n",
      "k =  8: Interia = 177867.537575   Score = -59993.862174\n",
      "k =  9: Interia = 174760.813324   Score = -58968.016495\n",
      "k = 10: Interia = 172185.361453   Score = -58133.681071\n",
      "k = 11: Interia = 169901.193303   Score = -57415.018827\n",
      "k = 12: Interia = 167536.161366   Score = -56593.773510\n",
      "k = 13: Interia = 165516.208564   Score = -56226.541018\n",
      "k = 14: Interia = 163478.595563   Score = -55275.864286\n",
      "k = 15: Interia = 161960.894601   Score = -54828.768875\n",
      "k = 16: Interia = 160354.615341   Score = -54271.323679\n",
      "k = 17: Interia = 158788.709470   Score = -53830.386808\n",
      "k = 18: Interia = 157436.782593   Score = -53340.113290\n",
      "k = 19: Interia = 156056.970287   Score = -53084.081773\n",
      "k = 20: Interia = 154754.167480   Score = -52568.567403\n"
     ]
    }
   ],
   "source": [
    "for k in range(1,21):\n",
    "    kmeans_model = KMeans(n_clusters=k, random_state=1).fit(obs_train)\n",
    "    \n",
    "    # Sum of distances of samples to their closest cluster center.\n",
    "    interia = kmeans_model.inertia_\n",
    "    \n",
    "    print(\"k = %2d: Interia = %f   Score = %f\" % (k,interia,kmeans_model.score(obs_test)))"
   ]
  },
  {
   "cell_type": "markdown",
   "metadata": {},
   "source": [
    "We want this score as high as possible. The k with the best score is the k we should chose, i.e. the optimal number of clusters. The problem is that this score will keep incresing to zero when k increase. This is because score look at the distance from each point to the closest clustersentrum (for the test data, Ineteria does the same for the training data), and train and test set takes the same possible values this is a problem. Since then $2^{128}$ will (potentially) be the best k. Usually this score starts to level of, that the increase in absolutt value decrese. So one can usually pick a resoanble K, but I'm unsure where such a cap should be choosen here. Interia is much bigger due to the bigger dataset. One need to look at -score."
   ]
  },
  {
   "cell_type": "markdown",
   "metadata": {},
   "source": [
    "Say that K = 6 is a nice treeshold. We take a closer look at K = 6."
   ]
  },
  {
   "cell_type": "code",
   "execution_count": 106,
   "metadata": {},
   "outputs": [],
   "source": [
    "kmeans_model = KMeans(n_clusters=6, random_state=1).fit(obs_train)"
   ]
  },
  {
   "cell_type": "code",
   "execution_count": 107,
   "metadata": {},
   "outputs": [
    {
     "data": {
      "text/plain": [
       "-62579.12811542232"
      ]
     },
     "execution_count": 107,
     "metadata": {},
     "output_type": "execute_result"
    }
   ],
   "source": [
    "kmeans_model.score(obs_test)"
   ]
  },
  {
   "cell_type": "code",
   "execution_count": 109,
   "metadata": {},
   "outputs": [
    {
     "name": "stdout",
     "output_type": "stream",
     "text": [
      "Number of people in cluster 0: 1151\n",
      "Number of people in cluster 1: 1160\n",
      "Number of people in cluster 2: 1372\n",
      "Number of people in cluster 3: 1205\n",
      "Number of people in cluster 4: 1371\n",
      "Number of people in cluster 5: 1241\n"
     ]
    }
   ],
   "source": [
    "for l in range(6):\n",
    "    print(\"Number of people in cluster %d: %d\" %(l,sum(kmeans_model.labels_ == l)))"
   ]
  },
  {
   "cell_type": "markdown",
   "metadata": {},
   "source": [
    "We see that the people are fairly divided between the clusters."
   ]
  },
  {
   "cell_type": "code",
   "execution_count": null,
   "metadata": {},
   "outputs": [],
   "source": []
  },
  {
   "cell_type": "code",
   "execution_count": 112,
   "metadata": {},
   "outputs": [
    {
     "name": "stdout",
     "output_type": "stream",
     "text": [
      "k =  1: Score = -32.528769\n",
      "k =  2: Score = -27.123753\n",
      "k =  3: Score = -22.220430\n",
      "k =  4: Score = -23.297281\n",
      "k =  5: Score = -17.229804\n",
      "k =  6: Score = -14.923381\n",
      "k =  7: Score = -20.564504\n",
      "k =  8: Score = -17.904785\n",
      "k =  9: Score = -18.624738\n",
      "k = 10: Score = -17.106423\n",
      "k = 11: Score = -16.510621\n",
      "k = 12: Score = -17.836538\n",
      "k = 13: Score = -13.936416\n",
      "k = 14: Score = -16.991099\n",
      "k = 15: Score = -19.314016\n",
      "k = 16: Score = -20.153840\n",
      "k = 17: Score = -20.773279\n",
      "k = 18: Score = -21.576615\n",
      "k = 19: Score = -24.029008\n",
      "k = 20: Score = -26.889810\n"
     ]
    }
   ],
   "source": [
    "for k in range(1,21):\n",
    "    gm_model = GaussianMixture(n_components=k, max_iter = 200, random_state=1).fit(obs_train)\n",
    "    \n",
    "    print(\"k = %2d: Score = %f\" % (k, gm_model.score(obs_test)))"
   ]
  },
  {
   "cell_type": "markdown",
   "metadata": {},
   "source": [
    "We now do the same as before but also take a look at the Bic score to find the optimal value. We have done this because of. http://scikit-learn.org/stable/auto_examples/mixture/plot_gmm_selection.html#sphx-glr-auto-examples-mixture-plot-gmm-selection-py It was wrong of us to look at BicTest. One should only look at BicTrain. The optimal value is 3. But, 2 is not far of. And since we know that is the truth we go for it."
   ]
  },
  {
   "cell_type": "code",
   "execution_count": 17,
   "metadata": {},
   "outputs": [
    {
     "name": "stdout",
     "output_type": "stream",
     "text": [
      "k =  1: ScoreTrain = -31.373   ScoreTest = -32.359   Bic = 545399.189   Aic = 487359.622\n",
      "k =  2: ScoreTrain = -24.810   ScoreTest = -26.926   Bic = 521777.915   Aic = 405691.858\n",
      "k =  3: ScoreTrain = -20.511   ScoreTest = -24.019   Bic = 532103.217   Aic = 357970.670\n",
      "k =  4: ScoreTrain = -17.173   ScoreTest = -22.056   Bic = 556844.621   Aic = 324665.584\n",
      "k =  5: ScoreTrain = -13.436   ScoreTest = -19.714   Bic = 575616.057   Aic = 285390.530\n",
      "k =  6: ScoreTrain = -12.238   ScoreTest = -20.020   Bic = 632465.142   Aic = 284193.125\n",
      "k =  7: ScoreTrain = -9.678   ScoreTest = -218.665   Bic = 668870.530   Aic = 262552.023\n",
      "k =  8: ScoreTrain = -7.701   ScoreTest = -217.959   Bic = 714044.179   Aic = 249679.183\n",
      "k =  9: ScoreTrain = -1.213   ScoreTest = -12.901   Bic = 691539.330   Aic = 169127.844\n"
     ]
    }
   ],
   "source": [
    "for k in range(1,10):\n",
    "    gm_model = GaussianMixture(n_components=k, max_iter = 200, random_state=1).fit(obs_train)\n",
    "    bic = gm_model.bic(obs_train)\n",
    "    aic = gm_model.aic(obs_train)\n",
    "    print(\"k = %2d: ScoreTrain = %.3f   ScoreTest = %.3f   Bic = %.3f   Aic = %.3f\" % (k, gm_model.score(obs_train),gm_model.score(obs_test), bic, aic))"
   ]
  },
  {
   "cell_type": "markdown",
   "metadata": {},
   "source": [
    "From the values above we see that k=13 is the best choice, but k=6 is not that far off, and since 6 is much lower we conclude that with Gaussian Mixture models the 'optimal' choice is 6 clusters. If we look at the score. But AIC and BIC is betther. Here we see that 2 or 3 is optimal."
   ]
  },
  {
   "cell_type": "code",
   "execution_count": 19,
   "metadata": {},
   "outputs": [],
   "source": [
    "gm_model = GaussianMixture(n_components=2, max_iter = 200, random_state=1).fit(obs_train)"
   ]
  },
  {
   "cell_type": "code",
   "execution_count": null,
   "metadata": {},
   "outputs": [],
   "source": [
    "gm_model.predict(obs_)\n"
   ]
  },
  {
   "cell_type": "markdown",
   "metadata": {},
   "source": [
    "#### We look at kmeans_silhouette_analysis\n",
    "\n",
    "Silhouette coefficients (as these values are referred to as) near +1 indicate that the sample is far away from the neighboring clusters. A value of 0 indicates that the sample is on or very close to the decision boundary between two neighboring clusters and negative values indicate that those samples might have been assigned to the wrong cluster. http://scikit-learn.org/stable/auto_examples/cluster/plot_kmeans_silhouette_analysis.html"
   ]
  },
  {
   "cell_type": "code",
   "execution_count": 122,
   "metadata": {},
   "outputs": [
    {
     "name": "stdout",
     "output_type": "stream",
     "text": [
      "For n_clusters = 2 The average silhouette_score is : 0.08789046555225062\n",
      "For n_clusters = 3 The average silhouette_score is : 0.07400565765849043\n",
      "For n_clusters = 4 The average silhouette_score is : 0.06795148893837454\n",
      "For n_clusters = 5 The average silhouette_score is : 0.06463853037241843\n",
      "For n_clusters = 6 The average silhouette_score is : 0.06346335792308268\n",
      "For n_clusters = 7 The average silhouette_score is : 0.06442224067814628\n",
      "For n_clusters = 8 The average silhouette_score is : 0.06535853448402974\n",
      "For n_clusters = 9 The average silhouette_score is : 0.06588064103198324\n",
      "For n_clusters = 10 The average silhouette_score is : 0.06493274114857885\n"
     ]
    }
   ],
   "source": [
    "for n_clusters in range(2,11):\n",
    "    # Initialize the clusterer with n_clusters value and a random generator\n",
    "    # seed of 10 for reproducibility.\n",
    "    clusterer = KMeans(n_clusters=n_clusters, random_state=10)\n",
    "    cluster_labels = clusterer.fit_predict(obs_train)\n",
    "\n",
    "    # The silhouette_score gives the average value for all the samples.\n",
    "    # This gives a perspective into the density and separation of the formed\n",
    "    # clusters\n",
    "    silhouette_avg = silhouette_score(obs_train, cluster_labels)\n",
    "    print(\"For n_clusters =\", n_clusters,\n",
    "          \"The average silhouette_score is :\", silhouette_avg)"
   ]
  },
  {
   "cell_type": "markdown",
   "metadata": {},
   "source": [
    "We see that the score stabilize after 4 clusters."
   ]
  },
  {
   "cell_type": "markdown",
   "metadata": {},
   "source": [
    "# Final choice of clusters and features\n",
    "In the R file OptimalKAndFeatureImportance.R we have calculated the best choice of K and the most important features, based on SilhouetteScore and the importance score from randomforest, respectively. From now on we use the values obtained there. We got that 2 is the optimal number of clusters and $x_{6}$, $x_4$, $x_{114}$, $x_{12}$, $x_{84}$, $x_2$ and $x_{56}$ are the most important feautres, in that order. Recall that python counts from 0, so this means columns 5, 3, 113, 11, 83, 1 and 55. \n",
    "\n",
    "Start by dividing the people into 2 clusters."
   ]
  },
  {
   "cell_type": "code",
   "execution_count": 24,
   "metadata": {},
   "outputs": [],
   "source": [
    "kmeans_model = KMeans(n_clusters=2, random_state=1).fit(obs_train)"
   ]
  },
  {
   "cell_type": "code",
   "execution_count": 26,
   "metadata": {},
   "outputs": [
    {
     "data": {
      "text/plain": [
       "array([0, 0, 1, ..., 1, 0, 0])"
      ]
     },
     "execution_count": 26,
     "metadata": {},
     "output_type": "execute_result"
    }
   ],
   "source": [
    "kmeans_model.labels_"
   ]
  },
  {
   "cell_type": "code",
   "execution_count": 36,
   "metadata": {},
   "outputs": [],
   "source": [
    "train_obs_0 = obs_train[kmeans_model.labels_ == 0]\n",
    "train_obs_1 = obs_train[kmeans_model.labels_ == 1]\n",
    "train_lab_0 = lab_train[kmeans_model.labels_ == 0]\n",
    "train_lab_1 = lab_train[kmeans_model.labels_ == 1]"
   ]
  },
  {
   "cell_type": "code",
   "execution_count": 32,
   "metadata": {},
   "outputs": [
    {
     "data": {
      "text/plain": [
       "(3609, 128)"
      ]
     },
     "execution_count": 32,
     "metadata": {},
     "output_type": "execute_result"
    }
   ],
   "source": [
    "train_obs_0.shape"
   ]
  },
  {
   "cell_type": "code",
   "execution_count": 40,
   "metadata": {},
   "outputs": [
    {
     "data": {
      "text/plain": [
       "(3609,)"
      ]
     },
     "execution_count": 40,
     "metadata": {},
     "output_type": "execute_result"
    }
   ],
   "source": [
    "train_lab_0.shape"
   ]
  },
  {
   "cell_type": "markdown",
   "metadata": {},
   "source": [
    "We now plot the histogram and see that there are more people with symptoms 1 and 3 in the 0 cluster. \n",
    "And there are more people with symptoms 0 and 2 in cluster 1."
   ]
  },
  {
   "cell_type": "code",
   "execution_count": 38,
   "metadata": {},
   "outputs": [
    {
     "data": {
      "text/plain": [
       "(array([1269.,    0.,    0., 2071.,    0.,    0.,   95.,    0.,    0.,\n",
       "         174.]),\n",
       " array([0. , 0.3, 0.6, 0.9, 1.2, 1.5, 1.8, 2.1, 2.4, 2.7, 3. ]),\n",
       " <a list of 10 Patch objects>)"
      ]
     },
     "execution_count": 38,
     "metadata": {},
     "output_type": "execute_result"
    },
    {
     "data": {
      "image/png": "[encoded data removed]",
      "text/plain": [
       "<Figure size 432x288 with 1 Axes>"
      ]
     },
     "metadata": {},
     "output_type": "display_data"
    }
   ],
   "source": [
    "plt.hist(train_lab_0)"
   ]
  },
  {
   "cell_type": "code",
   "execution_count": 39,
   "metadata": {},
   "outputs": [
    {
     "data": {
      "text/plain": [
       "(array([2338.,    0.,    0., 1086.,    0.,    0.,  327.,    0.,    0.,\n",
       "         140.]),\n",
       " array([0. , 0.3, 0.6, 0.9, 1.2, 1.5, 1.8, 2.1, 2.4, 2.7, 3. ]),\n",
       " <a list of 10 Patch objects>)"
      ]
     },
     "execution_count": 39,
     "metadata": {},
     "output_type": "execute_result"
    },
    {
     "data": {
      "image/png": "[encoded data removed]",
      "text/plain": [
       "<Figure size 432x288 with 1 Axes>"
      ]
     },
     "metadata": {},
     "output_type": "display_data"
    }
   ],
   "source": [
    "plt.hist(train_lab_1)"
   ]
  },
  {
   "cell_type": "markdown",
   "metadata": {},
   "source": [
    "From the R code we have that V6 + V4 + V114 + V12 + V84 + V2 + V56 are the most important attributes. Note that in R we count from 1, so the indexes are wrong."
   ]
  },
  {
   "cell_type": "code",
   "execution_count": 87,
   "metadata": {},
   "outputs": [],
   "source": [
    "train_obs_0_rf = train_obs_0 \n",
    "train_obs_1_rf = train_obs_1"
   ]
  },
  {
   "cell_type": "code",
   "execution_count": 88,
   "metadata": {},
   "outputs": [],
   "source": [
    "train_obs_0_rf = train_obs_0_rf[:,[5, 3, 113, 11, 83, 1, 55]]\n",
    "train_obs_1_rf = train_obs_1_rf[:,[5, 3, 113, 11, 83, 1, 55]]"
   ]
  },
  {
   "cell_type": "code",
   "execution_count": 89,
   "metadata": {},
   "outputs": [
    {
     "data": {
      "text/plain": [
       "(3609, 7)"
      ]
     },
     "execution_count": 89,
     "metadata": {},
     "output_type": "execute_result"
    }
   ],
   "source": [
    "train_obs_0_rf.shape"
   ]
  },
  {
   "cell_type": "code",
   "execution_count": 96,
   "metadata": {},
   "outputs": [
    {
     "data": {
      "text/plain": [
       "RandomForestClassifier(bootstrap=True, class_weight=None, criterion='gini',\n",
       "            max_depth=None, max_features='auto', max_leaf_nodes=None,\n",
       "            min_impurity_decrease=0.0, min_impurity_split=None,\n",
       "            min_samples_leaf=1, min_samples_split=2,\n",
       "            min_weight_fraction_leaf=0.0, n_estimators=100, n_jobs=1,\n",
       "            oob_score=False, random_state=0, verbose=0, warm_start=False)"
      ]
     },
     "execution_count": 96,
     "metadata": {},
     "output_type": "execute_result"
    }
   ],
   "source": [
    "from sklearn.ensemble import RandomForestClassifier\n",
    "clf0 = RandomForestClassifier(n_estimators=100, random_state=0)\n",
    "clf1 = RandomForestClassifier(n_estimators=100, random_state=0)\n",
    "clf0.fit(train_obs_0_rf, train_lab_0)\n",
    "clf1.fit(train_obs_1_rf, train_lab_1)"
   ]
  },
  {
   "cell_type": "code",
   "execution_count": 97,
   "metadata": {
    "scrolled": true
   },
   "outputs": [
    {
     "data": {
      "text/plain": [
       "1741"
      ]
     },
     "execution_count": 97,
     "metadata": {},
     "output_type": "execute_result"
    }
   ],
   "source": [
    "sum(clf0.predict(obs_test[:,[5, 3, 113, 11, 83, 1, 55]]) == lab_test)"
   ]
  },
  {
   "cell_type": "code",
   "execution_count": 98,
   "metadata": {},
   "outputs": [
    {
     "data": {
      "text/plain": [
       "1741"
      ]
     },
     "execution_count": 98,
     "metadata": {},
     "output_type": "execute_result"
    }
   ],
   "source": [
    "sum(clf1.predict(obs_test[:,[5, 3, 113, 11, 83, 1, 55]]) == lab_test)"
   ]
  },
  {
   "cell_type": "markdown",
   "metadata": {},
   "source": [
    "We got the exact same answer. Strange. But not sure we need to do this part."
   ]
  }
 ],
 "metadata": {
  "kernelspec": {
   "display_name": "Python 3",
   "language": "python",
   "name": "python3"
  },
  "language_info": {
   "codemirror_mode": {
    "name": "ipython",
    "version": 3
   },
   "file_extension": ".py",
   "mimetype": "text/x-python",
   "name": "python",
   "nbconvert_exporter": "python",
   "pygments_lexer": "ipython3",
   "version": "3.6.5"
  }
 },
 "nbformat": 4,
 "nbformat_minor": 2
}
